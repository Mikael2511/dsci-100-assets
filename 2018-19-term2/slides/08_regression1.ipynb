{
 "cells": [
  {
   "cell_type": "markdown",
   "metadata": {
    "slideshow": {
     "slide_type": "slide"
    }
   },
   "source": [
    "## DSCI 100 - Introduction to Data Science\n",
    "\n",
    "\n",
    "### Lecture 8 - Introduction to regression with k-nearest neighbours\n",
    "\n",
    "#### 2019-02-28"
   ]
  },
  {
   "cell_type": "markdown",
   "metadata": {
    "slideshow": {
     "slide_type": "slide"
    }
   },
   "source": [
    "### Welcome back\n",
    "\n",
    "... and I hope you feel like this after the break!\n",
    "\n",
    "<img align=\"left\" src=\"https://media.giphy.com/media/3o8dFt6thF4Gn1G6ze/giphy.gif\" width=\"400\"/>"
   ]
  },
  {
   "cell_type": "markdown",
   "metadata": {
    "slideshow": {
     "slide_type": "slide"
    }
   },
   "source": [
    "... not like this!\n",
    "\n",
    "<img align=\"left\" src=\"https://media.giphy.com/media/TZBED1pP5m8N2/giphy.gif\" width=\"500\"/>"
   ]
  },
  {
   "cell_type": "markdown",
   "metadata": {
    "slideshow": {
     "slide_type": "slide"
    }
   },
   "source": [
    "## Reminder of where we are...\n",
    "\n",
    "- Follow the syllabus: https://github.com/UBC-DSCI/dsci-100#schedule\n",
    "- Quiz 2 on Thursday, March 7\n",
    "    - practice quiz will be available Monday\n",
    "    - I will post the solutions to the past worksheets and tutorials to help you study\n",
    "    - like last time, follow the learning objectives when you study!\n"
   ]
  },
  {
   "cell_type": "markdown",
   "metadata": {
    "slideshow": {
     "slide_type": "fragment"
    }
   },
   "source": [
    "- Project proposals are due this Saturday"
   ]
  },
  {
   "cell_type": "markdown",
   "metadata": {
    "slideshow": {
     "slide_type": "fragment"
    }
   },
   "source": [
    "- Tutorial on Tuesday March 12 will be a dedicated group project working session"
   ]
  },
  {
   "cell_type": "markdown",
   "metadata": {
    "slideshow": {
     "slide_type": "slide"
    }
   },
   "source": [
    "### Regression prediction problem\n",
    "\n",
    "What if we want to predict a quantitative value instead of a class label? \n",
    "\n",
    "<img align=\"left\" src=\"https://ubc-dsci.github.io/introduction-to-datascience/bookdown-demo_files/figure-html/eda-1.png\" width=\"500\"/>"
   ]
  },
  {
   "cell_type": "markdown",
   "metadata": {
    "slideshow": {
     "slide_type": "slide"
    }
   },
   "source": [
    "For example, the price of a 2000 square foot home (from this reduced data set):\n",
    "\n",
    "<img align=\"left\" src=\"https://ubc-dsci.github.io/introduction-to-datascience/bookdown-demo_files/figure-html/small_eda-1.png\" width=\"500\"/>"
   ]
  },
  {
   "cell_type": "markdown",
   "metadata": {
    "slideshow": {
     "slide_type": "slide"
    }
   },
   "source": [
    "### k-nn for regression\n",
    "\n",
    "As in k-nn classification, we find the $k$-nearest neighbours (here 5)\n",
    "\n",
    "<img align=\"left\" src=\"https://ubc-dsci.github.io/introduction-to-datascience/bookdown-demo_files/figure-html/knn3-1.png\" width=\"500\"/>"
   ]
  },
  {
   "cell_type": "markdown",
   "metadata": {
    "slideshow": {
     "slide_type": "slide"
    }
   },
   "source": [
    "### k-nn for regression\n",
    "\n",
    "Then we average the values for the $k$-nearest neighbours, and use that as the prediction:\n",
    "\n",
    "<img align=\"left\" src=\"https://ubc-dsci.github.io/introduction-to-datascience/bookdown-demo_files/figure-html/predictedViz-1.png\" width=\"500\"/>"
   ]
  },
  {
   "cell_type": "markdown",
   "metadata": {
    "slideshow": {
     "slide_type": "slide"
    }
   },
   "source": [
    "### Regression prediction problem\n",
    "\n",
    "We still have to answer these two questions:\n",
    "\n",
    "1. Is our model any good? \n",
    "\n",
    "2. How do we choose `k`? "
   ]
  },
  {
   "cell_type": "markdown",
   "metadata": {
    "slideshow": {
     "slide_type": "slide"
    }
   },
   "source": [
    "### 1. Is our model any good?"
   ]
  },
  {
   "cell_type": "markdown",
   "metadata": {
    "slideshow": {
     "slide_type": "slide"
    }
   },
   "source": [
    "### Same general strategy\n",
    "\n",
    "<img align=\"left\" src=\"img/big_picture.png\" width=\"850\"/>"
   ]
  },
  {
   "cell_type": "markdown",
   "metadata": {
    "slideshow": {
     "slide_type": "slide"
    }
   },
   "source": [
    "### But a different calculation to assess our model\n",
    "\n",
    "The mathematical formula for calculation $RMSE$ is shown below: \n",
    "\n",
    "$$RMSE = \\sqrt{\\frac{1}{n}\\sum\\limits_{i=1}^{\\infty}(y_i - \\hat{y_i})^2}$$\n",
    "\n",
    "Where:\n",
    "\n",
    "- $n$ is the number of observations\n",
    "- $y_i$ is the observed value for the $ith$ observation\n",
    "- $\\hat{y_i}$ is the forcasted/predicted value for the $ith$ observation"
   ]
  },
  {
   "cell_type": "markdown",
   "metadata": {
    "slideshow": {
     "slide_type": "slide"
    }
   },
   "source": [
    "So if we had this predicted blue line from doing k-nn regression:\n",
    "\n",
    "<img src=\"img/k-nn_regr.jpeg\" width=\"400\"/>"
   ]
  },
  {
   "cell_type": "markdown",
   "metadata": {
    "slideshow": {
     "slide_type": "slide"
    }
   },
   "source": [
    "The red lines are $(y_i - \\hat{y_i})$ in: \n",
    "\n",
    "$$RMSE = \\sqrt{\\frac{1}{n}\\sum\\limits_{i=1}^{n}(y_i - \\hat{y_i})^2}$$\n",
    "\n",
    "<img src=\"img/rmse.jpg\" width=\"350\"/>"
   ]
  },
  {
   "cell_type": "markdown",
   "metadata": {
    "slideshow": {
     "slide_type": "slide"
    }
   },
   "source": [
    "### $RMSE$\n",
    "\n",
    "- Not out of 1, but instead in units of the target/response variable\n",
    "- so, a bit harder to interpret in the context of test error"
   ]
  },
  {
   "cell_type": "markdown",
   "metadata": {
    "slideshow": {
     "slide_type": "slide"
    }
   },
   "source": [
    "### Final model from k-nn regression\n",
    "\n",
    "For this model, $RMSE$ is 91620.4, how can we interpret this?\n",
    "\n",
    "\n",
    "<img align=\"left\" src=\"https://ubc-dsci.github.io/introduction-to-datascience/bookdown-demo_files/figure-html/predict_all-1.png\" width=\"450\"/>"
   ]
  },
  {
   "cell_type": "markdown",
   "metadata": {
    "slideshow": {
     "slide_type": "slide"
    }
   },
   "source": [
    "### 2. How do we choose k?\n",
    "\n",
    "- cross-validation\n",
    "- choose the model with the smallest RMSE"
   ]
  },
  {
   "cell_type": "markdown",
   "metadata": {
    "slideshow": {
     "slide_type": "slide"
    }
   },
   "source": [
    "### How does $k$ affect k-nn regression?\n",
    "\n",
    "<img align=\"left\" src=\"https://ubc-dsci.github.io/introduction-to-datascience/bookdown-demo_files/figure-html/unnamed-chunk-2-1.png\" width=\"900\"/>"
   ]
  },
  {
   "cell_type": "markdown",
   "metadata": {},
   "source": [
    "## What did we learn?\n",
    "\n",
    "\n",
    "- use this when the target/response variable (Y) is quantitative\n",
    "- RMSE as measure of prediction error\n",
    "- choose k so that our data do well predicting on other data sets, not too small of k (overfitting), and too big (underfitting)\n",
    "- quiz next week!\n",
    "\n",
    "\n",
    "\n",
    "\n",
    "\n",
    "\n",
    "\n"
   ]
  }
 ],
 "metadata": {
  "celltoolbar": "Slideshow",
  "kernelspec": {
   "display_name": "R",
   "language": "R",
   "name": "ir"
  },
  "language_info": {
   "codemirror_mode": "r",
   "file_extension": ".r",
   "mimetype": "text/x-r-source",
   "name": "R",
   "pygments_lexer": "r",
   "version": "3.5.1"
  }
 },
 "nbformat": 4,
 "nbformat_minor": 2
}
