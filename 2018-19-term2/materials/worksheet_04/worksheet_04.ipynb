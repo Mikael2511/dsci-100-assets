{
 "cells": [
  {
   "cell_type": "markdown",
   "metadata": {},
   "source": [
    "# Worksheet 4: Effective Data Visualization \n",
    "\n",
    "\n",
    "### Lecture and Tutorial Learning Goals:\n",
    "\n",
    "Expand your data visualization knowledge and tool set beyond what we have seen and practiced so far. We will move beyond scatter plots and learn other effective ways to visualize data, as well as some general rules of thumb to follow when creating visualizations. All visualization tasks this week will be applied to real world data sets.\n",
    "\n",
    "\n",
    "After completing this week's lecture and tutorial work, you will be able to:\n",
    "\n",
    "1. Define the three key aspects of ggplot objects:\n",
    "    - aesthetic mappings\n",
    "    - geometric objects\n",
    "    - scales\n",
    "2. Use the ggplot2 function in R to create the following visualizations:\n",
    "    - 2-D scatter plot\n",
    "    - 2-D scatter plot with a third variable that stratifies the groups\n",
    "    - count bar chart for multiple groups\n",
    "    - proportion bar chart for multiple groups\n",
    "    - stacked bar chart for multiple groups\n",
    "3. List the rules of thumb for effective visualizations\n",
    "4. Given a visualization and a sentence describing it’s intended task, evaluate it’s effectiveness and suggest ways to improve the visualization with respect to that intended task\n",
    "\n",
    "This worksheet covers parts of [Chapter 4](https://ubc-dsci.github.io/introduction-to-datascience/viz.html) of the online textbook. You should read this chapter before attempting the worksheet."
   ]
  },
  {
   "cell_type": "code",
   "execution_count": null,
   "metadata": {},
   "outputs": [],
   "source": [
    "### Run this cell before continuing. \n",
    "library(tidyverse)\n",
    "library(testthat)\n",
    "library(digest)\n",
    "library(repr)"
   ]
  },
  {
   "cell_type": "markdown",
   "metadata": {
    "deletable": false,
    "editable": false,
    "nbgrader": {
     "cell_type": "markdown",
     "checksum": "7e4d4fa4c1fc92cad60385350b57914d",
     "grade": false,
     "grade_id": "cell-3c378af00356c0f3",
     "locked": true,
     "schema_version": 2,
     "solution": false
    }
   },
   "source": [
    "**Question 0.1** True or False: \n",
    "\n",
    "Is `colour` an aesthetic? \n",
    "\n",
    "*Assign your answer to an object called `answer0.1`.* "
   ]
  },
  {
   "cell_type": "code",
   "execution_count": null,
   "metadata": {
    "deletable": false,
    "nbgrader": {
     "cell_type": "code",
     "checksum": "47aea559c0a98ef3f0d389b72d874f9f",
     "grade": false,
     "grade_id": "cell-d42b5b5cadd02544",
     "locked": false,
     "schema_version": 2,
     "solution": true
    }
   },
   "outputs": [],
   "source": [
    "# Assign your answer to an object called: answer0.1\n",
    "# Make sure the correct answer is written in lower-case (true / false)\n",
    "# Surround your answer with quotation marks.\n",
    "# Replace the fail() with your answer. \n",
    "\n",
    "# your code here\n",
    "fail() # No Answer - remove if you provide an answer"
   ]
  },
  {
   "cell_type": "code",
   "execution_count": null,
   "metadata": {
    "deletable": false,
    "editable": false,
    "nbgrader": {
     "cell_type": "code",
     "checksum": "1e096e1b8f15607c030bc0537d91252b",
     "grade": true,
     "grade_id": "cell-65573b490f8813ec",
     "locked": true,
     "points": 1,
     "schema_version": 2,
     "solution": false
    }
   },
   "outputs": [],
   "source": [
    "test_that('Solution is incorrect', {\n",
    "    expect_equal(digest(answer0.1), '05ca18b596514af73f6880309a21b5dd') # we hid the answer to the test here so you can't see it, but we can still run the test\n",
    "    \n",
    "})\n",
    "print(\"Success!\")"
   ]
  },
  {
   "cell_type": "markdown",
   "metadata": {
    "deletable": false,
    "editable": false,
    "nbgrader": {
     "cell_type": "markdown",
     "checksum": "7b1860506dbbffada5c3e28add20f730",
     "grade": false,
     "grade_id": "cell-a7dfc6e8e27d0615",
     "locked": true,
     "schema_version": 2,
     "solution": false
    }
   },
   "source": [
    "**Question 0.2** True or False:\n",
    "\n",
    "When deciding on the size of your vizualization we recommend that you: \n",
    "\n",
    "A. Only make the plot area (where the dots, lines, bars are) as big as needed\n",
    "\n",
    "B. Make it as big as your screen allows\n",
    "\n",
    "C. Use the default given by `ggplot`\n",
    "\n",
    "*Assign your answer to an object called `answer0.2`.*"
   ]
  },
  {
   "cell_type": "code",
   "execution_count": null,
   "metadata": {
    "deletable": false,
    "nbgrader": {
     "cell_type": "code",
     "checksum": "fb3968502eb80e021c3f2879280cafb7",
     "grade": false,
     "grade_id": "cell-46cbbfc18df2f1a2",
     "locked": false,
     "schema_version": 2,
     "solution": true
    }
   },
   "outputs": [],
   "source": [
    "# Assign your answer to an object called: answer0.2\n",
    "# Make sure the correct answer is written in lower-case (yes / no)\n",
    "# Surround your answer with quotation marks.\n",
    "# Replace the fail() with your answer. \n",
    "\n",
    "# your code here\n",
    "fail() # No Answer - remove if you provide an answer"
   ]
  },
  {
   "cell_type": "code",
   "execution_count": null,
   "metadata": {
    "deletable": false,
    "editable": false,
    "nbgrader": {
     "cell_type": "code",
     "checksum": "7f3c25e7bad6c51c0b44be6092ea3ca4",
     "grade": true,
     "grade_id": "cell-165bb2f307f14e34",
     "locked": true,
     "points": 1,
     "schema_version": 2,
     "solution": false
    }
   },
   "outputs": [],
   "source": [
    "test_that('Solution is incorrect', {\n",
    "    expect_equal(digest(answer0.2), '75f1160e72554f4270c809f041c7a776') # we hid the answer to the test here so you can't see it, but we can still run the test\n",
    "    \n",
    "})\n",
    "print(\"Success!\")"
   ]
  },
  {
   "cell_type": "markdown",
   "metadata": {
    "deletable": false,
    "editable": false,
    "nbgrader": {
     "cell_type": "markdown",
     "checksum": "64c7f399fb383b48e7e085a817073a8b",
     "grade": false,
     "grade_id": "cell-a64e6788a027a69c",
     "locked": true,
     "schema_version": 2,
     "solution": false
    }
   },
   "source": [
    "**Question 0.3** Under what circumstance would you use a 3D plot?\n",
    "\n",
    "A. When you have 3 variables that you want to show the relationship between\n",
    "\n",
    "B. When you want to emphasize the large difference between groups\n",
    "\n",
    "C. When you need to grab attention of your audience\n",
    "\n",
    "D. Never, we don't see well in 3D\n",
    "\n",
    "*Assign your answer to an object called `answer0.3`.*"
   ]
  },
  {
   "cell_type": "code",
   "execution_count": null,
   "metadata": {
    "deletable": false,
    "nbgrader": {
     "cell_type": "code",
     "checksum": "aa81b8f5976f98a6068b2a83e3079e3d",
     "grade": false,
     "grade_id": "cell-e3a98de134b6b2f0",
     "locked": false,
     "schema_version": 2,
     "solution": true
    }
   },
   "outputs": [],
   "source": [
    "# Assign your answer to an object called: answer0.3\n",
    "# Make sure the correct answer is an uppercase letter. \n",
    "# Surround your answer with quotation marks.\n",
    "# Replace the fail() with your answer. \n",
    "\n",
    "# your code here\n",
    "fail() # No Answer - remove if you provide an answer"
   ]
  },
  {
   "cell_type": "code",
   "execution_count": null,
   "metadata": {
    "deletable": false,
    "editable": false,
    "nbgrader": {
     "cell_type": "code",
     "checksum": "00f53a9cfc275e01654094043a655b3c",
     "grade": true,
     "grade_id": "cell-521dc123937db46d",
     "locked": true,
     "points": 1,
     "schema_version": 2,
     "solution": false
    }
   },
   "outputs": [],
   "source": [
    "test_that('Solution is incorrect', {\n",
    "    expect_equal(digest(answer0.3), 'c1f86f7430df7ddb256980ea6a3b57a4') # we hid the answer to the test here so you can't see it, but we can still run the test\n",
    "    \n",
    "})\n",
    "print(\"Success!\")"
   ]
  },
  {
   "cell_type": "markdown",
   "metadata": {
    "deletable": false,
    "editable": false,
    "nbgrader": {
     "cell_type": "markdown",
     "checksum": "02bc811b37001a75bd09883b09551b7e",
     "grade": false,
     "grade_id": "cell-7148c0706bcb2d4b",
     "locked": true,
     "schema_version": 2,
     "solution": false
    }
   },
   "source": [
    "**Question 0.4** What is the symbol used to add a new layer to a `ggplot` object?\n",
    "\n",
    "A. `<-`\n",
    "\n",
    "B. `%>%`\n",
    "\n",
    "C. `%&%`\n",
    "\n",
    "D. `+`\n",
    "\n",
    "*Assign your answer to an object called `answer0.4`.*"
   ]
  },
  {
   "cell_type": "code",
   "execution_count": null,
   "metadata": {
    "deletable": false,
    "nbgrader": {
     "cell_type": "code",
     "checksum": "b8121e3039030d46e3eb016f5b0f248e",
     "grade": false,
     "grade_id": "cell-ea7ba4f1243e667d",
     "locked": false,
     "schema_version": 2,
     "solution": true
    }
   },
   "outputs": [],
   "source": [
    "# Assign your answer to an object called: answer0.4\n",
    "# Make sure the correct answer is an uppercase letter. \n",
    "# Surround your answer with quotation marks.\n",
    "# Replace the fail() with your answer. \n",
    "\n",
    "# your code here\n",
    "fail() # No Answer - remove if you provide an answer"
   ]
  },
  {
   "cell_type": "code",
   "execution_count": null,
   "metadata": {
    "deletable": false,
    "editable": false,
    "nbgrader": {
     "cell_type": "code",
     "checksum": "03acdf411b64a046cd0888fd228c5065",
     "grade": true,
     "grade_id": "cell-5c15ea7ab4b4655e",
     "locked": true,
     "points": 1,
     "schema_version": 2,
     "solution": false
    }
   },
   "outputs": [],
   "source": [
    "test_that('Solution is incorrect', {\n",
    "    expect_equal(digest(answer0.4), 'c1f86f7430df7ddb256980ea6a3b57a4') # we hid the answer to the test here so you can't see it, but we can still run the test\n",
    "    \n",
    "})\n",
    "print(\"Success!\")"
   ]
  },
  {
   "cell_type": "markdown",
   "metadata": {},
   "source": [
    "## 1. World Vaccination Trends\n",
    "\n",
    "Data scientists find work in all sectors of the economy and all types of organizations! Some work in collaboration with public sector organizations to solve problems that affect society, either at a local or at a global scale. Today we will be looking at a global problem with real data from the [World Health Organization](https://www.who.int/) (WHO). According to WHO, Polio is a disease that affects mostly children younger than 5 years old and to date there is no cure. However, with vaccines the kids can develop sufficient antibodies in their system to be immune to the disease. Another disease, Hepatitis B, is also known to affect infants but in a chronic manner. There is also a vaccine for Hepatitis B available. \n",
    "\n",
    "The columns in the dataset are:\n",
    "\n",
    "- `who_region` - The WHO region of the world\n",
    "- `year` - The year\n",
    "- `pct_vaccinated` - Estimated percentage of people vaccinated in the region\n",
    "- `vaccine` - Whether it's the `polio` or the `hepatitis_b` vaccine\n",
    "\n",
    "We want to know two things. First, has there been a change in Polio or Hepatitis B vaccination patterns throughout the years? And if so, what is that pattern? Second, have the vaccination patterns for one of these dieseases changed more than the other? **The goal for today is to produce a plot of the estimated percentage of people vaccinated per year**. To do this, you will follow the steps outlined below.\n",
    "\n",
    "The original datasets are available here:\n",
    "   - Polio: http://apps.who.int/gho/data/view.main.81605?lang=en\n",
    "   - Hepatitis B: http://apps.who.int/gho/data/view.main.81300?lang=en\n",
    "   \n",
    "The data set we will work with for this worksheet however is named `world_vaccination.csv` and it lives in the `worksheet_04` directory."
   ]
  },
  {
   "cell_type": "markdown",
   "metadata": {
    "deletable": false,
    "editable": false,
    "nbgrader": {
     "cell_type": "markdown",
     "checksum": "dd83da17163e8a3be57776046830fdef",
     "grade": false,
     "grade_id": "cell-6767e740b3c9df90",
     "locked": true,
     "schema_version": 2,
     "solution": false
    }
   },
   "source": [
    "**Question 1.0**\n",
    "\n",
    "Consider the columns/variables `year` and `pct_vaccinated`? Are they:\n",
    "\n",
    "A. both quantitative (e.g., numerical).\n",
    "\n",
    "B. both categorical\n",
    "\n",
    "C. one is categorical and one is quantitative\n",
    "\n",
    "D. None of the above. \n",
    "\n",
    "*Assign your answer to an object called `answer1.0`.*"
   ]
  },
  {
   "cell_type": "code",
   "execution_count": null,
   "metadata": {
    "deletable": false,
    "nbgrader": {
     "cell_type": "code",
     "checksum": "53e6c680a7e30dc135d1262cae772354",
     "grade": false,
     "grade_id": "cell-eeda947331564185",
     "locked": false,
     "schema_version": 2,
     "solution": true
    }
   },
   "outputs": [],
   "source": [
    "# Assign your answer to an object called: answer1.0\n",
    "# Make sure the correct answer is an uppercase letter. \n",
    "# Surround your answer with quotation marks.\n",
    "# Replace the fail() with your answer. \n",
    "\n",
    "# your code here\n",
    "fail() # No Answer - remove if you provide an answer"
   ]
  },
  {
   "cell_type": "code",
   "execution_count": null,
   "metadata": {
    "deletable": false,
    "editable": false,
    "nbgrader": {
     "cell_type": "code",
     "checksum": "4340dc9ed263753d21fbf7d195d1693c",
     "grade": true,
     "grade_id": "cell-abc8ab4c34c2959d",
     "locked": true,
     "points": 1,
     "schema_version": 2,
     "solution": false
    }
   },
   "outputs": [],
   "source": [
    "test_that('Solution is incorrect', {\n",
    "    expect_equal(digest(answer1.0), '75f1160e72554f4270c809f041c7a776') # we hid the answer to the test here so you can't see it, but we can still run the test\n",
    "    \n",
    "})\n",
    "print(\"Success!\")"
   ]
  },
  {
   "cell_type": "markdown",
   "metadata": {},
   "source": [
    "**Question 1.1** \n",
    "\n",
    "Read the `world_vaccination.csv` file. Next, filter the data so that we don't have any NA's in our columns. We also want to filter out the `(WHO) Global` region as it is just the average of the other regions. *Assign your filtered data to an object called `world_vaccination`.*\n",
    "\n",
    "When you want to filter something that isn't something, in R you can use the `!` operator. For example to remove all the cars with 6 cylinders from the `mtcars` data set we would do the following:"
   ]
  },
  {
   "cell_type": "code",
   "execution_count": null,
   "metadata": {},
   "outputs": [],
   "source": [
    "head(mtcars)\n",
    "filter(mtcars, cyl != 6)  %>% head()"
   ]
  },
  {
   "cell_type": "code",
   "execution_count": null,
   "metadata": {
    "deletable": false,
    "nbgrader": {
     "cell_type": "code",
     "checksum": "74c8bc16df82ca68b8e81695925444ff",
     "grade": false,
     "grade_id": "cell-4f35092c147ceab5",
     "locked": false,
     "schema_version": 2,
     "solution": true
    }
   },
   "outputs": [],
   "source": [
    "#... <- read_...(...) %>%\n",
    "#                   filter(!is.na(...), \n",
    "#                          ... != ...)\n",
    "\n",
    "# your code here\n",
    "fail() # No Answer - remove if you provide an answer\n",
    "head(world_vaccination)"
   ]
  },
  {
   "cell_type": "code",
   "execution_count": null,
   "metadata": {
    "deletable": false,
    "editable": false,
    "nbgrader": {
     "cell_type": "code",
     "checksum": "7a525a27cecc3518ee3f51fdb401a45f",
     "grade": true,
     "grade_id": "cell-4f295963a61ad122",
     "locked": true,
     "points": 1,
     "schema_version": 2,
     "solution": false
    }
   },
   "outputs": [],
   "source": [
    "test_that('Solution is incorrect', {\n",
    "    expect_equal(digest(as.numeric(sum(world_vaccination$year))), 'ed828cd9c4dbc736fb12a1a8643aaeec')\n",
    "    })\n",
    "print(\"Success!\")"
   ]
  },
  {
   "cell_type": "markdown",
   "metadata": {
    "deletable": false,
    "editable": false,
    "nbgrader": {
     "cell_type": "markdown",
     "checksum": "fd137280e62f04c7f85d424baf2aed17",
     "grade": false,
     "grade_id": "cell-b246d38affa1166f",
     "locked": true,
     "schema_version": 2,
     "solution": false
    }
   },
   "source": [
    "**Question 1.2** \n",
    "\n",
    "Create a scatter plot of the year (y-axis) against the percentage of people vaccinated (x-axis) for all the regions in `world_vaccination`. Make sure to label your axes with human readable labels. \n",
    "\n",
    "*Assign your plot to an object called `world_vacc_plot`*"
   ]
  },
  {
   "cell_type": "code",
   "execution_count": null,
   "metadata": {
    "deletable": false,
    "nbgrader": {
     "cell_type": "code",
     "checksum": "6486cb30225a78bdbf997fb6945fbfca",
     "grade": false,
     "grade_id": "cell-31e847db6b64c666",
     "locked": false,
     "schema_version": 2,
     "solution": true
    }
   },
   "outputs": [],
   "source": [
    "# your code here\n",
    "fail() # No Answer - remove if you provide an answer\n",
    "world_vacc_plot"
   ]
  },
  {
   "cell_type": "code",
   "execution_count": null,
   "metadata": {
    "deletable": false,
    "editable": false,
    "nbgrader": {
     "cell_type": "code",
     "checksum": "e07814931b01725754bd3af82a3282bf",
     "grade": true,
     "grade_id": "cell-56bc18a4d58208c4",
     "locked": true,
     "points": 1,
     "schema_version": 2,
     "solution": false
    }
   },
   "outputs": [],
   "source": [
    "test_that('Solution is incorrect', {\n",
    "    expect_that(digest(rlang::get_expr(world_vacc_plot$mapping$x)) == '707549965697b4525f5ab2b94106b632', is_true())\n",
    "    expect_that(digest(rlang::get_expr(world_vacc_plot$mapping$y)) == 'da16a50a39585b5f38e60840bb096ae2', is_true())\n",
    "    })\n",
    "print(\"Success!\")"
   ]
  },
  {
   "cell_type": "markdown",
   "metadata": {},
   "source": [
    "Wow! That's a big plot! And unnecessarily so! It is so big that at 100% zoom I cannot even read the labels and see all of the data within my screen! Given that the \"ink\" (dots) in this plot are not very complex, let's take charge and reduce the plot size so that the plot area where the ink is, is only as big as it needs to be. We do this using the `options` function from the `repr` R package. In past worksheets and tutorials we did this for you, from now on you need to take charge and choose an approprate plot size! \n",
    "\n",
    "The `option` function takes 2 arguments for plot size, `repr.plot.width` and `repr.plot.height`. Uncomment the first line of code in the code cell below and fill in the `...`  to choose a more approprate size and and replot the figure afterwards below.\n"
   ]
  },
  {
   "cell_type": "code",
   "execution_count": null,
   "metadata": {},
   "outputs": [],
   "source": [
    "#options(repr.plot.width = ..., repr.plot.height = ...) \n",
    "world_vacc_plot"
   ]
  },
  {
   "cell_type": "markdown",
   "metadata": {
    "deletable": false,
    "editable": false,
    "nbgrader": {
     "cell_type": "markdown",
     "checksum": "8ce6e5174a7686a92c86557a6a1e0e61",
     "grade": false,
     "grade_id": "cell-9df6590ba88a1529",
     "locked": true,
     "schema_version": 2,
     "solution": false
    }
   },
   "source": [
    "**Question 1.3** Multiple Choice\n",
    "\n",
    "Now that we see how the percentage of people vaccinated with each of these vaccines varies over time, we should now start to look if there is a difference between the percentage vaccinated between the two different diseases. What should we do next to compare the differences (if they exist) most effectively?\n",
    "\n",
    "A. Filter the data by the type of vaccine and make two separate plots\n",
    "\n",
    "B. Colour the data by the type of vaccine\n",
    "\n",
    "C. Have a different shaped \"dot\"/point for each type of vaccine\n",
    "\n",
    "D. Colour the data by the type of vaccine, and have a different shaped \"dot\"/point for each type of vaccine\n",
    "\n",
    "*Assign your answer to an object called `answer1.3`.*"
   ]
  },
  {
   "cell_type": "code",
   "execution_count": null,
   "metadata": {
    "deletable": false,
    "nbgrader": {
     "cell_type": "code",
     "checksum": "711deebf10bbd3a31150c6a86a0a6dd6",
     "grade": false,
     "grade_id": "cell-eff4b83a3aa5ecd4",
     "locked": false,
     "schema_version": 2,
     "solution": true
    }
   },
   "outputs": [],
   "source": [
    "# Assign your answer to an object called: answer1.3\n",
    "# Make sure the correct answer is an uppercase letter. \n",
    "# Surround your answer with quotation marks.\n",
    "# Replace the fail() with your answer. \n",
    "\n",
    "# your code here\n",
    "fail() # No Answer - remove if you provide an answer"
   ]
  },
  {
   "cell_type": "code",
   "execution_count": null,
   "metadata": {
    "deletable": false,
    "editable": false,
    "nbgrader": {
     "cell_type": "code",
     "checksum": "cb0dda1aeafb5b35d1c02908fc4d4045",
     "grade": true,
     "grade_id": "cell-de1ed1a45f987cbd",
     "locked": true,
     "points": 1,
     "schema_version": 2,
     "solution": false
    }
   },
   "outputs": [],
   "source": [
    "test_that('Solution is incorrect', {\n",
    "    expect_equal(digest(answer1.3), 'c1f86f7430df7ddb256980ea6a3b57a4') # we hid the answer to the test here so you can't see it, but we can still run the test\n",
    "    \n",
    "})\n",
    "print(\"Success!\")"
   ]
  },
  {
   "cell_type": "markdown",
   "metadata": {
    "deletable": false,
    "editable": false,
    "nbgrader": {
     "cell_type": "markdown",
     "checksum": "492667932012ed95fed822413cd1498c",
     "grade": false,
     "grade_id": "cell-a0d78ab0948d478b",
     "locked": true,
     "schema_version": 2,
     "solution": false
    }
   },
   "source": [
    "**Question 1.5**\n",
    "\n",
    "Now that we know how we will separate the data for our visualization, let's do it. Copy your code from **Question 1.4** and add an `aes` function inside of the `geom_point` function to map `vaccine` to colour and shape. So your `geom_point` function and layer should look something like this: \n",
    "\n",
    "```\n",
    "geom_point(aes(colour = ..., shape = ...))  +\n",
    "```\n",
    "\n",
    "*Assign your answer to an object called `compare_vacc_plot`.*"
   ]
  },
  {
   "cell_type": "code",
   "execution_count": null,
   "metadata": {
    "deletable": false,
    "nbgrader": {
     "cell_type": "code",
     "checksum": "cba3541a685d901d0e0acef9cdac389f",
     "grade": false,
     "grade_id": "cell-374fd332fce06441",
     "locked": false,
     "schema_version": 2,
     "solution": true
    }
   },
   "outputs": [],
   "source": [
    "# your code here\n",
    "fail() # No Answer - remove if you provide an answer\n",
    "compare_vacc_plot"
   ]
  },
  {
   "cell_type": "code",
   "execution_count": null,
   "metadata": {
    "deletable": false,
    "editable": false,
    "nbgrader": {
     "cell_type": "code",
     "checksum": "5b586a379566a14484cfaf530c0341b5",
     "grade": true,
     "grade_id": "cell-d644f60d1f60a559",
     "locked": true,
     "points": 1,
     "schema_version": 2,
     "solution": false
    }
   },
   "outputs": [],
   "source": [
    "test_that('Solution is incorrect', {\n",
    "    expect_equal(digest(rlang::get_expr(compare_vacc_plot$mapping$x)), '707549965697b4525f5ab2b94106b632')\n",
    "    expect_equal(digest(rlang::get_expr(compare_vacc_plot$mapping$y)), 'da16a50a39585b5f38e60840bb096ae2')\n",
    "    expect_equal(digest(rlang::get_expr(compare_vacc_plot$layers[[1]]$mapping)), 'b2d92f9e48bcf264f42ccd00f3202e95')\n",
    "    expect_that('GeomPoint' %in% class(rlang::get_expr(compare_vacc_plot$layers[[1]]$geom)), is_true())\n",
    "    })\n",
    "print(\"Success!\")"
   ]
  },
  {
   "cell_type": "markdown",
   "metadata": {},
   "source": [
    "Now that we see that although the dates where the percentage vaccinated became > 0 for each vaccine type started out in different years, they both increased at similar rates and are currently resting at about the same amount of percentage vaccinated. There is some variation that still exists in the data however, and perhaps that could be attributed to region? Let's create some more visualizations to see if that is indeed the case!\n",
    "\n",
    "To get started, let's focus on the Polio vaccine data, and then we'll look at both together."
   ]
  },
  {
   "cell_type": "markdown",
   "metadata": {
    "deletable": false,
    "editable": false,
    "nbgrader": {
     "cell_type": "markdown",
     "checksum": "11cae9388656a8aa3c4b44af6be1ea6e",
     "grade": false,
     "grade_id": "cell-88236b86419d60b7",
     "locked": true,
     "schema_version": 2,
     "solution": false
    }
   },
   "source": [
    "**Question 1.6**\n",
    "\n",
    "Create a data frame object named `polio` that contains only the rows where the `vaccine` is `\"polio\"`:"
   ]
  },
  {
   "cell_type": "code",
   "execution_count": null,
   "metadata": {
    "deletable": false,
    "nbgrader": {
     "cell_type": "code",
     "checksum": "8ccf4a5d937a8c3da6c09ff337b7b562",
     "grade": false,
     "grade_id": "cell-e3ea1eaccfcdb529",
     "locked": false,
     "schema_version": 2,
     "solution": true
    }
   },
   "outputs": [],
   "source": [
    "# your code here\n",
    "fail() # No Answer - remove if you provide an answer\n",
    "head(polio)"
   ]
  },
  {
   "cell_type": "code",
   "execution_count": null,
   "metadata": {
    "deletable": false,
    "editable": false,
    "nbgrader": {
     "cell_type": "code",
     "checksum": "0a4e567b0761d852db9ffd6196dfd591",
     "grade": true,
     "grade_id": "cell-96b08ba246959d81",
     "locked": true,
     "points": 1,
     "schema_version": 2,
     "solution": false
    }
   },
   "outputs": [],
   "source": [
    "test_that('Solution is incorrect', {\n",
    "    expect_equal(digest(as.numeric(sum(polio$pct_vaccinated))), 'cfd7ed9e50ed446d50289ff89ef338a4') # we hid the answer to the test here so you can't see it, but we can still run the test\n",
    "    \n",
    "})\n",
    "print(\"Success!\")"
   ]
  },
  {
   "cell_type": "markdown",
   "metadata": {
    "deletable": false,
    "editable": false,
    "nbgrader": {
     "cell_type": "markdown",
     "checksum": "e7f4cb0baca24b514cd9aca17c32bef7",
     "grade": false,
     "grade_id": "cell-a76fd8a76737dd65",
     "locked": true,
     "schema_version": 2,
     "solution": false
    }
   },
   "source": [
    "**Question 1.7**\n",
    "\n",
    "Now create a scatter plot using the `polio` data where percentage vaccinated is on the y-axis, year is on the x-axis and each group has a different coloured point, and a different shape. Name it `polio_regions`. You might want to use `options` to change the plot size if the size of the last few plots isn't ideal for this plot."
   ]
  },
  {
   "cell_type": "code",
   "execution_count": null,
   "metadata": {
    "deletable": false,
    "nbgrader": {
     "cell_type": "code",
     "checksum": "edf8fbd09cae069e02db929c8f869c35",
     "grade": false,
     "grade_id": "cell-b8e28cbd972366a7",
     "locked": false,
     "schema_version": 2,
     "solution": true
    }
   },
   "outputs": [],
   "source": [
    "#polio_regions <- ggplot(polio, aes(x = year, y = pct_vaccinated)) +\n",
    "#    geom_point(aes(colour = who_region, shape = who_region)) +\n",
    "#    xlab('Year') + \n",
    "#    ylab('Percentage Vaccinated')\n",
    "\n",
    "# your code here\n",
    "fail() # No Answer - remove if you provide an answer\n",
    "polio_regions"
   ]
  },
  {
   "cell_type": "code",
   "execution_count": null,
   "metadata": {
    "deletable": false,
    "editable": false,
    "nbgrader": {
     "cell_type": "code",
     "checksum": "938ea9b5a08d0fdd2aa7f60268f40e39",
     "grade": true,
     "grade_id": "cell-80a368c34a543e78",
     "locked": true,
     "points": 0,
     "schema_version": 2,
     "solution": false
    }
   },
   "outputs": [],
   "source": [
    "test_that('Solution is incorrect', {\n",
    "    expect_equal(digest(rlang::get_expr(polio_regions$mapping$x)), '707549965697b4525f5ab2b94106b632')\n",
    "    expect_equal(digest(rlang::get_expr(polio_regions$mapping$y)), 'da16a50a39585b5f38e60840bb096ae2')\n",
    "    expect_equal(digest(rlang::get_expr(polio_regions$layers[[1]]$mapping)), '48b131db0961401bf69e069def79a8b9')\n",
    "    expect_that('GeomPoint' %in% class(rlang::get_expr(polio_regions$layers[[1]]$geom)), is_true())\n",
    "    })\n",
    "print(\"Success!\")"
   ]
  },
  {
   "cell_type": "markdown",
   "metadata": {
    "deletable": false,
    "editable": false,
    "nbgrader": {
     "cell_type": "markdown",
     "checksum": "abd54b798074a9ba5b1024c396d518a3",
     "grade": false,
     "grade_id": "cell-78cdf142395d1696",
     "locked": true,
     "schema_version": 2,
     "solution": false
    }
   },
   "source": [
    "**Question 1.7**\n",
    "\n",
    "Although when we have multiple groups, its easier for us to see the differences when we change point colour and shape, at some point there are too many groups to keep things straight. We are approaching that on the plot above, and so we need to do something different... One thing we could try is to change the point to a line to reduce the noise/chaos of the plot above. We would also not have a shape. Do that in the cell below and name the plot object `polio_regions_line`."
   ]
  },
  {
   "cell_type": "code",
   "execution_count": null,
   "metadata": {
    "deletable": false,
    "nbgrader": {
     "cell_type": "code",
     "checksum": "d687433273c8454b4c929c6367b8499f",
     "grade": false,
     "grade_id": "cell-c803221869b8ae00",
     "locked": false,
     "schema_version": 2,
     "solution": true
    }
   },
   "outputs": [],
   "source": [
    "#polio_regions <- ggplot(polio, aes(x = year, y = pct_vaccinated)) +\n",
    "#    geom_point(aes(colour = who_region, shape = who_region)) +\n",
    "#    xlab('Year') + \n",
    "#    ylab('Percentage Vaccinated')\n",
    "\n",
    "# your code here\n",
    "fail() # No Answer - remove if you provide an answer\n",
    "polio_regions_line"
   ]
  },
  {
   "cell_type": "code",
   "execution_count": null,
   "metadata": {
    "deletable": false,
    "editable": false,
    "nbgrader": {
     "cell_type": "code",
     "checksum": "6b4558ec69ab57ef8b853e958f6a3913",
     "grade": true,
     "grade_id": "cell-9bc60c906bcd60b3",
     "locked": true,
     "points": 1,
     "schema_version": 2,
     "solution": false
    }
   },
   "outputs": [],
   "source": [
    "test_that('Solution is incorrect', {\n",
    "    expect_equal(digest(rlang::get_expr(polio_regions_line$mapping$x)), '707549965697b4525f5ab2b94106b632')\n",
    "    expect_equal(digest(rlang::get_expr(polio_regions_line$mapping$y)), 'da16a50a39585b5f38e60840bb096ae2')\n",
    "    expect_equal(digest(rlang::get_expr(polio_regions_line$layers[[1]]$mapping)), '0f44763313cf0a1aa041b6f8a0cb53c1')\n",
    "    expect_that('GeomLine' %in% class(rlang::get_expr(polio_regions_line$layers[[1]]$geom)), is_true())\n",
    "    })\n",
    "print(\"Success!\")"
   ]
  },
  {
   "cell_type": "markdown",
   "metadata": {},
   "source": [
    "One thing that is still not ideal with the visualization above is the not very readable legend title. Let's add another layer to `polio_regions_line` to do that. To do this we use the `labs` function and choose the aesthetic mapping (here `color`) that we want to apply the legend title to. Also, given that we created an object from our previous plot, we do not need to retype all our code, but instead can just say:\n",
    "\n",
    "```\n",
    "PLOT_OBJECT <- PLOT_OBJECT +\n",
    "    NEW_LAYER\n",
    "```"
   ]
  },
  {
   "cell_type": "code",
   "execution_count": null,
   "metadata": {
    "deletable": false,
    "nbgrader": {
     "cell_type": "code",
     "checksum": "2c247f0be62c551fffecd6aee885d41e",
     "grade": false,
     "grade_id": "cell-b6300558236b3514",
     "locked": false,
     "schema_version": 2,
     "solution": true
    }
   },
   "outputs": [],
   "source": [
    "#polio_regions_line <- polio_regions_line +\n",
    "#    labs(... = \"Region of the world\")\n",
    "\n",
    "# your code here\n",
    "fail() # No Answer - remove if you provide an answer\n",
    "polio_regions_line"
   ]
  },
  {
   "cell_type": "code",
   "execution_count": null,
   "metadata": {
    "deletable": false,
    "editable": false,
    "nbgrader": {
     "cell_type": "code",
     "checksum": "3b306d41476ed489dc2cb097493dd9d3",
     "grade": true,
     "grade_id": "cell-0cb2d6d52e5baf63",
     "locked": true,
     "points": 1,
     "schema_version": 2,
     "solution": false
    }
   },
   "outputs": [],
   "source": [
    "test_that('Solution is incorrect', {\n",
    "    expect_equal(digest(rlang::get_expr(polio_regions_line$mapping$x)), '707549965697b4525f5ab2b94106b632')\n",
    "    expect_equal(digest(rlang::get_expr(polio_regions_line$mapping$y)), 'da16a50a39585b5f38e60840bb096ae2')\n",
    "    expect_equal(digest(rlang::get_expr(polio_regions_line$layers[[1]]$mapping)), '0f44763313cf0a1aa041b6f8a0cb53c1')\n",
    "    expect_that('GeomLine' %in% class(rlang::get_expr(polio_regions_line$layers[[1]]$geom)), is_true())\n",
    "    expect_equal(digest(polio_regions_line$labels$colour), 'f656da07b6f9d2efec6e3334865f25ab')\n",
    "    })\n",
    "print(\"Success!\")"
   ]
  },
  {
   "cell_type": "markdown",
   "metadata": {
    "deletable": false,
    "editable": false,
    "nbgrader": {
     "cell_type": "markdown",
     "checksum": "000fba61ef7e0d5a71cfea0f26c2627b",
     "grade": false,
     "grade_id": "cell-99db863d291c52b2",
     "locked": true,
     "schema_version": 2,
     "solution": false
    }
   },
   "source": [
    "**Question 1.9**\n",
    "\n",
    "Now that we know how to effectively plot the percentage vaccinated against Polio over time for each region, how might we compare this to what we see for each region for the percentage vaccinated against Hepatitis B? In this case we would like two side-by-side or two vertically arranged plots. If that data are in the same data frame (as ours were in the `world_vaccination` data frame) then we can use a technique called facetting to do this. We saw facetting last week, and now we will take some time to learn it.\n",
    "\n",
    "There are two facetting functions in R, the one we will see here is `facet_wrap`. The basic syntax for this `ggplot` layer is the following:\n",
    "\n",
    "```\n",
    "# creates side by side plots for each member of the category in COLUMN_X\n",
    "facet_grid(~ COLUMN_X)\n",
    "```\n",
    "\n",
    "or \n",
    "\n",
    "```\n",
    "# creates vertically arranged plots for each member of the category in COLUMN_X\n",
    "facet_grid(COLUMN_X ~ .)\n",
    "```\n",
    "\n",
    "Create a plot like the one named `polio_regions_line` but instead of using the `polio` data frame, use the `world_vaccination` data frame, and facet on the column `vaccine` so that the two plots are side-by-side. Name this plot object `side_by_side_world`. Make sure you set `options` to make the plot size fit well within the worksheet."
   ]
  },
  {
   "cell_type": "code",
   "execution_count": null,
   "metadata": {
    "deletable": false,
    "nbgrader": {
     "cell_type": "code",
     "checksum": "63908ce206d5da14576a7e448e583a0b",
     "grade": false,
     "grade_id": "cell-1703a03640493439",
     "locked": false,
     "schema_version": 2,
     "solution": true
    }
   },
   "outputs": [],
   "source": [
    "#... <- ... +\n",
    "#    geom_...(...) +\n",
    "#    labs(...) +\n",
    "#    xlab(...) + \n",
    "#    ylab(...) +\n",
    "#    facet_grid(...)\n",
    "\n",
    "# your code here\n",
    "fail() # No Answer - remove if you provide an answer\n",
    "side_by_side_world"
   ]
  },
  {
   "cell_type": "code",
   "execution_count": null,
   "metadata": {
    "deletable": false,
    "editable": false,
    "nbgrader": {
     "cell_type": "code",
     "checksum": "eb10dc90632533e575755a239945ab2e",
     "grade": true,
     "grade_id": "cell-da960eda0165bd94",
     "locked": true,
     "points": 1,
     "schema_version": 2,
     "solution": false
    }
   },
   "outputs": [],
   "source": [
    "test_that('Solution is incorrect', {\n",
    "    expect_equal(digest(rlang::get_expr(side_by_side_world$mapping$x)), '707549965697b4525f5ab2b94106b632')\n",
    "    expect_equal(digest(rlang::get_expr(side_by_side_world$mapping$y)), 'da16a50a39585b5f38e60840bb096ae2')\n",
    "    expect_equal(digest(rlang::get_expr(side_by_side_world$layers[[1]]$mapping)), '866b1a2ea42bbb1b66225f4245e2bd94')\n",
    "    expect_that('GeomLine' %in% class(rlang::get_expr(side_by_side_world$layers[[1]]$geom)), is_true())\n",
    "    expect_equal(digest(side_by_side_world$labels$colour), 'f656da07b6f9d2efec6e3334865f25ab')\n",
    "    expect_that('FacetGrid' %in% class(rlang::get_expr(side_by_side_world$facet)), is_true())\n",
    "    })\n",
    "print(\"Success!\")"
   ]
  },
  {
   "cell_type": "markdown",
   "metadata": {
    "deletable": false,
    "editable": false,
    "nbgrader": {
     "cell_type": "markdown",
     "checksum": "578c1994f8ec2cc24d4d065cf93ad248",
     "grade": false,
     "grade_id": "cell-bf8e150751b134f6",
     "locked": true,
     "schema_version": 2,
     "solution": false
    }
   },
   "source": [
    "**Question 1.9.1**\n",
    "\n",
    "Now use `facet_grid` to arrange the same two plots vertically. Name this plot `vertical_world`. Again, make sure you set `options` to create a suitable plot size."
   ]
  },
  {
   "cell_type": "code",
   "execution_count": null,
   "metadata": {
    "deletable": false,
    "nbgrader": {
     "cell_type": "code",
     "checksum": "9c4a915fd1000ed55abfc20c54bb225e",
     "grade": false,
     "grade_id": "cell-55bbd1d0a2ea4a40",
     "locked": false,
     "schema_version": 2,
     "solution": true
    }
   },
   "outputs": [],
   "source": [
    "# your code here\n",
    "fail() # No Answer - remove if you provide an answer\n",
    "vertical_world"
   ]
  },
  {
   "cell_type": "code",
   "execution_count": null,
   "metadata": {
    "deletable": false,
    "editable": false,
    "nbgrader": {
     "cell_type": "code",
     "checksum": "d243ef5fd2aeb976b61600d07ca47ec1",
     "grade": true,
     "grade_id": "cell-2a2384fca721cc8a",
     "locked": true,
     "points": 1,
     "schema_version": 2,
     "solution": false
    }
   },
   "outputs": [],
   "source": [
    "test_that('Solution is incorrect', {\n",
    "    expect_equal(digest(rlang::get_expr(vertical_world$mapping$x)), '707549965697b4525f5ab2b94106b632')\n",
    "    expect_equal(digest(rlang::get_expr(vertical_world$mapping$y)), 'da16a50a39585b5f38e60840bb096ae2')\n",
    "    expect_equal(digest(rlang::get_expr(vertical_world$layers[[1]]$mapping)), '866b1a2ea42bbb1b66225f4245e2bd94')\n",
    "    expect_that('GeomLine' %in% class(rlang::get_expr(vertical_world$layers[[1]]$geom)), is_true())\n",
    "    expect_equal(digest(vertical_world$labels$colour), 'f656da07b6f9d2efec6e3334865f25ab')\n",
    "    expect_that('FacetGrid' %in% class(rlang::get_expr(vertical_world$facet)), is_true())\n",
    "    })\n",
    "print(\"Success!\")"
   ]
  },
  {
   "cell_type": "markdown",
   "metadata": {},
   "source": [
    "Which arrangement is better? Depends on what you are asking! If you are interested in comparing the rate at which things changed over time, then the vertical arrangement is more effective. However, if you are interested in comparing the exact percentage values between the lines at certain points then the side-by-side arrangement is more effective."
   ]
  },
  {
   "cell_type": "markdown",
   "metadata": {
    "deletable": false,
    "editable": false,
    "nbgrader": {
     "cell_type": "markdown",
     "checksum": "aa84f91d3aacbb4c3643a4d1aed7889e",
     "grade": false,
     "grade_id": "cell-6e7d28492998c804",
     "locked": true,
     "schema_version": 2,
     "solution": false
    }
   },
   "source": [
    "**Question 1.9.2** Multiple Choice \n",
    "\n",
    "Which WHO region had the greatest progress in the shortest period of time in either Hepatitis B and in Polio (using the data we plotted above)?\n",
    "\n",
    "\n",
    "A. Americas\n",
    "\n",
    "B. Eastern Mediterranean\n",
    "\n",
    "C. Europe\n",
    "\n",
    "D. Western Pacific\n",
    "\n",
    "*Assign your answer to an object called `answer1.9.2`.*"
   ]
  },
  {
   "cell_type": "code",
   "execution_count": null,
   "metadata": {
    "deletable": false,
    "nbgrader": {
     "cell_type": "code",
     "checksum": "f8be21ac7d45b94dc35202d74dddca24",
     "grade": false,
     "grade_id": "cell-2f8d6a1dce2d67ae",
     "locked": false,
     "schema_version": 2,
     "solution": true
    }
   },
   "outputs": [],
   "source": [
    "# Assign your answer to an object called: answer1.9.2\n",
    "# Make sure the correct answer is an uppercase letter. \n",
    "# Surround your answer with quotation marks.\n",
    "# Replace the fail() with your answer. \n",
    "\n",
    "# your code here\n",
    "fail() # No Answer - remove if you provide an answer"
   ]
  },
  {
   "cell_type": "code",
   "execution_count": null,
   "metadata": {
    "deletable": false,
    "editable": false,
    "nbgrader": {
     "cell_type": "code",
     "checksum": "0c53eb91cf3c2b811cc112ba4f450fd2",
     "grade": true,
     "grade_id": "cell-a69f9766adab9544",
     "locked": true,
     "points": 1,
     "schema_version": 2,
     "solution": false
    }
   },
   "outputs": [],
   "source": [
    "test_that('Solution is incorrect', {\n",
    "    expect_equal(digest(answer1.9.2), 'c1f86f7430df7ddb256980ea6a3b57a4') # we hid the answer to the test here so you can't see it, but we can still run the test\n",
    "    \n",
    "})\n",
    "print(\"Success!\")"
   ]
  },
  {
   "cell_type": "markdown",
   "metadata": {},
   "source": [
    "## 2. Fast-Food Chains in the United States\n",
    "\n",
    "With their cheap meals and convenient drive-thrus, fast food restaurants are a growing demand in many countries. Despite their questionable ingredients and nutritional value, most Americans count on fast food in their daily lives (they are often delicious and so hard to resist...). \n",
    "\n",
    "<img src=\"https://media.giphy.com/media/NS6SKs3Lt8cPHhe0es/giphy.gif\" width = \"400\"/>\n",
    "\n",
    "Source: https://media.giphy.com/media/NS6SKs3Lt8cPHhe0es/giphy.gif\n",
    "\n",
    "According to Wikipedia,\n",
    ">  Fast food was originally created as a commercial strategy to accommodate the larger numbers of busy commuters, travelers and wage workers who often didn't have the time to sit down at a public house or diner and wait the normal way for their food to be cooked. By making speed of service the priority, this ensured that customers with strictly limited time (a commuter stopping to procure dinner to bring home to their family, for example, or an hourly laborer on a short lunch break) were not inconvenienced by waiting for their food to be cooked on-the-spot (as is expected from a traditional \"sit down\" restaurant). For those with no time to spare, fast food became a multi-billion dollar industry.\n",
    "\n",
    "Currently, fast food is the norm and lots of businesses are investing in advertisement as well as new ideas to make their chain stand out in the sea of restaurants. In fact, one business is hiring you. They want to know the layout of the landscape:\n",
    "\n",
    "1) Which is the most popular franchise on the West-Coast? \n",
    "\n",
    "2) Which state has the highest number of fast-food restuarants?\n",
    "\n",
    "3) Is the most dominant franchise consistent across the West-Coast?\n",
    "\n",
    "In this assignment, you will pretend to assist in the opening of a new restaurant somewhere on the West Coast of the United States (California, Oregon, or Washington). Your goal is to figure out which chain to recommend and figure out which state would be the least competitive."
   ]
  },
  {
   "cell_type": "markdown",
   "metadata": {
    "deletable": false,
    "editable": false,
    "nbgrader": {
     "cell_type": "markdown",
     "checksum": "8362a90bda23d545a6b36cee55665cd2",
     "grade": false,
     "grade_id": "cell-1d4483955210a104",
     "locked": true,
     "schema_version": 2,
     "solution": false
    }
   },
   "source": [
    "**Question 2.1**\n",
    "\n",
    "From the list below, what are you not trying to determine:\n",
    "\n",
    "A. The West-Coast frachise with the greatest popularity\n",
    "\n",
    "B. Is the least dominant franchise consistent across the West-Coast\n",
    "\n",
    "C. The state on the West-Coast with the greatest number of fast-food restuarants\n",
    "\n",
    "*Assign your answer to an object called `answer 2.1`.*"
   ]
  },
  {
   "cell_type": "code",
   "execution_count": null,
   "metadata": {
    "deletable": false,
    "nbgrader": {
     "cell_type": "code",
     "checksum": "b4a447086e295e2fb01886ef11f84fc7",
     "grade": false,
     "grade_id": "cell-ee7c5c9ca8b83d19",
     "locked": false,
     "schema_version": 2,
     "solution": true
    }
   },
   "outputs": [],
   "source": [
    "# Assign your answer to an object called: answer2.1\n",
    "# Make sure the correct answer is an uppercase letter. \n",
    "# Surround your answer with quotation marks.\n",
    "# Replace the fail() with your answer. \n",
    "\n",
    "# your code here\n",
    "fail() # No Answer - remove if you provide an answer"
   ]
  },
  {
   "cell_type": "code",
   "execution_count": null,
   "metadata": {
    "deletable": false,
    "editable": false,
    "nbgrader": {
     "cell_type": "code",
     "checksum": "d1df0217785e299699a73468d4ff3c6b",
     "grade": true,
     "grade_id": "cell-22af5054ff59eadd",
     "locked": true,
     "points": 1,
     "schema_version": 2,
     "solution": false
    }
   },
   "outputs": [],
   "source": [
    "test_that('Solution is incorrect', {\n",
    "    expect_equal(digest(answer2.1), '3a5505c06543876fe45598b5e5e5195d') # we hid the answer to the test here so you can't see it, but we can still run the test\n",
    "    \n",
    "})\n",
    "print(\"Success!\")"
   ]
  },
  {
   "cell_type": "markdown",
   "metadata": {
    "deletable": false,
    "editable": false,
    "nbgrader": {
     "cell_type": "markdown",
     "checksum": "38c892f38919bcfdea3704b63e02aa5b",
     "grade": false,
     "grade_id": "cell-2a0d906c102c421a",
     "locked": true,
     "schema_version": 2,
     "solution": false
    }
   },
   "source": [
    "**Question 2.2**\n",
    "\n",
    "Read the `fast_food.csv` file (found in the `worksheet_04` directory) and assign it to an object called `fast_food`."
   ]
  },
  {
   "cell_type": "code",
   "execution_count": null,
   "metadata": {
    "deletable": false,
    "nbgrader": {
     "cell_type": "code",
     "checksum": "73a737af0a7e51a084f0d89b8d74abc2",
     "grade": false,
     "grade_id": "cell-84ec1117f0f1e0d4",
     "locked": false,
     "schema_version": 2,
     "solution": true
    }
   },
   "outputs": [],
   "source": [
    "# your code here\n",
    "fail() # No Answer - remove if you provide an answer\n",
    "head(fast_food)"
   ]
  },
  {
   "cell_type": "code",
   "execution_count": null,
   "metadata": {
    "deletable": false,
    "editable": false,
    "nbgrader": {
     "cell_type": "code",
     "checksum": "f6acaa50702bd04b284b70a815d58030",
     "grade": true,
     "grade_id": "cell-f61886d392c4a00a",
     "locked": true,
     "points": 1,
     "schema_version": 2,
     "solution": false
    }
   },
   "outputs": [],
   "source": [
    "test_that('Solution is incorrect', {\n",
    "    expect_equal(digest(as.character(fast_food[[3,1]])), '2e716500dfeb89b1b087089a5b1355f8') # we hid the answer to the test here so you can't see it, but we can still run the test\n",
    "    expect_equal(digest(as.character(fast_food[[4,2]])), 'd599245d7d7e3f56863ba3a6112ca71b') \n",
    "})\n",
    "print(\"Success!\")"
   ]
  },
  {
   "cell_type": "markdown",
   "metadata": {
    "deletable": false,
    "editable": false,
    "nbgrader": {
     "cell_type": "markdown",
     "checksum": "9ebe73de8e698de3ed4945bf02ce2e82",
     "grade": false,
     "grade_id": "cell-0df97ab2333937cb",
     "locked": true,
     "schema_version": 2,
     "solution": false
    }
   },
   "source": [
    "**Question 2.3** \n",
    "\n",
    "\n",
    "Next, find the top 9 restuarants on the West Coast (in the states \"CA\", \"WA\" or \"OR\") and name them `top_restaurants`\n",
    "\n",
    "Fill in the `...` in the cell below. Copy and paste your finished answer into the `fail()`. \n",
    "\n",
    "*Assign your answer to an object called `top_restaurants`.*"
   ]
  },
  {
   "cell_type": "code",
   "execution_count": null,
   "metadata": {
    "deletable": false,
    "nbgrader": {
     "cell_type": "code",
     "checksum": "ab03a33e0992bc939a4cd351d1548bd3",
     "grade": false,
     "grade_id": "cell-5c06ffd85d7fa572",
     "locked": false,
     "schema_version": 2,
     "solution": true
    }
   },
   "outputs": [],
   "source": [
    "#top_restaurants <- fast_food %>%\n",
    "#    filter(state %in% c(\"CA\", \"WA\", \"OR\")) %>% \n",
    "#    group_by(...) %>%\n",
    "#    ...(n = n()) %>%\n",
    "#    ...(...) %>% \n",
    "#    ...(...)\n",
    "\n",
    "# your code here\n",
    "fail() # No Answer - remove if you provide an answer\n",
    "top_restaurants"
   ]
  },
  {
   "cell_type": "code",
   "execution_count": null,
   "metadata": {
    "deletable": false,
    "editable": false,
    "nbgrader": {
     "cell_type": "code",
     "checksum": "c8c1896e492ad3d8709ec995ebf8fe17",
     "grade": true,
     "grade_id": "cell-f2aa06843158a15e",
     "locked": true,
     "points": 1,
     "schema_version": 2,
     "solution": false
    }
   },
   "outputs": [],
   "source": [
    "test_that('Solution is incorrect', {\n",
    "    expect_equal(ncol(top_restaurants), 2)\n",
    "    expect_equal(nrow(top_restaurants), 9)\n",
    "    expect_equal(digest(sum(as.numeric(top_restaurants$n, na.rm = TRUE))), '4745bd90664c8cb9935cfb1a4cf51d77') \n",
    "})\n",
    "print(\"Success!\")"
   ]
  },
  {
   "cell_type": "markdown",
   "metadata": {
    "deletable": false,
    "editable": false,
    "nbgrader": {
     "cell_type": "markdown",
     "checksum": "53c46adfbe58a323e98eed54930fe11a",
     "grade": false,
     "grade_id": "cell-49f4f43165cf12c8",
     "locked": true,
     "schema_version": 2,
     "solution": false
    }
   },
   "source": [
    "**Question 2.4** \n",
    "\n",
    "Plot the counts for the top 9 fast food restaurants on the West Coast as a bar chart using `geom_bar`. The number of restaurants should be on the y-axis and the restaurant names should be on the x-axis. Because we are not counting up the number of rows in our data frame, but instead are plotting the actual values in the `n` column, we need to use the `stat = \"identity\"` argument inside `geom_bar`.\n",
    "\n",
    "To do this fill in the `...` in the cell below. Copy and paste your finished answer into the `fail()`. Make sure to label your axes and choose an appropriate figure size using `options`.\n",
    "\n",
    "*Assign your answer to an object called `count_bar_chart`.*"
   ]
  },
  {
   "cell_type": "code",
   "execution_count": null,
   "metadata": {
    "deletable": false,
    "nbgrader": {
     "cell_type": "code",
     "checksum": "7dd5a0a8e39c62ee423393c9385232a8",
     "grade": false,
     "grade_id": "cell-7fa524ccd31a0eb3",
     "locked": false,
     "schema_version": 2,
     "solution": true
    }
   },
   "outputs": [],
   "source": [
    "#... <- ...(..., aes(x = ..., y = ...)) + \n",
    "#    geom_bar(...) +\n",
    "#    xlab(...) +\n",
    "#    ylab(...)\n",
    "\n",
    "# your code here\n",
    "fail() # No Answer - remove if you provide an answer\n",
    "count_bar_chart"
   ]
  },
  {
   "cell_type": "code",
   "execution_count": null,
   "metadata": {
    "deletable": false,
    "editable": false,
    "nbgrader": {
     "cell_type": "code",
     "checksum": "1cbd83ed87a8fafe39bdec547e5a05b5",
     "grade": true,
     "grade_id": "cell-75b9ba0facc9e21e",
     "locked": true,
     "points": 1,
     "schema_version": 2,
     "solution": false
    }
   },
   "outputs": [],
   "source": [
    "test_that('Solution is incorrect', {\n",
    "    expect_equal(digest(rlang::get_expr(count_bar_chart$mapping$x)), 'b009e2c5c340ac154e889c878f9d27de')\n",
    "    expect_equal(digest(rlang::get_expr(count_bar_chart$mapping$y)), 'd731df15d5f885e2ddffa01f617515bd')\n",
    "    expect_equal(digest(rlang::get_expr(count_bar_chart$layers[[1]]$mapping)), 'f9e884084b84794d762a535f3facec85')\n",
    "    expect_that('GeomBar' %in% class(rlang::get_expr(count_bar_chart$layers[[1]]$geom)), is_true())\n",
    "    })\n",
    "print(\"Success!\")"
   ]
  },
  {
   "cell_type": "markdown",
   "metadata": {},
   "source": [
    "**Question 2.5**\n",
    "\n",
    "The x-axes labels don't look great unless you make the bars on the bar plot above quite wide, wider than are actually useful or effective. What can we do? Well we can add a `theme` layer and rotate the labels! Choose an angle that you think is appropriate. Choose something between 20 and 90 for the `angle` argument. Use the `hjust = 1` argument to ensure your labels don't sit on top of the bars as you rotate them (try removing that argument and see what happens...)"
   ]
  },
  {
   "cell_type": "code",
   "execution_count": null,
   "metadata": {
    "deletable": false,
    "nbgrader": {
     "cell_type": "code",
     "checksum": "95209dd6bc13a2fce393dec4f990e7c5",
     "grade": false,
     "grade_id": "cell-74b1fc82a7200158",
     "locked": false,
     "schema_version": 2,
     "solution": true
    }
   },
   "outputs": [],
   "source": [
    "#count_bar_chart <- ... + \n",
    "#    theme(axis.text.x = element_text(angle = ..., hjust = 1))\n",
    "\n",
    "# your code here\n",
    "fail() # No Answer - remove if you provide an answer\n",
    "count_bar_chart"
   ]
  },
  {
   "cell_type": "code",
   "execution_count": null,
   "metadata": {
    "deletable": false,
    "editable": false,
    "nbgrader": {
     "cell_type": "code",
     "checksum": "acf485dfd40967241685f5109ec867c2",
     "grade": true,
     "grade_id": "cell-6fc37492ce4c8caf",
     "locked": true,
     "points": 1,
     "schema_version": 2,
     "solution": false
    }
   },
   "outputs": [],
   "source": [
    "test_that('Solution is incorrect', {\n",
    "    expect_equal(digest(rlang::get_expr(count_bar_chart$mapping$x)), 'b009e2c5c340ac154e889c878f9d27de')\n",
    "    expect_equal(digest(rlang::get_expr(count_bar_chart$mapping$y)), 'd731df15d5f885e2ddffa01f617515bd')\n",
    "    expect_equal(digest(rlang::get_expr(count_bar_chart$layers[[1]]$mapping)), 'f9e884084b84794d762a535f3facec85')\n",
    "    expect_that('GeomBar' %in% class(rlang::get_expr(count_bar_chart$layers[[1]]$geom)), is_true())\n",
    "    expect_equal(digest(as.numeric(count_bar_chart$theme$axis.text.x$hjust)), '6717f2823d3202449301145073ab8719')\n",
    "    expect_that(count_bar_chart$theme$axis.text.x$angle <= 90 & count_bar_chart$theme$axis.text.x$angle >= 20, is_true())\n",
    "    })\n",
    "print(\"Success!\")"
   ]
  },
  {
   "cell_type": "markdown",
   "metadata": {
    "deletable": false,
    "editable": false,
    "nbgrader": {
     "cell_type": "markdown",
     "checksum": "6e46524e2da349fe8b03debbd11ae316",
     "grade": false,
     "grade_id": "cell-09a3f2ba6c0c15e4",
     "locked": true,
     "schema_version": 2,
     "solution": false
    }
   },
   "source": [
    "**Question 2.6**\n",
    "\n",
    "Which is the most popular franchise on the West-Coast? Save your answer as `answer2.6` and be sure to surround the restuarant name with quotations. Pay attention to case and punctuation when answering."
   ]
  },
  {
   "cell_type": "code",
   "execution_count": null,
   "metadata": {
    "deletable": false,
    "nbgrader": {
     "cell_type": "code",
     "checksum": "21d7c82b96e6d4694bb5c34db110e4d3",
     "grade": false,
     "grade_id": "cell-4b5e9ae3b501ff80",
     "locked": false,
     "schema_version": 2,
     "solution": true
    }
   },
   "outputs": [],
   "source": [
    "# your code here\n",
    "fail() # No Answer - remove if you provide an answer\n",
    "answer2.6"
   ]
  },
  {
   "cell_type": "code",
   "execution_count": null,
   "metadata": {
    "deletable": false,
    "editable": false,
    "nbgrader": {
     "cell_type": "code",
     "checksum": "8e4222ce30f08e03740d95698c28fa29",
     "grade": true,
     "grade_id": "cell-7e1f5a0036666e46",
     "locked": true,
     "points": 1,
     "schema_version": 2,
     "solution": false
    }
   },
   "outputs": [],
   "source": [
    "test_that('Solution is incorrect', {\n",
    "    expect_equal(digest(answer2.6), '948a9b527842ee791d4f18fb5594fbf7')\n",
    "    })\n",
    "print(\"Success!\")"
   ]
  },
  {
   "cell_type": "markdown",
   "metadata": {
    "deletable": false,
    "editable": false,
    "nbgrader": {
     "cell_type": "markdown",
     "checksum": "2a3ffa0b3f81053c4ff77071416463da",
     "grade": false,
     "grade_id": "cell-21bc1492a7923acd",
     "locked": true,
     "schema_version": 2,
     "solution": false
    }
   },
   "source": [
    "**Question 2.7** \n",
    "\n",
    "Next, let's answer the question, The state on the West-Coast with the greatest number of fast-food restuarants? To do this we need to use the names in `top_restaurants` to get the counts of each restaurant in each of the 3 states from the `fast_food` data frame. You will need to use `semi_join` to do this (to get the intersection of two data frames).  Name this data frame `state_counts`. Fill in the `...` in the cell below. Copy and paste your finished answer into the `fail()`.\n",
    "\n",
    "*If you are interested in learning more about joining data frames in R, see [this cheatsheet](https://stat545.com/bit001_dplyr-cheatsheet.html).*"
   ]
  },
  {
   "cell_type": "code",
   "execution_count": null,
   "metadata": {
    "deletable": false,
    "nbgrader": {
     "cell_type": "code",
     "checksum": "7131801212509d3fbed851f516608460",
     "grade": false,
     "grade_id": "cell-fdd4333a78788519",
     "locked": false,
     "schema_version": 2,
     "solution": true
    }
   },
   "outputs": [],
   "source": [
    "#... <- fast_food %>%\n",
    "#    semi_join(top_restaurants) %>% # semi_join gives the intersection of two data frames\n",
    "#    filter(state %in% c(\"CA\", \"WA\", \"OR\")) %>% \n",
    "#    ...(...) %>%\n",
    "#    ...(n = n()) \n",
    "\n",
    "# your code here\n",
    "fail() # No Answer - remove if you provide an answer\n",
    "head(state_counts)"
   ]
  },
  {
   "cell_type": "code",
   "execution_count": null,
   "metadata": {
    "deletable": false,
    "editable": false,
    "nbgrader": {
     "cell_type": "code",
     "checksum": "120a7beebdc18cb1155b516615e8d097",
     "grade": true,
     "grade_id": "cell-53713f7578969f5c",
     "locked": true,
     "points": 1,
     "schema_version": 2,
     "solution": false
    }
   },
   "outputs": [],
   "source": [
    "test_that('Solution is incorrect', {\n",
    "    expect_equal(ncol(state_counts), 2)\n",
    "    expect_equal(nrow(state_counts), 3)\n",
    "    expect_equal(digest(sum(as.numeric(state_counts$n, na.rm = TRUE))), '4745bd90664c8cb9935cfb1a4cf51d77') \n",
    "})\n",
    "print(\"Success!\")"
   ]
  },
  {
   "cell_type": "markdown",
   "metadata": {
    "deletable": false,
    "editable": false,
    "nbgrader": {
     "cell_type": "markdown",
     "checksum": "9af38412eaec5f750149ccda55e2775b",
     "grade": false,
     "grade_id": "cell-d7ee2bd6b5df79ae",
     "locked": true,
     "schema_version": 2,
     "solution": false
    }
   },
   "source": [
    "**Question 2.8**\n",
    "\n",
    "Now, create a bar plot that has restaurant count on the y-axis and US state on the x-axis. Name the plot `state_counts_plot`. Remember to choose an appropriate plot size using `options`. "
   ]
  },
  {
   "cell_type": "code",
   "execution_count": null,
   "metadata": {
    "deletable": false,
    "nbgrader": {
     "cell_type": "code",
     "checksum": "241c788581038e78d7a182dc0a2a15b2",
     "grade": false,
     "grade_id": "cell-b7d101d1906d201c",
     "locked": false,
     "schema_version": 2,
     "solution": true
    }
   },
   "outputs": [],
   "source": [
    "# your code here\n",
    "fail() # No Answer - remove if you provide an answer\n",
    "state_counts_plot"
   ]
  },
  {
   "cell_type": "code",
   "execution_count": null,
   "metadata": {
    "deletable": false,
    "editable": false,
    "nbgrader": {
     "cell_type": "code",
     "checksum": "eaf2970805fdb85a807ea55cf29cdcd8",
     "grade": true,
     "grade_id": "cell-3ee58280015e1838",
     "locked": true,
     "points": 0,
     "schema_version": 2,
     "solution": false
    }
   },
   "outputs": [],
   "source": [
    "test_that('Solution is incorrect', {\n",
    "    expect_equal(digest(rlang::get_expr(state_counts_plot$mapping$x)), 'a47fba8c92b6a5ffd5f9caf0907b9977')\n",
    "    expect_equal(digest(rlang::get_expr(state_counts_plot$mapping$y)), 'd731df15d5f885e2ddffa01f617515bd')\n",
    "    expect_equal(digest(rlang::get_expr(state_counts_plot$layers[[1]]$mapping)), 'f9e884084b84794d762a535f3facec85')\n",
    "    expect_that('GeomBar' %in% class(rlang::get_expr(state_counts_plot$layers[[1]]$geom)), is_true())\n",
    "    })\n",
    "print(\"Success!\")"
   ]
  },
  {
   "cell_type": "markdown",
   "metadata": {
    "deletable": false,
    "editable": false,
    "nbgrader": {
     "cell_type": "markdown",
     "checksum": "ab92084f97ea43e3112dcd7fce7f6341",
     "grade": false,
     "grade_id": "cell-b50e50c135e6d682",
     "locked": true,
     "schema_version": 2,
     "solution": false
    }
   },
   "source": [
    "**Question 2.9**\n",
    "\n",
    "Which state has the highest number of fast-food restuarants? Save your answer as `answer2.9` and be sure to surround the restuarant name with quotations. Pay attention to case and punctuation when answering."
   ]
  },
  {
   "cell_type": "code",
   "execution_count": null,
   "metadata": {
    "deletable": false,
    "nbgrader": {
     "cell_type": "code",
     "checksum": "5e468c42654cbe7ba0cc9ea940d68f53",
     "grade": false,
     "grade_id": "cell-3808cf146c117d12",
     "locked": false,
     "schema_version": 2,
     "solution": true
    }
   },
   "outputs": [],
   "source": [
    "# your code here\n",
    "fail() # No Answer - remove if you provide an answer"
   ]
  },
  {
   "cell_type": "code",
   "execution_count": null,
   "metadata": {
    "deletable": false,
    "editable": false,
    "nbgrader": {
     "cell_type": "code",
     "checksum": "cc9f309a82dc4a2a50dab1500d5b844e",
     "grade": true,
     "grade_id": "cell-a17cc0ffac7cd795",
     "locked": true,
     "points": 1,
     "schema_version": 2,
     "solution": false
    }
   },
   "outputs": [],
   "source": [
    "test_that('Solution is incorrect', {\n",
    "    expect_equal(digest(answer2.9), '2bedd54d48692762c119b27f5ec7a320')\n",
    "})\n",
    "print(\"Success!\")"
   ]
  },
  {
   "cell_type": "markdown",
   "metadata": {},
   "source": [
    "Consider the populations of California (325.7 million), Oregon (4.143 million) and Washington (7.406 million) (source: United States Census Bureau). Discuss with your neighbour about whether using the raw restaurant count for each state is the best measure of competition? Would restaurant per capita be a better alternative?"
   ]
  },
  {
   "cell_type": "markdown",
   "metadata": {},
   "source": [
    "**Question 2.9.1** \n",
    "\n",
    "Is the most dominant/top franchise consistent across the West-Coast? To answer this question we need a data frame that has three columns: `name` (restaurant), `state` and `n` (restaurant count). We will need to use the `semi-join` strategy as we did above to use the names in `top_restaurants` to get the counts of each restaurant in each of the 3 states from the `fast_food` data frame. This time, however, we'll need to `group_by` both `name` and `state`. Name this new data frame `top_n_state`."
   ]
  },
  {
   "cell_type": "code",
   "execution_count": null,
   "metadata": {
    "deletable": false,
    "nbgrader": {
     "cell_type": "code",
     "checksum": "d95164fd9dec0882659befafae5bc40f",
     "grade": false,
     "grade_id": "cell-fa13c7c54d724542",
     "locked": false,
     "schema_version": 2,
     "solution": true
    }
   },
   "outputs": [],
   "source": [
    "#... <- fast_food %>%\n",
    "#    semi_join(top_restaurants) %>% # semi_join gives the intersection of two data frames\n",
    "#    filter(state %in% c(\"CA\", \"WA\", \"OR\")) %>% \n",
    "#    ...(..., ...) %>%\n",
    "#    ...(...) \n",
    "\n",
    "# your code here\n",
    "fail() # No Answer - remove if you provide an answer\n",
    "head(top_n_state)"
   ]
  },
  {
   "cell_type": "code",
   "execution_count": null,
   "metadata": {
    "deletable": false,
    "editable": false,
    "nbgrader": {
     "cell_type": "code",
     "checksum": "064a7bce55ba2af6e14c7554f318a94b",
     "grade": true,
     "grade_id": "cell-58b0fb2c06951419",
     "locked": true,
     "points": 1,
     "schema_version": 2,
     "solution": false
    }
   },
   "outputs": [],
   "source": [
    "test_that('Solution is incorrect', {\n",
    "    expect_equal(ncol(top_n_state), 3)\n",
    "    expect_equal(nrow(top_n_state), 27)\n",
    "    expect_equal(digest(sum(as.numeric(top_n_state$n, na.rm = TRUE))), '4745bd90664c8cb9935cfb1a4cf51d77') \n",
    "})\n",
    "print(\"Success!\")"
   ]
  },
  {
   "cell_type": "markdown",
   "metadata": {
    "deletable": false,
    "editable": false,
    "nbgrader": {
     "cell_type": "markdown",
     "checksum": "ffc8eb56c04018845295342c0eadf795",
     "grade": false,
     "grade_id": "cell-bc917b8d65a605c2",
     "locked": true,
     "schema_version": 2,
     "solution": false
    }
   },
   "source": [
    "**Question 2.9.2** \n",
    "\n",
    "Plot the counts (y-axis) for the top 9 fast food restaurants (x-axis) on the West Coast, **per US State** (group), as a bar chart using `geom_bar`. Use `fill = name` inside `aes` to color the restaurant's by name. Use `position = \"dodge\"` inside `geom_bar` to group the bars by state. To rename the legend, use a `labs` layer. This time within `labs` use the `fill` argument instead of color (this is because you need to modify the asthetic that the legend was made from, here it was fill, not color as earlier in the worksheet).\n",
    "\n",
    "To do this fill in the `...` in the cell below. Copy and paste your finished answer into the `fail()`. Make sure to label your axes and choose an appropriate plot size. \n",
    "\n",
    "*Assign your answer to an object called `top_n_state_plot`.*"
   ]
  },
  {
   "cell_type": "code",
   "execution_count": null,
   "metadata": {
    "deletable": false,
    "nbgrader": {
     "cell_type": "code",
     "checksum": "cef3a258721470540d94c37f6a977fa0",
     "grade": false,
     "grade_id": "cell-e76e0bf48a0e8854",
     "locked": false,
     "schema_version": 2,
     "solution": true
    }
   },
   "outputs": [],
   "source": [
    "#... <- ggplot(..., aes(x = state, y = n, fill = ...)) + \n",
    "#    ...(stat = ..., position = \"...\")\n",
    "#   xlab(...) +\n",
    "#   ylab(...) +\n",
    "#   labs(fill = \"Restaurant\") \n",
    "\n",
    "# your code here\n",
    "fail() # No Answer - remove if you provide an answer\n",
    "top_n_state_plot"
   ]
  },
  {
   "cell_type": "code",
   "execution_count": null,
   "metadata": {
    "deletable": false,
    "editable": false,
    "nbgrader": {
     "cell_type": "code",
     "checksum": "5592e2c69a643083f840e710a5f33df0",
     "grade": true,
     "grade_id": "cell-ed385a60b4c8a6d0",
     "locked": true,
     "points": 1,
     "schema_version": 2,
     "solution": false
    }
   },
   "outputs": [],
   "source": [
    "test_that('Solution is incorrect', {\n",
    "    expect_equal(digest(rlang::get_expr(top_n_state_plot$mapping$x)), 'a47fba8c92b6a5ffd5f9caf0907b9977')\n",
    "    expect_equal(digest(rlang::get_expr(top_n_state_plot$mapping$y)), 'd731df15d5f885e2ddffa01f617515bd')\n",
    "    expect_equal(digest(rlang::get_expr(top_n_state_plot$layers[[1]]$mapping)), 'f9e884084b84794d762a535f3facec85')\n",
    "    expect_that('GeomBar' %in% class(rlang::get_expr(top_n_state_plot$layers[[1]]$geom)), is_true())\n",
    "    expect_equal(digest(top_n_state_plot$labels$fill), '8b8460e5db816b64e2aefd1c37d67c23')\n",
    "    })\n",
    "print(\"Success!\")"
   ]
  },
  {
   "cell_type": "markdown",
   "metadata": {},
   "source": [
    "How easy is that to compare the restaurants and states to answer our question: Is the most dominant/top franchise consistent across the West-Coast? If we carefully look at this plot we can pick answer this question, but it takes us a while to process this. If we instead visualize this as a stacked bar chart using proportions instead of counts we might be able to do this easier (making it a more effective visualization)."
   ]
  },
  {
   "cell_type": "markdown",
   "metadata": {
    "deletable": false,
    "editable": false,
    "nbgrader": {
     "cell_type": "markdown",
     "checksum": "5bec137d4d9892f64aef6c15ee028608",
     "grade": false,
     "grade_id": "cell-fbbbd065920901d2",
     "locked": true,
     "schema_version": 2,
     "solution": false
    }
   },
   "source": [
    "**Question 2.9.3** \n",
    "\n",
    "Copy your code from Question 2.9.2 and modify `position = \"dodge\"` to `position = \"fill\"` to change from doing a grouped bar chart to a stacked bar chart with the data represented as proportions instead of counts. "
   ]
  },
  {
   "cell_type": "code",
   "execution_count": null,
   "metadata": {
    "deletable": false,
    "nbgrader": {
     "cell_type": "code",
     "checksum": "33c748826a5e876aba3942ffe0abe24b",
     "grade": false,
     "grade_id": "cell-8d848ab3e4d34d85",
     "locked": false,
     "schema_version": 2,
     "solution": true
    }
   },
   "outputs": [],
   "source": [
    "# your code here\n",
    "fail() # No Answer - remove if you provide an answer\n",
    "top_n_state_plot"
   ]
  },
  {
   "cell_type": "code",
   "execution_count": null,
   "metadata": {
    "deletable": false,
    "editable": false,
    "nbgrader": {
     "cell_type": "code",
     "checksum": "28f7eac5b4ce2a23ac35cd1e8b4c146f",
     "grade": true,
     "grade_id": "cell-b90d158867cf1c27",
     "locked": true,
     "points": 1,
     "schema_version": 2,
     "solution": false
    }
   },
   "outputs": [],
   "source": [
    "test_that('Solution is incorrect', {\n",
    "    expect_equal(digest(rlang::get_expr(top_n_state_plot$mapping$x)), 'a47fba8c92b6a5ffd5f9caf0907b9977')\n",
    "    expect_equal(digest(rlang::get_expr(top_n_state_plot$mapping$y)), 'd731df15d5f885e2ddffa01f617515bd')\n",
    "    expect_equal(digest(rlang::get_expr(top_n_state_plot$layers[[1]]$mapping)), 'f9e884084b84794d762a535f3facec85')\n",
    "    expect_that('GeomBar' %in% class(rlang::get_expr(top_n_state_plot$layers[[1]]$geom)), is_true())\n",
    "    expect_equal(digest(top_n_state_plot$labels$fill), '8b8460e5db816b64e2aefd1c37d67c23')\n",
    "    })\n",
    "print(\"Success!\")"
   ]
  },
  {
   "cell_type": "markdown",
   "metadata": {
    "deletable": false,
    "editable": false,
    "nbgrader": {
     "cell_type": "markdown",
     "checksum": "2065712c0ecdb300952817b7ddf3668a",
     "grade": false,
     "grade_id": "cell-18024b55d0ecc8f0",
     "locked": true,
     "schema_version": 2,
     "solution": false
    }
   },
   "source": [
    "**Question 2.9.4** Multiple Choice\n",
    "\n",
    "Is the most dominant franchise consistent across the West-Coast? Answer `\"yes\"` or `\"no\"`. Save your answer as `answer2.9.4` and be sure to surround the answer with quotations. Pay attention to case and punctuation when answering."
   ]
  },
  {
   "cell_type": "code",
   "execution_count": null,
   "metadata": {
    "deletable": false,
    "nbgrader": {
     "cell_type": "code",
     "checksum": "49215acd5bb19cd415d758b7bdb55fc0",
     "grade": false,
     "grade_id": "cell-84b61b1043757d6f",
     "locked": false,
     "schema_version": 2,
     "solution": true
    }
   },
   "outputs": [],
   "source": [
    "# Assign your answer to an object called: answer2.9.4\n",
    "# Make sure the correct answer is an uppercase letter. \n",
    "# Surround your answer with quotation marks.\n",
    "# Replace the fail() with your answer. \n",
    "\n",
    "# your code here\n",
    "fail() # No Answer - remove if you provide an answer"
   ]
  },
  {
   "cell_type": "code",
   "execution_count": null,
   "metadata": {
    "deletable": false,
    "editable": false,
    "nbgrader": {
     "cell_type": "code",
     "checksum": "603c4d8bfb0ffaf74cb75f0661b430da",
     "grade": true,
     "grade_id": "cell-0eb8e20187b2bfa2",
     "locked": true,
     "points": 1,
     "schema_version": 2,
     "solution": false
    }
   },
   "outputs": [],
   "source": [
    "test_that('Solution is incorrect', {\n",
    "    expect_equal(digest(answer2.9.4), '0590b0427c1b19a6eb612d19888aa52f') # we hid the answer to the test here so you can't see it, but we can still run the test\n",
    "    \n",
    "})\n",
    "print(\"Success!\")"
   ]
  },
  {
   "cell_type": "markdown",
   "metadata": {},
   "source": [
    "We are just scratching the surface of how to create effective visualizations in R. For example, we haven't covered how to changed from the default colors pallete `ggplot2` provides. We'll learn more in the tutorial, however, it's a big world out there, and to learn more read the two chapters we pointed to in the reading and practice, practice, practice! Go forth and make beautiful and effective plots!"
   ]
  }
 ],
 "metadata": {
  "kernelspec": {
   "display_name": "R",
   "language": "R",
   "name": "ir"
  },
  "language_info": {
   "codemirror_mode": "r",
   "file_extension": ".r",
   "mimetype": "text/x-r-source",
   "name": "R",
   "pygments_lexer": "r",
   "version": "3.5.1"
  }
 },
 "nbformat": 4,
 "nbformat_minor": 2
}
