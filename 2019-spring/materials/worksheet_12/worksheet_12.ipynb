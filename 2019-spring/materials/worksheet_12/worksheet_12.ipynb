{
 "cells": [
  {
   "cell_type": "markdown",
   "metadata": {},
   "source": [
    "# Last worksheet!\n",
    "\n",
    "We will cover 2 things today:\n",
    "\n",
    "1. [Visualizing high dimensional data](#Visualizing-high-dimensional-data)\n",
    "2. [Getting R + Jupyter working for you outside of our course](#Getting-R-+-Jupyter-working-for-you-outside-of-our-course)"
   ]
  },
  {
   "cell_type": "markdown",
   "metadata": {},
   "source": [
    "# Visualizing high dimensional data \n",
    "\n",
    "> One of the problems that we encounter when doing data science is the high dimensionality of our datasets. We have multiple variables that we wish to look at the same time to understand the processes and patterns going on in there. However, we can only see up to 3 dimensions ([really only 2 well](http://scecinfo.usc.edu/geowall/stereohow.html), so even when we get to a dataset like the iris dataset, which only contains 4 variables aside from the species labels, we can't fully visualize what's going on. One solution is to visualize it across multiple 2D plots (as you did in the last tutorial) but that can be sub-optimal. Is there nothing else we can do? No! There are alternatives. In general the broad category of algorithms used for this and other problems of high dimensionality is named dimensionality reduction. One of the most famous and used techniques is called t-SNE. (\n",
    "\n",
    "In this worksheet, we will demonstrate how you can do t-sne in R to visualize the high-dimensional data sets you were working with in your clustering tutorial. We do not expect you to be able to explain how this algorithm works, but we we do expect you to learn and remember is the following:\n",
    "- what t-sne is used for (the problem it is solving)\n",
    "- how to use R to perform t-sne\n",
    "\n",
    "Additional videos/readings (beyond the scope of this course):\n",
    "- [t-sne Explained Clearly video](https://www.youtube.com/watch?v=NEaUSP4YerM)\n",
    "- [An illustrated introduction to the t-SNE algorithm](https://github.com/oreillymedia/t-SNE-tutorial) - *note - this is in Python!*\n",
    "- [Original t-sne research paper](https://lvdmaaten.github.io/publications/papers/JMLR_2008.pdf)"
   ]
  },
  {
   "cell_type": "markdown",
   "metadata": {},
   "source": [
    "# Travel Reviews\n",
    "\n",
    "We will be working with the travel reviews from East Asia again. During the tutorial we found 2 clusters to be the ideal number of clusters. However, we couldn't visualize how did our clusters looked. In this exercise we will apply t-SNE to the reviews dataset to be able to visualize our clusters. The code supplied below replicates the analysis we completed in the tutorial. "
   ]
  },
  {
   "cell_type": "code",
   "execution_count": null,
   "metadata": {},
   "outputs": [],
   "source": [
    "library(tidyverse)\n",
    "library(broom)\n",
    "library(testthat)\n",
    "library(repr)"
   ]
  },
  {
   "cell_type": "code",
   "execution_count": null,
   "metadata": {},
   "outputs": [],
   "source": [
    "reviews <- read_csv('data/tripadvisor_review.csv')\n",
    "clean_reviews <- reviews %>%\n",
    "                    select(-`User ID`)\n",
    "head(clean_reviews)"
   ]
  },
  {
   "cell_type": "code",
   "execution_count": null,
   "metadata": {},
   "outputs": [],
   "source": [
    "set.seed(2019)\n",
    "reviews_clusters <- kmeans(clean_reviews, centers = 2, nstart = 100)\n",
    "reviews_clusters"
   ]
  },
  {
   "cell_type": "markdown",
   "metadata": {},
   "source": [
    "**Question 1.0** \n",
    "\n",
    "Install and load the `Rtsne` package."
   ]
  },
  {
   "cell_type": "code",
   "execution_count": null,
   "metadata": {
    "deletable": false,
    "nbgrader": {
     "cell_type": "code",
     "checksum": "85617d23c0173ee61d10eab0f225b1a1",
     "grade": true,
     "grade_id": "cell-d0cc751b83649ea8",
     "locked": false,
     "points": 0,
     "schema_version": 2,
     "solution": true
    }
   },
   "outputs": [],
   "source": [
    "# your code here\n",
    "fail() # No Answer - remove if you provide an answer"
   ]
  },
  {
   "cell_type": "markdown",
   "metadata": {},
   "source": [
    "**Question 1.1**\n",
    "\n",
    "When doing dimensionality reduction one of the things we need to decide is how many dimentions do we want to reduce to? In this case we will be reducing to 2 dimensions, although with t-SNE it is possible to reduce up to 3 dimensions. \n",
    "\n",
    "Your tasks:\n",
    "- Set the seed to be 2019.\n",
    "- Apply t-SNE to the `clean_reviews` dataset, reducing to 2 dimensions.\n",
    "- Assing the result to an object named `tsne_reviews`.\n",
    "\n",
    "The function you will need to do this is called `Rtsne`. You will need to give 3 at least these 3 arguments:\n",
    "- `X` (the data set you want to perform dimensionality reduction on)\n",
    "- `dims` the number of dimensions you want to reduce the data set to (here 2)\n",
    "- `check_duplicates` (this specifies to checks to see if there are duplicates are present in the data set. The default is TRUE, but it is best practice set it to FALSE to ensure there are no duplicates present).\n",
    "- note - a random number process is used in the algorithm, and so you should set a seed to make your analysis reproducible"
   ]
  },
  {
   "cell_type": "code",
   "execution_count": null,
   "metadata": {
    "deletable": false,
    "nbgrader": {
     "cell_type": "code",
     "checksum": "0ccb756c0f18eca0ccda44854656e27c",
     "grade": false,
     "grade_id": "cell-01febee3643a2cbd",
     "locked": false,
     "schema_version": 2,
     "solution": true
    }
   },
   "outputs": [],
   "source": [
    "# ... <- Rtsne(X = ..., dims = ..., check_duplicates = ...)\n",
    "# your code here\n",
    "fail() # No Answer - remove if you provide an answer\n",
    "tsne_reviews"
   ]
  },
  {
   "cell_type": "code",
   "execution_count": null,
   "metadata": {
    "deletable": false,
    "editable": false,
    "nbgrader": {
     "cell_type": "code",
     "checksum": "de58e439cbe00f6525f405d767643235",
     "grade": true,
     "grade_id": "cell-5afdd44a6abbc596",
     "locked": true,
     "points": 1,
     "schema_version": 2,
     "solution": false
    }
   },
   "outputs": [],
   "source": [
    "test_that('Solution is incorrect', {\n",
    "    expect_equal(tsne_reviews$N, 980)\n",
    "    expect_equal(ncol(tsne_reviews$Y), 2)\n",
    "    })\n",
    "print(\"Success!\")"
   ]
  },
  {
   "cell_type": "markdown",
   "metadata": {},
   "source": [
    "**Question 1.2**\n",
    "\n",
    "`tsne_reviews` contains a matrix with the lower dimensionality representation of the original points. This is contained inside of the `Y` attribte of the object returned from the `Rtsne` function. Your task is to extract this data from the more complex object so you can easily use it to get the cluster assignments. Name this new object `tsne_results`."
   ]
  },
  {
   "cell_type": "code",
   "execution_count": null,
   "metadata": {
    "deletable": false,
    "nbgrader": {
     "cell_type": "code",
     "checksum": "80cfa3f3227d7df0f3a0627870a679ee",
     "grade": false,
     "grade_id": "cell-a5cfd0a534aa4b4f",
     "locked": false,
     "schema_version": 2,
     "solution": true
    }
   },
   "outputs": [],
   "source": [
    "# ... <- ...$Y\n",
    "# your code here\n",
    "fail() # No Answer - remove if you provide an answer\n",
    "head(tsne_results)"
   ]
  },
  {
   "cell_type": "code",
   "execution_count": null,
   "metadata": {
    "deletable": false,
    "editable": false,
    "nbgrader": {
     "cell_type": "code",
     "checksum": "9bb892d6d3e0341e8b81910432435176",
     "grade": true,
     "grade_id": "cell-df48120fe3665229",
     "locked": true,
     "points": 1,
     "schema_version": 2,
     "solution": false
    }
   },
   "outputs": [],
   "source": [
    "test_that('Solution is incorrect', {\n",
    "    expect_equal(nrow(tsne_results), 980)\n",
    "    expect_equal(ncol(tsne_results), 2)\n",
    "    })\n",
    "print(\"Success!\")"
   ]
  },
  {
   "cell_type": "markdown",
   "metadata": {},
   "source": [
    "**Question 1.3**\n",
    "\n",
    "We can use the `augment` function (from the `broom` package) to retrieve the kmeans cluster assignments given to you in the first snippets of code. Extract these from the `reviews_clusters` object (which was the object returned from the `kmeans` function) and assign these to an object called `tsne_clusters`."
   ]
  },
  {
   "cell_type": "code",
   "execution_count": null,
   "metadata": {
    "deletable": false,
    "nbgrader": {
     "cell_type": "code",
     "checksum": "516cc429408a075a7bdeca56819e0aab",
     "grade": false,
     "grade_id": "cell-0fe9759d8eee4e58",
     "locked": false,
     "schema_version": 2,
     "solution": true
    }
   },
   "outputs": [],
   "source": [
    "# ... <- ...(..., tsne_results)\n",
    "# your code here\n",
    "fail() # No Answer - remove if you provide an answer\n",
    "head(tsne_clusters)"
   ]
  },
  {
   "cell_type": "code",
   "execution_count": null,
   "metadata": {
    "deletable": false,
    "editable": false,
    "nbgrader": {
     "cell_type": "code",
     "checksum": "9289651073cddcd2c07b5516b5f71587",
     "grade": true,
     "grade_id": "cell-bed781969dacc631",
     "locked": true,
     "points": 1,
     "schema_version": 2,
     "solution": false
    }
   },
   "outputs": [],
   "source": [
    "test_that('Solution is incorrect', {\n",
    "    expect_equal(nrow(tsne_clusters), 980)\n",
    "    expect_equal(ncol(tsne_clusters), 3)\n",
    "    expect_equal(length(unique(tsne_clusters$.cluster)), 2)\n",
    "    })\n",
    "print(\"Success!\")"
   ]
  },
  {
   "cell_type": "markdown",
   "metadata": {},
   "source": [
    "**Question 1.4**\n",
    "\n",
    "Plot the data points (columns `X1` and `X2`) from your `tsne_clusters` object (this is a reduced dimensionality representation of the original data set). Color the data points by their assigned cluster (`.cluster` column). Assign the plot to an object named `tsne_plot`."
   ]
  },
  {
   "cell_type": "code",
   "execution_count": null,
   "metadata": {
    "deletable": false,
    "nbgrader": {
     "cell_type": "code",
     "checksum": "35f825c235c86e6eed51fb5a4213f279",
     "grade": false,
     "grade_id": "cell-df7f6543071af221",
     "locked": false,
     "schema_version": 2,
     "solution": true
    }
   },
   "outputs": [],
   "source": [
    "# your code here\n",
    "fail() # No Answer - remove if you provide an answer\n",
    "tsne_plot"
   ]
  },
  {
   "cell_type": "code",
   "execution_count": null,
   "metadata": {
    "deletable": false,
    "editable": false,
    "nbgrader": {
     "cell_type": "code",
     "checksum": "f64556e506a9d4c26bc3be24fa85cf97",
     "grade": true,
     "grade_id": "cell-da2789665d2e3d38",
     "locked": true,
     "points": 2,
     "schema_version": 2,
     "solution": false
    }
   },
   "outputs": [],
   "source": [
    "test_that('Solution is correct', {\n",
    "    expect_true(\"X1\" %in% c(rlang::get_expr(tsne_plot$mapping$x), rlang::get_expr(tsne_plot$mapping$y)))\n",
    "    expect_true(\"X2\" %in% c(rlang::get_expr(tsne_plot$mapping$x), rlang::get_expr(tsne_plot$mapping$y)))\n",
    "    expect_equal(as.character(rlang::get_expr(tsne_plot$mapping$colour)), \".cluster\")\n",
    "    expect_that(\"GeomPoint\" %in% c(class(tsne_plot$layers[[1]]$geom)) , is_true())\n",
    "    })\n",
    "print(\"Success!\")"
   ]
  },
  {
   "cell_type": "markdown",
   "metadata": {},
   "source": [
    "#### Question 1.4.1 (Optional)\n",
    "\n",
    "Another argument you can set when doing t-sne is perplexity. Distances between nearest neighbors is part of the The t-sne algorithm. You can loosely think of perplexity as a way of specifying the number of nearest neighbors to use. A small value for perplexity (e.g., 5) corresponds to a smaller number of nearest neighbours (paying more attention to local structure), where a larger values suggests we should use a larger number of nearest neighbours (paying more attention to the global structure). The default for R's `Rtsne` function is 30.\n",
    "\n",
    "Try running t-sne again and visualizing it twice more, once with `perplexity = 3` and once with `perplexity = 150`. Set the seed to be 2019."
   ]
  },
  {
   "cell_type": "code",
   "execution_count": null,
   "metadata": {
    "deletable": false,
    "nbgrader": {
     "cell_type": "code",
     "checksum": "a867f6bab93dcdf9cb58a68c431fd187",
     "grade": true,
     "grade_id": "cell-bc06c39cfb8b7e29",
     "locked": false,
     "points": 0,
     "schema_version": 2,
     "solution": true
    }
   },
   "outputs": [],
   "source": [
    "# your code here\n",
    "fail() # No Answer - remove if you provide an answer"
   ]
  },
  {
   "cell_type": "markdown",
   "metadata": {},
   "source": [
    "#### Question 1.4.2\n",
    "\n",
    "How do we choose perplexity (or other such values) for t-sne? Typically we try a variety of values and look at the resultant visualization and choose the one that gives the best clustering visually. \n",
    "\n",
    "For the 3 perplexities we tried, which one do you think is the best? Explain why."
   ]
  },
  {
   "cell_type": "markdown",
   "metadata": {
    "deletable": false,
    "nbgrader": {
     "cell_type": "markdown",
     "checksum": "5361f31c6bd86ea45634881fbbedeae3",
     "grade": true,
     "grade_id": "cell-1e82336e67066d1e",
     "locked": false,
     "points": 0,
     "schema_version": 2,
     "solution": true
    }
   },
   "source": [
    "YOUR ANSWER HERE"
   ]
  },
  {
   "cell_type": "markdown",
   "metadata": {},
   "source": [
    "**Question 1.5** (Optional - not graded)\n",
    "\n",
    "Now that you can visualize the cluster assignations, does this change your interpretation of the kmeans results you obtained in the tutorial? Does it weaken or strengthen your opinion that this data can be separated into two clusters?"
   ]
  },
  {
   "cell_type": "markdown",
   "metadata": {
    "deletable": false,
    "nbgrader": {
     "cell_type": "markdown",
     "checksum": "6b9635a8948248f68f59fcc19394dcba",
     "grade": true,
     "grade_id": "cell-c73dbfbe95024812",
     "locked": false,
     "points": 0,
     "schema_version": 2,
     "solution": true
    }
   },
   "source": [
    "YOUR ANSWER HERE"
   ]
  },
  {
   "cell_type": "markdown",
   "metadata": {},
   "source": [
    "**Question 1.6** (Optional - not graded)\n",
    "\n",
    "Use t-sne to visualize the pokemon data set in two dimensions, overlaying the k-means cluster assignments on the visualization.\n"
   ]
  },
  {
   "cell_type": "code",
   "execution_count": null,
   "metadata": {
    "deletable": false,
    "nbgrader": {
     "cell_type": "code",
     "checksum": "5699869185297c7f1f17a2ccb99f5ac5",
     "grade": true,
     "grade_id": "cell-c22aa5f1a82aaea6",
     "locked": false,
     "points": 0,
     "schema_version": 2,
     "solution": true
    }
   },
   "outputs": [],
   "source": [
    "# your code here\n",
    "fail() # No Answer - remove if you provide an answer"
   ]
  },
  {
   "cell_type": "markdown",
   "metadata": {},
   "source": [
    "# Getting R + Jupyter working for you outside of our course\n",
    "\n",
    "At some point after the exam, you will lose access to the JupyterHub server where you have been doing your course work. If you want to continue to use R + Jupyter (for other courses at UBC, or for your work after UBC) you have two options:\n",
    "\n",
    "1. a server solution\n",
    "2. a local installation solution\n",
    "\n",
    "We will point you to how you can do both, as well as provide [guidance to take a copy of your homework from our Canvas JupyterHub server](#Getting-your-files-off-of-the-Canvas-JupyterHub)."
   ]
  },
  {
   "cell_type": "markdown",
   "metadata": {},
   "source": [
    "## 1. a server solution\n",
    "\n",
    "- As a student at UBC, you have access to another JupyterHub that you can access using your UBC CWL: https://ubc.syzygy.ca/\n",
    "- If you have a Google account, you have access to another JupyterHub that does not depend on you being a UBC student (i.e., having a valid CWL): https://cybera.syzygy.ca/"
   ]
  },
  {
   "cell_type": "markdown",
   "metadata": {},
   "source": [
    "## 2. a local installation solution\n",
    "\n",
    "- Depending on your device, you may be able to install Jupyter and R on it. Below we provide instructions for the 3 major operating systems ([Mac](#A.-Install-Jupyter-+-R-on-Mac), [Windows](#B.-Install-Jupyter-+-R-on-Windows) and [Linux]())\n",
    "\n",
    "### A. Install Jupyter + R on Mac\n",
    "\n",
    "#### A.1. Install R\n",
    "\n",
    "Go to https://cran.r-project.org/bin/macosx/ and download the latest version of R for Mac (Should look something like this: R-3.5.1.pkg). Open the file and follow the installer instructions.\n",
    "\n",
    "#### A.2. Install Jupyter\n",
    "Head to https://www.anaconda.com/download/#macos and download the Anaconda version for Mac OS. Follow the instructions on that page to run the installer. *Anaconda is a software bundle installs Jupyter and Python and a few other tools. We recommend using it because it makes installation much simpler than other methods.*\n",
    "\n",
    "#### A.3. Install the IR kernel \n",
    "The IR kernel lets you connect R with Jupyter, to install it follow the instructions below:\n",
    "\n",
    "- Open terminal ([how to video](https://www.youtube.com/watch?v=zw7Nd67_aFw)), and type `R` to open R.\n",
    "\n",
    "- Type the following commands into R:\n",
    "\n",
    "`install.packages('IRkernel',  repos = 'http://cran.us.r-project.org')`\n",
    "\n",
    "`IRkernel::installspec()`\n",
    "\n",
    "`IRkernel::installspec(user = FALSE)`\n",
    "\n",
    "- Next, exit R by typing: `q()` (type `n` when prompted to not save the workspace)\n",
    "\n",
    "#### A.4 Test if it works:\n",
    "\n",
    "- Open terminal and type: `jupyter notebook`\n",
    "\n",
    "The above command should open a web browser, with Jupyter's home inside it. Try creating a new R notebook and running some simple R code (e.g., `print(\"hello!\")`) to test that it works.\n",
    "\n",
    "### B. Install Jupyter + R on Windows\n",
    "\n",
    "#### B.1. Install R\n",
    "\n",
    "Go to <https://cran.r-project.org/bin/windows/base/> and download the latest version of R for Windows (Should look something like this: Download R 3.5.1 for Windows). Open the file and follow the installer instructions.\n",
    "\n",
    "#### B.2. Install Jupyter\n",
    "Head to <https://www.anaconda.com/download/#windows> and download the Anaconda version for Windows with Python 3.6. After the download has finished, run the installer selecting the following options:\n",
    "  - On the **Advanced Installation Options** page, check both boxes (see image below)\n",
    "  - For all other pages, use the default options\n",
    "\n",
    "<img align=\"left\" src=\"https://github.com/UBC-MDS/UBC-MDS.github.io/raw/master/resources_pages/imgs/anaconda_windows.png\" width=\"550\">\n"
   ]
  },
  {
   "cell_type": "markdown",
   "metadata": {},
   "source": [
    "#### B.3. Install the IR kernel \n",
    "The IR kernel lets you connect R with Jupyter, to install it follow the instructions below:\n",
    "\n",
    "- Open R (double click on Desktop Icon or open it using the START menu)\n",
    "\n",
    "- Type the following commands into R:\n",
    "\n",
    "`install.packages('IRkernel',  repos = 'http://cran.us.r-project.org')`\n",
    "\n",
    "`IRkernel::installspec()`\n",
    "\n",
    "`IRkernel::installspec(user = FALSE)`\n",
    "\n",
    "- Next, exit/close R\n",
    "\n",
    "#### B.4 Test if it works:\n",
    "\n",
    "- Open Windows Command Prompt (select the Start button, type cmd, and click Command Prompt from the list) and type: `jupyter notebook`\n",
    "\n",
    "The above command should open a web browser, with Jupyter's home inside it. Try creating a new R notebook and running some simple R code (e.g., `print(\"hello!\")`) to test that it works.\n",
    "\n",
    "### C. Install Jupyter + R on Linux\n",
    "\n",
    "#### C.1. Install R\n",
    "\n",
    "Open /etc/apt/sources.list and add the following line to the end of the file (choose the correct one for your version of Ubuntu):\n",
    "  - for Ubuntu 18.04.1 (Bionic Beaver) add: `deb https://cloud.r-project.org/bin/linux/ubuntu bionic-cran35/`\n",
    "  - for Ubuntu 17.10.1 (Artful Aardvark) add: `deb https://cloud.r-project.org/bin/linux/ubuntu artful/`\n",
    "  - for Ubuntu 16.04.4 (Xenial Xerus) add: `deb https://cloud.r-project.org/bin/linux/ubuntu xenial/`\n",
    "  - for Ubuntu 14.04.5 (Trusty Tahr) add: `deb https://cloud.r-project.org/bin/linux/ubuntu trusty/`\n",
    "\n",
    "Next, add the key ID for the CRAN network:\n",
    "```\n",
    "sudo apt-key adv --keyserver keyserver.ubuntu.com --recv-keys E084DAB9\n",
    "```\n",
    "\n",
    "Then, update the repository:\n",
    "```\n",
    "sudo apt-get update\n",
    " ```\n",
    "\n",
    "Then, install the R binaries:\n",
    "```\n",
    "sudo apt-get install r-base\n",
    " ```\n",
    "\n",
    "Finally, install the r-base-dev package:\n",
    "```\n",
    "sudo apt-get install r-base-dev\n",
    "```\n",
    "\n",
    "After installation, in terminal type the following to ask for the version:\n",
    "```\n",
    "R --version\n",
    "```\n",
    "\n",
    "you should see something like this if you were successful:\n",
    "```\n",
    "R version 3.5.0 (2018-04-23) -- \"Joy in Playing\"\n",
    "Copyright (C) 2018 The R Foundation for Statistical Computing\n",
    "Platform: x86_64-apple-darwin15.6.0 (64-bit)\n",
    "\n",
    "R is free software and comes with ABSOLUTELY NO WARRANTY.\n",
    "You are welcome to redistribute it under the terms of the\n",
    "GNU General Public License versions 2 or 3.\n",
    "For more information about these matters see\n",
    "http://www.gnu.org/licenses/.\n",
    "```\n",
    "\n",
    "#### C.2. Install Jupyter\n",
    "Head to https://www.anaconda.com/download/#linux and download the Anaconda version for Linux with Python 3.6. Follow the instructions on that page to run the installer. *Anaconda is a software bundle installs Jupyter and Python and a few other tools. We recommend using it because it makes installation much simpler than other methods.*\n",
    "\n",
    "#### C.3. Install the IR kernel \n",
    "The IR kernel lets you connect R with Jupyter, to install it follow the instructions below:\n",
    "\n",
    "- Open terminal ([how to video](https://www.youtube.com/watch?v=zw7Nd67_aFw)), and type `R` to open R.\n",
    "\n",
    "- Type the following commands into R:\n",
    "\n",
    "`install.packages('IRkernel',  repos = 'http://cran.us.r-project.org')`\n",
    "\n",
    "`IRkernel::installspec()`\n",
    "\n",
    "`IRkernel::installspec(user = FALSE)`\n",
    "\n",
    "- Next, exit R by typing: `q()` (type `n` when prompted to not save the workspace)\n",
    "\n",
    "#### C.4 Test if it works:\n",
    "\n",
    "- Open terminal and type: `jupyter notebook`\n",
    "\n",
    "The above command should open a web browser, with Jupyter's home inside it. Try creating a new R notebook and running some simple R code (e.g., `print(\"hello!\")`) to test that it works."
   ]
  },
  {
   "cell_type": "markdown",
   "metadata": {},
   "source": [
    "## Getting your files off of the Canvas JupyterHub\n",
    "\n",
    "1. On the Canvas JupyterHub open a terminal and type: `tar -zcvf dsci-100.tar.gz dsci-100`\n",
    "2. Go to the JupyterHub Control Panel/Home and click the box beside the file `dsci-100.tar.gz`, and then click \"Download\"\n",
    "3. Log onto either the https://ubc.syzygy.ca/ (CWL authentication) or https://cybera.syzygy.ca/ (Google authentication) servers\n",
    "4. open a terminal and type: `tar -zxvf dsci-100.tar.gz` \n",
    "\n",
    "You should have your files now available on either of those servers above. \n",
    "\n",
    "*On Mac or Linux `tar` also works in terminal, and so you can use this strategy to have the files available locally, however you will need Jupyter installed to view them.*"
   ]
  }
 ],
 "metadata": {
  "kernelspec": {
   "display_name": "R",
   "language": "R",
   "name": "ir"
  },
  "language_info": {
   "codemirror_mode": "r",
   "file_extension": ".r",
   "mimetype": "text/x-r-source",
   "name": "R",
   "pygments_lexer": "r",
   "version": "3.5.1"
  }
 },
 "nbformat": 4,
 "nbformat_minor": 2
}
