{
 "cells": [
  {
   "cell_type": "markdown",
   "metadata": {
    "deletable": false,
    "editable": false,
    "nbgrader": {
     "cell_type": "markdown",
     "checksum": "174dab5048003daaa8552123bbacf373",
     "grade": false,
     "grade_id": "cell-83e402ae256bacca",
     "locked": true,
     "schema_version": 2,
     "solution": false
    }
   },
   "source": [
    "# Worksheet 7 - Classification (Part II)\n",
    "\n",
    "### Lecture and Tutorial Learning Goals:\n",
    "\n",
    "After completing this week's lecture and tutorial work, you will be able to:\n",
    "\n",
    "* Describe what a test data set is and how it is used in classification.\n",
    "* Using R, evaluate classification accuracy using a test data set and appropriate metrics.\n",
    "* Using R, execute cross validation in R to choose the number of neighbours.\n",
    "* Identify when it is necessary to scale variables before classification and do this using R\n",
    "* In a dataset with > 2 attributes, perform k-nearest neighbour classification in R using the `caret` package to predict the class of a test dataset.\n",
    "* Describe advantages and disadvantages of the k-nearest neighbour classification algorithm.\n",
    "\n",
    "This worksheet covers parts of [Chapter 7](https://ubc-dsci.github.io/introduction-to-datascience/classification-continued.html) of the online textbook. You should read this chapter before attempting the worksheet."
   ]
  },
  {
   "cell_type": "code",
   "execution_count": null,
   "metadata": {
    "deletable": false,
    "editable": false,
    "nbgrader": {
     "cell_type": "code",
     "checksum": "077c23251e7ea2c28c425baf062a77a0",
     "grade": false,
     "grade_id": "cell-e3518ed3d64fb67c",
     "locked": true,
     "schema_version": 2,
     "solution": false
    }
   },
   "outputs": [],
   "source": [
    "### Run this cell before continuing.\n",
    "\n",
    "library(tidyverse)\n",
    "library(testthat)\n",
    "library(digest)\n",
    "library(repr)\n",
    "library(caret)"
   ]
  },
  {
   "cell_type": "markdown",
   "metadata": {
    "deletable": false,
    "editable": false,
    "nbgrader": {
     "cell_type": "markdown",
     "checksum": "4c7ed67be937d2d011a9c7cbc0bb0682",
     "grade": false,
     "grade_id": "cell-0fb0bdb9af0312bf",
     "locked": true,
     "schema_version": 2,
     "solution": false
    }
   },
   "source": [
    "**Question 1** Multiple Choice: \n",
    "\n",
    "Before applying k-nearest neighbour to a classification task, we need to scale the data. What is the purpose of this step?\n",
    "\n",
    "A. To help improve the processing power of the knn algorithm. \n",
    "\n",
    "B. To convert all data observations to numeric values. \n",
    "\n",
    "C. To ensure all data observations will be on a comparable scale and contribute equal shares to the calculatiuon of the distance between points.\n",
    "\n",
    "D. None of the above. \n",
    "\n",
    "*Assign your answer to an object called `answer1`.*"
   ]
  },
  {
   "cell_type": "code",
   "execution_count": null,
   "metadata": {
    "deletable": false,
    "nbgrader": {
     "cell_type": "code",
     "checksum": "294dde0e32ad580e04123e3da859e13e",
     "grade": false,
     "grade_id": "cell-a501b73cef660bd5",
     "locked": false,
     "schema_version": 2,
     "solution": true
    }
   },
   "outputs": [],
   "source": [
    "# Assign your answer to an object called: answer1\n",
    "# Make sure the correct answer is an uppercase letter. \n",
    "# Surround your answer with quotation marks.\n",
    "# Replace the fail() with your answer. \n",
    "\n",
    "# your code here\n",
    "fail() # No Answer - remove if you provide an answer"
   ]
  },
  {
   "cell_type": "code",
   "execution_count": null,
   "metadata": {
    "deletable": false,
    "editable": false,
    "nbgrader": {
     "cell_type": "code",
     "checksum": "253fbdcd3822882ad2804d82053bf4cb",
     "grade": true,
     "grade_id": "cell-2c64255ed0923c6b",
     "locked": true,
     "points": 1,
     "schema_version": 2,
     "solution": false
    }
   },
   "outputs": [],
   "source": [
    "test_that('Solution is correct', {\n",
    "    expect_that(exists('answer1'), is_true())\n",
    "    expect_equal(digest(answer1), '475bf9280aab63a82af60791302736f6') # we hid the answer to the test here so you can't see it, but we can still run the test\n",
    "    \n",
    "})\n",
    "print(\"Success!\")"
   ]
  },
  {
   "cell_type": "markdown",
   "metadata": {
    "deletable": false,
    "editable": false,
    "nbgrader": {
     "cell_type": "markdown",
     "checksum": "2f4eb801b0bd1d965437567342d995ea",
     "grade": false,
     "grade_id": "cell-fc56755477cbb261",
     "locked": true,
     "schema_version": 2,
     "solution": false
    }
   },
   "source": [
    "## 1. Fruit Data Example - (Part II)\n",
    "\n",
    "Load the file, `fruit_data.csv`, into your notebook. \n",
    "\n",
    "`mutate()` the `fruit_name` column such that it is a *factor*.\n",
    "\n",
    "*Assign your data to an object called `fruit_data`.*"
   ]
  },
  {
   "cell_type": "code",
   "execution_count": null,
   "metadata": {
    "deletable": false,
    "nbgrader": {
     "cell_type": "code",
     "checksum": "291a5acd86a975f08960c0b41a55dbb1",
     "grade": false,
     "grade_id": "cell-257bbc9d90d8b32a",
     "locked": false,
     "schema_version": 2,
     "solution": true
    }
   },
   "outputs": [],
   "source": [
    "# your code here\n",
    "fail() # No Answer - remove if you provide an answer"
   ]
  },
  {
   "cell_type": "code",
   "execution_count": null,
   "metadata": {
    "deletable": false,
    "editable": false,
    "nbgrader": {
     "cell_type": "code",
     "checksum": "54c2f707e590921938aa89824b0f427e",
     "grade": true,
     "grade_id": "cell-71318577d0ae22b9",
     "locked": true,
     "points": 1,
     "schema_version": 2,
     "solution": false
    }
   },
   "outputs": [],
   "source": [
    "test_that('Solution is correct', {\n",
    "    expect_that(exists('fruit_data'), is_true())\n",
    "    expect_equal(ncol(fruit_data), 7)\n",
    "    expect_equal(nrow(fruit_data), 59)\n",
    "    is.factor(fruit_data$fruit_name)\n",
    "    # we hid the answer to the test here so you can't see it, but we can still run the test\n",
    "    })\n",
    "print(\"Success!\")"
   ]
  },
  {
   "cell_type": "markdown",
   "metadata": {
    "deletable": false,
    "editable": false,
    "nbgrader": {
     "cell_type": "markdown",
     "checksum": "31e8df1e0f887a8ee34964e93c45e818",
     "grade": false,
     "grade_id": "cell-5c01c2cd0cc285f8",
     "locked": true,
     "schema_version": 2,
     "solution": false
    }
   },
   "source": [
    "Let's take a look at the first six observations in the fruit dataset. Run the cell below."
   ]
  },
  {
   "cell_type": "code",
   "execution_count": null,
   "metadata": {
    "deletable": false,
    "editable": false,
    "nbgrader": {
     "cell_type": "code",
     "checksum": "5cf4958b9048ed412e249f66db6ffded",
     "grade": false,
     "grade_id": "cell-b6cb1a6b0890e9e9",
     "locked": true,
     "schema_version": 2,
     "solution": false
    }
   },
   "outputs": [],
   "source": [
    "# Run this cell. \n",
    "head(fruit_data)"
   ]
  },
  {
   "cell_type": "markdown",
   "metadata": {
    "deletable": false,
    "editable": false,
    "nbgrader": {
     "cell_type": "markdown",
     "checksum": "7bcf2e87d8ad7b475b45661789f7067d",
     "grade": false,
     "grade_id": "cell-e5f28e3e335b44a8",
     "locked": true,
     "schema_version": 2,
     "solution": false
    }
   },
   "source": [
    "Find the nearest neighbour based on mass and width to the first observation just by looking at the scatterplot (the first observation has been circled for you). Run the cell below."
   ]
  },
  {
   "cell_type": "code",
   "execution_count": null,
   "metadata": {
    "deletable": false,
    "editable": false,
    "nbgrader": {
     "cell_type": "code",
     "checksum": "0bbd7e7052d5f2c874ec73297bcd5f06",
     "grade": false,
     "grade_id": "cell-6ec139e3cbbfbda5",
     "locked": true,
     "schema_version": 2,
     "solution": false
    }
   },
   "outputs": [],
   "source": [
    "# Run this cell. \n",
    "options(repr.plot.width=6, repr.plot.height=4)\n",
    "point1 <- c(192, 8.4)\n",
    "point2 <- c(180, 8)\n",
    "point44 <- c(194, 7.2)\n",
    "\n",
    "fruit_data %>%  \n",
    "    ggplot(aes(x=mass, \n",
    "               y= width, \n",
    "               colour = fruit_name)) +\n",
    "        labs(x = \"Mass (grams)\",\n",
    "             y = \"Width (cm)\",\n",
    "            colour = 'Name of the Fruit') +\n",
    "        geom_point() +\n",
    "        annotate(\"path\", \n",
    "                 x=point1[1] + 5*cos(seq(0,2*pi,length.out=100)),\n",
    "                 y=point1[2] + 0.1*sin(seq(0,2*pi,length.out=100))) +\n",
    "        annotate(\"text\", x = 183, y =  8.5, label = \"1\") "
   ]
  },
  {
   "cell_type": "markdown",
   "metadata": {
    "deletable": false,
    "editable": false,
    "nbgrader": {
     "cell_type": "markdown",
     "checksum": "42ff5f16e6c3776ff982b4655b43f14f",
     "grade": false,
     "grade_id": "cell-f547ed9293fd1e24",
     "locked": true,
     "schema_version": 2,
     "solution": false
    }
   },
   "source": [
    "**Question 1.1** Based on the graph generated, what is `fruit_name` of the closest data point to the one circled?\n",
    "\n",
    "A. apple\n",
    "\n",
    "B. lemon\n",
    "\n",
    "C. mandarin \n",
    "\n",
    "D. orange\n",
    "\n",
    "*Assign your answer to an object called `answer1.1`.*"
   ]
  },
  {
   "cell_type": "code",
   "execution_count": null,
   "metadata": {
    "deletable": false,
    "nbgrader": {
     "cell_type": "code",
     "checksum": "931beee8e99325fa8ffd584d60b69b5a",
     "grade": false,
     "grade_id": "cell-d400d1783f3c27d1",
     "locked": false,
     "schema_version": 2,
     "solution": true
    }
   },
   "outputs": [],
   "source": [
    "# Assign your answer to an object called: answer1.1\n",
    "# Make sure the correct answer is an uppercase letter. \n",
    "# Surround your answer with quotation marks.\n",
    "# Replace the fail() with your answer. \n",
    "\n",
    "# your code here\n",
    "fail() # No Answer - remove if you provide an answer"
   ]
  },
  {
   "cell_type": "code",
   "execution_count": null,
   "metadata": {
    "deletable": false,
    "editable": false,
    "nbgrader": {
     "cell_type": "code",
     "checksum": "db473398ba63c3c1027f5aec6cb6b185",
     "grade": true,
     "grade_id": "cell-77e2fb5f0d68eadd",
     "locked": true,
     "points": 1,
     "schema_version": 2,
     "solution": false
    }
   },
   "outputs": [],
   "source": [
    "test_that('Solution is correct', {\n",
    "    expect_that(exists('answer1.1'), is_true())\n",
    "    expect_equal(digest(answer1.1), '75f1160e72554f4270c809f041c7a776') # we hid the answer to the test here so you can't see it, but we can still run the test\n",
    "    \n",
    "})\n",
    "print(\"Success!\")"
   ]
  },
  {
   "cell_type": "markdown",
   "metadata": {
    "deletable": false,
    "editable": false,
    "nbgrader": {
     "cell_type": "markdown",
     "checksum": "e3388e37d029d344f707319f749f4ed6",
     "grade": false,
     "grade_id": "cell-b75477de51f54fd0",
     "locked": true,
     "schema_version": 2,
     "solution": false
    }
   },
   "source": [
    "**Question 1.2**\n",
    "\n",
    "Using mass and width, calculate the distance between the first observation and the second observation. \n",
    "\n",
    "We provide a scaffolding to get you started. \n",
    "\n",
    "*Assign your answer to an object called `fruit_dist_2`.*"
   ]
  },
  {
   "cell_type": "code",
   "execution_count": null,
   "metadata": {
    "deletable": false,
    "nbgrader": {
     "cell_type": "code",
     "checksum": "6e29d23e6db5158573a9297c25605384",
     "grade": false,
     "grade_id": "cell-9f9074c18131c083",
     "locked": false,
     "schema_version": 2,
     "solution": true
    }
   },
   "outputs": [],
   "source": [
    "# ... <- fruit_data %>%\n",
    "#    ...(row_number() %in% c(..., ...)) %>%\n",
    "#    select(mass, ...) %>%\n",
    "#    dist()\n",
    "\n",
    "# your code here\n",
    "fail() # No Answer - remove if you provide an answer\n",
    "fruit_dist_2"
   ]
  },
  {
   "cell_type": "code",
   "execution_count": null,
   "metadata": {
    "deletable": false,
    "editable": false,
    "nbgrader": {
     "cell_type": "code",
     "checksum": "3b4336dc8a9cdc994429965772c531ae",
     "grade": true,
     "grade_id": "cell-482c6171cb7cc18e",
     "locked": true,
     "points": 1,
     "schema_version": 2,
     "solution": false
    }
   },
   "outputs": [],
   "source": [
    "test_that('Solution is correct', {\n",
    "    expect_that(exists('fruit_dist_2'), is_true())\n",
    "    expect_equal(digest(fruit_dist_2), 'bc63ef43e7c7349f09aca14a55e2c9c0') # we hid the answer to the test here so you can't see it, but we can still run the test\n",
    "    \n",
    "})\n",
    "print(\"Success!\")"
   ]
  },
  {
   "cell_type": "markdown",
   "metadata": {
    "deletable": false,
    "editable": false,
    "nbgrader": {
     "cell_type": "markdown",
     "checksum": "2e28bfe6dba718f481473f3584d19c80",
     "grade": false,
     "grade_id": "cell-9545195608452133",
     "locked": true,
     "schema_version": 2,
     "solution": false
    }
   },
   "source": [
    "**Question 1.3**\n",
    "\n",
    "Calculate the distance between the first and the the 44th observation in the fruit dataset using the mass and width variables. You can see from the data frame output from the cell below that, observation 44 has mass = 194 g and width = 7.2 cm.\n",
    "\n",
    "*Assign your answer to an object called `fruit_dist_44`.*"
   ]
  },
  {
   "cell_type": "code",
   "execution_count": null,
   "metadata": {
    "deletable": false,
    "editable": false,
    "nbgrader": {
     "cell_type": "code",
     "checksum": "81d941d13e68d93008063f1115105035",
     "grade": false,
     "grade_id": "cell-557e765d9213a97b",
     "locked": true,
     "schema_version": 2,
     "solution": false
    }
   },
   "outputs": [],
   "source": [
    "# Run this cell. \n",
    "filter(fruit_data, row_number() == 44)"
   ]
  },
  {
   "cell_type": "code",
   "execution_count": null,
   "metadata": {
    "deletable": false,
    "nbgrader": {
     "cell_type": "code",
     "checksum": "e2b80dfdcb2e66390853f23b9302caad",
     "grade": false,
     "grade_id": "cell-033f74d28e3cc01f",
     "locked": false,
     "schema_version": 2,
     "solution": true
    }
   },
   "outputs": [],
   "source": [
    "# your code here\n",
    "fail() # No Answer - remove if you provide an answer\n",
    "fruit_dist_44"
   ]
  },
  {
   "cell_type": "code",
   "execution_count": null,
   "metadata": {
    "deletable": false,
    "editable": false,
    "nbgrader": {
     "cell_type": "code",
     "checksum": "d29a4a7bb1a7ae777812bbf8fa1eda70",
     "grade": true,
     "grade_id": "cell-3c7393c1ea156920",
     "locked": true,
     "points": 1,
     "schema_version": 2,
     "solution": false
    }
   },
   "outputs": [],
   "source": [
    "test_that('Solution is correct', {\n",
    "    expect_that(exists('fruit_dist_44'), is_true())\n",
    "    expect_equal(digest(fruit_dist_44), 'd775055ad9a05350f4548e1dbe872297') # we hid the answer to the test here so you can't see it, but we can still run the test\n",
    "    \n",
    "})\n",
    "print(\"Success!\")"
   ]
  },
  {
   "cell_type": "code",
   "execution_count": null,
   "metadata": {
    "deletable": false,
    "editable": false,
    "nbgrader": {
     "cell_type": "code",
     "checksum": "8043ab3f4a7d293b0392dcff85c4164d",
     "grade": false,
     "grade_id": "cell-f11023e6386b3027",
     "locked": true,
     "schema_version": 2,
     "solution": false
    }
   },
   "outputs": [],
   "source": [
    "# Run this cell. \n",
    "point1 <- c(192, 8.4)\n",
    "point2 <- c(180, 8)\n",
    "point44 <- c(194, 7.2)\n",
    "\n",
    "fruit_data %>%\n",
    "    ggplot(aes(x = mass, \n",
    "               y = width, \n",
    "               colour = fruit_name)) +\n",
    "        labs(x = \"Mass (grams)\",\n",
    "             y = \"Width (cm)\",\n",
    "            colour = 'Name of the Fruit') +\n",
    "        geom_point() +\n",
    "        annotate(\"path\", \n",
    "                 x=point1[1] + 5*cos(seq(0,2*pi,length.out=100)),\n",
    "                 y=point1[2] + 0.1*sin(seq(0,2*pi,length.out=100))) +\n",
    "        annotate(\"text\", x = 183, y =  8.5, label = \"1\") +\n",
    "        annotate(\"path\",\n",
    "                 x=point2[1] + 5*cos(seq(0,2*pi,length.out=100)),\n",
    "                 y=point2[2] + 0.1*sin(seq(0,2*pi,length.out=100))) +\n",
    "        annotate(\"text\", x = 169, y =  8.1, label = \"2\") +\n",
    "        annotate(\"path\",\n",
    "                 x=point44[1] + 5*cos(seq(0,2*pi,length.out=100)),\n",
    "                 y=point44[2]+0.1*sin(seq(0,2*pi,length.out=100))) +\n",
    "        annotate(\"text\", x = 204, y =  7.1, label = \"44\") "
   ]
  },
  {
   "cell_type": "markdown",
   "metadata": {},
   "source": [
    "**Question 1.4** \n",
    "\n",
    "Discuss with the person sitting next to you. \n",
    "\n",
    "i) What do you notice about your answers from **Question 1.2/3** that you just calculated? \n",
    "\n",
    "(Hint: look at where the observations are on the scatterplot in the cell above this question)\n",
    "\n",
    "ii) Is it what you would expect? Why or why not? \n",
    "\n",
    "(Hint: what might happen if we changed grams into kilograms to measure the mass?)"
   ]
  },
  {
   "cell_type": "markdown",
   "metadata": {},
   "source": [
    "When you finish with you discussion, read the cell below:"
   ]
  },
  {
   "cell_type": "markdown",
   "metadata": {
    "deletable": false,
    "editable": false,
    "nbgrader": {
     "cell_type": "markdown",
     "checksum": "98863b1b855f5644833fc446598f384c",
     "grade": false,
     "grade_id": "cell-3acec1a314a841b2",
     "locked": true,
     "schema_version": 2,
     "solution": false
    }
   },
   "source": [
    "The distance between the first and second observation is 12.01 and the distance between the first and 44th observation is 2.33. So by the formula, observation 1 and 44 are closer. However, if we look at the scatterplot the distance of the first observation to the second observation appears closer than to the 44th observation because of the axes scales.\n",
    "\n",
    "Because the classifier predicts class by identifying the nearest points, the scale of the variables matters. Variables on a large scale compared to variables on a small scale will have a greater effect on the distance between the observations. Here we have width (measured in cm) and mass (in grams). As far as knn is concerned, a difference of 12 g in mass between observation 1 and 2 is large compared to a difference of 1.2 cm in width between observation 1 and 44. Consequently, mass will drive the classification results, and width will have less of an effect. Hence, our distance calculation reflects that. Also, if we measured mass in kilograms, or if we measured width in meters, then we’d get different classification results. Thus we can standardize the data so that all variables will be on a comparable scale. "
   ]
  },
  {
   "cell_type": "markdown",
   "metadata": {
    "deletable": false,
    "editable": false,
    "nbgrader": {
     "cell_type": "markdown",
     "checksum": "46f04ab8a79b7867929854254ae2bdd7",
     "grade": false,
     "grade_id": "cell-28a929022410e3d9",
     "locked": true,
     "schema_version": 2,
     "solution": false
    }
   },
   "source": [
    "**Question 1.5**\n",
    "\n",
    "Scale all the variables of the fruit dataset and save them as columns in your data table. \n",
    "\n",
    "Keep the dataset name as the original = `fruit_data`."
   ]
  },
  {
   "cell_type": "code",
   "execution_count": null,
   "metadata": {
    "deletable": false,
    "nbgrader": {
     "cell_type": "code",
     "checksum": "10eb95c94abfc9f946116a32a625aa8c",
     "grade": false,
     "grade_id": "cell-f5b23199250ffc04",
     "locked": false,
     "schema_version": 2,
     "solution": true
    }
   },
   "outputs": [],
   "source": [
    "# Example scaffolding: mutate(scaled_height = scale(height, center = FALSE))\n",
    "\n",
    "# your code here\n",
    "fail() # No Answer - remove if you provide an answer\n",
    "head(fruit_data)"
   ]
  },
  {
   "cell_type": "code",
   "execution_count": null,
   "metadata": {
    "deletable": false,
    "editable": false,
    "nbgrader": {
     "cell_type": "code",
     "checksum": "6562223e9d390ee765d10d457ba0b286",
     "grade": true,
     "grade_id": "cell-d47d0853560ef00b",
     "locked": true,
     "points": 1,
     "schema_version": 2,
     "solution": false
    }
   },
   "outputs": [],
   "source": [
    "test_that('Solution is correct', {\n",
    "    expect_equal(ncol(fruit_data), 11)\n",
    "    expect_equal(nrow(fruit_data), 59)\n",
    "    is.factor(fruit_data$fruit_name)\n",
    "    expect_equal(fruit_data$scaled_mass, scale(fruit_data$mass, center = FALSE))\n",
    "    expect_equal(fruit_data$scaled_height, scale(fruit_data$height, center = FALSE))\n",
    "    expect_equal(fruit_data$scaled_width, scale(fruit_data$width, center = FALSE))\n",
    "    })\n",
    "print(\"Success!\")"
   ]
  },
  {
   "cell_type": "markdown",
   "metadata": {
    "deletable": false,
    "editable": false,
    "nbgrader": {
     "cell_type": "markdown",
     "checksum": "74e04dfdea089d25be1bc2d2fe5fa427",
     "grade": false,
     "grade_id": "cell-dceb095c855aeff4",
     "locked": true,
     "schema_version": 2,
     "solution": false
    }
   },
   "source": [
    "**Question 1.6**\n",
    "\n",
    "Let's repeat **Question 1.2 and 1.3** with the scaled variables. Calculate the distance with the scaled mass and width variables between observations 1 and 2.  Calculate the distances with the scaled mass and width variables between observations 1 and 44. \n",
    "\n",
    "After you do this, think about how these distances compared to the distances you computed in **Question 1.2 and 1.3** for the same points.\n",
    "\n",
    "*Assign your answers to objects called `distance_2` and `distance_44` respectively.*"
   ]
  },
  {
   "cell_type": "code",
   "execution_count": null,
   "metadata": {
    "deletable": false,
    "nbgrader": {
     "cell_type": "code",
     "checksum": "d6c927d524dc3ab13dd4abeb5bf8c49a",
     "grade": false,
     "grade_id": "cell-e70ccce2b005a539",
     "locked": false,
     "schema_version": 2,
     "solution": true
    }
   },
   "outputs": [],
   "source": [
    "# your code here\n",
    "fail() # No Answer - remove if you provide an answer\n",
    "distance_2\n",
    "distance_44"
   ]
  },
  {
   "cell_type": "code",
   "execution_count": null,
   "metadata": {
    "deletable": false,
    "editable": false,
    "nbgrader": {
     "cell_type": "code",
     "checksum": "fa05a36ec022c10807000682f683b9e0",
     "grade": true,
     "grade_id": "cell-7c33c6c2fb375ea4",
     "locked": true,
     "points": 1,
     "schema_version": 2,
     "solution": false
    }
   },
   "outputs": [],
   "source": [
    "test_that('Solution is correct', {\n",
    "    expect_equal(digest(distance_44), 'cad4f8a209a80063e9f2b649861a4d3a')\n",
    "    expect_equal(digest(distance_2), 'f51dceda1f1fd46995f034908fedd7b8') # we hid the answer to the test here so you can't see it, but we can still run the test\n",
    "    \n",
    "})\n",
    "print(\"Success!\")"
   ]
  },
  {
   "cell_type": "code",
   "execution_count": null,
   "metadata": {},
   "outputs": [],
   "source": [
    "head(fruit_data)"
   ]
  },
  {
   "cell_type": "markdown",
   "metadata": {
    "deletable": false,
    "editable": false,
    "nbgrader": {
     "cell_type": "markdown",
     "checksum": "affbdd571e3c684296dbccb16d2d5592",
     "grade": false,
     "grade_id": "cell-0e8089ce4f710660",
     "locked": true,
     "schema_version": 2,
     "solution": false
    }
   },
   "source": [
    "### Splitting the data into a training and test set\n",
    "\n",
    "Next, we will be partitioning the data into a training (80%) and testing (20%) set using the `caret` package. We will put this test set away in a lock box and not touch it again until we have found the best k-nn classifier we can make using the training set. \n",
    "\n",
    "\n",
    "**Question 2.0**\n",
    "\n",
    "To do this we first use the `createDataPartition` function to get the row numbers of the data we should include in our training set. This function uses a random process, so to ensure replicable results we need to set a seed using `set.seed` to tell the random number generator where we'd like to start from. Name the object you create `training_rows`."
   ]
  },
  {
   "cell_type": "code",
   "execution_count": null,
   "metadata": {
    "deletable": false,
    "nbgrader": {
     "cell_type": "code",
     "checksum": "32542839886fcc399dd828c6a68605f6",
     "grade": false,
     "grade_id": "cell-c262636f2b9777e3",
     "locked": false,
     "schema_version": 2,
     "solution": true
    }
   },
   "outputs": [],
   "source": [
    "# your code here\n",
    "fail() # No Answer - remove if you provide an answer"
   ]
  },
  {
   "cell_type": "code",
   "execution_count": null,
   "metadata": {
    "deletable": false,
    "editable": false,
    "nbgrader": {
     "cell_type": "code",
     "checksum": "636ac77a071cbde44499282b0617a552",
     "grade": true,
     "grade_id": "cell-7432078031e563b8",
     "locked": true,
     "points": 1,
     "schema_version": 2,
     "solution": false
    }
   },
   "outputs": [],
   "source": [
    "test_that('Solution is correct', {    \n",
    "    expect_equal(length(training_rows), 46)\n",
    "    expect_equal(ncol(training_rows), 1)\n",
    "    expect_equal(training_rows[[1]], 2)\n",
    "    expect_equal(training_rows[[6]], 10)\n",
    "})\n",
    "print(\"Success!\")"
   ]
  },
  {
   "cell_type": "markdown",
   "metadata": {
    "deletable": false,
    "editable": false,
    "nbgrader": {
     "cell_type": "markdown",
     "checksum": "e9b782bf07982fc2cc9f82803cdd4c08",
     "grade": false,
     "grade_id": "cell-2305ba4c6c6c5c84",
     "locked": true,
     "schema_version": 2,
     "solution": false
    }
   },
   "source": [
    "**Question 2.1** \n",
    "\n",
    "Next we use the `slice` function to get the rows from the original data frame that match the ones we have in `training_rows`. \n",
    "\n"
   ]
  },
  {
   "cell_type": "code",
   "execution_count": null,
   "metadata": {
    "deletable": false,
    "nbgrader": {
     "cell_type": "code",
     "checksum": "9154c095e9a1b34b00b2b9b910d69fb0",
     "grade": false,
     "grade_id": "cell-3987d5f3db445447",
     "locked": false,
     "schema_version": 2,
     "solution": true
    }
   },
   "outputs": [],
   "source": [
    "#... <- fruit_data %>% slice(training_rows)\n",
    "#... <- ... %>% ...(-training_rows)\n",
    "\n",
    "# your code here\n",
    "fail() # No Answer - remove if you provide an answer\n",
    "head(training_set)\n",
    "head(testing_set)"
   ]
  },
  {
   "cell_type": "code",
   "execution_count": null,
   "metadata": {
    "deletable": false,
    "editable": false,
    "nbgrader": {
     "cell_type": "code",
     "checksum": "bc03eaeb62ebb152608377f790f2525b",
     "grade": true,
     "grade_id": "cell-958fc3b2943ac994",
     "locked": true,
     "points": 1,
     "schema_version": 2,
     "solution": false
    }
   },
   "outputs": [],
   "source": [
    "test_that('Solution is correct', {    \n",
    "    expect_equal(nrow(training_set), 46)\n",
    "    expect_equal(ncol(training_set), 11)\n",
    "    expect_equal(nrow(testing_set), 13)\n",
    "    expect_equal(ncol(testing_set), 11)\n",
    "    expect_equal(digest(as.numeric(sum(training_set$mass))), '780fcfd10e7a85df9a2ca6e886987e90')\n",
    "    expect_equal(digest(as.numeric(sum(testing_set$mass))), '40ee6db9c87fb3d51839442566c149d5')\n",
    "})\n",
    "print(\"Success!\")"
   ]
  },
  {
   "cell_type": "markdown",
   "metadata": {
    "deletable": false,
    "editable": false,
    "nbgrader": {
     "cell_type": "markdown",
     "checksum": "d4c3d2bfe2898f4cf721ffdab3657517",
     "grade": false,
     "grade_id": "cell-6693330a0f077083",
     "locked": true,
     "schema_version": 2,
     "solution": false
    }
   },
   "source": [
    "### Using cross-validation to choose k\n",
    "\n",
    "Let's start with a simple classifier, one that uses only `scaled_color_score` and `scaled_mass` as predictors. `fruit_name` should be the class label. As we build this simple classifier from the training set, let's use cross-validation to choose the best $k$.\n",
    "\n",
    "**Question 2.2**\n",
    "\n",
    "We now need to take our training data and specify what columns are going to be the predictors and which are going to the class labels. Name the predictors `X_simple` and the class labels `Y_fruit`."
   ]
  },
  {
   "cell_type": "code",
   "execution_count": null,
   "metadata": {
    "deletable": false,
    "nbgrader": {
     "cell_type": "code",
     "checksum": "52a49cefe82820ad89f321991792bbb0",
     "grade": false,
     "grade_id": "cell-00b2a6b0ba7df6c4",
     "locked": false,
     "schema_version": 2,
     "solution": true
    }
   },
   "outputs": [],
   "source": [
    "# your code here\n",
    "fail() # No Answer - remove if you provide an answer"
   ]
  },
  {
   "cell_type": "code",
   "execution_count": null,
   "metadata": {
    "deletable": false,
    "editable": false,
    "nbgrader": {
     "cell_type": "code",
     "checksum": "a0e33e8961856ef679ba944e9ce03783",
     "grade": true,
     "grade_id": "cell-b8ce3699299555d5",
     "locked": true,
     "points": 1,
     "schema_version": 2,
     "solution": false
    }
   },
   "outputs": [],
   "source": [
    "test_that('Solution is incorrect', {\n",
    "    expect_equal(ncol(X_simple), 2)\n",
    "    expect_equal(nrow(X_simple), 46)\n",
    "    expect_equal('tbl' %in% class(X_simple), FALSE)\n",
    "    expect_equal(length(Y_fruit), 46)\n",
    "    })\n",
    "print(\"Success!\")"
   ]
  },
  {
   "cell_type": "markdown",
   "metadata": {},
   "source": [
    "**Question 2.3**\n",
    "\n",
    "Next, we need to create a data frame, named `ks`, that contains a single column, named `k`, that holds the k-values we'd like to try out. Let's try the values 1, 3, 5, 7, 9 and 11. \n",
    "\n",
    "*Hint - the `c` function is useful for creating vectors, which are what data frame columns are.*"
   ]
  },
  {
   "cell_type": "code",
   "execution_count": null,
   "metadata": {
    "deletable": false,
    "nbgrader": {
     "cell_type": "code",
     "checksum": "52be5431b7c3353dfe033d065b956dcc",
     "grade": false,
     "grade_id": "cell-29a65e0d69fd64d3",
     "locked": false,
     "schema_version": 2,
     "solution": true
    }
   },
   "outputs": [],
   "source": [
    "# your code here\n",
    "fail() # No Answer - remove if you provide an answer"
   ]
  },
  {
   "cell_type": "code",
   "execution_count": null,
   "metadata": {
    "deletable": false,
    "editable": false,
    "nbgrader": {
     "cell_type": "code",
     "checksum": "a518ba1837775e9242fea53d490efa5c",
     "grade": true,
     "grade_id": "cell-144f33352d2b6add",
     "locked": true,
     "points": 1,
     "schema_version": 2,
     "solution": false
    }
   },
   "outputs": [],
   "source": [
    "test_that('Solution is correct', {  \n",
    "    expect_equal(class(ks), 'data.frame')\n",
    "    expect_equal(as.numeric(sum(ks)), 36)\n",
    "})\n",
    "print(\"Success!\")"
   ]
  },
  {
   "cell_type": "markdown",
   "metadata": {
    "deletable": false,
    "editable": false,
    "nbgrader": {
     "cell_type": "markdown",
     "checksum": "521f4e2e1a0f0d794a6b5d3f517049b4",
     "grade": false,
     "grade_id": "cell-baa81bf7577a344f",
     "locked": true,
     "schema_version": 2,
     "solution": false
    }
   },
   "source": [
    "**Question 2.4**\n",
    "\n",
    "Next we use the `trainControl` function. This function passes additional information to the `train` function we use to create our classifier. Here we would like to set the arguments to `method=\"cv\"` (for cross-validation) and `number = 10` (for 10-fold cross validation). Name this object `train_control`."
   ]
  },
  {
   "cell_type": "code",
   "execution_count": null,
   "metadata": {
    "deletable": false,
    "nbgrader": {
     "cell_type": "code",
     "checksum": "865dfb3e7b17f2d680d45ed74286f5d8",
     "grade": false,
     "grade_id": "cell-4ac19dfcaec7e27c",
     "locked": false,
     "schema_version": 2,
     "solution": true
    }
   },
   "outputs": [],
   "source": [
    "#... <- trainControl(method = ..., ... = 10)\n",
    "# your code here\n",
    "fail() # No Answer - remove if you provide an answer"
   ]
  },
  {
   "cell_type": "code",
   "execution_count": null,
   "metadata": {
    "deletable": false,
    "editable": false,
    "nbgrader": {
     "cell_type": "code",
     "checksum": "582b1be2acda6b462907f075d9a1dcd7",
     "grade": true,
     "grade_id": "cell-a268da3370127d6c",
     "locked": true,
     "points": 1,
     "schema_version": 2,
     "solution": false
    }
   },
   "outputs": [],
   "source": [
    "test_that('Solution is correct', {    \n",
    "    expect_equal(train_control$method, 'cv')\n",
    "    expect_equal(train_control$number, 10)\n",
    "})\n",
    "print(\"Success!\")"
   ]
  },
  {
   "cell_type": "markdown",
   "metadata": {
    "deletable": false,
    "editable": false,
    "nbgrader": {
     "cell_type": "markdown",
     "checksum": "020b125cf88debdc725c9eaf19192d67",
     "grade": false,
     "grade_id": "cell-67a957c51db2a297",
     "locked": true,
     "schema_version": 2,
     "solution": false
    }
   },
   "source": [
    "**Question 2.5**\n",
    "\n",
    "Now we create out classifier as we did last week, but to do cross-validation as well (so we can assess classifier accruacy based on each $k$) we supply an additional argument to the `train` function, `trControl`. For that argument we pass it the name of the object we created using the `trainControl` function. Name the classifier `choose_k`."
   ]
  },
  {
   "cell_type": "code",
   "execution_count": null,
   "metadata": {
    "deletable": false,
    "nbgrader": {
     "cell_type": "code",
     "checksum": "5ebb595c77b6982dbde7b3d743350e5c",
     "grade": false,
     "grade_id": "cell-f0716222fa3e3c93",
     "locked": false,
     "schema_version": 2,
     "solution": true
    }
   },
   "outputs": [],
   "source": [
    "# your code here\n",
    "fail() # No Answer - remove if you provide an answer\n",
    "choose_k"
   ]
  },
  {
   "cell_type": "code",
   "execution_count": null,
   "metadata": {
    "deletable": false,
    "editable": false,
    "nbgrader": {
     "cell_type": "code",
     "checksum": "08ffe1a3e98ffafe6cc9c9d8a01e8806",
     "grade": true,
     "grade_id": "cell-d3d5c46250e8450a",
     "locked": true,
     "points": 1,
     "schema_version": 2,
     "solution": false
    }
   },
   "outputs": [],
   "source": [
    "test_that('Solution is incorrect', {\n",
    "    expect_equal(as.numeric(sum(choose_k$results$k)), 36)\n",
    "    expect_equal(as.character(choose_k$method), 'knn')\n",
    "    expect_equal(digest(as.numeric(sum(choose_k$trainingData$scaled_color_score))), 'd4a992d81f2c87c3520bc1081fdc1847')\n",
    "    expect_equal(digest(as.numeric(sum(choose_k$trainingData$scaled_mass))), '4122c056ad806ff52876aeeff27265a4')\n",
    "    expect_equal(as.numeric(summary(choose_k$trainingData$.outcome)[1]), 15)\n",
    "    expect_equal(choose_k$control$method, 'cv')\n",
    "    expect_equal(choose_k$control$number, 10)\n",
    "})\n",
    "print(\"Success!\")"
   ]
  },
  {
   "cell_type": "markdown",
   "metadata": {},
   "source": [
    "Then to help us choose $k$ it is very useful to visualize the accuracies as we increase $k$. This will help us choose the smallest $k$ with the biggest accuracy. To do this, create a line and point plot of accuracy (y-axis) versus $k$ (x-axis). We can get these values from the `results` attribute of the classifier object using the `$` operator. We demonstrate this in the cell below:"
   ]
  },
  {
   "cell_type": "code",
   "execution_count": null,
   "metadata": {},
   "outputs": [],
   "source": [
    "# run this cell\n",
    "k_accuracies <- choose_k$results\n",
    "k_accuracies "
   ]
  },
  {
   "cell_type": "markdown",
   "metadata": {
    "deletable": false,
    "editable": false,
    "nbgrader": {
     "cell_type": "markdown",
     "checksum": "dde7bb4eaf5f2849f50a0caef6ec84c8",
     "grade": false,
     "grade_id": "cell-0063191266f982c7",
     "locked": true,
     "schema_version": 2,
     "solution": false
    }
   },
   "source": [
    "**Question 2.6**\n",
    "\n",
    "Now that we have the accuracy and $k$ values in a data frame, create a line and point plot of accuracy (y-axis) versus $k$ (x-axis). Remember to do all the things for making your visualization effective. Name your plot object `choose_k_plot`."
   ]
  },
  {
   "cell_type": "code",
   "execution_count": null,
   "metadata": {
    "deletable": false,
    "nbgrader": {
     "cell_type": "code",
     "checksum": "ba3f9bfbc0366811280c7a94a2713d1c",
     "grade": false,
     "grade_id": "cell-40206dc81c114f74",
     "locked": false,
     "schema_version": 2,
     "solution": true
    }
   },
   "outputs": [],
   "source": [
    "# your code here\n",
    "fail() # No Answer - remove if you provide an answer\n",
    "choose_k_plot"
   ]
  },
  {
   "cell_type": "code",
   "execution_count": null,
   "metadata": {
    "deletable": false,
    "editable": false,
    "nbgrader": {
     "cell_type": "code",
     "checksum": "4e61dbb95bb2d682a8547dfdb0b663b4",
     "grade": true,
     "grade_id": "cell-4f7b62f0f7b0a200",
     "locked": true,
     "points": 1,
     "schema_version": 2,
     "solution": false
    }
   },
   "outputs": [],
   "source": [
    "test_that('Solution is incorrect', {\n",
    "    expect_equal(as.character(rlang::get_expr(choose_k_plot$mapping$x)) , 'k')\n",
    "    expect_equal(as.character(rlang::get_expr(choose_k_plot$mapping$y)) , 'Accuracy')\n",
    "    expect_that('GeomPoint' %in% c(class(rlang::get_expr(choose_k_plot$layers[[1]]$geom)), class(rlang::get_expr(choose_k_plot$layers[[2]]$geom))), is_true())\n",
    "    expect_that('GeomLine' %in% c(class(rlang::get_expr(choose_k_plot$layers[[1]]$geom)), class(rlang::get_expr(choose_k_plot$layers[[2]]$geom))), is_true())\n",
    "    })\n",
    "print(\"Success!\")"
   ]
  },
  {
   "cell_type": "markdown",
   "metadata": {
    "deletable": false,
    "editable": false,
    "nbgrader": {
     "cell_type": "markdown",
     "checksum": "f1ec78e7058b3dc2bda1d51bc170e31a",
     "grade": false,
     "grade_id": "cell-068da1c1156e503a",
     "locked": true,
     "schema_version": 2,
     "solution": false
    }
   },
   "source": [
    "**Question 2.7**\n",
    "\n",
    "From the plot of accuracy versus $k$ you created above, which $k$ should we choose? \n",
    "\n",
    "Assign the value of $k$ we should choose to a variable named `answer2.7` "
   ]
  },
  {
   "cell_type": "code",
   "execution_count": null,
   "metadata": {
    "deletable": false,
    "nbgrader": {
     "cell_type": "code",
     "checksum": "33dfe86554651e9dde6e2a532b6cd2a1",
     "grade": false,
     "grade_id": "cell-0474eb947592495c",
     "locked": false,
     "schema_version": 2,
     "solution": true
    }
   },
   "outputs": [],
   "source": [
    "# Assign your answer to an object called: answer2.7\n",
    "# your code here\n",
    "fail() # No Answer - remove if you provide an answer\n",
    "answer2.7"
   ]
  },
  {
   "cell_type": "code",
   "execution_count": null,
   "metadata": {
    "deletable": false,
    "editable": false,
    "nbgrader": {
     "cell_type": "code",
     "checksum": "0af812196b448aa29e5fdf3b97215ac6",
     "grade": true,
     "grade_id": "cell-099fb002dba6ced0",
     "locked": true,
     "points": 1,
     "schema_version": 2,
     "solution": false
    }
   },
   "outputs": [],
   "source": [
    "test_that('Solution is correct', {    \n",
    "    expect_equal(digest(answer2.7), '5e338704a8e069ebd8b38ca71991cf94') # we hid the answer to the test here so you can't see it, but we can still run the test\n",
    "})\n",
    "print(\"Success!\")"
   ]
  },
  {
   "cell_type": "markdown",
   "metadata": {
    "deletable": false,
    "editable": false,
    "nbgrader": {
     "cell_type": "markdown",
     "checksum": "8d4c96fe39e7c1de82f5b20636b82b0e",
     "grade": false,
     "grade_id": "cell-2f00c5f7db3c9aa9",
     "locked": true,
     "schema_version": 2,
     "solution": false
    }
   },
   "source": [
    "**Question 2.8**\n",
    "\n",
    "What is the cross-validation accuracy for the optimal $k$? \n",
    "\n",
    "Assign the value of the cross-validation accuracy for the optimal $k$ to a variable named `answer2.8`"
   ]
  },
  {
   "cell_type": "code",
   "execution_count": null,
   "metadata": {
    "deletable": false,
    "nbgrader": {
     "cell_type": "code",
     "checksum": "4393d991a5901820528eb14b3cf9840c",
     "grade": false,
     "grade_id": "cell-0b7b2c5bb4cc3347",
     "locked": false,
     "schema_version": 2,
     "solution": true
    }
   },
   "outputs": [],
   "source": [
    "# Assign your answer to an object called: answer2.8\n",
    "# your code here\n",
    "fail() # No Answer - remove if you provide an answer\n",
    "answer2.8"
   ]
  },
  {
   "cell_type": "code",
   "execution_count": null,
   "metadata": {
    "deletable": false,
    "editable": false,
    "nbgrader": {
     "cell_type": "code",
     "checksum": "8118e397dbdaefe30068a35c5db6eed1",
     "grade": true,
     "grade_id": "cell-079d5a561f9acbe2",
     "locked": true,
     "points": 1,
     "schema_version": 2,
     "solution": false
    }
   },
   "outputs": [],
   "source": [
    "test_that('Solution is correct', {    \n",
    "    expect_equal(digest(round(answer2.8,2)), '17510f1c35f73387c74b7373df4322dd') # we hid the answer to the test here so you can't see it, but we can still run the test\n",
    "})\n",
    "print(\"Success!\")"
   ]
  },
  {
   "cell_type": "markdown",
   "metadata": {
    "deletable": false,
    "editable": false,
    "nbgrader": {
     "cell_type": "markdown",
     "checksum": "9c1c6e12978d1f075cd88f0972df83a5",
     "grade": false,
     "grade_id": "cell-b65f60bbbc0a4884",
     "locked": true,
     "schema_version": 2,
     "solution": false
    }
   },
   "source": [
    "### Training error as a diagnostic tool\n",
    "\n",
    "Is this the best we can do with our classifier? Maybe, or maybe not. To get a hint we can use the training error as a diagnostic to tell us if we are underfitting and could afford to make our model more complex, say by including additional predictors.\n",
    "\n",
    "**Question 3.0**\n",
    "\n",
    "Create another simple classifier object (same columns as the classifier above) using the `train` function that does not use cross-validation, and only a single $k$ value of 5. Name it `simple`."
   ]
  },
  {
   "cell_type": "code",
   "execution_count": null,
   "metadata": {
    "deletable": false,
    "nbgrader": {
     "cell_type": "code",
     "checksum": "c79418b880afa363ba14d63af07bda5d",
     "grade": false,
     "grade_id": "cell-2d0448675438bdec",
     "locked": false,
     "schema_version": 2,
     "solution": true
    }
   },
   "outputs": [],
   "source": [
    "# your code here\n",
    "fail() # No Answer - remove if you provide an answer\n",
    "simple"
   ]
  },
  {
   "cell_type": "code",
   "execution_count": null,
   "metadata": {
    "deletable": false,
    "editable": false,
    "nbgrader": {
     "cell_type": "code",
     "checksum": "6136cd8d2fcada987dadba5e2491b5e5",
     "grade": true,
     "grade_id": "cell-381d21c4c1474e80",
     "locked": true,
     "points": 1,
     "schema_version": 2,
     "solution": false
    }
   },
   "outputs": [],
   "source": [
    "test_that('Solution is incorrect', {\n",
    "    expect_equal(as.numeric(sum(simple$results$k)), 5)\n",
    "    expect_equal(as.character(simple$method), 'knn')\n",
    "    expect_equal(digest(as.numeric(sum(simple$trainingData$scaled_color_score))), 'd4a992d81f2c87c3520bc1081fdc1847')\n",
    "    expect_equal(digest(as.numeric(sum(simple$trainingData$scaled_mass))), '4122c056ad806ff52876aeeff27265a4')\n",
    "    expect_equal(as.numeric(summary(simple$trainingData$.outcome)[1]), 15)\n",
    "    expect_equal(simple$control$method, 'boot')\n",
    "    expect_equal(simple$control$number, 25)\n",
    "})\n",
    "print(\"Success!\")"
   ]
  },
  {
   "cell_type": "markdown",
   "metadata": {},
   "source": [
    "**Question 3.1**\n",
    "\n",
    "Use the `simple` classifier to predict labels for all the observations in the training set (`X_simple`). Name the predictions `training_pred`."
   ]
  },
  {
   "cell_type": "code",
   "execution_count": null,
   "metadata": {
    "deletable": false,
    "nbgrader": {
     "cell_type": "code",
     "checksum": "adbaa69520d29675ec0efad6e256916c",
     "grade": false,
     "grade_id": "cell-acd9fd307b13e949",
     "locked": false,
     "schema_version": 2,
     "solution": true
    }
   },
   "outputs": [],
   "source": [
    "# ... <- predict(..., ...)\n",
    "# your code here\n",
    "fail() # No Answer - remove if you provide an answer\n",
    "head(training_pred)"
   ]
  },
  {
   "cell_type": "code",
   "execution_count": null,
   "metadata": {
    "deletable": false,
    "editable": false,
    "nbgrader": {
     "cell_type": "code",
     "checksum": "307a2e6c3b4594994138caa0d9792663",
     "grade": true,
     "grade_id": "cell-1fac8a8feb7592a1",
     "locked": true,
     "points": 1,
     "schema_version": 2,
     "solution": false
    }
   },
   "outputs": [],
   "source": [
    "test_that('Solution is incorrect', {\n",
    "    expect_equal(digest(training_pred[[3]]), 'adfa686261ea3a029642fa67061e5c9e')\n",
    "    expect_equal(digest(training_pred[[13]]), 'fcf08c48c130faf6d8d4d1be17652bdc')\n",
    "    expect_equal(digest(training_pred[[33]]), 'c0296ed3f5d9be91a19ac7dee3646bf8')\n",
    "    expect_equal(digest(training_pred[[43]]), '695bf97a2b93771aa4a8f365f9f58019')\n",
    "})\n",
    "print(\"Success!\")"
   ]
  },
  {
   "cell_type": "markdown",
   "metadata": {},
   "source": [
    "**Question 3.2**\n",
    "\n",
    "Use the `confusionMatrix` function to obtain the training accuracy. The `confusionMatrix` function takes two arguments, the predictions and the true class labels.\n",
    "\n",
    "Name the object output `training_results`."
   ]
  },
  {
   "cell_type": "code",
   "execution_count": null,
   "metadata": {
    "deletable": false,
    "nbgrader": {
     "cell_type": "code",
     "checksum": "00ee6f7d1ca60789eaa8162dc1965eab",
     "grade": false,
     "grade_id": "cell-68a4b55aaf3f2568",
     "locked": false,
     "schema_version": 2,
     "solution": true
    }
   },
   "outputs": [],
   "source": [
    "#... <- confusionMatrix(..., Y_fruit)\n",
    "# your code here\n",
    "fail() # No Answer - remove if you provide an answer\n",
    "training_results"
   ]
  },
  {
   "cell_type": "code",
   "execution_count": null,
   "metadata": {
    "deletable": false,
    "editable": false,
    "nbgrader": {
     "cell_type": "code",
     "checksum": "b476e6750d2064f7f5aca792c7b6d4c1",
     "grade": true,
     "grade_id": "cell-f93bb805b3db7adf",
     "locked": true,
     "points": 1,
     "schema_version": 2,
     "solution": false
    }
   },
   "outputs": [],
   "source": [
    "test_that('Solution is incorrect', {\n",
    "    expect_equal(digest(training_results$overall[[1]]), '1e0c224d5f648628e2da25564cae63aa')\n",
    "})\n",
    "print(\"Success!\")"
   ]
  },
  {
   "cell_type": "markdown",
   "metadata": {
    "deletable": false,
    "editable": false,
    "nbgrader": {
     "cell_type": "markdown",
     "checksum": "a0105a1691db31b4f505ababe4dc1831",
     "grade": false,
     "grade_id": "cell-6de85d43b20830bc",
     "locked": true,
     "schema_version": 2,
     "solution": false
    }
   },
   "source": [
    "**Question 3.3**\n",
    "\n",
    "From the output of the `confusionMatrix` function what is the training accuracy? Give the answer to at least 3 decimal places.\n",
    "\n",
    "Assign the value of the training accuracy to a variable named answer3.2"
   ]
  },
  {
   "cell_type": "code",
   "execution_count": null,
   "metadata": {
    "deletable": false,
    "nbgrader": {
     "cell_type": "code",
     "checksum": "a3ebe5f830f58d163e42f1fa6a57ce3f",
     "grade": false,
     "grade_id": "cell-ca0ee9f74fbef099",
     "locked": false,
     "schema_version": 2,
     "solution": true
    }
   },
   "outputs": [],
   "source": [
    "# Assign your answer to an object called: answer3.2\n",
    "# your code here\n",
    "fail() # No Answer - remove if you provide an answer\n",
    "answer3.2"
   ]
  },
  {
   "cell_type": "code",
   "execution_count": null,
   "metadata": {
    "deletable": false,
    "editable": false,
    "nbgrader": {
     "cell_type": "code",
     "checksum": "8f5f00ca5645b8fe215bbf9c730699cd",
     "grade": true,
     "grade_id": "cell-8741c026e8bb6a0b",
     "locked": true,
     "points": 1,
     "schema_version": 2,
     "solution": false
    }
   },
   "outputs": [],
   "source": [
    "test_that('Solution is incorrect', {\n",
    "    expect_equal(digest(round(answer3.2,3)), '96a101c78f1ea0e9c036b5b36a7fc3ed')\n",
    "})\n",
    "print(\"Success!\")"
   ]
  },
  {
   "cell_type": "markdown",
   "metadata": {
    "deletable": false,
    "editable": false,
    "nbgrader": {
     "cell_type": "markdown",
     "checksum": "6b09efb7be39240a92fcc4b6249c9136",
     "grade": false,
     "grade_id": "cell-b997a6c861014fac",
     "locked": true,
     "schema_version": 2,
     "solution": false
    }
   },
   "source": [
    "### Improving the classifier beyond changing k\n",
    "\n",
    "As long as the training accuracy is not 1 (or very close to it) we may be able to further improve the classifier by adding predictors. This is not a guarantee, but something worth trying. When we do this, we also need to re-choose $k$ again, as the optimal $k$ may change with a different number of predictors.\n",
    "\n",
    "**Question 4.0**\n",
    "\n",
    "Create a new classifer called `complex` that uses `scaled_mass`, `scaled_width`, `scaled_height` and `scaled_color_score` as predictors. Again, try the values 1, 3, 5, 7, 9 and 11 for $k$ and use 10-fold cross validation."
   ]
  },
  {
   "cell_type": "code",
   "execution_count": null,
   "metadata": {
    "deletable": false,
    "nbgrader": {
     "cell_type": "code",
     "checksum": "30b6ec32749264601785133d513a88af",
     "grade": false,
     "grade_id": "cell-c43fb6f0b753c648",
     "locked": false,
     "schema_version": 2,
     "solution": true
    }
   },
   "outputs": [],
   "source": [
    "# your code here\n",
    "fail() # No Answer - remove if you provide an answer\n",
    "complex"
   ]
  },
  {
   "cell_type": "code",
   "execution_count": null,
   "metadata": {
    "deletable": false,
    "editable": false,
    "nbgrader": {
     "cell_type": "code",
     "checksum": "19d4fd6e8cee87f5d3da0daee4893ce2",
     "grade": true,
     "grade_id": "cell-d0eacb351837a618",
     "locked": true,
     "points": 1,
     "schema_version": 2,
     "solution": false
    }
   },
   "outputs": [],
   "source": [
    "test_that('Solution is incorrect', {\n",
    "    expect_equal(as.numeric(sum(complex$results$k)), 36)\n",
    "    expect_equal(as.character(complex$method), 'knn')\n",
    "    expect_equal(digest(as.numeric(sum(complex$trainingData$scaled_color_score))), 'd4a992d81f2c87c3520bc1081fdc1847')\n",
    "    expect_equal(digest(as.numeric(sum(complex$trainingData$scaled_mass))), '4122c056ad806ff52876aeeff27265a4')\n",
    "    expect_equal(as.numeric(summary(complex$trainingData$.outcome)[1]), 15)\n",
    "    expect_equal(complex$control$method, 'cv')\n",
    "    expect_equal(complex$control$number, 10)\n",
    "})\n",
    "print(\"Success!\")"
   ]
  },
  {
   "cell_type": "markdown",
   "metadata": {
    "deletable": false,
    "editable": false,
    "nbgrader": {
     "cell_type": "markdown",
     "checksum": "e8f67c8dcbcf7665a251734492c641b3",
     "grade": false,
     "grade_id": "cell-417f037bd20b76b8",
     "locked": true,
     "schema_version": 2,
     "solution": false
    }
   },
   "source": [
    "**Question 4.1**\n",
    "\n",
    "Get the accuracy and  $k$  values from the classifier and create a line and point plot of accuracy (y-axis) versus  kk  (x-axis). Remember to do all the things for making your visualization effective. Name your plot object `choose_k_again_plot`."
   ]
  },
  {
   "cell_type": "code",
   "execution_count": null,
   "metadata": {
    "deletable": false,
    "nbgrader": {
     "cell_type": "code",
     "checksum": "dfad38b547ba145e82517ac81c7de588",
     "grade": false,
     "grade_id": "cell-5d018308620e04d3",
     "locked": false,
     "schema_version": 2,
     "solution": true
    }
   },
   "outputs": [],
   "source": [
    "# your code here\n",
    "fail() # No Answer - remove if you provide an answer\n",
    "choose_k_again_plot"
   ]
  },
  {
   "cell_type": "code",
   "execution_count": null,
   "metadata": {
    "deletable": false,
    "editable": false,
    "nbgrader": {
     "cell_type": "code",
     "checksum": "71b5e9edd72d8799795d94639efdad7a",
     "grade": true,
     "grade_id": "cell-1149640f30ad14e2",
     "locked": true,
     "points": 1,
     "schema_version": 2,
     "solution": false
    }
   },
   "outputs": [],
   "source": [
    "test_that('Solution is incorrect', {\n",
    "    expect_equal(as.character(rlang::get_expr(choose_k_again_plot$mapping$x)) , 'k')\n",
    "    expect_equal(as.character(rlang::get_expr(choose_k_again_plot$mapping$y)) , 'Accuracy')\n",
    "    expect_that('GeomPoint' %in% c(class(rlang::get_expr(choose_k_again_plot$layers[[1]]$geom)), class(rlang::get_expr(choose_k_plot$layers[[2]]$geom))), is_true())\n",
    "    expect_that('GeomLine' %in% c(class(rlang::get_expr(choose_k_again_plot$layers[[1]]$geom)), class(rlang::get_expr(choose_k_plot$layers[[2]]$geom))), is_true())\n",
    "    })\n",
    "print(\"Success!\")"
   ]
  },
  {
   "cell_type": "markdown",
   "metadata": {
    "deletable": false,
    "editable": false,
    "nbgrader": {
     "cell_type": "markdown",
     "checksum": "dd8ba84982967da224641423d1d2b78e",
     "grade": false,
     "grade_id": "cell-39c5f6b9189d921c",
     "locked": true,
     "schema_version": 2,
     "solution": false
    }
   },
   "source": [
    "**Question 4.2**\n",
    "\n",
    "From the plot of accuracy versus $k$ you created above, which $k$ should we choose for this more complex classifier?\n",
    "\n",
    "Assign the value of  kk  we should choose to a variable named answer4.2"
   ]
  },
  {
   "cell_type": "code",
   "execution_count": null,
   "metadata": {
    "deletable": false,
    "nbgrader": {
     "cell_type": "code",
     "checksum": "b6d66bd8d19d6dd55667897dd23ec4f8",
     "grade": false,
     "grade_id": "cell-ca352e1cd96c3bce",
     "locked": false,
     "schema_version": 2,
     "solution": true
    }
   },
   "outputs": [],
   "source": [
    "# Assign your answer to an object called: answer4.2\n",
    "# your code here\n",
    "fail() # No Answer - remove if you provide an answer\n",
    "answer4.2"
   ]
  },
  {
   "cell_type": "code",
   "execution_count": null,
   "metadata": {
    "deletable": false,
    "editable": false,
    "nbgrader": {
     "cell_type": "code",
     "checksum": "1195c1d5156176bc0494ad06dc9352fe",
     "grade": true,
     "grade_id": "cell-c7e86bd9e4525b85",
     "locked": true,
     "points": 1,
     "schema_version": 2,
     "solution": false
    }
   },
   "outputs": [],
   "source": [
    "test_that('Solution is incorrect', {\n",
    "    expect_equal(digest(answer4.2), 'e5b57f323c7b3719bbaaf9f96b260d39')\n",
    "})\n",
    "print(\"Success!\")"
   ]
  },
  {
   "cell_type": "markdown",
   "metadata": {
    "deletable": false,
    "editable": false,
    "nbgrader": {
     "cell_type": "markdown",
     "checksum": "198ed1a1b42e10bcabbcf1883a5f0a54",
     "grade": false,
     "grade_id": "cell-dee17405b81e6fb1",
     "locked": true,
     "schema_version": 2,
     "solution": false
    }
   },
   "source": [
    "**Question 4.3**\n",
    "\n",
    "What is the cross-validation accuracy for the optimal $k$ for this more complex classifier?\n",
    "\n",
    "Assign the value of the cross-validation accuracy for the optimal $k$ to a variable named answer4.3"
   ]
  },
  {
   "cell_type": "code",
   "execution_count": null,
   "metadata": {
    "deletable": false,
    "nbgrader": {
     "cell_type": "code",
     "checksum": "62f7d9990cff044efb3bbe4c0ed46146",
     "grade": false,
     "grade_id": "cell-077a26c1dcd2d905",
     "locked": false,
     "schema_version": 2,
     "solution": true
    }
   },
   "outputs": [],
   "source": [
    "# Assign your answer to an object called: answer4.3\n",
    "# your code here\n",
    "fail() # No Answer - remove if you provide an answer\n",
    "answer4.3"
   ]
  },
  {
   "cell_type": "code",
   "execution_count": null,
   "metadata": {
    "deletable": false,
    "editable": false,
    "nbgrader": {
     "cell_type": "code",
     "checksum": "6d49019c8d4bdefefb0fbc6755003920",
     "grade": true,
     "grade_id": "cell-296b422e5a5e353e",
     "locked": true,
     "points": 1,
     "schema_version": 2,
     "solution": false
    }
   },
   "outputs": [],
   "source": [
    "test_that('Solution is incorrect', {\n",
    "    expect_equal(digest(round(answer4.3,2)), '17510f1c35f73387c74b7373df4322dd')\n",
    "})\n",
    "print(\"Success!\")"
   ]
  },
  {
   "cell_type": "markdown",
   "metadata": {
    "deletable": false,
    "editable": false,
    "nbgrader": {
     "cell_type": "markdown",
     "checksum": "3e8d3eb6c53af781745dc3e9b5d99fb5",
     "grade": false,
     "grade_id": "cell-ed7b3c86e8a293c8",
     "locked": true,
     "schema_version": 2,
     "solution": false
    }
   },
   "source": [
    "**Question 4.4**\n",
    "\n",
    "Did increasing the classifier complexity improve the cross-validation accuracy? \n",
    "\n",
    "Answer by assigning the value of `\"True\"` or `\"False\"` to a variable named `answer4.4`"
   ]
  },
  {
   "cell_type": "code",
   "execution_count": null,
   "metadata": {
    "deletable": false,
    "nbgrader": {
     "cell_type": "code",
     "checksum": "ce2f637af48f19e4ee1a5d128a305c51",
     "grade": false,
     "grade_id": "cell-b6810cf6f730988b",
     "locked": false,
     "schema_version": 2,
     "solution": true
    }
   },
   "outputs": [],
   "source": [
    "# Assign your answer to an object called: answer4.3\n",
    "# your code here\n",
    "fail() # No Answer - remove if you provide an answer\n",
    "answer4.4"
   ]
  },
  {
   "cell_type": "code",
   "execution_count": null,
   "metadata": {
    "deletable": false,
    "editable": false,
    "nbgrader": {
     "cell_type": "code",
     "checksum": "04ba3e40e09d06e28692606b1c61fdb5",
     "grade": true,
     "grade_id": "cell-1b41405dce422b56",
     "locked": true,
     "points": 1,
     "schema_version": 2,
     "solution": false
    }
   },
   "outputs": [],
   "source": [
    "test_that('Solution is incorrect', {\n",
    "    expect_equal(digest(answer4.4), '96c24a598c808db5ff9c1aa505c6aa15')\n",
    "})\n",
    "print(\"Success!\")"
   ]
  },
  {
   "cell_type": "markdown",
   "metadata": {
    "deletable": false,
    "editable": false,
    "nbgrader": {
     "cell_type": "markdown",
     "checksum": "298ee17720cc332d07f83cf1595d2fb2",
     "grade": false,
     "grade_id": "cell-0a060082f8999952",
     "locked": true,
     "schema_version": 2,
     "solution": false
    }
   },
   "source": [
    "### Assessing test accuracy\n",
    "\n",
    "How good is our model? Assessing the accuracy score on a test data set that was never used to choose our classifier is the only way to know. Let's do that!\n",
    "\n",
    "**Question 5.0**\n",
    "\n",
    "Now that we have chosen the optimal model, re-train your classifier on the entire training data set (i.e., do not use cross-validation) with the \"settings\" that made it an optimal model (here $k$ and the number of predictors). Name your classifier object `final_classifier`"
   ]
  },
  {
   "cell_type": "code",
   "execution_count": null,
   "metadata": {
    "deletable": false,
    "nbgrader": {
     "cell_type": "code",
     "checksum": "d57cd1a5ed6cac51a3356e359dae1301",
     "grade": false,
     "grade_id": "cell-c4d93967e0080ceb",
     "locked": false,
     "schema_version": 2,
     "solution": true
    }
   },
   "outputs": [],
   "source": [
    "#final_k = data.frame(k = ...)\n",
    "#... <- train(x = ..., y = Y_fruit, method = \"knn\", tuneGrid = final_k)\n",
    "\n",
    "# your code here\n",
    "fail() # No Answer - remove if you provide an answer\n",
    "final_classifier"
   ]
  },
  {
   "cell_type": "code",
   "execution_count": null,
   "metadata": {
    "deletable": false,
    "editable": false,
    "nbgrader": {
     "cell_type": "code",
     "checksum": "9c4f208c59643dbcc6d67cee3652c73a",
     "grade": true,
     "grade_id": "cell-f3644d49eba782e4",
     "locked": true,
     "points": 1,
     "schema_version": 2,
     "solution": false
    }
   },
   "outputs": [],
   "source": [
    "test_that('Solution is incorrect', {\n",
    "    expect_equal(as.numeric(sum(final_classifier$results$k)), 3)\n",
    "    expect_equal(as.character(final_classifier$method), 'knn')\n",
    "    expect_equal(digest(as.numeric(sum(final_classifier$trainingData$scaled_color_score))), 'd4a992d81f2c87c3520bc1081fdc1847')\n",
    "    expect_equal(digest(as.numeric(sum(final_classifier$trainingData$scaled_mass))), '4122c056ad806ff52876aeeff27265a4')\n",
    "    expect_equal(as.numeric(summary(final_classifier$trainingData$.outcome)[1]), 15)\n",
    "    expect_equal(final_classifier$control$method, 'boot')\n",
    "    expect_equal(final_classifier$control$number, 25)\n",
    "})\n",
    "print(\"Success!\")"
   ]
  },
  {
   "cell_type": "markdown",
   "metadata": {
    "deletable": false,
    "editable": false,
    "nbgrader": {
     "cell_type": "markdown",
     "checksum": "3535dbc65a72b62fb0d713c3f9d11da4",
     "grade": false,
     "grade_id": "cell-c97b54e5a9f9b149",
     "locked": true,
     "schema_version": 2,
     "solution": false
    }
   },
   "source": [
    "**Question 5.1**\n",
    "\n",
    "Now use the `final_classifier` to predict the labels for the test set, and then calculate the test accuracy. Name the output from the `confusionMatrix` function `test_results`."
   ]
  },
  {
   "cell_type": "code",
   "execution_count": null,
   "metadata": {
    "deletable": false,
    "nbgrader": {
     "cell_type": "code",
     "checksum": "31100456086860098ae41d4c09e8476e",
     "grade": false,
     "grade_id": "cell-57bb39bc339a53d8",
     "locked": false,
     "schema_version": 2,
     "solution": true
    }
   },
   "outputs": [],
   "source": [
    "#X_test <- test_set %>% \n",
    "#    select(...) %>% \n",
    "#    data.frame()\n",
    "#Y_test <- test_set %>% \n",
    "#    select(...) %>% \n",
    "#    unlist()\n",
    "#test_pred <- ...(final_classifier, X_test)\n",
    "#... <- confusionMatrix(test_pred, ...)\n",
    "\n",
    "\n",
    "# your code here\n",
    "fail() # No Answer - remove if you provide an answer\n",
    "test_results"
   ]
  },
  {
   "cell_type": "code",
   "execution_count": null,
   "metadata": {
    "deletable": false,
    "editable": false,
    "nbgrader": {
     "cell_type": "code",
     "checksum": "f3d45103bd67711a88b2d21074ff40c7",
     "grade": true,
     "grade_id": "cell-3e957e8c667b80dc",
     "locked": true,
     "points": 1,
     "schema_version": 2,
     "solution": false
    }
   },
   "outputs": [],
   "source": [
    "test_that('Solution is incorrect', {\n",
    "    expect_equal(digest(test_results$overall[[1]]), 'ba3e2fa2513fb0a77d5fe3b627075e63')\n",
    "})\n",
    "print(\"Success!\")"
   ]
  },
  {
   "cell_type": "markdown",
   "metadata": {
    "deletable": false,
    "editable": false,
    "nbgrader": {
     "cell_type": "markdown",
     "checksum": "c7e1b4a9bf197171dba7f0025aafa47c",
     "grade": false,
     "grade_id": "cell-6edbd3f8cd299dac",
     "locked": true,
     "schema_version": 2,
     "solution": false
    }
   },
   "source": [
    "**Question 5.2**\n",
    "\n",
    "What is the test accuracy for the final classifier?\n",
    "\n",
    "Assign the value of the test accuracy for the final classifier to a variable named answer5.2"
   ]
  },
  {
   "cell_type": "code",
   "execution_count": null,
   "metadata": {
    "deletable": false,
    "nbgrader": {
     "cell_type": "code",
     "checksum": "74c968e93b0d89874e7f115fce8878e5",
     "grade": false,
     "grade_id": "cell-8dd2c19c5bf398d7",
     "locked": false,
     "schema_version": 2,
     "solution": true
    }
   },
   "outputs": [],
   "source": [
    "# Assign your answer to an object called: answer5.2\n",
    "# your code here\n",
    "fail() # No Answer - remove if you provide an answer\n",
    "answer5.2"
   ]
  },
  {
   "cell_type": "code",
   "execution_count": null,
   "metadata": {
    "deletable": false,
    "editable": false,
    "nbgrader": {
     "cell_type": "code",
     "checksum": "c16dbc40e95e5e340f546f1fc0e438ba",
     "grade": true,
     "grade_id": "cell-a4ccf5d058ce362a",
     "locked": true,
     "points": 1,
     "schema_version": 2,
     "solution": false
    }
   },
   "outputs": [],
   "source": [
    "test_that('Solution is incorrect', {\n",
    "    expect_equal(digest(round(answer5.2,2)), 'd5eda90fe1124fbaed9ebb04987bd4c9')\n",
    "})\n",
    "print(\"Success!\")"
   ]
  }
 ],
 "metadata": {
  "kernelspec": {
   "display_name": "R",
   "language": "R",
   "name": "ir"
  },
  "language_info": {
   "codemirror_mode": "r",
   "file_extension": ".r",
   "mimetype": "text/x-r-source",
   "name": "R",
   "pygments_lexer": "r",
   "version": "3.5.1"
  }
 },
 "nbformat": 4,
 "nbformat_minor": 2
}
