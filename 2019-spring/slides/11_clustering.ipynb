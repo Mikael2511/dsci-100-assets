{
 "cells": [
  {
   "cell_type": "markdown",
   "metadata": {
    "slideshow": {
     "slide_type": "slide"
    }
   },
   "source": [
    "## DSCI 100 - Introduction to Data Science\n",
    "\n",
    "\n",
    "### Lecture 11 - Introduction to Clustering\n",
    "\n",
    "#### 2019-03-28"
   ]
  },
  {
   "cell_type": "code",
   "execution_count": 1,
   "metadata": {
    "slideshow": {
     "slide_type": "skip"
    }
   },
   "outputs": [
    {
     "name": "stderr",
     "output_type": "stream",
     "text": [
      "── Attaching packages ─────────────────────────────────────── tidyverse 1.2.1 ──\n",
      "✔ ggplot2 3.1.0       ✔ purrr   0.3.1  \n",
      "✔ tibble  2.0.1       ✔ dplyr   0.8.0.1\n",
      "✔ tidyr   0.8.3       ✔ stringr 1.4.0  \n",
      "✔ readr   1.3.1       ✔ forcats 0.4.0  \n",
      "── Conflicts ────────────────────────────────────────── tidyverse_conflicts() ──\n",
      "✖ dplyr::filter() masks stats::filter()\n",
      "✖ dplyr::lag()    masks stats::lag()\n"
     ]
    }
   ],
   "source": [
    "library(tidyverse)"
   ]
  },
  {
   "cell_type": "markdown",
   "metadata": {
    "slideshow": {
     "slide_type": "slide"
    }
   },
   "source": [
    "## A quick refresher of previous topics!"
   ]
  },
  {
   "cell_type": "markdown",
   "metadata": {
    "slideshow": {
     "slide_type": "slide"
    }
   },
   "source": [
    "## Supervised Learning\n",
    "- A Machine learning task of training a model on **labeled** data which can be used to predict an output.\n"
   ]
  },
  {
   "cell_type": "markdown",
   "metadata": {
    "slideshow": {
     "slide_type": "subslide"
    }
   },
   "source": [
    "### Classification\n",
    "Example Problems:\n",
    "- Predicting type of fruit\n",
    "- Predicting Yes/No to kidney disease\n",
    "- Predicting credit card fraud\n",
    "\n",
    "DSCI 100 Alogrithms:\n",
    "- KNN classification"
   ]
  },
  {
   "cell_type": "markdown",
   "metadata": {
    "slideshow": {
     "slide_type": "subslide"
    }
   },
   "source": [
    "### Regression\n",
    "Example Problems:\n",
    "- Predicting house prices\n",
    "- Predicting movie box office sales\n",
    "- Predicting Olympic medal count\n",
    "\n",
    "DSCI 100 Algorithms:\n",
    "- KNN Regression\n",
    "- Linear Regression"
   ]
  },
  {
   "cell_type": "markdown",
   "metadata": {
    "slideshow": {
     "slide_type": "slide"
    }
   },
   "source": [
    "## Now let's consider a different type of Machine Learning!\n",
    "\n"
   ]
  },
  {
   "cell_type": "markdown",
   "metadata": {
    "slideshow": {
     "slide_type": "slide"
    }
   },
   "source": [
    "## Unsupervised Learning\n",
    "A Machine learning task of finding structure and patterns in **unlabeled** data.\n",
    "\n",
    "- Clustering\n",
    "- Dimensionality Reduction\n",
    "\n",
    "\n"
   ]
  },
  {
   "cell_type": "markdown",
   "metadata": {
    "slideshow": {
     "slide_type": "slide"
    }
   },
   "source": [
    "## Clustering\n",
    "- Within the Unsupervised world, the task of grouping objects that are similar to each other is called Clustering"
   ]
  },
  {
   "cell_type": "markdown",
   "metadata": {
    "slideshow": {
     "slide_type": "fragment"
    }
   },
   "source": [
    "### Examples  \n",
    "\n",
    "Clustering similar People (Market segmentation) or similar Movies\n",
    "<img align=\"left\" src=\"img/netflix.png\" width=\"600\"/> "
   ]
  },
  {
   "cell_type": "markdown",
   "metadata": {
    "slideshow": {
     "slide_type": "slide"
    }
   },
   "source": [
    "### Examples\n",
    "\n",
    "Clustering similar products   \n",
    "<img align=\"left\" src=\"img/amazon.png\" width=\"600\"/> "
   ]
  },
  {
   "cell_type": "markdown",
   "metadata": {
    "slideshow": {
     "slide_type": "slide"
    }
   },
   "source": [
    "## Quick Test by show of hands! (hands up for clustering problem)\n",
    "\n",
    "1. Estimate the score a student will get on the MCAT\n",
    "2. Determine if there are patterns in the people who take the MCAT\n",
    "3. Separate photos into groups based on the labeled location the photo was taken\n",
    "4. Separate photos into 5 distinct piles"
   ]
  },
  {
   "cell_type": "markdown",
   "metadata": {
    "slideshow": {
     "slide_type": "slide"
    }
   },
   "source": [
    "## Quick Test - Answers\n",
    "\n",
    "1. Estimate the score a student will get on the MCAT <span style=\"color:red\"> -**Regression** </span>\n",
    "2. Determine if there are patterns in the people who take the MCAT <span style=\"color:red\"> -**Clustering** </span>\n",
    "3. Separate photos into groups based on the labeled location the photo was taken<span style=\"color:red\"> -**Classification** </span>\n",
    "4. Separate photos into 5 distinct piles<span style=\"color:red\"> -**Clustering** </span>"
   ]
  },
  {
   "cell_type": "markdown",
   "metadata": {
    "slideshow": {
     "slide_type": "slide"
    }
   },
   "source": [
    "## K - Means Clustering algorithm\n",
    "\n",
    "1. Specify k number of clusters to group the observations\n",
    "2. Initialize cluster assignments by randomization\n",
    "3. Calculate average coordinates for each cluster center\n",
    "4. Label clusters based on distances from the cluster center\n",
    "5. Recalcualte average coordinates for each cluster center given the new labels\n",
    "6. Repeat steps 4 and 5 until there is no change in the labels\n"
   ]
  },
  {
   "cell_type": "markdown",
   "metadata": {
    "slideshow": {
     "slide_type": "slide"
    }
   },
   "source": [
    "<img align=\"center\" src=\"img/kmeans-1.png\" width=\"600\"/> "
   ]
  },
  {
   "cell_type": "markdown",
   "metadata": {
    "slideshow": {
     "slide_type": "slide"
    }
   },
   "source": [
    "![](img/kmeans_motion-1.gif)"
   ]
  },
  {
   "cell_type": "markdown",
   "metadata": {
    "slideshow": {
     "slide_type": "slide"
    }
   },
   "source": [
    "<img align=\"center\" src=\"img/kmeans-2.png\" width=\"800\"/> "
   ]
  },
  {
   "cell_type": "markdown",
   "metadata": {
    "slideshow": {
     "slide_type": "slide"
    }
   },
   "source": [
    "## Model Selection\n",
    "So far, to measure a models goodness of fit we have looked at accuracy/error rate for classification, and RMSE/RMSPE for regression. For clustering, we have to use other measures because there is not a clearly defined answer/label we can compare to. (Unsupervised) \n",
    "\n",
    "**Within-cluster sum of squares**\n",
    "- The sum of the squared deviations between each observation and the cluster centers\n",
    "- The larger values suggest a spread out cluster, compared to a small value which suggests a more compact cluster\n",
    "- A value for each cluster\n",
    "\n",
    "\n",
    "**Total within-cluster sum of squares**\n",
    "- The total sum of the within-cluster SS\n",
    "- Used to evaluate the overall model variability and to compare this to other models\n",
    "- One value for each model"
   ]
  },
  {
   "cell_type": "markdown",
   "metadata": {
    "slideshow": {
     "slide_type": "slide"
    }
   },
   "source": [
    "## Model Selection\n",
    "Other model parameters of K-means and their interpretations\n",
    "\n",
    "**Total Sum of Squares**\n",
    "- The total sum of squares between each point and the overall center of all the points\n",
    "\n",
    "\n",
    "\n",
    "**Between Sum of Squares**\n",
    "- The sum of squared distances between each cluster center and the overall center of the points\n",
    "- If there are **no** very clear discernible groups/clusters the *between sum of squares* will be a very small fraction of the *Total Sum of Squares*"
   ]
  },
  {
   "cell_type": "markdown",
   "metadata": {
    "slideshow": {
     "slide_type": "slide"
    }
   },
   "source": [
    "## Model Selection  \n",
    "\n",
    "<img align=\"center\" src=\"img/kmeans-3.png\" width=\"800\"/> "
   ]
  },
  {
   "cell_type": "markdown",
   "metadata": {
    "slideshow": {
     "slide_type": "slide"
    }
   },
   "source": [
    "## Model Selection  \n",
    "\n",
    "<img align=\"center\" src=\"img/kmeans-4.png\" width=\"800\"/> "
   ]
  },
  {
   "cell_type": "markdown",
   "metadata": {
    "slideshow": {
     "slide_type": "slide"
    }
   },
   "source": [
    "## Model Selection  \n",
    "\n",
    "<img align=\"center\" src=\"img/kmeans-5.png\" width=\"600\"/> "
   ]
  },
  {
   "cell_type": "markdown",
   "metadata": {
    "slideshow": {
     "slide_type": "slide"
    }
   },
   "source": [
    "## Randomization\n",
    "\n",
    "- The initial randomization of cluster labels is relevant to the final clustering. \n",
    "- The K means algorithm doesnt not converge to a single identical and best answer everytime you run it\n",
    "- It is important to `set.seed()` and utilize the `nstart` argument in R's implementation of the algorithm.\n",
    "\n",
    "`kmeans(data, centers, **nstart**, ...)`"
   ]
  },
  {
   "cell_type": "markdown",
   "metadata": {
    "slideshow": {
     "slide_type": "slide"
    }
   },
   "source": [
    "## Multivariate K Means Clustering\n",
    "\n",
    "- We considered K Means in the case of two features for ease of visualization. But this can be extended to many features. (Remeber Netflix and Amazon Examples)"
   ]
  },
  {
   "cell_type": "markdown",
   "metadata": {
    "slideshow": {
     "slide_type": "slide"
    }
   },
   "source": [
    "## Advantages and Disadvantages\n",
    "\n",
    "**Advantages**\n",
    "- Easy to implement and interpret\n",
    "- Simple to understand\n",
    "- Computationally more efficient than other clustering algorithms\n",
    "\n",
    "**Disadvantages**\n",
    "- Need to specify K\n",
    "- No Optimal Solution\n",
    "- Dependant on Initialization and Lacks Consistency\n",
    "- Sensitive to scale of features (Need to normalize/standardize)"
   ]
  },
  {
   "cell_type": "markdown",
   "metadata": {
    "slideshow": {
     "slide_type": "slide"
    }
   },
   "source": [
    "### What did we learn today?\n",
    "\n",
    "- \n",
    "- \n",
    "- \n"
   ]
  },
  {
   "cell_type": "code",
   "execution_count": null,
   "metadata": {},
   "outputs": [],
   "source": []
  }
 ],
 "metadata": {
  "celltoolbar": "Slideshow",
  "kernelspec": {
   "display_name": "R",
   "language": "R",
   "name": "ir"
  },
  "language_info": {
   "codemirror_mode": "r",
   "file_extension": ".r",
   "mimetype": "text/x-r-source",
   "name": "R",
   "pygments_lexer": "r",
   "version": "3.5.1"
  }
 },
 "nbformat": 4,
 "nbformat_minor": 2
}
