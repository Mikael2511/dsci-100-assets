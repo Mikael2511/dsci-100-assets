{
 "cells": [
  {
   "cell_type": "markdown",
   "metadata": {
    "slideshow": {
     "slide_type": "slide"
    }
   },
   "source": [
    "# DSCI 100: Introduction to Data Science\n",
    "## Tutorial 5: Collaboration and Group Project\n",
    "## 2019-10-08"
   ]
  },
  {
   "cell_type": "markdown",
   "metadata": {
    "slideshow": {
     "slide_type": "slide"
    }
   },
   "source": [
    "# First, \n",
    "- Congratulations on completing your first quiz!!\n",
    "\n",
    "<img src=\"https://media.giphy.com/media/vvz5AVSb96m0FY9XFb/giphy.gif\" width=500>\n",
    "\n",
    "- Your quizzes are being graded now by the TAs, we expect to be done by next Tuesday"
   ]
  },
  {
   "cell_type": "markdown",
   "metadata": {
    "slideshow": {
     "slide_type": "slide"
    }
   },
   "source": [
    "# Today,\n",
    "## We will be starting on your group project and introducing you to modelling (second part of the course)\n",
    "\n",
    "<img src=\"https://media.tenor.com/images/a71fa6b1ee65e2cac1ee0b6a492c0645/tenor.gif\" width=600>"
   ]
  },
  {
   "cell_type": "markdown",
   "metadata": {
    "slideshow": {
     "slide_type": "slide"
    }
   },
   "source": [
    "## Learning objectives\n",
    "\n",
    "### By the end of this class, you will be able to:\n",
    "\n",
    "\n"
   ]
  },
  {
   "cell_type": "markdown",
   "metadata": {
    "slideshow": {
     "slide_type": "fragment"
    }
   },
   "source": [
    "- Set up a collaborative Jupyter notebook on CoCalc and learn how to use its basic functions"
   ]
  },
  {
   "cell_type": "markdown",
   "metadata": {
    "slideshow": {
     "slide_type": "fragment"
    }
   },
   "source": [
    "- Understand the requirements for your group project"
   ]
  },
  {
   "cell_type": "markdown",
   "metadata": {
    "slideshow": {
     "slide_type": "fragment"
    }
   },
   "source": [
    "- Explore some of the datasets assigned for your group project using the functions you learnt from weeks 1-5"
   ]
  },
  {
   "cell_type": "markdown",
   "metadata": {
    "slideshow": {
     "slide_type": "fragment"
    }
   },
   "source": [
    "- Have a brief understanding of classification (in preparation for week 6)"
   ]
  },
  {
   "cell_type": "markdown",
   "metadata": {
    "slideshow": {
     "slide_type": "slide"
    }
   },
   "source": [
    "## Activity \\#1: Create your own CoCalc Project (Demo)\n"
   ]
  },
  {
   "cell_type": "markdown",
   "metadata": {
    "slideshow": {
     "slide_type": "slide"
    }
   },
   "source": [
    "## Activity \\#2: Explore Datasets - Preliminary\n",
    "- Group project assignment details: https://canvas.ubc.ca/courses/40616/assignments/365095\n",
    "- Each member of your team selects one of the **eight** datasets\n",
    "- Using **one markdown cell and one code cell** each, read the dataset, take a look at it, and write a short description about the dataset. Some questions you should try to answer:\n",
    "    - What is the dataset about?\n",
    "    - How many variables are there?\n",
    "    - How many observations are there?"
   ]
  },
  {
   "cell_type": "markdown",
   "metadata": {
    "slideshow": {
     "slide_type": "slide"
    }
   },
   "source": [
    "## Activity \\#3: Explore Datasets Part 2 - Outcome Variable\n",
    "- Now, switch datasets with another group member\n",
    "- Working in the parts that your group member started on earlier, now answer these questions about your new dataset:\n",
    "    - Identify the main outcome/categorical/label variable in the dataset.\n",
    "    - How many values/groups are in this variable?\n",
    "    - How many observations are there in each value/group?\n",
    "- Feel free to add more code and markdown cells to keep your notebook neat"
   ]
  },
  {
   "cell_type": "markdown",
   "metadata": {
    "slideshow": {
     "slide_type": "slide"
    }
   },
   "source": [
    "## Activity \\#4: Explore Datasets Part 3 - Visualisations!\n",
    "- Now, switch datasets with another group member again (make sure this is a dataset you have not worked on yet)\n",
    "- Make some visualisations of the outcome variable:\n",
    "    - What does the distribution of the variable look like?\n",
    "    - What relationship does it have with some of the other variables?\n",
    "- Try using a range of box plots, scatterplots, bar charts, line graphs, etc. "
   ]
  },
  {
   "cell_type": "markdown",
   "metadata": {
    "slideshow": {
     "slide_type": "slide"
    }
   },
   "source": [
    "## Back to Classification...\n",
    "- What is classification?\n",
    "    - Recall: *Predict a class/category for a new observation/measurement* (e.g., cancerous or benign tumour)\n",
    "    - Using data about past observations to make predictions about the class of new observations"
   ]
  },
  {
   "cell_type": "markdown",
   "metadata": {
    "slideshow": {
     "slide_type": "slide"
    }
   },
   "source": [
    "## Introducing... the k-nn Classification Algorithm\n",
    "- k-nn stands for k-nearest neighbours\n"
   ]
  },
  {
   "cell_type": "markdown",
   "metadata": {
    "slideshow": {
     "slide_type": "fragment"
    }
   },
   "source": [
    "- Classifies new data points based on the classes of the data point's nearest neighbours\n"
   ]
  },
  {
   "cell_type": "markdown",
   "metadata": {
    "slideshow": {
     "slide_type": "fragment"
    }
   },
   "source": [
    "- How many neighbours? k <img src=\"https://media3.giphy.com/media/3o7bu2cmduvtIzoRPy/giphy.gif\" width=\"200\">\n",
    "    "
   ]
  },
  {
   "cell_type": "markdown",
   "metadata": {
    "slideshow": {
     "slide_type": "slide"
    }
   },
   "source": [
    "# k-nn Demo!"
   ]
  },
  {
   "cell_type": "markdown",
   "metadata": {
    "slideshow": {
     "slide_type": "slide"
    }
   },
   "source": [
    "### Lingering questions:"
   ]
  },
  {
   "cell_type": "markdown",
   "metadata": {
    "slideshow": {
     "slide_type": "fragment"
    }
   },
   "source": [
    "1. How do we determine what k to use?"
   ]
  },
  {
   "cell_type": "markdown",
   "metadata": {
    "slideshow": {
     "slide_type": "fragment"
    }
   },
   "source": [
    "2. How do we evaluate the accuracy of our model?"
   ]
  },
  {
   "cell_type": "markdown",
   "metadata": {
    "slideshow": {
     "slide_type": "fragment"
    }
   },
   "source": [
    "### Find out on Thursday when we delve deeper into classification!\n",
    "\n",
    "<img src=\"https://i.kym-cdn.com/entries/icons/original/000/019/907/maxresdefault.jpg\" width=600>\n"
   ]
  }
 ],
 "metadata": {
  "celltoolbar": "Slideshow",
  "kernelspec": {
   "display_name": "R",
   "language": "R",
   "name": "ir"
  },
  "language_info": {
   "codemirror_mode": "r",
   "file_extension": ".r",
   "mimetype": "text/x-r-source",
   "name": "R",
   "pygments_lexer": "r",
   "version": "3.6.1"
  }
 },
 "nbformat": 4,
 "nbformat_minor": 2
}
