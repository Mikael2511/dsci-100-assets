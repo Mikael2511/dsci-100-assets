{
 "cells": [
  {
   "cell_type": "markdown",
   "metadata": {
    "slideshow": {
     "slide_type": "slide"
    }
   },
   "source": [
    "# DSCI 100 - Introduction to Data Science\n",
    "\n",
    "\n",
    "## Lecture 1 - Getting started with Jupyter & R\n",
    "\n",
    "\n",
    "### 2019-09-05"
   ]
  },
  {
   "cell_type": "markdown",
   "metadata": {
    "slideshow": {
     "slide_type": "slide"
    }
   },
   "source": [
    "## Teaching team introductions\n",
    "\n",
    "### Instructors:\n",
    "- Trevor Campbell\n",
    "- Tiffany Timbers\n",
    "\n",
    "### Teaching Assistants\n",
    "- Daniel Alimohd\n",
    "- Jordan Bourak\n",
    "- Alex Chow\n",
    "- Grandon Seto\n",
    "- Petal Vitis"
   ]
  },
  {
   "cell_type": "markdown",
   "metadata": {
    "slideshow": {
     "slide_type": "slide"
    }
   },
   "source": [
    "<img src=\"https://media.giphy.com/media/up25s7QBalEmQ/giphy.gif\" width=\"800\">"
   ]
  },
  {
   "cell_type": "markdown",
   "metadata": {
    "slideshow": {
     "slide_type": "slide"
    }
   },
   "source": [
    "## High-level goals of this course:"
   ]
  },
  {
   "cell_type": "markdown",
   "metadata": {
    "slideshow": {
     "slide_type": "fragment"
    }
   },
   "source": [
    "1. Learn how to use reproducible tools (Jupyter + R) to do data analysis"
   ]
  },
  {
   "cell_type": "markdown",
   "metadata": {
    "slideshow": {
     "slide_type": "fragment"
    }
   },
   "source": [
    "2. Learn how to solve 4 common problems in Data Science, and when you have the means to do so"
   ]
  },
  {
   "cell_type": "markdown",
   "metadata": {
    "slideshow": {
     "slide_type": "slide"
    }
   },
   "source": [
    "## But wait, what is Data Science exactly???"
   ]
  },
  {
   "cell_type": "markdown",
   "metadata": {
    "slideshow": {
     "slide_type": "fragment"
    }
   },
   "source": [
    "In this course we define data science as: \n",
    "\n",
    "the processes used to obtain value (i.e., insight) from data through reproducible and auditable processes."
   ]
  },
  {
   "cell_type": "markdown",
   "metadata": {
    "slideshow": {
     "slide_type": "fragment"
    }
   },
   "source": [
    "*Value (i.e., insight) is gained through asking and answering statistical questions.*"
   ]
  },
  {
   "cell_type": "markdown",
   "metadata": {
    "slideshow": {
     "slide_type": "slide"
    }
   },
   "source": [
    "## Mapping statistical questions to data analyses \n",
    "\n",
    "6 Types of questions we can ask:"
   ]
  },
  {
   "cell_type": "markdown",
   "metadata": {
    "slideshow": {
     "slide_type": "fragment"
    }
   },
   "source": [
    "1. Descriptive "
   ]
  },
  {
   "cell_type": "markdown",
   "metadata": {
    "slideshow": {
     "slide_type": "fragment"
    }
   },
   "source": [
    "2. Exploratory"
   ]
  },
  {
   "cell_type": "markdown",
   "metadata": {
    "slideshow": {
     "slide_type": "fragment"
    }
   },
   "source": [
    "3. Inferential"
   ]
  },
  {
   "cell_type": "markdown",
   "metadata": {
    "slideshow": {
     "slide_type": "fragment"
    }
   },
   "source": [
    "4. Predictive"
   ]
  },
  {
   "cell_type": "markdown",
   "metadata": {
    "slideshow": {
     "slide_type": "fragment"
    }
   },
   "source": [
    "5. Causal "
   ]
  },
  {
   "cell_type": "markdown",
   "metadata": {
    "slideshow": {
     "slide_type": "fragment"
    }
   },
   "source": [
    "6. Mechanistic"
   ]
  },
  {
   "cell_type": "markdown",
   "metadata": {
    "slideshow": {
     "slide_type": "fragment"
    }
   },
   "source": [
    "*See examples of each [here](https://ubc-dsci.github.io/introduction-to-datascience/index.html#chapter-learning-objectives)*"
   ]
  },
  {
   "cell_type": "markdown",
   "metadata": {
    "slideshow": {
     "slide_type": "slide"
    }
   },
   "source": [
    "## Problems we will focus on in DSCI 100:"
   ]
  },
  {
   "cell_type": "markdown",
   "metadata": {
    "slideshow": {
     "slide_type": "fragment"
    }
   },
   "source": [
    "1. Predict a class/category for a new observation/measurement (*e.g.,* cancerous or benign tumour)"
   ]
  },
  {
   "cell_type": "markdown",
   "metadata": {
    "slideshow": {
     "slide_type": "fragment"
    }
   },
   "source": [
    "2. Predicting a value for a new observation/measurement (e.g., 10 km race time for 20 year old females with a BMI of 25)"
   ]
  },
  {
   "cell_type": "markdown",
   "metadata": {
    "slideshow": {
     "slide_type": "fragment"
    }
   },
   "source": [
    "3. Finding previously unknown/unlabelled subgroups in your data (e.g., products commonly bought together on Amazon)"
   ]
  },
  {
   "cell_type": "markdown",
   "metadata": {
    "slideshow": {
     "slide_type": "fragment"
    }
   },
   "source": [
    "4. Estimating an average or a proportion from a representative sample (group of people or units) and using that estimate to generalize to the broader population (e.g., the proportion of undergraduate students that own an iphone)"
   ]
  },
  {
   "cell_type": "markdown",
   "metadata": {
    "slideshow": {
     "slide_type": "slide"
    }
   },
   "source": [
    "## Course syllabus: \n",
    "\n",
    "Read on your own time:\n",
    "https://github.com/UBC-DSCI/dsci-100/blob/master/README.md"
   ]
  },
  {
   "cell_type": "markdown",
   "metadata": {
    "slideshow": {
     "slide_type": "slide"
    }
   },
   "source": [
    "## TL;DR \n",
    "\n",
    "<img src=\"https://media.giphy.com/media/l396BM0OLbZFvPQWI/giphy.gif\" width=\"800\">\n",
    "\n",
    "Well, please do read the syllabus later... but for now..."
   ]
  },
  {
   "cell_type": "markdown",
   "metadata": {
    "slideshow": {
     "slide_type": "slide"
    }
   },
   "source": [
    "### Flipped classroom "
   ]
  },
  {
   "cell_type": "markdown",
   "metadata": {
    "slideshow": {
     "slide_type": "fragment"
    }
   },
   "source": [
    "- read text/watch videos before class"
   ]
  },
  {
   "cell_type": "markdown",
   "metadata": {
    "slideshow": {
     "slide_type": "fragment"
    }
   },
   "source": [
    "- We will kick off the lectures with a little intro (like today)"
   ]
  },
  {
   "cell_type": "markdown",
   "metadata": {
    "slideshow": {
     "slide_type": "fragment"
    }
   },
   "source": [
    "- do lecture worksheets and activities in class (Thursdays), due Saturdays at 6pm"
   ]
  },
  {
   "cell_type": "markdown",
   "metadata": {
    "slideshow": {
     "slide_type": "fragment"
    }
   },
   "source": [
    "- work on tutorial questions in class (Tuesdays), due Wednesdays at 10pm"
   ]
  },
  {
   "cell_type": "markdown",
   "metadata": {
    "slideshow": {
     "slide_type": "fragment"
    }
   },
   "source": [
    "- you will need a laptop/chromebook/etc in every class! Don't have one? Borrow one from the library ([see here](https://services.library.ubc.ca/computers-technology/technology-borrowing/)).\n"
   ]
  },
  {
   "cell_type": "markdown",
   "metadata": {
    "slideshow": {
     "slide_type": "fragment"
    }
   },
   "source": [
    "*Everything will be posted as links/buttons in [Canvas](https://canvas.ubc.ca/courses/19078)*"
   ]
  },
  {
   "cell_type": "markdown",
   "metadata": {
    "slideshow": {
     "slide_type": "slide"
    }
   },
   "source": [
    "### Collaborate\n",
    "- talk to each other (in class, on Piazza) as you work through the worksheets and tutorials\n",
    "- group project at middle-end of course\n",
    "- follow the [DSCI 100 course code of conduct](https://github.com/UBC-DSCI/dsci-100/blob/master/CODE_OF_CONDUCT.md) (TL;DR be respectful, inclusive and nice!)"
   ]
  },
  {
   "cell_type": "markdown",
   "metadata": {
    "slideshow": {
     "slide_type": "slide"
    }
   },
   "source": [
    "### First week learning goals:"
   ]
  },
  {
   "cell_type": "markdown",
   "metadata": {
    "slideshow": {
     "slide_type": "fragment"
    }
   },
   "source": [
    "- use a Jupyter notebook to execute provided R code"
   ]
  },
  {
   "cell_type": "markdown",
   "metadata": {
    "slideshow": {
     "slide_type": "fragment"
    }
   },
   "source": [
    "- edit code and markdown cells in a Jupyter notebook"
   ]
  },
  {
   "cell_type": "markdown",
   "metadata": {
    "slideshow": {
     "slide_type": "fragment"
    }
   },
   "source": [
    "- create new code and markdown cells in a Jupyter notebook"
   ]
  },
  {
   "cell_type": "markdown",
   "metadata": {
    "slideshow": {
     "slide_type": "fragment"
    }
   },
   "source": [
    "- load the `tidyverse` library into R"
   ]
  },
  {
   "cell_type": "markdown",
   "metadata": {
    "slideshow": {
     "slide_type": "slide"
    }
   },
   "source": [
    "- create new variables and objects in R using the assignment symbol"
   ]
  },
  {
   "cell_type": "markdown",
   "metadata": {
    "slideshow": {
     "slide_type": "fragment"
    }
   },
   "source": [
    "- use the help and documentation tools in R"
   ]
  },
  {
   "cell_type": "markdown",
   "metadata": {
    "slideshow": {
     "slide_type": "fragment"
    }
   },
   "source": [
    "- match the names of the following functions from the `tidyverse` library to their documentation descriptions: `read_csv`, `select`, `mutate`, `filter`, `ggplot`, `aes`"
   ]
  },
  {
   "cell_type": "markdown",
   "metadata": {
    "slideshow": {
     "slide_type": "slide"
    }
   },
   "source": [
    "## We've got a lot to do! Let's get started!\n",
    "\n",
    "<img src=\"https://media.giphy.com/media/6onMzNPjtFeCI/giphy.gif\" width=\"800\">"
   ]
  },
  {
   "cell_type": "markdown",
   "metadata": {
    "slideshow": {
     "slide_type": "slide"
    }
   },
   "source": [
    "## Jupyter notebook demo time!"
   ]
  },
  {
   "cell_type": "markdown",
   "metadata": {
    "slideshow": {
     "slide_type": "slide"
    }
   },
   "source": [
    "## Now it's your turn!"
   ]
  },
  {
   "cell_type": "markdown",
   "metadata": {
    "slideshow": {
     "slide_type": "fragment"
    }
   },
   "source": [
    "- Everyone, navigate to [Canvas](https://canvas.ubc.ca/courses/19078) and open the assignment [`worksheet_01`](https://canvas.ubc.ca/courses/19078/assignments/281853)."
   ]
  },
  {
   "cell_type": "markdown",
   "metadata": {
    "slideshow": {
     "slide_type": "fragment"
    }
   },
   "source": [
    "- Use your neighbours, the TAs & Instructors and [the textbook reading](https://ubc-dsci.github.io/introduction-to-datascience/) to help you get unstuck when needed!\n"
   ]
  },
  {
   "cell_type": "markdown",
   "metadata": {
    "slideshow": {
     "slide_type": "fragment"
    }
   },
   "source": [
    "- I will interupt in about 20 minutes for a class activity."
   ]
  },
  {
   "cell_type": "markdown",
   "metadata": {
    "slideshow": {
     "slide_type": "slide"
    }
   },
   "source": [
    "## Class activity:\n",
    "\n",
    "\n",
    "### Practice using LaTeX and code formatting in Piazza!\n",
    "\n",
    "Your task: Create a Piazza post in the `class_activity` folder to say hello and introduce yourself to everyone. In that post include the following code formatted as code, and the following LaTeX formatted as Math:\n",
    "\n",
    "Code to include:\n",
    "```\n",
    "whyamihere <- \"to learn data science!\"\n",
    "```\n",
    "\n",
    "LaTeX to include:\n",
    "```\n",
    "data = (statistics + computer \\: science)^2\n",
    "```"
   ]
  },
  {
   "cell_type": "markdown",
   "metadata": {
    "slideshow": {
     "slide_type": "slide"
    }
   },
   "source": [
    "## What did we learn today?\n",
    "\n",
    "- How to use the basics in R\n",
    "\n",
    "- How to use Jupyter notebooks\n",
    "\n",
    "- How to ask for help on Piazza\n",
    "\n",
    "- That you can use Jupyter with R"
   ]
  }
 ],
 "metadata": {
  "celltoolbar": "Slideshow",
  "kernelspec": {
   "display_name": "R",
   "language": "R",
   "name": "ir"
  },
  "language_info": {
   "codemirror_mode": "r",
   "file_extension": ".r",
   "mimetype": "text/x-r-source",
   "name": "R",
   "pygments_lexer": "r",
   "version": "3.6.1"
  }
 },
 "nbformat": 4,
 "nbformat_minor": 2
}
