{
 "cells": [
  {
   "cell_type": "markdown",
   "metadata": {
    "slideshow": {
     "slide_type": "slide"
    }
   },
   "source": [
    "## DSCI 100 - Introduction to Data Science\n",
    "\n",
    "### Lecture 11 - Introduction to inference & sampling through simulation"
   ]
  },
  {
   "cell_type": "markdown",
   "metadata": {
    "slideshow": {
     "slide_type": "slide"
    }
   },
   "source": [
    "## What is statistical inference?"
   ]
  },
  {
   "cell_type": "markdown",
   "metadata": {
    "slideshow": {
     "slide_type": "fragment"
    }
   },
   "source": [
    "- Statistical inference is the process of using a small sample to make conclusions about the wider population the sample came from"
   ]
  },
  {
   "cell_type": "markdown",
   "metadata": {
    "slideshow": {
     "slide_type": "fragment"
    }
   },
   "source": [
    "- Examples of types of inference: estimation and testing"
   ]
  },
  {
   "cell_type": "markdown",
   "metadata": {
    "slideshow": {
     "slide_type": "slide"
    }
   },
   "source": [
    "## Things we can do with inference"
   ]
  },
  {
   "cell_type": "markdown",
   "metadata": {
    "slideshow": {
     "slide_type": "slide"
    }
   },
   "source": [
    "## 1. Make a statement such as this:\n",
    "\n",
    "Based on a the results of the latest poll, we estimate that 47.2% of Americans think that firearms should have strong regulations or restrictions when thinking about gun ownership rights and gun laws.\n",
    "\n",
    "source: http://polling.reuters.com/#!response/PV20/type/smallest/dates/20180505-20181002/collapsed/true"
   ]
  },
  {
   "cell_type": "markdown",
   "metadata": {
    "slideshow": {
     "slide_type": "fragment"
    }
   },
   "source": [
    "### This is estimation!"
   ]
  },
  {
   "cell_type": "markdown",
   "metadata": {
    "slideshow": {
     "slide_type": "slide"
    }
   },
   "source": [
    "## 2. Answer a marketing question such as this:\n",
    "\n",
    "What proportion of undergraduate students have an iphone?\n",
    "\n",
    "<img img align=\"left\" src=\"https://media.wired.com/photos/5b22c5c4b878a15e9ce80d92/master/w_582,c_limit/iphonex-TA.jpg\" width=\"500\"/>"
   ]
  },
  {
   "cell_type": "markdown",
   "metadata": {
    "slideshow": {
     "slide_type": "notes"
    }
   },
   "source": [
    "source: https://media.wired.com/photos/5b22c5c4b878a15e9ce80d92/master/w_582,c_limit/iphonex-TA.jpg"
   ]
  },
  {
   "cell_type": "markdown",
   "metadata": {
    "slideshow": {
     "slide_type": "fragment"
    }
   },
   "source": [
    "### This can be answered with estimation!"
   ]
  },
  {
   "cell_type": "markdown",
   "metadata": {
    "slideshow": {
     "slide_type": "slide"
    }
   },
   "source": [
    "## 3. or a health question such as this:\n",
    "\n",
    "Are first babies born later than non-first born babies?\n",
    "\n",
    "<img img align=\"left\" src=\"https://images.mentalfloss.com/sites/default/files/styles/mf_image_16x9/public/baby_0.jpg\" width=\"500\"/>"
   ]
  },
  {
   "cell_type": "markdown",
   "metadata": {
    "slideshow": {
     "slide_type": "notes"
    }
   },
   "source": [
    "source: https://images.mentalfloss.com/sites/default/files/styles/mf_image_16x9/public/baby_0.jpg"
   ]
  },
  {
   "cell_type": "markdown",
   "metadata": {
    "slideshow": {
     "slide_type": "fragment"
    }
   },
   "source": [
    "### This can be answered with a hypothesis test!"
   ]
  },
  {
   "cell_type": "markdown",
   "metadata": {
    "slideshow": {
     "slide_type": "slide"
    }
   },
   "source": [
    "## 4. or a A/B testing question such as this:\n",
    "\n",
    "Which of the 2 website designs will lead to more customer engagement (measured by click-through-rate, for example)?\n",
    "\n",
    "<img img align=\"left\" src=\"https://images.ctfassets.net/zw48pl1isxmc/4QYN7VubAAgEAGs0EuWguw/165749ef2fa01c1c004b6a167fd27835/ab-testing.png\" width=\"600\"/>"
   ]
  },
  {
   "cell_type": "markdown",
   "metadata": {
    "slideshow": {
     "slide_type": "notes"
    }
   },
   "source": [
    "source: https://images.ctfassets.net/zw48pl1isxmc/4QYN7VubAAgEAGs0EuWguw/165749ef2fa01c1c004b6a167fd27835/ab-testing.png"
   ]
  },
  {
   "cell_type": "markdown",
   "metadata": {
    "slideshow": {
     "slide_type": "fragment"
    }
   },
   "source": [
    "### This can be answered with a hypothesis test!"
   ]
  },
  {
   "cell_type": "markdown",
   "metadata": {
    "slideshow": {
     "slide_type": "slide"
    }
   },
   "source": [
    "## Estimation\n",
    "\n",
    "What is estimation? And how do we do it?\n"
   ]
  },
  {
   "cell_type": "markdown",
   "metadata": {
    "slideshow": {
     "slide_type": "slide"
    }
   },
   "source": [
    "### Marketing example revisited\n",
    "\n",
    "**Question:** What proportion of undergraduate students have an iphone?"
   ]
  },
  {
   "cell_type": "markdown",
   "metadata": {
    "slideshow": {
     "slide_type": "fragment"
    }
   },
   "source": [
    "How could we answer this question? Discuss with your neighbour."
   ]
  },
  {
   "cell_type": "markdown",
   "metadata": {
    "slideshow": {
     "slide_type": "slide"
    }
   },
   "source": [
    "<img align=\"left\" src=\"img/sampling.001.jpeg\" width=\"700\"/>"
   ]
  },
  {
   "cell_type": "markdown",
   "metadata": {
    "slideshow": {
     "slide_type": "slide"
    }
   },
   "source": [
    "What if we randomly selected a subset and then asked them if they have an iphone? We could then calculate a proportion that we could use as an **estimate** of the true population proportion (parameter)? Could this work? \n",
    "\n",
    "<img align=\"left\" src=\"img/sampling.002.jpeg\" width=\"700\"/>"
   ]
  },
  {
   "cell_type": "markdown",
   "metadata": {
    "slideshow": {
     "slide_type": "fragment"
    }
   },
   "source": [
    "Let's experiment and see how well sample estimates reflect the true population parameter we are interested in measuring!"
   ]
  },
  {
   "cell_type": "markdown",
   "metadata": {
    "slideshow": {
     "slide_type": "slide"
    }
   },
   "source": [
    "# Virtual sampling simulation\n",
    "\n",
    "- Let's create a virtual box of timbits (our population)\n",
    "- Let's each use R to:\n",
    "    - collect a random sample of 40 timbits, \n",
    "    - calculate a proportion of chocolate timbits\n",
    "    - add our proportion to this shared [Google sheet](https://docs.google.com/spreadsheets/d/12nCqhf4RZoUtZenTjYvgdNjEbfggrX1VrYE9-v9WYK0/edit?usp=sharing) to build a distribution of this sample statistic\n",
    "\n",
    "<img align=\"left\" src=\"https://cdn.insidetimmies.com/wp-content/uploads/2014/05/tibits.jpg\" width=\"300\"/>\n",
    "\n",
    "\n"
   ]
  },
  {
   "cell_type": "markdown",
   "metadata": {
    "slideshow": {
     "slide_type": "notes"
    }
   },
   "source": [
    "source: https://insidetimmies.com/2014/05/20/tim-hortons-has-sold-400000-km-of-timbits-since-its-introduction-in-1976/"
   ]
  },
  {
   "cell_type": "markdown",
   "metadata": {
    "slideshow": {
     "slide_type": "slide"
    }
   },
   "source": [
    "### As always, load the libraries we'll be using:"
   ]
  },
  {
   "cell_type": "code",
   "execution_count": 4,
   "metadata": {
    "scrolled": true,
    "slideshow": {
     "slide_type": "fragment"
    }
   },
   "outputs": [
    {
     "name": "stderr",
     "output_type": "stream",
     "text": [
      "\n",
      "Attaching package: ‘dplyr’\n",
      "\n",
      "The following objects are masked from ‘package:stats’:\n",
      "\n",
      "    filter, lag\n",
      "\n",
      "The following objects are masked from ‘package:base’:\n",
      "\n",
      "    intersect, setdiff, setequal, union\n",
      "\n"
     ]
    }
   ],
   "source": [
    "# load libraries for wrangling and plotting\n",
    "library(dplyr)\n",
    "library(ggplot2)\n",
    "library(infer) #install.packages(\"infer\")"
   ]
  },
  {
   "cell_type": "markdown",
   "metadata": {
    "slideshow": {
     "slide_type": "slide"
    }
   },
   "source": [
    "### 1. Create a virtual box of timbits (population)\n",
    "\n",
    "Let's \"create\" a population of 10000 timbits where the proportion of chocolate timbits is 0.63 and the proportion of old fashioned timbits is 0.37.\n",
    "\n",
    "**IMPORTANT - set your seed to 1234 so that we all create the same population!**"
   ]
  },
  {
   "cell_type": "code",
   "execution_count": 5,
   "metadata": {
    "slideshow": {
     "slide_type": "fragment"
    }
   },
   "outputs": [
    {
     "data": {
      "text/html": [
       "<table>\n",
       "<caption>A tibble: 6 × 2</caption>\n",
       "<thead>\n",
       "\t<tr><th scope=col>timbit_id</th><th scope=col>color</th></tr>\n",
       "\t<tr><th scope=col>&lt;dbl&gt;</th><th scope=col>&lt;fct&gt;</th></tr>\n",
       "</thead>\n",
       "<tbody>\n",
       "\t<tr><td>1</td><td>chocolate    </td></tr>\n",
       "\t<tr><td>2</td><td>chocolate    </td></tr>\n",
       "\t<tr><td>3</td><td>chocolate    </td></tr>\n",
       "\t<tr><td>4</td><td>chocolate    </td></tr>\n",
       "\t<tr><td>5</td><td>old fashioned</td></tr>\n",
       "\t<tr><td>6</td><td>old fashioned</td></tr>\n",
       "</tbody>\n",
       "</table>\n"
      ],
      "text/latex": [
       "A tibble: 6 × 2\n",
       "\\begin{tabular}{r|ll}\n",
       " timbit\\_id & color\\\\\n",
       " <dbl> & <fct>\\\\\n",
       "\\hline\n",
       "\t 1 & chocolate    \\\\\n",
       "\t 2 & chocolate    \\\\\n",
       "\t 3 & chocolate    \\\\\n",
       "\t 4 & chocolate    \\\\\n",
       "\t 5 & old fashioned\\\\\n",
       "\t 6 & old fashioned\\\\\n",
       "\\end{tabular}\n"
      ],
      "text/markdown": [
       "\n",
       "A tibble: 6 × 2\n",
       "\n",
       "| timbit_id &lt;dbl&gt; | color &lt;fct&gt; |\n",
       "|---|---|\n",
       "| 1 | chocolate     |\n",
       "| 2 | chocolate     |\n",
       "| 3 | chocolate     |\n",
       "| 4 | chocolate     |\n",
       "| 5 | old fashioned |\n",
       "| 6 | old fashioned |\n",
       "\n"
      ],
      "text/plain": [
       "  timbit_id color        \n",
       "1 1         chocolate    \n",
       "2 2         chocolate    \n",
       "3 3         chocolate    \n",
       "4 4         chocolate    \n",
       "5 5         old fashioned\n",
       "6 6         old fashioned"
      ]
     },
     "metadata": {},
     "output_type": "display_data"
    }
   ],
   "source": [
    "# create virtual box\n",
    "set.seed(1234)\n",
    "virtual_box <- tibble(timbit_id = seq(1, 10000, by = 1),\n",
    "                     color = factor(rbinom(10000, 1, 0.63),\n",
    "                     labels = c(\"old fashioned\", \"chocolate\")))\n",
    "head(virtual_box)"
   ]
  },
  {
   "cell_type": "markdown",
   "metadata": {
    "slideshow": {
     "slide_type": "notes"
    }
   },
   "source": [
    "- Here we use `rbinom` to \"create\" the population of 10000 timbits where the proportion of chocolate is 0.63 and the proportion of old fashioned is 0.37."
   ]
  },
  {
   "cell_type": "markdown",
   "metadata": {
    "slideshow": {
     "slide_type": "notes"
    }
   },
   "source": [
    "- We also use `seq` to create a column called `timbit_id` that holds the value from 1 to 10000."
   ]
  },
  {
   "cell_type": "markdown",
   "metadata": {
    "slideshow": {
     "slide_type": "notes"
    }
   },
   "source": [
    "- We use `tibble` to make keep these two columns together as a data frame (tibble is a special type of data frame that you will learn more about in the Data Wrangling course)."
   ]
  },
  {
   "cell_type": "markdown",
   "metadata": {
    "slideshow": {
     "slide_type": "slide"
    }
   },
   "source": [
    "Sanity check that the virtual box contains ~ 63% chocolate timbits:"
   ]
  },
  {
   "cell_type": "code",
   "execution_count": 11,
   "metadata": {
    "slideshow": {
     "slide_type": "fragment"
    }
   },
   "outputs": [
    {
     "data": {
      "text/html": [
       "<table>\n",
       "<caption>A tibble: 2 × 3</caption>\n",
       "<thead>\n",
       "\t<tr><th scope=col>color</th><th scope=col>n</th><th scope=col>proportion</th></tr>\n",
       "\t<tr><th scope=col>&lt;fct&gt;</th><th scope=col>&lt;int&gt;</th><th scope=col>&lt;dbl&gt;</th></tr>\n",
       "</thead>\n",
       "<tbody>\n",
       "\t<tr><td>old fashioned</td><td>3705</td><td>0.3705</td></tr>\n",
       "\t<tr><td>chocolate    </td><td>6295</td><td>0.6295</td></tr>\n",
       "</tbody>\n",
       "</table>\n"
      ],
      "text/latex": [
       "A tibble: 2 × 3\n",
       "\\begin{tabular}{r|lll}\n",
       " color & n & proportion\\\\\n",
       " <fct> & <int> & <dbl>\\\\\n",
       "\\hline\n",
       "\t old fashioned & 3705 & 0.3705\\\\\n",
       "\t chocolate     & 6295 & 0.6295\\\\\n",
       "\\end{tabular}\n"
      ],
      "text/markdown": [
       "\n",
       "A tibble: 2 × 3\n",
       "\n",
       "| color &lt;fct&gt; | n &lt;int&gt; | proportion &lt;dbl&gt; |\n",
       "|---|---|---|\n",
       "| old fashioned | 3705 | 0.3705 |\n",
       "| chocolate     | 6295 | 0.6295 |\n",
       "\n"
      ],
      "text/plain": [
       "  color         n    proportion\n",
       "1 old fashioned 3705 0.3705    \n",
       "2 chocolate     6295 0.6295    "
      ]
     },
     "metadata": {},
     "output_type": "display_data"
    }
   ],
   "source": [
    "virtual_box %>% \n",
    "    group_by(color) %>% \n",
    "    summarize(n = n(),\n",
    "             proportion = n() / 10000)"
   ]
  },
  {
   "cell_type": "markdown",
   "metadata": {
    "slideshow": {
     "slide_type": "slide"
    }
   },
   "source": [
    "### 2. Drawing a single sample of size 40\n",
    "\n",
    "Let's simulate taking one random sample from our virtual timbits box. We will use the `rep_sample_n` function from the `infer` package:"
   ]
  },
  {
   "cell_type": "code",
   "execution_count": 21,
   "metadata": {
    "slideshow": {
     "slide_type": "fragment"
    }
   },
   "outputs": [
    {
     "data": {
      "text/html": [
       "<table>\n",
       "<caption>A grouped_df: 6 × 3</caption>\n",
       "<thead>\n",
       "\t<tr><th scope=col>replicate</th><th scope=col>timbit_id</th><th scope=col>color</th></tr>\n",
       "\t<tr><th scope=col>&lt;int&gt;</th><th scope=col>&lt;dbl&gt;</th><th scope=col>&lt;fct&gt;</th></tr>\n",
       "</thead>\n",
       "<tbody>\n",
       "\t<tr><td>1</td><td>6026</td><td>chocolate    </td></tr>\n",
       "\t<tr><td>1</td><td>3360</td><td>chocolate    </td></tr>\n",
       "\t<tr><td>1</td><td>1398</td><td>chocolate    </td></tr>\n",
       "\t<tr><td>1</td><td>2824</td><td>chocolate    </td></tr>\n",
       "\t<tr><td>1</td><td>9108</td><td>old fashioned</td></tr>\n",
       "\t<tr><td>1</td><td>8298</td><td>chocolate    </td></tr>\n",
       "</tbody>\n",
       "</table>\n"
      ],
      "text/latex": [
       "A grouped_df: 6 × 3\n",
       "\\begin{tabular}{r|lll}\n",
       " replicate & timbit\\_id & color\\\\\n",
       " <int> & <dbl> & <fct>\\\\\n",
       "\\hline\n",
       "\t 1 & 6026 & chocolate    \\\\\n",
       "\t 1 & 3360 & chocolate    \\\\\n",
       "\t 1 & 1398 & chocolate    \\\\\n",
       "\t 1 & 2824 & chocolate    \\\\\n",
       "\t 1 & 9108 & old fashioned\\\\\n",
       "\t 1 & 8298 & chocolate    \\\\\n",
       "\\end{tabular}\n"
      ],
      "text/markdown": [
       "\n",
       "A grouped_df: 6 × 3\n",
       "\n",
       "| replicate &lt;int&gt; | timbit_id &lt;dbl&gt; | color &lt;fct&gt; |\n",
       "|---|---|---|\n",
       "| 1 | 6026 | chocolate     |\n",
       "| 1 | 3360 | chocolate     |\n",
       "| 1 | 1398 | chocolate     |\n",
       "| 1 | 2824 | chocolate     |\n",
       "| 1 | 9108 | old fashioned |\n",
       "| 1 | 8298 | chocolate     |\n",
       "\n"
      ],
      "text/plain": [
       "  replicate timbit_id color        \n",
       "1 1         6026      chocolate    \n",
       "2 1         3360      chocolate    \n",
       "3 1         1398      chocolate    \n",
       "4 1         2824      chocolate    \n",
       "5 1         9108      old fashioned\n",
       "6 1         8298      chocolate    "
      ]
     },
     "metadata": {},
     "output_type": "display_data"
    }
   ],
   "source": [
    "# draw a single sample from the virtual box\n",
    "set.seed(NULL)\n",
    "samples_1 <- rep_sample_n(virtual_box, size = 40)\n",
    "head(samples_1)"
   ]
  },
  {
   "cell_type": "markdown",
   "metadata": {
    "slideshow": {
     "slide_type": "fragment"
    }
   },
   "source": [
    "We can tell by the `timbit_id` column that R indeed did what we asked - randomly selected 40 timbits from our virtual box."
   ]
  },
  {
   "cell_type": "markdown",
   "metadata": {
    "slideshow": {
     "slide_type": "slide"
    }
   },
   "source": [
    "### What is the proportion of chocolate in our single sample?"
   ]
  },
  {
   "cell_type": "code",
   "execution_count": 10,
   "metadata": {
    "slideshow": {
     "slide_type": "fragment"
    }
   },
   "outputs": [
    {
     "data": {
      "text/html": [
       "<table>\n",
       "<caption>A tibble: 1 × 3</caption>\n",
       "<thead>\n",
       "\t<tr><th scope=col>replicate</th><th scope=col>n</th><th scope=col>prop</th></tr>\n",
       "\t<tr><th scope=col>&lt;int&gt;</th><th scope=col>&lt;int&gt;</th><th scope=col>&lt;dbl&gt;</th></tr>\n",
       "</thead>\n",
       "<tbody>\n",
       "\t<tr><td>1</td><td>22</td><td>0.55</td></tr>\n",
       "</tbody>\n",
       "</table>\n"
      ],
      "text/latex": [
       "A tibble: 1 × 3\n",
       "\\begin{tabular}{r|lll}\n",
       " replicate & n & prop\\\\\n",
       " <int> & <int> & <dbl>\\\\\n",
       "\\hline\n",
       "\t 1 & 22 & 0.55\\\\\n",
       "\\end{tabular}\n"
      ],
      "text/markdown": [
       "\n",
       "A tibble: 1 × 3\n",
       "\n",
       "| replicate &lt;int&gt; | n &lt;int&gt; | prop &lt;dbl&gt; |\n",
       "|---|---|---|\n",
       "| 1 | 22 | 0.55 |\n",
       "\n"
      ],
      "text/plain": [
       "  replicate n  prop\n",
       "1 1         22 0.55"
      ]
     },
     "metadata": {},
     "output_type": "display_data"
    }
   ],
   "source": [
    "choc_sample <- summarize(samples_1, n = sum(color == \"chocolate\"),\n",
    "                                        prop = sum(color == \"chocolate\") / 40)\n",
    "choc_sample"
   ]
  },
  {
   "cell_type": "markdown",
   "metadata": {
    "slideshow": {
     "slide_type": "notes"
    }
   },
   "source": [
    "- `summarize` applies a a data transformation across the rows of a data frame (more about this in Data Wrangling)"
   ]
  },
  {
   "cell_type": "markdown",
   "metadata": {
    "slideshow": {
     "slide_type": "slide"
    }
   },
   "source": [
    "## Add our calculated proportion to the shared Google sheet\n",
    "\n",
    "- [Google sheet](https://docs.google.com/spreadsheets/d/152tE3_dA6yz3fhbihFXgH0HtMmtLinb2WMGNCJrbAcg/edit?usp=sharing)"
   ]
  },
  {
   "cell_type": "markdown",
   "metadata": {
    "slideshow": {
     "slide_type": "slide"
    }
   },
   "source": [
    "## Now it's your turn! Go!\n",
    "\n",
    "1. Collect a random sample of 40 timbits & calculate the sum and proportion of chocolate timbits (code given below).\n",
    "\n",
    "2. add your proportion to this shared [Google sheet](https://docs.google.com/spreadsheets/d/152tE3_dA6yz3fhbihFXgH0HtMmtLinb2WMGNCJrbAcg/edit?usp=sharing) to build a distribution of this sample statistic."
   ]
  },
  {
   "cell_type": "code",
   "execution_count": 30,
   "metadata": {
    "slideshow": {
     "slide_type": "fragment"
    }
   },
   "outputs": [
    {
     "data": {
      "text/html": [
       "<table>\n",
       "<caption>A tibble: 1 × 3</caption>\n",
       "<thead>\n",
       "\t<tr><th scope=col>replicate</th><th scope=col>n</th><th scope=col>prop</th></tr>\n",
       "\t<tr><th scope=col>&lt;int&gt;</th><th scope=col>&lt;int&gt;</th><th scope=col>&lt;dbl&gt;</th></tr>\n",
       "</thead>\n",
       "<tbody>\n",
       "\t<tr><td>1</td><td>28</td><td>0.7</td></tr>\n",
       "</tbody>\n",
       "</table>\n"
      ],
      "text/latex": [
       "A tibble: 1 × 3\n",
       "\\begin{tabular}{r|lll}\n",
       " replicate & n & prop\\\\\n",
       " <int> & <int> & <dbl>\\\\\n",
       "\\hline\n",
       "\t 1 & 28 & 0.7\\\\\n",
       "\\end{tabular}\n"
      ],
      "text/markdown": [
       "\n",
       "A tibble: 1 × 3\n",
       "\n",
       "| replicate &lt;int&gt; | n &lt;int&gt; | prop &lt;dbl&gt; |\n",
       "|---|---|---|\n",
       "| 1 | 28 | 0.7 |\n",
       "\n"
      ],
      "text/plain": [
       "  replicate n  prop\n",
       "1 1         28 0.7 "
      ]
     },
     "metadata": {},
     "output_type": "display_data"
    }
   ],
   "source": [
    "set.seed(1234) # so that we all have the same population\n",
    "virtual_box <- tibble(timbit_id = seq(from = 1, to = 10000, by = 1),\n",
    "                      color = factor(rbinom(10000, 1, 0.63), \n",
    "                                     levels = c(1, 0),\n",
    "                                     labels = c(\"chocolate\", \"old fashioned\")))\n",
    "set.seed(NULL) # so that we each collect a different sample\n",
    "choc_sample <- rep_sample_n(virtual_box, size = 40) %>% \n",
    "    summarize(n = sum(color == \"chocolate\"),\n",
    "              prop = sum(color == \"chocolate\") / 40)\n",
    "choc_sample"
   ]
  },
  {
   "cell_type": "markdown",
   "metadata": {
    "slideshow": {
     "slide_type": "slide"
    }
   },
   "source": [
    "## Discussion time\n",
    "\n",
    "How well do our samples represent the population parameter we are interested in (proportion of chocolate timbits)?"
   ]
  },
  {
   "cell_type": "markdown",
   "metadata": {
    "slideshow": {
     "slide_type": "slide"
    }
   },
   "source": [
    "## Back to our marketing example\n",
    "\n",
    "Is randomly selecting a subset of the students (taking a single sample) and then asking them if they have an iphone a good way to estimate the true proportion of all undergraduates who have iphones (population parameter we are interested in)? \n",
    "\n",
    "<img align=\"left\" src=\"img/sampling.002.jpeg\" width=\"700\"/>"
   ]
  },
  {
   "cell_type": "markdown",
   "metadata": {
    "slideshow": {
     "slide_type": "slide"
    }
   },
   "source": [
    "# Wrap-up \n",
    "\n",
    "What did we learn so far today? Let's make a list here!\n",
    "\n",
    "- \n",
    "\n",
    "- \n",
    "\n",
    "- "
   ]
  },
  {
   "cell_type": "markdown",
   "metadata": {
    "slideshow": {
     "slide_type": "slide"
    }
   },
   "source": [
    "## Questions that we will try to answer next?\n",
    "\n",
    "- Usually we only have one sample? So what can we do? "
   ]
  },
  {
   "cell_type": "markdown",
   "metadata": {
    "slideshow": {
     "slide_type": "notes"
    }
   },
   "source": [
    "# Acknowledgements\n",
    "- [Data Science in a box](https://github.com/rstudio-education/datascience-box) by Mine Cetinkaya-Rundel\n",
    "- [Inference in 3 hours](https://github.com/AllenDowney/CompStats) by Allan Downey\n",
    "- [Modern Dive: An Introduction to Statistical and Data Sciences via R](https://moderndive.com/index.html) by Chester Ismay and Albert Y. Kim"
   ]
  }
 ],
 "metadata": {
  "celltoolbar": "Slideshow",
  "kernelspec": {
   "display_name": "R",
   "language": "R",
   "name": "ir"
  },
  "language_info": {
   "codemirror_mode": "r",
   "file_extension": ".r",
   "mimetype": "text/x-r-source",
   "name": "R",
   "pygments_lexer": "r",
   "version": "3.6.1"
  }
 },
 "nbformat": 4,
 "nbformat_minor": 2
}
