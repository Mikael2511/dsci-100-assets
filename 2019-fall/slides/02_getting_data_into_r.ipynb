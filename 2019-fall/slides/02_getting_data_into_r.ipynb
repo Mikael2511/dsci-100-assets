{
 "cells": [
  {
   "cell_type": "markdown",
   "metadata": {
    "slideshow": {
     "slide_type": "slide"
    }
   },
   "source": [
    "# DSCI 100 - Introduction to Data Science\n",
    "\n",
    "\n",
    "## Lecture 2 - Getting data into R\n",
    "\n",
    "\n",
    "### 2019-09-12"
   ]
  },
  {
   "cell_type": "markdown",
   "metadata": {
    "slideshow": {
     "slide_type": "slide"
    }
   },
   "source": [
    "## Housekeeping\n",
    "\n",
    "- Pin on Piazza about viewing fresh notebooks & how to upload to JupyterHub\n",
    "- Please fill out our [pre-course survey](https://ubc.ca1.qualtrics.com/jfe/form/SV_3JBaDm44RK5ZxCR) \n",
    "    - password: dsci100\n",
    "    - your responses are anonymous to the instructors \n",
    "    - will not affect your course grade\n",
    "    - the survey closes next Thursday, September 19\n",
    "- Most/all folks who were registered before the due date have been graded for `worksheet_01`\n",
    "- Late registrant assignments are still being graded\n",
    "- You will get feedback forms for each assignment telling you which questions were correct/incorrect. They are coming soon!"
   ]
  },
  {
   "cell_type": "markdown",
   "metadata": {
    "slideshow": {
     "slide_type": "slide"
    }
   },
   "source": [
    "## Recap of last week\n",
    "\n",
    "- Introduction to \n",
    "  - R programming and Jupyter notebooks\n",
    "  - a sprinkle of data analysis\n",
    "  - UBC's sketchy wifi \n",
    "  \n",
    "## Today\n",
    "\n",
    "Taking our first step in data analysis: loading data into R!\n",
    "\n",
    "<center><img src=\"https://thumbs.gfycat.com/VeneratedTeemingHypsilophodon-size_restricted.gif\" alt=\"Where are we going?\" style=\"width: 450px;\"/></center>"
   ]
  },
  {
   "cell_type": "markdown",
   "metadata": {
    "slideshow": {
     "slide_type": "slide"
    }
   },
   "source": [
    "**In the data science workflow** (source: Grolemund & Wickham, [R for Data Science](https://r4ds.had.co.nz/))\n",
    "\n",
    "<center><img src=\"https://d33wubrfki0l68.cloudfront.net/571b056757d68e6df81a3e3853f54d3c76ad6efc/32d37/diagrams/data-science.png\" style=\"width: 700px\"/></center>"
   ]
  },
  {
   "cell_type": "markdown",
   "metadata": {
    "slideshow": {
     "slide_type": "slide"
    }
   },
   "source": [
    "## Loading/importing data\n",
    "\n",
    "- 4 most common ways to do this in Data Science\n",
    "    1. **read in a text file with data in a spreadsheet format**\n",
    "    2. **read from a database (e.g., SQLite, PostgreSQL)**\n",
    "    3. scrape data from the web (optional bonus material)\n",
    "    4. use a web API to read data from a website (not covered in DSCI100)"
   ]
  },
  {
   "cell_type": "markdown",
   "metadata": {
    "slideshow": {
     "slide_type": "slide"
    }
   },
   "source": [
    "## Different ways to locate a file / dataset\n",
    "\n"
   ]
  },
  {
   "cell_type": "markdown",
   "metadata": {
    "slideshow": {
     "slide_type": "fragment"
    }
   },
   "source": [
    "**Local (on your computer)**\n",
    "- An *absolute* path locates a file with respect to the \"root\" folder on a computer \n",
    "  - starts with `/`, e.g. `/home/trevor/documents/timesheet.xlsx`\n",
    "  \n",
    "- A *relative* path locates a file relative to your *working directory*\n",
    "  - doesn't start with `/`, e.g. `documents/timesheet.xlsx` <br>(working directory is `/home/trevor/`)"
   ]
  },
  {
   "cell_type": "markdown",
   "metadata": {
    "slideshow": {
     "slide_type": "fragment"
    }
   },
   "source": [
    "**Remote (on the web)**\n",
    "\n",
    "via \"URL\" that starts with `http://` or `https://`\n",
    "<br><br>\n",
    "`http://traffic.libsyn.com/mbmbam/MyBrotherMyBrotherandMe367.mp3`\n"
   ]
  },
  {
   "cell_type": "markdown",
   "metadata": {
    "slideshow": {
     "slide_type": "slide"
    }
   },
   "source": [
    "## Demo: Loading data from your computer\n",
    "\n",
    "**Workflow:**\n",
    "- make the dataset accessible to the computer\n",
    "  - might need to load a package, download a file, connect to a database\n",
    "- inspect the data using Jupyter to see what it looks like\n",
    "- load the data into R\n",
    "  - using `read_csv`, `read_delim`, `tbl`, etc\n",
    "- inspect the result to make sure it worked\n",
    "  - the `head` function is useful here\n",
    "\n",
    "Let's load the Old Faithful geyser dataset from [Larry Wasserman's book All of Statistcs](https://www.stat.cmu.edu/~larry/all-of-statistics/)\n"
   ]
  },
  {
   "cell_type": "code",
   "execution_count": null,
   "metadata": {
    "scrolled": true,
    "slideshow": {
     "slide_type": "slide"
    }
   },
   "outputs": [],
   "source": [
    "#Step 0: load the tidyverse library -- gives us read_* functions\n",
    "library(tidyverse)"
   ]
  },
  {
   "cell_type": "code",
   "execution_count": null,
   "metadata": {
    "scrolled": false,
    "slideshow": {
     "slide_type": "slide"
    }
   },
   "outputs": [],
   "source": [
    "#Step 1: download the file to get the data from the URL onto our computer\n",
    "data_url <- \"http://www.stat.cmu.edu/~larry/all-of-statistics/=data/faithful.dat\"\n"
   ]
  },
  {
   "cell_type": "code",
   "execution_count": null,
   "metadata": {
    "slideshow": {
     "slide_type": "fragment"
    }
   },
   "outputs": [],
   "source": [
    "#Step 2: take a look at the data using Jupyter"
   ]
  },
  {
   "cell_type": "code",
   "execution_count": null,
   "metadata": {
    "slideshow": {
     "slide_type": "fragment"
    }
   },
   "outputs": [],
   "source": [
    "#Step 3: load the data into R\n",
    "\n",
    "#need to:\n",
    "# 1. skip 26 lines of meta data\n",
    "# 2. manually add the column names index, eruption_time, wait_time \n",
    "# 3. set the entry delimiter to spaces\n"
   ]
  },
  {
   "cell_type": "code",
   "execution_count": null,
   "metadata": {
    "scrolled": true,
    "slideshow": {
     "slide_type": "slide"
    }
   },
   "outputs": [],
   "source": [
    "#Step 4: check the result\n"
   ]
  },
  {
   "cell_type": "markdown",
   "metadata": {
    "slideshow": {
     "slide_type": "slide"
    }
   },
   "source": [
    "## Note about loading data\n",
    "\n",
    "- It's important to do it carefully + check results after!\n",
    "  - will help reduce bugs and speed up your analyses down the road\n",
    "- Think of it as tying your shoes before you run; not exciting, but if done wrong it will trip you up later!\n",
    "\n",
    "<center><img src=\"https://media.giphy.com/media/Se449o7yNjziw/giphy.gif\"/></center>\n"
   ]
  },
  {
   "cell_type": "markdown",
   "metadata": {
    "slideshow": {
     "slide_type": "slide"
    }
   },
   "source": [
    "## Questions?"
   ]
  },
  {
   "cell_type": "markdown",
   "metadata": {
    "slideshow": {
     "slide_type": "fragment"
    }
   },
   "source": [
    "## Go for it!\n",
    "\n",
    "![](https://media.giphy.com/media/zaezT79s3Ng7C/giphy.gif)"
   ]
  },
  {
   "cell_type": "markdown",
   "metadata": {
    "slideshow": {
     "slide_type": "slide"
    }
   },
   "source": [
    "## Class activity:\n",
    "\n",
    "- In the group at your table, try to read in this dataset from the web: <br> https://archive.ics.uci.edu/ml/machine-learning-databases/00236/seeds_dataset.txt"
   ]
  },
  {
   "cell_type": "markdown",
   "metadata": {
    "slideshow": {
     "slide_type": "slide"
    }
   },
   "source": [
    "## What did we learn?\n",
    "\n"
   ]
  },
  {
   "cell_type": "markdown",
   "metadata": {
    "slideshow": {
     "slide_type": "slide"
    }
   },
   "source": [
    "## What did we learn, Winter 2019\n",
    "\n",
    "- `read_table2` allows us to read multiple whitespace delimited files\n",
    "- read the terms of service before scraping\n",
    "- when to use the different forms `read_delim` (or `read_*`)"
   ]
  },
  {
   "cell_type": "markdown",
   "metadata": {
    "slideshow": {
     "slide_type": "slide"
    }
   },
   "source": [
    "## Note on web scraping\n",
    "\n",
    "- More and more websites don't want you scraping \n",
    "- They instead are providing \"easier\" ways for you to access the data as opposed to scraping it (which they can regulate and know who you are)\n",
    "- So, TL;DR read the Terms of Service for ANY webpage you are planning on scraping\n",
    "    - they're long to read, so search for \"scraping\", \"auto\", \"bot\", etc to find the relevant section"
   ]
  }
 ],
 "metadata": {
  "celltoolbar": "Slideshow",
  "kernelspec": {
   "display_name": "R",
   "language": "R",
   "name": "ir"
  },
  "language_info": {
   "codemirror_mode": "r",
   "file_extension": ".r",
   "mimetype": "text/x-r-source",
   "name": "R",
   "pygments_lexer": "r",
   "version": "3.4.4"
  }
 },
 "nbformat": 4,
 "nbformat_minor": 2
}
