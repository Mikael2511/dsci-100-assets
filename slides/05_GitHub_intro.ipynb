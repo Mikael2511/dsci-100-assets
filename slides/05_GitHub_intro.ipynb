{
 "cells": [
  {
   "cell_type": "markdown",
   "metadata": {
    "slideshow": {
     "slide_type": "slide"
    }
   },
   "source": [
    "# DSCI 100 - Introduction to Data Science\n",
    "\n",
    "\n",
    "## Lecture 5 - Introduction to version control using GitHub\n",
    "\n",
    "\n",
    "### 2019-01-31"
   ]
  },
  {
   "cell_type": "markdown",
   "metadata": {
    "slideshow": {
     "slide_type": "slide"
    }
   },
   "source": [
    "## What is version control?\n",
    "\n",
    "A tool/method to keep track of document versions and work collaboratively with others! "
   ]
  },
  {
   "cell_type": "markdown",
   "metadata": {
    "slideshow": {
     "slide_type": "slide"
    }
   },
   "source": [
    "## You've probably already used version control\n",
    "\n",
    "<img src=\"http://www.geekyedge.com/wp-content/uploads/2015/08/Dropbox-to-Google-Drive.jpg\" width=\"500\" />"
   ]
  },
  {
   "cell_type": "markdown",
   "metadata": {
    "slideshow": {
     "slide_type": "slide"
    }
   },
   "source": [
    "## You've probably already used version control\n",
    "\n",
    "<img align=\"left\" src=\"http://www.phdcomics.com/comics/archive/phd101212s.gif\" width=\"500\" />"
   ]
  },
  {
   "cell_type": "markdown",
   "metadata": {
    "slideshow": {
     "slide_type": "slide"
    }
   },
   "source": [
    "## Reasons to learn another tool for version control (GitHub)"
   ]
  },
  {
   "cell_type": "markdown",
   "metadata": {
    "slideshow": {
     "slide_type": "fragment"
    }
   },
   "source": [
    "- designed for versioning and sharing code "
   ]
  },
  {
   "cell_type": "markdown",
   "metadata": {
    "slideshow": {
     "slide_type": "fragment"
    }
   },
   "source": [
    "- can be used to host/build websites/blogs"
   ]
  },
  {
   "cell_type": "markdown",
   "metadata": {
    "slideshow": {
     "slide_type": "slide"
    }
   },
   "source": [
    "## 1. Sign-up for a GitHub account and share your Github username with us:\n",
    "\n",
    "Please visit https://github.com/ and sign-up for a free account (if you don't already have one). And then share your GitHub username with us so that we can get you set up for the group project for this course: https://canvas.ubc.ca/courses/19078/modules/items/1030189 "
   ]
  },
  {
   "cell_type": "markdown",
   "metadata": {
    "slideshow": {
     "slide_type": "slide"
    }
   },
   "source": [
    "## 2. Create a GitHub repository\n",
    "\n",
    "- Let's work through a demo together where we create and edit a repository for a fictionary Data Science project we are going to create. \n",
    "\n",
    "- **Work in groups of 2** (to help each other out and for the collaboration exercise coming later in the lecture...).\n"
   ]
  },
  {
   "cell_type": "markdown",
   "metadata": {
    "slideshow": {
     "slide_type": "slide"
    }
   },
   "source": [
    "### Steps to follow:\n",
    "\n",
    "One one person's laptop:\n",
    "\n",
    "1. Go to https://github.com and make sure you are logged in.\n",
    "\n",
    "2. Click green “New repository” button. Or, if you are on your own profile page, click on “Repositories”, then click the green “New” button.\n",
    "\n",
    "3. Choose/set:\n",
    "- Repository name: exampleDataProject (or whatever you wish)\n",
    "- Public\n",
    "- YES Initialize this repository with a README\n",
    "\n",
    "4. Click big green button “Create repository.”\n",
    "\n",
    "5. On GitHub, click the settings button on the right and select Collaborators (top left). Enter your partner's GitHub username (they will get an email invitation to access and edit the repository).\n",
    "\n",
    "5. That's it! You now have a new repository on GitHub that you two can work together on!"
   ]
  },
  {
   "cell_type": "markdown",
   "metadata": {
    "slideshow": {
     "slide_type": "slide"
    }
   },
   "source": [
    "## 3. Editing files directly on GitHub\n",
    "\n",
    "There are two ways to make changes to your files:\n",
    "\n",
    "1. Edit files directly on Github (good for text files)\n",
    "2. Make changes on files that live on a computer (e.g., the server you are working on) and then \"push\" the changes back to Github (good for code files)\n",
    " \n",
    "We will try out method 1 today, Tuesday you will learn method 2."
   ]
  },
  {
   "cell_type": "markdown",
   "metadata": {
    "slideshow": {
     "slide_type": "slide"
    }
   },
   "source": [
    "Let's edit a file called `README.md` that contains some information about a fictionary Data Science project we are going to create.\n",
    "\n",
    "### Steps to follow: \n",
    "\n",
    "*in your groups, do this one person at a time...*\n",
    "\n",
    "1. Click on the `README.md` file link\n",
    "\n",
    "2. Click on the pen tool (right-hand side of document)\n",
    "\n",
    "3. Add your name as the author to the document (e.g., \"author: Tiffany Timbers\")\n",
    "\n",
    "4. Click on the big green button \"Commit changes\" to save your work "
   ]
  },
  {
   "cell_type": "markdown",
   "metadata": {
    "slideshow": {
     "slide_type": "slide"
    }
   },
   "source": [
    "## 4. Getting a GitHub repository onto your computer\n",
    "\n",
    "You need to do two things:\n",
    "1. Introduce yourself to Git on the computer (already installed on the server)\n",
    "2. Clone (think download) the repository onto the computer (here server)\n",
    "\n",
    "*What is Git? Git is the software on a computer that talks to GitHub.*"
   ]
  },
  {
   "cell_type": "markdown",
   "metadata": {
    "slideshow": {
     "slide_type": "slide"
    }
   },
   "source": [
    "## 4.1 Introduce yourself to Git\n",
    "\n",
    "*only need to do this once on your computer/server*\n",
    "\n",
    "1. Open a terminal from the JupyterHub Home/Control Panel (New > Terminal)\n",
    "2. Type the following to tell Git about yourself (change your name and email to your own):\n",
    "\n",
    "```\n",
    "git config --global user.name 'Tiffany Timbers'\n",
    "git config --global user.email 'tiffany.timbers@stat.ubc.ca'\n",
    "```\n",
    "\n",
    "3. Check that you didn't make a typo (if you did then just repeat the commands above):\n",
    "\n",
    "```\n",
    "git config --global --list\n",
    "```"
   ]
  },
  {
   "cell_type": "markdown",
   "metadata": {
    "slideshow": {
     "slide_type": "slide"
    }
   },
   "source": [
    "## 4.2 Clone (think download) the repository onto the computer \n",
    "\n",
    "1. Visit your repository on GitHub.com\n",
    "2. Click on the green \"Clone or download\" button (make sure the pop-up says \"Clone with HTTPS\")\n",
    "3. copy the URL to the clipboard\n",
    "4. Go back to the terminal and type `git clone` and paste the URL and press enter:\n",
    "```\n",
    "git clone https://github.com/github_username/repository_name.git\n",
    "```\n"
   ]
  },
  {
   "cell_type": "markdown",
   "metadata": {
    "slideshow": {
     "slide_type": "slide"
    }
   },
   "source": [
    "## 5. Add a Jupyter notebook to GitHub\n",
    "\n",
    "Two big steps:\n",
    "1. Create (or copy) a Jupyter notebook into the GitHub repository you cloned to your computer (using JupyterHub's Home/Control Panel)\n",
    "2. Use the terminal to tell Git to send the changes to GitHub"
   ]
  },
  {
   "cell_type": "markdown",
   "metadata": {
    "slideshow": {
     "slide_type": "slide"
    }
   },
   "source": [
    "## 5.1 Add a Jupyter notebook to the GitHub repository on the computer\n",
    "\n",
    "1. Go to JupyterHub's Home/Control Panel\n",
    "2. Navigate inside the GitHub repository you cloned (downloaded) by click on it\n",
    "3. Create a new Notebook (New > R) there. Give it a name and add a code or Markdown cell to it"
   ]
  },
  {
   "cell_type": "markdown",
   "metadata": {
    "slideshow": {
     "slide_type": "slide"
    }
   },
   "source": [
    "## 5. 2 Use the terminal to tell Git to send the changes to GitHub\n",
    "\n",
    "But first, some useful unix shell commands for navigating and manipulating the filesystem:\n",
    "\n",
    "| Command | Purpose | Example use |\n",
    "|---------|---------|---------|\n",
    "| `pwd` | Prints current working directory | `pwd` |\n",
    "| `ls` | List contents | `ls Documents` |\n",
    "| `cd` | Change directory | `cd Desktop` |"
   ]
  },
  {
   "cell_type": "markdown",
   "metadata": {},
   "source": [
    "### In class activities\n",
    "\n",
    "0. Discuss/brainstorm what are the 3 things you do/think about (as a human) when you navigate your computer's filesystem using Finder, Explorer, Nautilus, etc)\n",
    "1. Instructor - Demo using unix to navigate filesystem\n",
    "2. Students - use command line to:\n",
    "    a. figure out where you are when you open your command line\n",
    "    b. navigate to your Documents folder\n",
    "    c. navigate from your Documents folder to your Desktop"
   ]
  },
  {
   "cell_type": "markdown",
   "metadata": {
    "slideshow": {
     "slide_type": "slide"
    }
   },
   "source": [
    "## 5. 2 Use the terminal to tell Git to send the changes to GitHub\n",
    "\n",
    "1. Go back to the JupyterHub Terminal\n",
    "2. Type `ls` to see all the files and directories there \n",
    "3. Type `cd REPOSITORY_NAME` to navigate into that repository (type `pwd` to see you are where you expect to be)\n",
    "4. Type `git add NOTEBOOK.ipynb` (change `NOTEBOOK.ipynb` to the name of the file you created\n",
    "5. Type `git commit -m \"added a notebook\"\n",
    "6. Type `git push` to send the notebook to GitHub\n",
    "7. Visit your repository on GitHub.com to see that the notebook made it there!"
   ]
  },
  {
   "cell_type": "markdown",
   "metadata": {
    "slideshow": {
     "slide_type": "slide"
    }
   },
   "source": [
    "## (pause)"
   ]
  },
  {
   "cell_type": "markdown",
   "metadata": {
    "slideshow": {
     "slide_type": "slide"
    }
   },
   "source": [
    "## 5.3 Make changes on your computer to send to GitHub \n",
    "We previously edited our ReadMe file directly on Github, lets try to add more changes but on our local machine (the server)\n",
    "1. Navigate to the cloned repository and open the Readme text file\n",
    "2. Make changes to the readme file\n",
    "3. Go to terminal through the Jupyter Hub and navigate to the correct folder\n",
    "4. Type `git status` to view the changes\n",
    "5. Type `git add Readme.md`\n",
    "6. Type `git status` to see our changes move to the staging area (not required)\n",
    "7. Type `git commit -m \"updated readme file\"` \n",
    "8. Type `git status` to see how the changes have moved into the directory (not required)\n",
    "9. Type `git push` to send the readme file to GitHub\n",
    "10. Go to Github to see the changes\n"
   ]
  },
  {
   "cell_type": "markdown",
   "metadata": {
    "slideshow": {
     "slide_type": "slide"
    }
   },
   "source": [
    "## 5.4 View your Git history\n",
    "We have made two commit's now to our ReadMe's. Lets take a look back in time! \n",
    "There are two ways you can view the Git history of a project:\n",
    "\n",
    "- On GitHub through the repo's code commit view\n",
    "- On your local machine using git log \n",
    "\n",
    "Arguably, the best and easiest place to view the Git history of a project is on GitHub. So let's start there. But we'll explore both as sometimes the history on your local machine might differ from that on GitHub and that is when you might need to look at both."
   ]
  },
  {
   "cell_type": "markdown",
   "metadata": {
    "slideshow": {
     "slide_type": "slide"
    }
   },
   "source": [
    "## Let's get your partner up to speed!\n",
    "\n",
    "- open the terminal on Jupyter Hub\n",
    "- navigate to your cloned repository\n",
    "- type `git pull` to pull from the remote location (GitHub) which should have all the chanegs your partner has had"
   ]
  },
  {
   "cell_type": "markdown",
   "metadata": {
    "slideshow": {
     "slide_type": "slide"
    }
   },
   "source": [
    "## 6. Deal with merge conflicts at the command line\n",
    "\n",
    "When working with version control, usually changes are happening in more than one place (e.g., your laptop and on GitHub). So changes of the same document in different places will have to happen. There are two types of changes you need to know about (and how Git deals with them):\n",
    "\n",
    "1. Changes to a document where different lines are modified (Git can automatically merge these).\n",
    "\n",
    "2. Changes to a document where the same line(s) are modified (Git CANNOT automatically merge these).\n",
    "\n",
    "\n",
    "I case \\#2 you (or some other human) has to deal with the conflict. Git kindly points you to where the problem is, and then will do no further work for you until you deal with the conflict.\n",
    "\n"
   ]
  },
  {
   "cell_type": "markdown",
   "metadata": {
    "slideshow": {
     "slide_type": "slide"
    }
   },
   "source": [
    "## 6.1 How do you know you have a merge conflict?\n",
    "\n",
    "If you do `git push` and you see something like:\n",
    "\n",
    "```\n",
    "To https://github.com/vlad/planets.git\n",
    " ! [rejected]        master -> master (non-fast-forward)\n",
    "error: failed to push some refs to 'https://github.com/vlad/planets.git'\n",
    "hint: Updates were rejected because the tip of your current branch is behind\n",
    "hint: its remote counterpart. Merge the remote changes (e.g. 'git pull')\n",
    "hint: before pushing again.\n",
    "hint: See the 'Note about fast-forwards' in 'git push --help' for details.\n",
    "```\n",
    "**and** then you do a `git pull` and see something like this:\n",
    "\n",
    "```\n",
    "remote: Counting objects: 5, done.\n",
    "remote: Compressing objects: 100% (2/2), done.\n",
    "remote: Total 3 (delta 1), reused 3 (delta 1)\n",
    "Unpacking objects: 100% (3/3), done.\n",
    "From https://github.com/vlad/planets\n",
    " * branch            master     -> FETCH_HEAD\n",
    "Auto-merging mars.txt\n",
    "CONFLICT (content): Merge conflict in mars.txt\n",
    "Automatic merge failed; fix conflicts and then commit the result.\n",
    "\n",
    "```\n",
    "\n",
    "You have a merge conflict.\n"
   ]
  },
  {
   "cell_type": "markdown",
   "metadata": {
    "slideshow": {
     "slide_type": "slide"
    }
   },
   "source": [
    "## 6.2 What do you do to fix a merge conflict?\n",
    "\n",
    "1. Pull the changes from Github\n",
    "1. Open the file that has a conflict (the output of `git pull` will tell you which files) in a plain text editor (e.g., Atom)\n",
    "2. Look for the conflict (hint - search for `<<<<<<< HEAD`)\n",
    "3. Fix the conflict and save the file\n",
    "4. `git add` and `git commit` your changes, and then `git push` them up to GitHub"
   ]
  },
  {
   "cell_type": "markdown",
   "metadata": {
    "slideshow": {
     "slide_type": "slide"
    }
   },
   "source": [
    "## 6.3 How do you find the conflicts in a file\n",
    "\n",
    "Here's an example of a text file with a conflict:\n",
    "\n",
    "```\n",
    "Cold and dry, but everything is my favorite color\n",
    "The two moons may be a problem for Wolfman\n",
    "But the Mummy will appreciate the lack of humidity\n",
    "<<<<<<< HEAD\n",
    "We added a this line in our last commit\n",
    "=======\n",
    "This line was added somewhere else\n",
    ">>>>>>> dabb4c8c450e8475aee9b14b4383acc99f42af1d\n",
    "```\n",
    "\n",
    "- `<<<<<<< HEAD` precedes the change you made (that you couldn't push)\n",
    "- `=======` is a separator between the conflicting changes \n",
    "- `>>>>>>> dabb4c8c450e8475aee9b14b4383acc99f42af1d` flags the end of the conflicting change you pulled from GitHub"
   ]
  },
  {
   "cell_type": "markdown",
   "metadata": {
    "slideshow": {
     "slide_type": "slide"
    }
   },
   "source": [
    "## 6.4 How do you fix the conflicts in a file?\n",
    "\n",
    "- edit this file to remove these markers and reconcile the changes\n",
    "- We can do anything we want: \n",
    "    - keep the change made in the local repository, \n",
    "    - keep the change made in the remote repository, \n",
    "    - write something new to replace both, \n",
    "    - or get rid of the change entirely. \n",
    "    \n"
   ]
  },
  {
   "cell_type": "markdown",
   "metadata": {
    "slideshow": {
     "slide_type": "slide"
    }
   },
   "source": [
    "If we chose to write something new to replace both, it would look like this:\n",
    "\n",
    "```\n",
    "Cold and dry, but everything is my favorite color\n",
    "The two moons may be a problem for Wolfman\n",
    "But the Mummy will appreciate the lack of humidity\n",
    "We removed the conflict on this line\n",
    "```\n",
    "\n",
    "You then need to save, `git add`, `git commit` and `git push` the file to have these changes reflected on GitHub."
   ]
  },
  {
   "cell_type": "markdown",
   "metadata": {
    "slideshow": {
     "slide_type": "slide"
    }
   },
   "source": [
    "## (pause)"
   ]
  },
  {
   "cell_type": "markdown",
   "metadata": {
    "slideshow": {
     "slide_type": "slide"
    }
   },
   "source": [
    "## 6.5 What about merge conflicts Jupyter notebooks???"
   ]
  },
  {
   "cell_type": "markdown",
   "metadata": {
    "slideshow": {
     "slide_type": "slide"
    }
   },
   "source": [
    "## 6.5 First - a bit about what a Jupyter notebook is made up of\n",
    "\n",
    "- `.ipynb` files are \"plain\" text files, and we can view them in a plain text editor and make some sense of them\n",
    "- The contents of the notebook are encoded in JSON\n",
    "- When we run the notebook via `Jupyter notebook` the kernel is the part the can interpret and run the code\n",
    "\n",
    "\n",
    "For example, this notebook of 2 cells:\n",
    "\n",
    "![alt tag](img/sample_notebook.png)\n",
    "\n",
    "is encoded by the following JSON:\n",
    "```\n",
    "{\n",
    " \"cells\": [\n",
    "  {\n",
    "   \"cell_type\": \"markdown\",\n",
    "   \"metadata\": {},\n",
    "   \"source\": [\n",
    "    \"# A Markdown header cell\\n\",\n",
    "    \"\\n\",\n",
    "    \"Below is a simple example of some code in Python:\"\n",
    "   ]\n",
    "  },\n",
    "  {\n",
    "   \"cell_type\": \"code\",\n",
    "   \"execution_count\": 1,\n",
    "   \"metadata\": {\n",
    "    \"collapsed\": false\n",
    "   },\n",
    "   \"outputs\": [\n",
    "    {\n",
    "     \"name\": \"stdout\",\n",
    "     \"output_type\": \"stream\",\n",
    "     \"text\": [\n",
    "      \"15\\n\"\n",
    "     ]\n",
    "    }\n",
    "   ],\n",
    "   \"source\": [\n",
    "    \"x = 5\\n\",\n",
    "    \"y = 10\\n\",\n",
    "    \"\\n\",\n",
    "    \"print(x + y)\"\n",
    "   ]\n",
    "  }\n",
    " ],\n",
    " \"metadata\": {\n",
    "  \"anaconda-cloud\": {},\n",
    "  \"kernelspec\": {\n",
    "   \"display_name\": \"Python [Root]\",\n",
    "   \"language\": \"python\",\n",
    "   \"name\": \"Python [Root]\"\n",
    "  },\n",
    "  \"language_info\": {\n",
    "   \"codemirror_mode\": {\n",
    "    \"name\": \"ipython\",\n",
    "    \"version\": 3\n",
    "   },\n",
    "   \"file_extension\": \".py\",\n",
    "   \"mimetype\": \"text/x-python\",\n",
    "   \"name\": \"python\",\n",
    "   \"nbconvert_exporter\": \"python\",\n",
    "   \"pygments_lexer\": \"ipython3\",\n",
    "   \"version\": \"3.5.1\"\n",
    "  }\n",
    " },\n",
    " \"nbformat\": 4,\n",
    " \"nbformat_minor\": 0\n",
    "}\n",
    "```"
   ]
  },
  {
   "cell_type": "markdown",
   "metadata": {
    "slideshow": {
     "slide_type": "slide"
    }
   },
   "source": [
    "## 6.5 Back to version control and Jupyter notebook\n",
    "\n",
    "Because the notebooks are stored as plain text, we can use them for version control, but this is not without issues, which include:\n",
    "    - `git diff` looks horrendous because of the JSON\n",
    "    - manually fixing conflicts is arduous because of the JSON\n",
    "    \n",
    "Strategies to help you not end up in conflict hell with Jupyter:\n",
    "\n",
    "1. Always `git pull` before you start doing ANY work!\n",
    "2. Clear output of your notebooks before you `git push` (although we need your output for MDS homework... so it depends here).\n",
    "\n",
    "But there is hope things are better (or will get better)! [`nbdime`](https://nbdime.readthedocs.io/en/stable/) is a project that helps solve these problems... You can try to test drive it, I have yet to have success with it yet however."
   ]
  },
  {
   "cell_type": "markdown",
   "metadata": {
    "slideshow": {
     "slide_type": "slide"
    }
   },
   "source": [
    "## 7. Practicing conflict solution in pairs:\n",
    "\n",
    "Designate one partner as the Data Science repository \"Owner\" and one partner as the repository \"Collaborator\". The repository \"Owner\" needs to grant the Collaborator access.\n",
    "\n",
    "##### Owner: \n",
    "* On GitHub, click the settings button on the right. \n",
    "* Select Collaborators (top left), and enter your Collaborator's username.\n",
    "\n",
    "##### Collaborator: \n",
    "* Go to your email to retrieve the `URL` to connect to the Owner's repository.\n",
    "* Clone your partners repo:\n",
    "\n",
    "~~~ \n",
    "$ git clone URL_from_Collaborator\n",
    "~~~\n",
    "\n",
    "`git clone` creates a fresh local copy of a remote repository.\n",
    "\n",
    "### Stage a conflict:\n",
    "\n",
    "Both partners modify the same line of the same file. And try to send the changes to GitHub. One of you should get a conflict. Work together to follow what was learned in lecture to resolve it."
   ]
  },
  {
   "cell_type": "markdown",
   "metadata": {
    "slideshow": {
     "slide_type": "slide"
    }
   },
   "source": [
    "## 8. How to add a gitignore file\n",
    "- create a git ignore file in your text editor called .gitignore\n",
    "- type the files you want git to ignore in the text file so you do not push them to GitHub"
   ]
  },
  {
   "cell_type": "markdown",
   "metadata": {},
   "source": [
    "## Attribution \n",
    "1. [Happy Git and GitHub for the useR by Jenny Bryan and the STAT 545 TAs](http://happygitwithr.com/)\n",
    "2. [Software Carpentry](https://software-carpentry.org/), specifically the Unix Shell and Git lessons"
   ]
  },
  {
   "cell_type": "code",
   "execution_count": null,
   "metadata": {},
   "outputs": [],
   "source": []
  }
 ],
 "metadata": {
  "anaconda-cloud": {},
  "celltoolbar": "Slideshow",
  "kernelspec": {
   "display_name": "Python 3",
   "language": "python",
   "name": "python3"
  },
  "language_info": {
   "codemirror_mode": {
    "name": "ipython",
    "version": 3
   },
   "file_extension": ".py",
   "mimetype": "text/x-python",
   "name": "python",
   "nbconvert_exporter": "python",
   "pygments_lexer": "ipython3",
   "version": "3.6.8"
  }
 },
 "nbformat": 4,
 "nbformat_minor": 1
}
