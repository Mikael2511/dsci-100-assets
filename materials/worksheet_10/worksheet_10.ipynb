{
 "cells": [
  {
   "cell_type": "markdown",
   "metadata": {},
   "source": [
    "# Worksheet 10 - Regression cont'd\n",
    "\n",
    "### Lecture and Tutorial Learning Goals:\n",
    "\n",
    "By the end of the week, students will be able to:\n",
    "\n",
    "* In a dataset with > 2 variables, perform k-nn regression in R using `caret`'s `train` with `method = \"k-nn\"` to predict the values for a test dataset.\n",
    "* In a dataset with > 2 variables, perform simple ordinary least squares regression in R using `caret`'s `train` with `method = \"lm\"` to predict the values for a test dataset.\n"
   ]
  },
  {
   "cell_type": "code",
   "execution_count": null,
   "metadata": {},
   "outputs": [],
   "source": [
    "### Run this cell before continuing.\n",
    "library(tidyverse)\n",
    "library(testthat)\n",
    "library(digest)\n",
    "library(repr)\n",
    "library(caret)\n",
    "library(GGally)"
   ]
  },
  {
   "cell_type": "markdown",
   "metadata": {},
   "source": [
    "### Warm-up questions\n",
    "\n",
    "Here are some warm-up questions on the topic of multivariate regression to get you thinking before we jump into data analysis. The course readings should help you answer these.\n",
    "\n",
    "#### Question 0.0\n",
    "\n",
    "In multivariate k-nn regression with one outcome/target variable and two predictor variables, the predictions take the form of what shape?\n",
    "\n",
    "A. a flat plane\n",
    "\n",
    "B. a wiggly/flexible plane\n",
    "\n",
    "C. A straight line\n",
    "\n",
    "D. a wiggly/flexible line\n",
    "\n",
    "E. a 4D hyperplane\n",
    "\n",
    "F. a 4D wiggly/flexible hyperplane\n",
    "\n",
    "Save the letter of the answer you think is correct to a variable named `answer0.0`. Make sure you put quotations around the letter and pay attention to case."
   ]
  },
  {
   "cell_type": "code",
   "execution_count": null,
   "metadata": {
    "deletable": false,
    "nbgrader": {
     "cell_type": "code",
     "checksum": "78bbce47f84b9aa0f1e5286bc4e6b557",
     "grade": false,
     "grade_id": "cell-58beef050b5e8d36",
     "locked": false,
     "schema_version": 2,
     "solution": true
    }
   },
   "outputs": [],
   "source": [
    "# your code here\n",
    "fail() # No Answer - remove if you provide an answer\n",
    "answer0.0"
   ]
  },
  {
   "cell_type": "code",
   "execution_count": null,
   "metadata": {
    "deletable": false,
    "editable": false,
    "nbgrader": {
     "cell_type": "code",
     "checksum": "85947608a31763523a49b9ecc4f98297",
     "grade": true,
     "grade_id": "cell-17d5a0ce83e4cc7a",
     "locked": true,
     "points": 1,
     "schema_version": 2,
     "solution": false
    }
   },
   "outputs": [],
   "source": [
    "test_that('Solution is correct', {\n",
    "    expect_equal(digest(answer0.0), '3a5505c06543876fe45598b5e5e5195d')\n",
    "})\n",
    "print(\"Success!\")"
   ]
  },
  {
   "cell_type": "markdown",
   "metadata": {},
   "source": [
    "#### Question 0.1\n",
    "\n",
    "You must scale the predictor variables for linear regression once you are working with > 1 predictor (i.e., multivariate linear regression). True or false?\n",
    "\n",
    "To answer, assign the value `\"true\"` or `\"false\"`  to a variable named `answer0.1`. Make sure you put quotations around the letter and pay attention to case."
   ]
  },
  {
   "cell_type": "code",
   "execution_count": null,
   "metadata": {
    "deletable": false,
    "nbgrader": {
     "cell_type": "code",
     "checksum": "21663541e387ff062fc87cb00751ac6d",
     "grade": false,
     "grade_id": "cell-e88ed440ad2eff10",
     "locked": false,
     "schema_version": 2,
     "solution": true
    }
   },
   "outputs": [],
   "source": [
    "# your code here\n",
    "fail() # No Answer - remove if you provide an answer\n",
    "answer0.1"
   ]
  },
  {
   "cell_type": "code",
   "execution_count": null,
   "metadata": {
    "deletable": false,
    "editable": false,
    "nbgrader": {
     "cell_type": "code",
     "checksum": "ddef39f5eeb4e3dc3406049acddf4c7c",
     "grade": true,
     "grade_id": "cell-9537fdd17481b205",
     "locked": true,
     "points": 1,
     "schema_version": 2,
     "solution": false
    }
   },
   "outputs": [],
   "source": [
    "test_that('Solution is correct', {\n",
    "    expect_equal(digest(answer0.1), 'd2a90307aac5ae8d0ef58e2fe730d38b')\n",
    "})\n",
    "print(\"Success!\")"
   ]
  },
  {
   "cell_type": "markdown",
   "metadata": {},
   "source": [
    "#### Question 0.2 (optional - not graded)\n",
    "\n",
    "If there exists a case in multivariate regression where you do need to scale the predictors, what is it? And why do you need to do that? If you think there is none, then state that."
   ]
  },
  {
   "cell_type": "markdown",
   "metadata": {
    "deletable": false,
    "nbgrader": {
     "cell_type": "markdown",
     "checksum": "800961aab448f5e96964328335350610",
     "grade": true,
     "grade_id": "cell-5239ec7de77b9698",
     "locked": false,
     "points": 0,
     "schema_version": 2,
     "solution": true
    }
   },
   "source": [
    "YOUR ANSWER HERE"
   ]
  },
  {
   "cell_type": "markdown",
   "metadata": {},
   "source": [
    "## Predicting credit card balance\n",
    "\n",
    "<img src='https://media.giphy.com/media/LCdPNT81vlv3y/giphy-downsized-large.gif' align=\"left\" width='400'>"
   ]
  },
  {
   "cell_type": "markdown",
   "metadata": {},
   "source": [
    "Source: https://media.giphy.com/media/LCdPNT81vlv3y/giphy-downsized-large.gif"
   ]
  },
  {
   "cell_type": "markdown",
   "metadata": {},
   "source": [
    "Here in this worksheet we will work with a simulated data set that contains information that we can use to create a model to predict customer credit card balance. A bank might use such information to predict which customers might be the most profitable to lend to (customers that carry a balance, but do not default, for example).\n",
    "\n",
    "Specifically, we wish to build a model to predict credit card balance (`Balance` column) based on income (`Income` column), credit rating (`Rating` column), credit card limit (`Limit` column) and age (`Age` column)."
   ]
  },
  {
   "cell_type": "markdown",
   "metadata": {},
   "source": [
    "#### Question 1.0\n",
    "\n",
    "Load the data located at [this URL](http://www-bcf.usc.edu/~gareth/ISL/Credit.csv) and assign it to an object called `credit`. "
   ]
  },
  {
   "cell_type": "code",
   "execution_count": null,
   "metadata": {
    "deletable": false,
    "nbgrader": {
     "cell_type": "code",
     "checksum": "d727deb6aa9ecffbf6791e915b4992cc",
     "grade": false,
     "grade_id": "cell-7429888f4a5a274a",
     "locked": false,
     "schema_version": 2,
     "solution": true
    }
   },
   "outputs": [],
   "source": [
    "# your code here\n",
    "fail() # No Answer - remove if you provide an answer\n",
    "head(credit)"
   ]
  },
  {
   "cell_type": "code",
   "execution_count": null,
   "metadata": {
    "deletable": false,
    "editable": false,
    "nbgrader": {
     "cell_type": "code",
     "checksum": "5d571afeb7224dd9476b3cef960300c9",
     "grade": true,
     "grade_id": "cell-36eda8d5f9545c0e",
     "locked": true,
     "points": 1,
     "schema_version": 2,
     "solution": false
    }
   },
   "outputs": [],
   "source": [
    "test_that('Solution is correct', {\n",
    "    expect_equal(nrow(credit), 400)\n",
    "    expect_equal(ncol(credit), 12)\n",
    "    expect_that(\"Income\" %in% colnames(credit), is_true())\n",
    "    expect_that(\"Balance\" %in% colnames(credit), is_true())\n",
    "})\n",
    "print(\"Success!\")"
   ]
  },
  {
   "cell_type": "markdown",
   "metadata": {},
   "source": [
    "#### Question 1.1\n",
    "\n",
    "The first column in the data set, named `X1` is simply the row numbers, and thus not informative. Let's remove it from the data frame using `select`. Name the modified data frame `credit`."
   ]
  },
  {
   "cell_type": "code",
   "execution_count": null,
   "metadata": {
    "deletable": false,
    "nbgrader": {
     "cell_type": "code",
     "checksum": "9d43ebd787a5534c1fff5c6af5185ab5",
     "grade": false,
     "grade_id": "cell-f8ecf1ab64d52b66",
     "locked": false,
     "schema_version": 2,
     "solution": true
    }
   },
   "outputs": [],
   "source": [
    "# your code here\n",
    "fail() # No Answer - remove if you provide an answer\n",
    "head(credit)"
   ]
  },
  {
   "cell_type": "code",
   "execution_count": null,
   "metadata": {
    "deletable": false,
    "editable": false,
    "nbgrader": {
     "cell_type": "code",
     "checksum": "f660e28e587e9b838698d2d1d52ed29c",
     "grade": true,
     "grade_id": "cell-9342aee7f4b97ddf",
     "locked": true,
     "points": 1,
     "schema_version": 2,
     "solution": false
    }
   },
   "outputs": [],
   "source": [
    "test_that('Solution is correct', {\n",
    "    expect_equal(nrow(credit), 400)\n",
    "    expect_equal(ncol(credit), 11)\n",
    "    expect_that(\"Income\" %in% colnames(credit), is_true())\n",
    "    expect_that(\"Balance\" %in% colnames(credit), is_true())\n",
    "    expect_that(\"X1\" %in% colnames(credit), is_false())\n",
    "})\n",
    "print(\"Success!\")"
   ]
  },
  {
   "cell_type": "markdown",
   "metadata": {},
   "source": [
    "#### Question 1.2\n",
    "\n",
    "Using all the observations in the data set, create a `ggpairs` scatterplot of all the columns we are interested in including in our model. Name the plot object `credit_eda`."
   ]
  },
  {
   "cell_type": "code",
   "execution_count": null,
   "metadata": {
    "deletable": false,
    "nbgrader": {
     "cell_type": "code",
     "checksum": "4f28fc05d652aff5389b55f5d31f123b",
     "grade": false,
     "grade_id": "cell-4a1c52e071e0b23e",
     "locked": false,
     "schema_version": 2,
     "solution": true
    }
   },
   "outputs": [],
   "source": [
    "# your code here\n",
    "fail() # No Answer - remove if you provide an answer\n",
    "credit_eda"
   ]
  },
  {
   "cell_type": "code",
   "execution_count": null,
   "metadata": {
    "deletable": false,
    "editable": false,
    "nbgrader": {
     "cell_type": "code",
     "checksum": "5876550d690c232531d80f52fdb5391d",
     "grade": true,
     "grade_id": "cell-883edd273699e4b7",
     "locked": true,
     "points": 1,
     "schema_version": 2,
     "solution": false
    }
   },
   "outputs": [],
   "source": [
    "test_that('Solution is incorrect', {\n",
    "    expect_equal(nrow(credit_eda$data), 400)\n",
    "    expect_equal(ncol(credit_eda$data), 5)\n",
    "    expect_true('ggmatrix' %in% c(class(credit_eda)))\n",
    "    })\n",
    "print(\"Success!\")"
   ]
  },
  {
   "cell_type": "markdown",
   "metadata": {},
   "source": [
    "#### Question 1.3 \n",
    "\n",
    "Based on your exploratory data visualization above, are there any columns that do not appear to be somewhat correlated (i.e., increase or decrease as balance increases or decreases) with balance (and thus we might not want to include them in our analysis)?\n",
    "\n",
    "A. Income\n",
    "\n",
    "B. Rating\n",
    "\n",
    "C. Limit\n",
    "\n",
    "D. Age\n",
    "\n",
    "E. All appear to correlate well with credit card balance\n",
    "\n",
    "Save the letter of the answer you think is correct to a variable named `answer1.3`. Make sure you put quotations around the letter and pay attention to case."
   ]
  },
  {
   "cell_type": "code",
   "execution_count": null,
   "metadata": {
    "deletable": false,
    "nbgrader": {
     "cell_type": "code",
     "checksum": "34a7e03532dbefcd9e24cc9c205488fd",
     "grade": false,
     "grade_id": "cell-67d08eb409bcc8d0",
     "locked": false,
     "schema_version": 2,
     "solution": true
    }
   },
   "outputs": [],
   "source": [
    "# your code here\n",
    "fail() # No Answer - remove if you provide an answer\n",
    "answer1.3"
   ]
  },
  {
   "cell_type": "code",
   "execution_count": null,
   "metadata": {
    "deletable": false,
    "editable": false,
    "nbgrader": {
     "cell_type": "code",
     "checksum": "15eff95484277b0218abe065f1254e66",
     "grade": true,
     "grade_id": "cell-64a1d2f401c262e0",
     "locked": true,
     "points": 1,
     "schema_version": 2,
     "solution": false
    }
   },
   "outputs": [],
   "source": [
    "test_that('Solution is correct', {\n",
    "    expect_equal(digest(answer1.3), 'c1f86f7430df7ddb256980ea6a3b57a4')\n",
    "})\n",
    "print(\"Success!\")"
   ]
  },
  {
   "cell_type": "markdown",
   "metadata": {},
   "source": [
    "#### Question 1.4 \n",
    "\n",
    "If you answered that a column should be removed based on your exploratory data analysis, do that now. Also remove the columns that we are not interested in analyzing (ones that we did not specify in the problem statement at the top of the worksheet). Name the modified data frame `credit`. If you answered that no column should be removed, then only remove the columns we are not interested in analyzing (ones we did not specify in the problem statement at the top of the worksheet)."
   ]
  },
  {
   "cell_type": "code",
   "execution_count": null,
   "metadata": {
    "deletable": false,
    "nbgrader": {
     "cell_type": "code",
     "checksum": "2eff4922e76625b28bbbfcca11f73ff1",
     "grade": false,
     "grade_id": "cell-090794b66bfb3eb4",
     "locked": false,
     "schema_version": 2,
     "solution": true
    }
   },
   "outputs": [],
   "source": [
    "# your code here\n",
    "fail() # No Answer - remove if you provide an answer\n",
    "head(credit)"
   ]
  },
  {
   "cell_type": "code",
   "execution_count": null,
   "metadata": {
    "deletable": false,
    "editable": false,
    "nbgrader": {
     "cell_type": "code",
     "checksum": "a210ce4de6d304381a6c99435ea53c7b",
     "grade": true,
     "grade_id": "cell-2975bb220de0b00e",
     "locked": true,
     "points": 1,
     "schema_version": 2,
     "solution": false
    }
   },
   "outputs": [],
   "source": [
    "test_that('Solution is correct', {\n",
    "    expect_equal(nrow(credit), 400)\n",
    "    expect_equal(digest(as.numeric(dim(credit))), 'aea34bfa210afd186bc0977c50cce4bc')\n",
    "    expect_equal(map(colnames(credit), digest) %in% c('50dfc98e31ea6af6d66703369d562adc', 'b048a33cce93da4bff391dc74e4dd49c', '1fcf72666a688bb8f196a3a47799e640', 'dabae570c8079ba0d7d2dfab803abbf4'), c(TRUE, TRUE, TRUE, TRUE))\n",
    "})\n",
    "print(\"Success!\")"
   ]
  },
  {
   "cell_type": "markdown",
   "metadata": {},
   "source": [
    "#### Question 1.5\n",
    "\n",
    "Now that we have done our exploratory data analysis and cleaned up our data, we should create our training and testing data sets. We will use 60% of the data as training data. Use `set.seed(2000)` and use the `Balance` column as the input to `createDataPartition()`. \n",
    "\n",
    "At the end of this question you should have 4 objects named `X_train`, `Y_train`, `X_test` and `Y_test`."
   ]
  },
  {
   "cell_type": "code",
   "execution_count": null,
   "metadata": {
    "deletable": false,
    "nbgrader": {
     "cell_type": "code",
     "checksum": "0043b879fa5d239c6d9196da52d94077",
     "grade": false,
     "grade_id": "cell-4862845e3f18eced",
     "locked": false,
     "schema_version": 2,
     "solution": true
    }
   },
   "outputs": [],
   "source": [
    "# your code here\n",
    "fail() # No Answer - remove if you provide an answer"
   ]
  },
  {
   "cell_type": "code",
   "execution_count": null,
   "metadata": {
    "deletable": false,
    "editable": false,
    "nbgrader": {
     "cell_type": "code",
     "checksum": "5957ebf668bc61fb68a6c5bcf7054e6c",
     "grade": true,
     "grade_id": "cell-b1eb46161667bcec",
     "locked": true,
     "points": 1,
     "schema_version": 2,
     "solution": false
    }
   },
   "outputs": [],
   "source": [
    "test_that('Solution is correct', {\n",
    "    expect_equal(dim(X_train), c(241, 3))\n",
    "    expect_equal(class(X_train), 'data.frame')\n",
    "    expect_equal(dim(X_test), c(159, 3))\n",
    "    expect_equal(class(X_test), 'data.frame')\n",
    "    expect_equal(length(Y_train), 241)\n",
    "    expect_equal(class(Y_train), 'integer')\n",
    "    expect_equal(length(Y_test), 159)\n",
    "    expect_equal(class(Y_test), 'integer')\n",
    "})\n",
    "print(\"Success!\")"
   ]
  },
  {
   "cell_type": "markdown",
   "metadata": {},
   "source": [
    "#### Question 1.6\n",
    "\n",
    "Now use `caret`'s `train` function with `method = \"lm\"` to fit you linear regression model. Name your linear regression model object `lm_model`."
   ]
  },
  {
   "cell_type": "code",
   "execution_count": null,
   "metadata": {
    "deletable": false,
    "nbgrader": {
     "cell_type": "code",
     "checksum": "1530ffd4f16d72b585967be1e5cc154c",
     "grade": false,
     "grade_id": "cell-9736241c0c2966b9",
     "locked": false,
     "schema_version": 2,
     "solution": true
    }
   },
   "outputs": [],
   "source": [
    "# your code here\n",
    "fail() # No Answer - remove if you provide an answer"
   ]
  },
  {
   "cell_type": "code",
   "execution_count": null,
   "metadata": {
    "deletable": false,
    "editable": false,
    "nbgrader": {
     "cell_type": "code",
     "checksum": "6269fcf78472e98428882c1b00d5942f",
     "grade": true,
     "grade_id": "cell-a647adab28a3dfb2",
     "locked": true,
     "points": 1,
     "schema_version": 2,
     "solution": false
    }
   },
   "outputs": [],
   "source": [
    "test_that('Solution is correct', {\n",
    "    expect_true(lm_model$results$intercept)\n",
    "    expect_equal(lm_model$method, 'lm')\n",
    "    expect_equal(colnames(lm_model$trainingData), c('Income', 'Rating', 'Limit', '.outcome'))\n",
    "    expect_equal(dim(lm_model$trainingData), c(241, 4))\n",
    "})\n",
    "print(\"Success!\")"
   ]
  },
  {
   "cell_type": "markdown",
   "metadata": {},
   "source": [
    "#### Question 1.7\n",
    "\n",
    "Given that we cannot see in 4 dimensions, instead of creating a visualization of the model, let's print out a table of the regression slopes/coefficients. To do this, we want to access some attributes of the model object. We provide scaffolding below. To get the slopes/coefficients as a nice data frame, we then use the `t()` (transpose) function to pivot the data, and then `data.frame()` to convert it to a data frame. Name the resultant data frame `lm_coeffs`."
   ]
  },
  {
   "cell_type": "code",
   "execution_count": null,
   "metadata": {
    "deletable": false,
    "nbgrader": {
     "cell_type": "code",
     "checksum": "0de95d862a79883d506fdcb06525de7b",
     "grade": false,
     "grade_id": "cell-6131349a47c37876",
     "locked": false,
     "schema_version": 2,
     "solution": true
    }
   },
   "outputs": [],
   "source": [
    "# ... <- ...$finalModel$coefficients \n",
    "#    %>% ...\n",
    "#    %>% data.frame()\n",
    "\n",
    "# your code here\n",
    "fail() # No Answer - remove if you provide an answer\n",
    "lm_coeffs"
   ]
  },
  {
   "cell_type": "code",
   "execution_count": null,
   "metadata": {
    "deletable": false,
    "editable": false,
    "nbgrader": {
     "cell_type": "code",
     "checksum": "19aac7e0c950abbeabee6125fbe21d0f",
     "grade": true,
     "grade_id": "cell-4664079ebe7d0892",
     "locked": true,
     "points": 1,
     "schema_version": 2,
     "solution": false
    }
   },
   "outputs": [],
   "source": [
    "test_that('Solution is incorrect', {\n",
    "    expect_equal(dim(lm_coeffs), c(1, 4))\n",
    "    expect_equal(class(lm_coeffs), 'data.frame')\n",
    "    })\n",
    "print(\"Success!\")"
   ]
  },
  {
   "cell_type": "markdown",
   "metadata": {},
   "source": [
    "#### Question 1.8 (optional - not graded)\n",
    "\n",
    "Looking at the slopes/coefficients above from each of the predictors, write a mathematical equation for your prediction model.\n",
    "\n",
    "A couple hints:\n",
    "- surrounding your equation with `$` signs in a markdown cell, makes it a LaTeX equation\n",
    "- to add white space in a LaTeX equation, use `\\:`"
   ]
  },
  {
   "cell_type": "markdown",
   "metadata": {
    "deletable": false,
    "nbgrader": {
     "cell_type": "markdown",
     "checksum": "130a069bd479883854f464d63fc0e6cf",
     "grade": true,
     "grade_id": "cell-cee817921c4ec22b",
     "locked": false,
     "points": 0,
     "schema_version": 2,
     "solution": true
    }
   },
   "source": [
    "YOUR ANSWER HERE"
   ]
  },
  {
   "cell_type": "markdown",
   "metadata": {},
   "source": [
    "#### Question 1.9\n",
    "\n",
    "Calculate the $RMSE$ to assess goodness of fit on your `lm_model` (remember this is how well it predicts on the training data used to fit the model). Return a single numerical value named `lm_rmse`."
   ]
  },
  {
   "cell_type": "code",
   "execution_count": null,
   "metadata": {
    "deletable": false,
    "nbgrader": {
     "cell_type": "code",
     "checksum": "75cf5cdbef74cd86b7adeeb35e9407e7",
     "grade": false,
     "grade_id": "cell-12064d256dd640e2",
     "locked": false,
     "schema_version": 2,
     "solution": true
    }
   },
   "outputs": [],
   "source": [
    "# your code here\n",
    "fail() # No Answer - remove if you provide an answer\n",
    "lm_rmse"
   ]
  },
  {
   "cell_type": "code",
   "execution_count": null,
   "metadata": {
    "deletable": false,
    "editable": false,
    "nbgrader": {
     "cell_type": "code",
     "checksum": "632a24472c8b8ba83208af6676fae237",
     "grade": true,
     "grade_id": "cell-8de81bb18dedbb48",
     "locked": true,
     "points": 1,
     "schema_version": 2,
     "solution": false
    }
   },
   "outputs": [],
   "source": [
    "test_that('Solution is correct', {\n",
    "    expect_equal(digest(round(lm_rmse, 1)), '65f0553dfb97ae3f80c957eb60271f5b')\n",
    "})\n",
    "print(\"Success!\")"
   ]
  },
  {
   "cell_type": "markdown",
   "metadata": {},
   "source": [
    "#### Question 2.0\n",
    "\n",
    "Calculate $RMSPE$ using the test data. Return a single numerical value named `lm_rmspe`."
   ]
  },
  {
   "cell_type": "code",
   "execution_count": null,
   "metadata": {
    "deletable": false,
    "nbgrader": {
     "cell_type": "code",
     "checksum": "dfef99f0c3f0ba8d0bafd9f6eefc0723",
     "grade": false,
     "grade_id": "cell-5f42a9ac9068cfdf",
     "locked": false,
     "schema_version": 2,
     "solution": true
    }
   },
   "outputs": [],
   "source": [
    "# your code here\n",
    "fail() # No Answer - remove if you provide an answer\n",
    "lm_rmspe"
   ]
  },
  {
   "cell_type": "code",
   "execution_count": null,
   "metadata": {
    "deletable": false,
    "editable": false,
    "nbgrader": {
     "cell_type": "code",
     "checksum": "daf2bf904a4265fd578c0b874b7ecdb3",
     "grade": true,
     "grade_id": "cell-41031aad5e75b436",
     "locked": true,
     "points": 1,
     "schema_version": 2,
     "solution": false
    }
   },
   "outputs": [],
   "source": [
    "test_that('Solution is correct', {\n",
    "    expect_equal(digest(round(lm_rmspe, 1)), '63735d3afca0c50ccf19bfd8381bff44')\n",
    "})\n",
    "print(\"Success!\")"
   ]
  },
  {
   "cell_type": "markdown",
   "metadata": {},
   "source": [
    "#### Question 2.1\n",
    "\n",
    "Redo this analysis using k-nn regression instead of linear regression. Assign a single numeric value for $RMSPE$ for your k-nn model as your answer, and name it `knn_rmspe`. Use the same predictors and train - test data split as you used for linear regression, and use 10-fold cross validation to choose $k$."
   ]
  },
  {
   "cell_type": "code",
   "execution_count": null,
   "metadata": {
    "deletable": false,
    "nbgrader": {
     "cell_type": "code",
     "checksum": "f6a2596b7533af2286bc95cc8dc3db86",
     "grade": false,
     "grade_id": "cell-99f8a777ffd9b3e7",
     "locked": false,
     "schema_version": 2,
     "solution": true
    }
   },
   "outputs": [],
   "source": [
    "# your code here\n",
    "fail() # No Answer - remove if you provide an answer"
   ]
  },
  {
   "cell_type": "code",
   "execution_count": null,
   "metadata": {
    "deletable": false,
    "editable": false,
    "nbgrader": {
     "cell_type": "code",
     "checksum": "bd0afd08428008f8d4d7403967179eb4",
     "grade": true,
     "grade_id": "cell-46ad8d7d0130c6da",
     "locked": true,
     "points": 1,
     "schema_version": 2,
     "solution": false
    }
   },
   "outputs": [],
   "source": [
    "test_that('Solution is correct', {\n",
    "    expect_equal(digest(class(knn_rmspe)), '46606ee201b428a3fa6c8a0d3d9e671c')\n",
    "    expect_that(knn_rmspe < 380, is_true())\n",
    "    expect_that(knn_rmspe > 320, is_true())\n",
    "})\n",
    "print(\"Success!\")"
   ]
  },
  {
   "cell_type": "markdown",
   "metadata": {},
   "source": [
    "#### Question 2.2 (optional - not graded)\n",
    "\n",
    "Discuss which model gives better predictions and why you think that might be happening."
   ]
  },
  {
   "cell_type": "markdown",
   "metadata": {
    "deletable": false,
    "nbgrader": {
     "cell_type": "markdown",
     "checksum": "ee51b355b1db99ffc85a2926b555909a",
     "grade": true,
     "grade_id": "cell-0cd889e81059bce2",
     "locked": false,
     "points": 0,
     "schema_version": 2,
     "solution": true
    }
   },
   "source": [
    "YOUR ANSWER HERE"
   ]
  }
 ],
 "metadata": {
  "kernelspec": {
   "display_name": "R",
   "language": "R",
   "name": "ir"
  },
  "language_info": {
   "codemirror_mode": "r",
   "file_extension": ".r",
   "mimetype": "text/x-r-source",
   "name": "R",
   "pygments_lexer": "r",
   "version": "3.5.1"
  }
 },
 "nbformat": 4,
 "nbformat_minor": 2
}
