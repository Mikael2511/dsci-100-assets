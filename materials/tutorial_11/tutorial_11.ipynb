{
 "cells": [
  {
   "cell_type": "markdown",
   "metadata": {},
   "source": [
    "# Tutorial 11 - Clustering\n",
    "\n",
    "### Lecture and Tutorial Learning Goals:\n",
    "\n",
    "After completing this week's lecture and tutorial work, you will be able to:\n",
    "\n",
    "* Describe a case where clustering would be an appropriate tool, and what insight it would bring from the data.\n",
    "* Explain the k-means clustering algorithm.\n",
    "* Interpret the output of a k-means cluster analysis.\n",
    "* Perform k-means clustering in R using `k-means`\n",
    "* Visualize the output of k-means clustering in R using a scatter plot facetted across each access \n",
    "* Identify when it is necessary to scale variables before clustering and do this using R\n",
    "* Use the elbow method to choose the number of clusters for k-means\n",
    "* Describe advantages, limitations and assumptions of the kmeans clustering algorithm."
   ]
  },
  {
   "cell_type": "code",
   "execution_count": null,
   "metadata": {},
   "outputs": [],
   "source": [
    "### Run this cell before continuing.\n",
    "library(tidyverse)\n",
    "library(testthat)\n",
    "library(digest)\n",
    "library(repr)\n",
    "library(GGally)\n",
    "library(broom)"
   ]
  },
  {
   "cell_type": "markdown",
   "metadata": {},
   "source": [
    "# 1. Pokemon\n",
    "\n",
    "We will be working with the Pokemon dataset from Kaggle, which can be found [here.](https://www.kaggle.com/abcsds/pokemon)\n",
    "This dataset compiles the statistics on 721 Pokemon. The information in this dataset includes Pokemon name, type, health points, attack strength, defensive strength, speed points etc. We are interested in seeing if there are any sub-groups/clusters of pokemon based on these statistics. And if so, how many sub-groups/clusters there are.\n",
    "\n",
    "![](https://media.giphy.com/media/3oEduV4SOS9mmmIOkw/giphy.gif)\n",
    "\n",
    "Source: https://media.giphy.com/media/3oEduV4SOS9mmmIOkw/giphy.gif\n"
   ]
  },
  {
   "cell_type": "markdown",
   "metadata": {},
   "source": [
    "**Question 1.0**\n",
    "\n",
    "Load the `pokemon.csv` dataset and assign it to an object called `pm_data`."
   ]
  },
  {
   "cell_type": "code",
   "execution_count": null,
   "metadata": {
    "deletable": false,
    "nbgrader": {
     "cell_type": "code",
     "checksum": "aae6a83431c5d6089e7ccab3963a7d46",
     "grade": false,
     "grade_id": "cell-93b37b4e6bdc331a",
     "locked": false,
     "schema_version": 2,
     "solution": true
    }
   },
   "outputs": [],
   "source": [
    "# your code here\n",
    "fail() # No Answer - remove if you provide an answer\n",
    "head(pm_data)"
   ]
  },
  {
   "cell_type": "code",
   "execution_count": null,
   "metadata": {
    "deletable": false,
    "editable": false,
    "nbgrader": {
     "cell_type": "code",
     "checksum": "6975b6e42e5de17a855792ad59a04ad2",
     "grade": true,
     "grade_id": "cell-56bc2b189beffa61",
     "locked": true,
     "points": 1,
     "schema_version": 2,
     "solution": false
    }
   },
   "outputs": [],
   "source": [
    "test_that('Solution is incorrect', {\n",
    "    expect_equal(nrow(pm_data), 800)\n",
    "    expect_equal(ncol(pm_data), 13)\n",
    "    expect_true('Name' %in% colnames(pm_data))\n",
    "    expect_true('HP' %in% colnames(pm_data))\n",
    "    expect_true('Attack' %in% colnames(pm_data))\n",
    "    expect_true('Defense' %in% colnames(pm_data))\n",
    "    })\n",
    "print(\"Success!\")"
   ]
  },
  {
   "cell_type": "markdown",
   "metadata": {},
   "source": [
    "**Question 1.1**\n",
    "\n",
    "Create a matrix of plots using ggpairs, choosing columns 5 to 11 (or equivalently, Total to Speed) from pm_data. There are several ways to do this, the most familar way would be using the select function to give a range of column names:\n",
    "\n",
    "`data %>% select(start_column_name:end_column_name)`\n",
    "\n",
    "Another is to pass in the column numbers to the ggpairs function as so:\n",
    "\n",
    "`ggpairs(name_of_dataset, columns = c(number:number))`\n",
    "\n",
    "*Assign your answer to an object called pm_pairs.*"
   ]
  },
  {
   "cell_type": "code",
   "execution_count": null,
   "metadata": {
    "deletable": false,
    "nbgrader": {
     "cell_type": "code",
     "checksum": "2d2b46d54ff5096925dec0a0af5b345e",
     "grade": false,
     "grade_id": "cell-99f98d1dbb944409",
     "locked": false,
     "schema_version": 2,
     "solution": true
    }
   },
   "outputs": [],
   "source": [
    "# your code here\n",
    "fail() # No Answer - remove if you provide an answer\n",
    "pm_pairs"
   ]
  },
  {
   "cell_type": "code",
   "execution_count": null,
   "metadata": {
    "deletable": false,
    "editable": false,
    "nbgrader": {
     "cell_type": "code",
     "checksum": "2c245f84600bfc85b9bf25a7f53db88c",
     "grade": true,
     "grade_id": "cell-4a0f59f0f380baad",
     "locked": true,
     "points": 1,
     "schema_version": 2,
     "solution": false
    }
   },
   "outputs": [],
   "source": [
    "test_that('Solution is correct', {\n",
    "    expect_equal(nrow(pm_pairs$data), 800)\n",
    "    expect_equal(pm_pairs$yAxisLabels %in% (c(\"Total\", \"HP\", \"Attack\", \"Defense\", \"Sp. Atk\", \"Sp. Def\", \"Speed\")), c(TRUE, TRUE, TRUE, TRUE, TRUE, TRUE, TRUE))\n",
    "    expect_true('ggmatrix' %in% c(class(pm_pairs)))\n",
    "    })\n",
    "print(\"Success!\")"
   ]
  },
  {
   "cell_type": "markdown",
   "metadata": {},
   "source": [
    "**Question 1.2** \n",
    "\n",
    "Make a scatterplot to visualize the relationship between Speed vs Defense of the Pokemon.\n",
    "\n",
    "*Assign your plot to an object called `pm_scatter`. Also don't forget to label your axes.*"
   ]
  },
  {
   "cell_type": "code",
   "execution_count": null,
   "metadata": {
    "deletable": false,
    "nbgrader": {
     "cell_type": "code",
     "checksum": "e16c52e8ffc096fc295eda1da6a5f648",
     "grade": false,
     "grade_id": "cell-de22d18cc98375ce",
     "locked": false,
     "schema_version": 2,
     "solution": true
    }
   },
   "outputs": [],
   "source": [
    "# your code here\n",
    "fail() # No Answer - remove if you provide an answer\n",
    "pm_scatter"
   ]
  },
  {
   "cell_type": "code",
   "execution_count": null,
   "metadata": {
    "deletable": false,
    "editable": false,
    "nbgrader": {
     "cell_type": "code",
     "checksum": "fbde7a241d6106e1d201b4c2d394df36",
     "grade": true,
     "grade_id": "cell-b62427bf6857eae0",
     "locked": true,
     "points": 1,
     "schema_version": 2,
     "solution": false
    }
   },
   "outputs": [],
   "source": [
    "test_that('Solution is correct', {\n",
    "    expect_true(\"Speed\" == rlang::get_expr(pm_scatter$mapping$x))\n",
    "    expect_true(\"Defense\" == rlang::get_expr(pm_scatter$mapping$y))\n",
    "    expect_that(\"GeomPoint\" %in% c(class(pm_scatter$layers[[1]]$geom)) , is_true())\n",
    "    })\n",
    "print(\"Success!\")"
   ]
  },
  {
   "cell_type": "markdown",
   "metadata": {},
   "source": [
    "**Question 1.3**\n",
    "\n",
    "Select the columns: `Speed` and `Defense`. Create a new data set called `km_data` with those columns. "
   ]
  },
  {
   "cell_type": "code",
   "execution_count": null,
   "metadata": {
    "deletable": false,
    "nbgrader": {
     "cell_type": "code",
     "checksum": "5b3dd72fbe663f2574f0478e8d9e65bf",
     "grade": false,
     "grade_id": "cell-8ff6e2b975075cae",
     "locked": false,
     "schema_version": 2,
     "solution": true
    }
   },
   "outputs": [],
   "source": [
    "# your code here\n",
    "fail() # No Answer - remove if you provide an answer\n",
    "head(km_data)"
   ]
  },
  {
   "cell_type": "code",
   "execution_count": null,
   "metadata": {
    "deletable": false,
    "editable": false,
    "nbgrader": {
     "cell_type": "code",
     "checksum": "6ffa5f869f0535b228558b4952b46727",
     "grade": true,
     "grade_id": "cell-1b9d09e256e4b281",
     "locked": true,
     "points": 1,
     "schema_version": 2,
     "solution": false
    }
   },
   "outputs": [],
   "source": [
    "test_that('Solution is correct', {\n",
    "    expect_equal(ncol(km_data), 2)\n",
    "    expect_equal(nrow(km_data), 800)\n",
    "    expect_equal(colnames(km_data), c('Speed', 'Defense'))\n",
    "    })\n",
    "print(\"Success!\")"
   ]
  },
  {
   "cell_type": "markdown",
   "metadata": {},
   "source": [
    "**Question 1.4.0**\n",
    "\n",
    "Now, we are going to cluster the Pokemon based on their \"Speed\" and \"Defense\" variables. Do we need to scale our variables before clustering? Explain why or why not?"
   ]
  },
  {
   "cell_type": "markdown",
   "metadata": {
    "deletable": false,
    "nbgrader": {
     "cell_type": "markdown",
     "checksum": "bb1e0fc92a7d6e1c1249ed286a6f535f",
     "grade": true,
     "grade_id": "cell-2701100f6dcd3e68",
     "locked": false,
     "points": 3,
     "schema_version": 2,
     "solution": true
    }
   },
   "source": [
    "YOUR ANSWER HERE"
   ]
  },
  {
   "cell_type": "markdown",
   "metadata": {},
   "source": [
    "**Question 1.4.1**\n",
    "\n",
    "Now, let's use the `kmeans()` function to cluster the Pokemon based on their \"Speed\" and \"Defense\" variables. For this question, use K = 4.\n",
    "\n",
    "**Note**: Since kmeans() initializes observations to random clusters, we set the random number generator seed to 2019.\n",
    "\n",
    "Assign your answer to an object called `pokemon_clusters`."
   ]
  },
  {
   "cell_type": "code",
   "execution_count": null,
   "metadata": {
    "deletable": false,
    "nbgrader": {
     "cell_type": "code",
     "checksum": "0ba1ede59e604e807f95ae1093bac8c6",
     "grade": false,
     "grade_id": "cell-c065f6a8d813ae2e",
     "locked": false,
     "schema_version": 2,
     "solution": true
    }
   },
   "outputs": [],
   "source": [
    "# your code here\n",
    "fail() # No Answer - remove if you provide an answer\n",
    "pokemon_clusters"
   ]
  },
  {
   "cell_type": "code",
   "execution_count": null,
   "metadata": {
    "deletable": false,
    "editable": false,
    "nbgrader": {
     "cell_type": "code",
     "checksum": "ba838504c1d916805ae905adafd9a944",
     "grade": true,
     "grade_id": "cell-b899d544a0fec2ea",
     "locked": true,
     "points": 1,
     "schema_version": 2,
     "solution": false
    }
   },
   "outputs": [],
   "source": [
    "test_that('Solution is correct', {\n",
    "    expect_equal(ncol(pokemon_clusters$centers), 2)\n",
    "    expect_equal(nrow(pokemon_clusters$centers), 4)\n",
    "    expect_equal(colnames(pokemon_clusters$centers), c('Speed', 'Defense'))\n",
    "    expect_equal(class(pokemon_clusters), 'kmeans')\n",
    "    })\n",
    "print(\"Success!\")"
   ]
  },
  {
   "cell_type": "markdown",
   "metadata": {
    "deletable": false,
    "editable": false,
    "nbgrader": {
     "cell_type": "markdown",
     "checksum": "9b81fa29f02ac7c36af13e462853fe30",
     "grade": false,
     "grade_id": "cell-1b5587eac432619f",
     "locked": true,
     "schema_version": 2,
     "solution": false
    }
   },
   "source": [
    "**Question 1.5**\n",
    "\n",
    "Let's visualize the clusters we built in `pokemon_clusters`. For this we can use the `broom` package.\n",
    "\n",
    "> \"The broom package takes the messy output of built-in functions in R, such as lm, nls, or t.test, and turns them into tidy data frames.\" - [Broom Package](https://cran.r-project.org/web/packages/broom/vignettes/broom.html)\n",
    "\n",
    "Your tasks:\n",
    "\n",
    "1. Use the `augment` function create a data frame with the cluster assignments for each data point from Kmeans (should have the columns `Speed` and `Defense` and `.cluster`). \n",
    "2. Create a scatter plot of Speed (x-axis) vs Defense (y-axis) with the points coloured by their cluster assignment. Name this plot `answer1.5`."
   ]
  },
  {
   "cell_type": "code",
   "execution_count": null,
   "metadata": {
    "deletable": false,
    "nbgrader": {
     "cell_type": "code",
     "checksum": "be0e85377f1fdfda3856d3a1f63c3536",
     "grade": false,
     "grade_id": "cell-bed28462923104b0",
     "locked": false,
     "schema_version": 2,
     "solution": true
    }
   },
   "outputs": [],
   "source": [
    "# your code here\n",
    "fail() # No Answer - remove if you provide an answer\n",
    "answer1.5"
   ]
  },
  {
   "cell_type": "code",
   "execution_count": null,
   "metadata": {
    "deletable": false,
    "editable": false,
    "nbgrader": {
     "cell_type": "code",
     "checksum": "a37519a879bf1ce08888b7b5cb31662c",
     "grade": true,
     "grade_id": "cell-2d872f629c06cf4d",
     "locked": true,
     "points": 1,
     "schema_version": 2,
     "solution": false
    }
   },
   "outputs": [],
   "source": [
    "test_that('Solution is correct', {\n",
    "    expect_true(\"Speed\" == rlang::get_expr(answer1.5$mapping$x))\n",
    "    expect_true(\"Defense\" == rlang::get_expr(answer1.5$mapping$y))\n",
    "    expect_true(\".cluster\" == rlang::get_expr(answer1.5$mapping$colour))\n",
    "    expect_that(\"GeomPoint\" %in% c(class(answer1.5$layers[[1]]$geom)) , is_true())\n",
    "    })\n",
    "print(\"Success!\")"
   ]
  },
  {
   "cell_type": "markdown",
   "metadata": {
    "deletable": false,
    "editable": false,
    "nbgrader": {
     "cell_type": "markdown",
     "checksum": "e42b484a049c892fd4b3e929feb4a72b",
     "grade": false,
     "grade_id": "cell-537761aa7301039a",
     "locked": true,
     "schema_version": 2,
     "solution": false
    }
   },
   "source": [
    "**Question 1.6**\n",
    "\n",
    "Below you can see multiple initializations of k-means with different seeds for K = 4. Can you explain what happens and how we can control this in the `kmeans` function?\n",
    "\n",
    "![](imgs/multiple_initializations.png)"
   ]
  },
  {
   "cell_type": "markdown",
   "metadata": {
    "deletable": false,
    "nbgrader": {
     "cell_type": "markdown",
     "checksum": "fa81ce3fa5f0fab24b97575e49ade6cb",
     "grade": true,
     "grade_id": "cell-ea8ad340f502d839",
     "locked": false,
     "points": 3,
     "schema_version": 2,
     "solution": true
    }
   },
   "source": [
    "YOUR ANSWER HERE"
   ]
  },
  {
   "cell_type": "markdown",
   "metadata": {
    "deletable": false,
    "editable": false,
    "nbgrader": {
     "cell_type": "markdown",
     "checksum": "babffbc6565390eeeabd814e8f370f39",
     "grade": false,
     "grade_id": "cell-7ad1ae102f2183fb",
     "locked": true,
     "schema_version": 2,
     "solution": false
    }
   },
   "source": [
    "**Question 1.7**\n",
    "\n",
    "We know that choosing a K is an important step of the process. We can do this using the total within-cluster sum of squares and seeing how this changes as we change K on a plot (which we call an elbow plot).\n",
    "\n",
    "For this exercise, from K = 1 to K = 10, calculate the total within-cluster sum of squares. Set `nstart` to be 10. \n",
    "\n",
    "*We expect the output of this question to be a data frame with the columns `k`, `totss`, `tot.withinss`, `betweenss`, and `iter`. Assign your answer to an object called `elbow_stats`.*"
   ]
  },
  {
   "cell_type": "markdown",
   "metadata": {},
   "source": [
    "Remember, to acess the  total within-cluster sum of squares, you can use the `glance` function also from the `broom` package:"
   ]
  },
  {
   "cell_type": "code",
   "execution_count": null,
   "metadata": {},
   "outputs": [],
   "source": [
    "glance(pokemon_clusters)"
   ]
  },
  {
   "cell_type": "code",
   "execution_count": null,
   "metadata": {
    "deletable": false,
    "nbgrader": {
     "cell_type": "code",
     "checksum": "1a1967fef68e09b5546b94cc0ddd0d96",
     "grade": false,
     "grade_id": "cell-60b7743cfe0290e1",
     "locked": false,
     "schema_version": 2,
     "solution": true
    }
   },
   "outputs": [],
   "source": [
    "# your code here\n",
    "fail() # No Answer - remove if you provide an answer\n",
    "head(elbow_stats)"
   ]
  },
  {
   "cell_type": "code",
   "execution_count": null,
   "metadata": {
    "deletable": false,
    "editable": false,
    "nbgrader": {
     "cell_type": "code",
     "checksum": "f1f38f6720773369d6fe6bbbb3fbd941",
     "grade": true,
     "grade_id": "cell-4431d9afb3d2822e",
     "locked": true,
     "points": 1,
     "schema_version": 2,
     "solution": false
    }
   },
   "outputs": [],
   "source": [
    "test_that('Solution is correct', {\n",
    "    expect_equal(nrow(elbow_stats), 10)\n",
    "    expect_equal(sum(c('k', 'tot.withinss') %in% colnames(elbow_stats)), 2)\n",
    "    })\n",
    "print(\"Success!\")"
   ]
  },
  {
   "cell_type": "markdown",
   "metadata": {},
   "source": [
    "**Question 1.8**\n",
    "\n",
    "Now go ahead and plot the elbow plot. \n",
    "\n",
    "*Assign your plot to an object called `elbow_plot`*"
   ]
  },
  {
   "cell_type": "code",
   "execution_count": null,
   "metadata": {
    "deletable": false,
    "nbgrader": {
     "cell_type": "code",
     "checksum": "7f96ab60c70326465db63f05ee21b9d9",
     "grade": true,
     "grade_id": "cell-d5d5b23dd3820676",
     "locked": false,
     "points": 3,
     "schema_version": 2,
     "solution": true
    }
   },
   "outputs": [],
   "source": [
    "# Plot the within group sum of squares on the y-axis.  \n",
    "# Plot the number of clusters on the x-axis.\n",
    "\n",
    "# your code here\n",
    "fail() # No Answer - remove if you provide an answer\n",
    "elbow_plot"
   ]
  },
  {
   "cell_type": "markdown",
   "metadata": {},
   "source": [
    "**Question 1.9** Multiple Choice: \n",
    "\n",
    "Based on the elbow plot above, what value of k do you choose? Explain why.\n"
   ]
  },
  {
   "cell_type": "markdown",
   "metadata": {
    "deletable": false,
    "nbgrader": {
     "cell_type": "markdown",
     "checksum": "d982b4e250dc914fc7d543dadaa4f13a",
     "grade": true,
     "grade_id": "cell-2ffa77d4b8e4de07",
     "locked": false,
     "points": 3,
     "schema_version": 2,
     "solution": true
    }
   },
   "source": [
    "YOUR ANSWER HERE"
   ]
  },
  {
   "cell_type": "markdown",
   "metadata": {},
   "source": [
    "**Question 1.10**\n",
    "\n",
    "Using the value that you chose for k, perform the k-means algorithm and create a plot to visualize the clusters. Again, set `nstart` to be 10, and set the seed to be 2019."
   ]
  },
  {
   "cell_type": "code",
   "execution_count": null,
   "metadata": {
    "deletable": false,
    "nbgrader": {
     "cell_type": "code",
     "checksum": "1b423868d57c4f7c61b57caf95eb01f3",
     "grade": true,
     "grade_id": "cell-9a4289aea99f026e",
     "locked": false,
     "points": 3,
     "schema_version": 2,
     "solution": true
    }
   },
   "outputs": [],
   "source": [
    "# your code here\n",
    "fail() # No Answer - remove if you provide an answer\n"
   ]
  },
  {
   "cell_type": "markdown",
   "metadata": {},
   "source": [
    "**Question 1.11**\n",
    "\n",
    "Using `Speed` and `Defense`, we could find 3 clusters of pokemons, however, we have more information in our dataset that are throwing away. Let's incorporate all of the numeric values to our kmeans model. Again use `nstart = 10` and set the seed to be 2019.\n",
    "\n",
    "Your tasks:\n",
    "\n",
    "1. Select the numeric values only. Do not include the `#` or `Generation` columns (they are not pokemon statistics). \n",
    "2. Use the elbow plot method to determine the number of clusters.\n",
    "3. Train a k-means model with the number of clusters determined in (2).\n",
    "\n",
    "*This time we won't be able to visualize it, but on Thursday we will learn an algorithm that allows us to do visualize multivariate clustering.*"
   ]
  },
  {
   "cell_type": "code",
   "execution_count": null,
   "metadata": {
    "deletable": false,
    "nbgrader": {
     "cell_type": "code",
     "checksum": "61bf8b213b32b8b21c6de430289fc504",
     "grade": true,
     "grade_id": "cell-2e4a3de98096ebd2",
     "locked": false,
     "points": 3,
     "schema_version": 2,
     "solution": true
    }
   },
   "outputs": [],
   "source": [
    "# your code here\n",
    "fail() # No Answer - remove if you provide an answer"
   ]
  },
  {
   "cell_type": "code",
   "execution_count": null,
   "metadata": {
    "deletable": false,
    "nbgrader": {
     "cell_type": "code",
     "checksum": "b8fe1ff4292ddb8d426d8b5519b18bac",
     "grade": true,
     "grade_id": "cell-9d453c1d7e153167",
     "locked": false,
     "points": 0,
     "schema_version": 2,
     "solution": true
    }
   },
   "outputs": [],
   "source": [
    "# your code here\n",
    "fail() # No Answer - remove if you provide an answer"
   ]
  },
  {
   "cell_type": "markdown",
   "metadata": {
    "deletable": false,
    "editable": false,
    "nbgrader": {
     "cell_type": "markdown",
     "checksum": "b1ce4cf0c342854f2b87a38eb0d97b6a",
     "grade": false,
     "grade_id": "cell-1c2a9fd0cbe15c51",
     "locked": true,
     "schema_version": 2,
     "solution": false
    }
   },
   "source": [
    "**Question 1.12**\n",
    "\n",
    "As mentioned before, visualizing these clusters as they are is not possible given the high-dimensionality of the model. Does the cluster means output helps? Justify your reasoning."
   ]
  },
  {
   "cell_type": "markdown",
   "metadata": {
    "deletable": false,
    "nbgrader": {
     "cell_type": "markdown",
     "checksum": "f831e02c35d0196c4016de451013669f",
     "grade": true,
     "grade_id": "cell-8bd7a10f78cd96d6",
     "locked": false,
     "points": 3,
     "schema_version": 2,
     "solution": true
    }
   },
   "source": [
    "YOUR ANSWER HERE"
   ]
  },
  {
   "cell_type": "markdown",
   "metadata": {
    "deletable": false,
    "editable": false,
    "nbgrader": {
     "cell_type": "markdown",
     "checksum": "05597237f22908be2593063edb8c2735",
     "grade": false,
     "grade_id": "cell-3e931fc6c7cf17df",
     "locked": true,
     "schema_version": 2,
     "solution": false
    }
   },
   "source": [
    "# 2. Tourism Reviews\n",
    "\n",
    "![](https://media.giphy.com/media/xUNd9IsOQ4BSZPfnLG/giphy.gif)\n",
    "Source: https://media.giphy.com/media/xUNd9IsOQ4BSZPfnLG/giphy.gif\n",
    "\n",
    "The Ministry of Land, Infrastructure, Transport and Tourism of Japan is interested in knowing the type of tourists that visit East Asia. They know the [majority of their visitors come from this region](https://statistics.jnto.go.jp/en/graph/) and would like to stay competitive in the region to keep growing the tourism industry. For this, they have hired us to perform segmentation of the tourists. A [dataset from TripAdvisor](https://archive.ics.uci.edu/ml/datasets/Travel+Reviews) has been scraped and it's provided to you.\n",
    "\n",
    "This dataset contains the following variables:\n",
    "\n",
    "- User ID : Unique user id \n",
    "- Category 1 : Average user feedback on art galleries \n",
    "- Category 2 : Average user feedback on dance clubs \n",
    "- Category 3 : Average user feedback on juice bars \n",
    "- Category 4 : Average user feedback on restaurants \n",
    "- Category 5 : Average user feedback on museums \n",
    "- Category 6 : Average user feedback on resorts \n",
    "- Category 7 : Average user feedback on parks/picnic spots \n",
    "- Category 8 : Average user feedback on beaches \n",
    "- Category 9 : Average user feedback on theaters \n",
    "- Category 10 : Average user feedback on religious institutions"
   ]
  },
  {
   "cell_type": "markdown",
   "metadata": {},
   "source": [
    "#### Question 2.0\n",
    "\n",
    "Load the data set (which lives at the URL: https://archive.ics.uci.edu/ml/machine-learning-databases/00484/tripadvisor_review.csv) and clean it so that only the columns for the Categories are in the data frame (i.e., remove the User ID column). "
   ]
  },
  {
   "cell_type": "code",
   "execution_count": null,
   "metadata": {
    "deletable": false,
    "nbgrader": {
     "cell_type": "code",
     "checksum": "563447656929240ce04e5530f5d1a9d5",
     "grade": true,
     "grade_id": "cell-f405eb5c11942445",
     "locked": false,
     "points": 3,
     "schema_version": 2,
     "solution": true
    }
   },
   "outputs": [],
   "source": [
    "# your code here\n",
    "fail() # No Answer - remove if you provide an answer"
   ]
  },
  {
   "cell_type": "markdown",
   "metadata": {
    "deletable": false,
    "editable": false,
    "nbgrader": {
     "cell_type": "markdown",
     "checksum": "95d9e306ed3da2312e2e394bd9ae276b",
     "grade": false,
     "grade_id": "cell-4b9f74303428862b",
     "locked": true,
     "schema_version": 2,
     "solution": false
    }
   },
   "source": [
    "**Question 2.1**\n",
    "\n",
    "Perform k-means and vary K from 1 to 10 to identify the optimal number of clusters. Create an elbow plot to help you choose K. At all steps use `nstart = 100` and do not forget to set a seed. "
   ]
  },
  {
   "cell_type": "code",
   "execution_count": null,
   "metadata": {
    "deletable": false,
    "nbgrader": {
     "cell_type": "code",
     "checksum": "4954475e4047c07b607b8c2a3165a945",
     "grade": true,
     "grade_id": "cell-62833cac0177ae24",
     "locked": false,
     "points": 3,
     "schema_version": 2,
     "solution": true
    }
   },
   "outputs": [],
   "source": [
    "# your code here\n",
    "fail() # No Answer - remove if you provide an answer"
   ]
  },
  {
   "cell_type": "markdown",
   "metadata": {},
   "source": [
    "#### Question 2.2\n",
    "\n",
    "From the elbow plot above, which K should you choose? Explain why you chose that K."
   ]
  },
  {
   "cell_type": "markdown",
   "metadata": {
    "deletable": false,
    "nbgrader": {
     "cell_type": "markdown",
     "checksum": "e3802b93f04a34000fa74e9c7abf083d",
     "grade": true,
     "grade_id": "cell-2b5c7955cd9d8bd3",
     "locked": false,
     "points": 3,
     "schema_version": 2,
     "solution": true
    }
   },
   "source": [
    "YOUR ANSWER HERE"
   ]
  },
  {
   "cell_type": "markdown",
   "metadata": {
    "deletable": false,
    "editable": false,
    "nbgrader": {
     "cell_type": "markdown",
     "checksum": "5fbfe58d3ceb9c6e6f7ded72a864f4b4",
     "grade": false,
     "grade_id": "cell-10b5cae4c72389b8",
     "locked": true,
     "schema_version": 2,
     "solution": false
    }
   },
   "source": [
    "**Question 2.3**\n",
    "\n",
    "Do kmeans (don't forget `nstart` and to also set a seed) again, with the optimal K, and then use the `augment` function to get the cluster assignments for each point. Name the data frame `cluster_assignments`."
   ]
  },
  {
   "cell_type": "code",
   "execution_count": null,
   "metadata": {
    "deletable": false,
    "nbgrader": {
     "cell_type": "code",
     "checksum": "b5f5f022ce0be9465454ffd5296e12fd",
     "grade": true,
     "grade_id": "cell-1ac55da2934ef5f6",
     "locked": false,
     "points": 3,
     "schema_version": 2,
     "solution": true
    }
   },
   "outputs": [],
   "source": [
    "# your code here\n",
    "fail() # No Answer - remove if you provide an answer\n",
    "head(cluster_assignments)"
   ]
  },
  {
   "cell_type": "markdown",
   "metadata": {},
   "source": [
    "For the following 2 questions use the following plot as reference."
   ]
  },
  {
   "cell_type": "code",
   "execution_count": null,
   "metadata": {},
   "outputs": [],
   "source": [
    "options(repr.plot.height = 6, repr.plot.width = 8)\n",
    "cluster_assignments %>%\n",
    "    gather(key = 'category', value = 'value', -.cluster) %>%\n",
    "    ggplot(aes(value, fill = .cluster)) +\n",
    "        geom_density(alpha = 0.4, colour = 'white') +\n",
    "        facet_wrap(~ category, scales = 'free') +\n",
    "        theme_minimal()"
   ]
  },
  {
   "cell_type": "markdown",
   "metadata": {},
   "source": [
    "**Question 2.4**\n",
    "\n",
    "From the plots above, which categories might we hypothesize are driving the clustering? (i.e., are useful to distinguish between the type of tourists?) And explain why you think so for each category? We list the table of the categories below. \n",
    "\n",
    "- Category 1 : Average user feedback on art galleries \n",
    "- Category 2 : Average user feedback on dance clubs \n",
    "- Category 3 : Average user feedback on juice bars \n",
    "- Category 4 : Average user feedback on restaurants \n",
    "- Category 5 : Average user feedback on museums \n",
    "- Category 6 : Average user feedback on resorts \n",
    "- Category 7 : Average user feedback on parks/picnic spots \n",
    "- Category 8 : Average user feedback on beaches \n",
    "- Category 9 : Average user feedback on theaters \n",
    "- Category 10 : Average user feedback on religious institutions"
   ]
  },
  {
   "cell_type": "markdown",
   "metadata": {
    "deletable": false,
    "nbgrader": {
     "cell_type": "markdown",
     "checksum": "dc2ac811fc4ebf44aa5225f1b3e02e47",
     "grade": true,
     "grade_id": "cell-84cc3e17b9ba9acb",
     "locked": false,
     "points": 3,
     "schema_version": 2,
     "solution": true
    }
   },
   "source": [
    "YOUR ANSWER HERE"
   ]
  },
  {
   "cell_type": "markdown",
   "metadata": {
    "deletable": false,
    "editable": false,
    "nbgrader": {
     "cell_type": "markdown",
     "checksum": "70fae7744f97caddc8287a72e4fd0d3b",
     "grade": false,
     "grade_id": "cell-ec41e7e431266a81",
     "locked": true,
     "schema_version": 2,
     "solution": false
    }
   },
   "source": [
    "**Question 2.5**\n",
    "\n",
    "Discuss one disadvantage of not being able to visualize the clusters when dealing with multidimensional data. "
   ]
  },
  {
   "cell_type": "markdown",
   "metadata": {
    "deletable": false,
    "nbgrader": {
     "cell_type": "markdown",
     "checksum": "e52ce5251326e8b403ec1c3ae6876be8",
     "grade": true,
     "grade_id": "cell-18cf13d05bed9065",
     "locked": false,
     "points": 3,
     "schema_version": 2,
     "solution": true
    }
   },
   "source": [
    "YOUR ANSWER HERE"
   ]
  }
 ],
 "metadata": {
  "kernelspec": {
   "display_name": "R",
   "language": "R",
   "name": "ir"
  },
  "language_info": {
   "codemirror_mode": "r",
   "file_extension": ".r",
   "mimetype": "text/x-r-source",
   "name": "R",
   "pygments_lexer": "r",
   "version": "3.5.1"
  }
 },
 "nbformat": 4,
 "nbformat_minor": 2
}
