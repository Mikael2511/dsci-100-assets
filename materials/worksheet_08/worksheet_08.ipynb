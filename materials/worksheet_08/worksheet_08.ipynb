{
 "cells": [
  {
   "cell_type": "markdown",
   "metadata": {
    "deletable": false,
    "editable": false,
    "nbgrader": {
     "cell_type": "markdown",
     "checksum": "7009af6ae4473706756c93a902320854",
     "grade": false,
     "grade_id": "cell-6093d584be2ad9ed",
     "locked": true,
     "schema_version": 2,
     "solution": false
    }
   },
   "source": [
    "# Worksheet 8 - Regression\n",
    "\n",
    "### Lecture and Tutorial Learning Goals:\n",
    "\n",
    "After completing this week's lecture and tutorial work, you will be able to:\n",
    "- Recognize situations where a simple regression analysis would be appropriate for making predictions.\n",
    "- Explain the k-nearest neighbour (k-nn) regression algorithm and describe how it differs from k-nn classification.\n",
    "- Interpret the output of a k-nn regression.\n",
    "- In a dataset with two variables, perform k-nearest neighbour regression in R using `caret::knnregTrain()` to predict the values for a test dataset.\n",
    "- Using R, execute cross-validation in R to choose the number of neighbours.\n",
    "- Using R, evaluate k-nn regression prediction accuracy using a test data set and an appropriate metric (e.g., root mean square prediction error, $RMSE$).\n",
    "- Describe advantages and disadvantages of the k-nearest neighbour regression approach.\n",
    "\n"
   ]
  },
  {
   "cell_type": "code",
   "execution_count": null,
   "metadata": {},
   "outputs": [],
   "source": [
    "### Run this cell before continuing.\n",
    "\n",
    "library(tidyverse)\n",
    "library(testthat)\n",
    "library(digest)\n",
    "library(repr)\n",
    "library(caret)"
   ]
  },
  {
   "cell_type": "markdown",
   "metadata": {
    "deletable": false,
    "editable": false,
    "nbgrader": {
     "cell_type": "markdown",
     "checksum": "c9b3331d3a2bc65e622012c5cf588e4d",
     "grade": false,
     "grade_id": "cell-8e40e06455324a19",
     "locked": true,
     "schema_version": 2,
     "solution": false
    }
   },
   "source": [
    "**Question 0.0**\n",
    "\n",
    "To predict a value for $Y$ for a new observation using k-nn regression, we identify the $k$-nearest neighbours and then:\n",
    "\n",
    "A. Assign it the median of the of the $k$-nearest neighbours as the predicted value\n",
    "\n",
    "B. Assign it the mean of the of the $k$-nearest neighbours as the predicted value\n",
    "\n",
    "C. Assign it the mode of the of the $k$-nearest neighbours as the predicted value\n",
    "\n",
    "D. Assign it the majority vote of the of the $k$-nearest neighbours as the predicted value\n",
    "\n",
    "Save the letter of the answer you think is correct to a variable named `answer0.0`. Make sure you put quotations around the letter and pay attention to case."
   ]
  },
  {
   "cell_type": "code",
   "execution_count": null,
   "metadata": {
    "deletable": false,
    "nbgrader": {
     "cell_type": "code",
     "checksum": "b2a94d99e15ed916391daed3643fe923",
     "grade": false,
     "grade_id": "cell-108236d99368cc44",
     "locked": false,
     "schema_version": 2,
     "solution": true
    }
   },
   "outputs": [],
   "source": [
    "# your code here\n",
    "fail() # No Answer - remove if you provide an answer\n",
    "answer0.0"
   ]
  },
  {
   "cell_type": "code",
   "execution_count": null,
   "metadata": {
    "deletable": false,
    "editable": false,
    "nbgrader": {
     "cell_type": "code",
     "checksum": "701bdb2fca03a9b8694ccc1ba6bcb3f4",
     "grade": true,
     "grade_id": "cell-7d5938e33a38edeb",
     "locked": true,
     "points": 1,
     "schema_version": 2,
     "solution": false
    }
   },
   "outputs": [],
   "source": [
    "test_that('Solution is correct', {\n",
    "    expect_equal(digest(answer0.0), '3a5505c06543876fe45598b5e5e5195d')\n",
    "})\n",
    "print(\"Success!\")"
   ]
  },
  {
   "cell_type": "markdown",
   "metadata": {
    "deletable": false,
    "editable": false,
    "nbgrader": {
     "cell_type": "markdown",
     "checksum": "a05c404c60846feaa3bcf5806475a18e",
     "grade": false,
     "grade_id": "cell-ded5f8fa4e621b81",
     "locked": true,
     "schema_version": 2,
     "solution": false
    }
   },
   "source": [
    "**Question 0.1**\n",
    "\n",
    "The plot below is a very simple k-nn regression example, where the black dots are the data observations and the blue line is the predictions from a k-nn regression model created from this data where $k$=2.\n",
    "\n",
    "Using the formula for $RMSE$ (given in the reading), and the graph below, by hand (pen and paper or use R as a calculator) calculate $RMSE$ for this model. Estimate the values off the graph to one decimal place. Save your answer to a variable named `answer0.1`\n",
    "\n",
    "<img align=\"left\" src=\"img/k-nn_RMSE.jpeg\" />"
   ]
  },
  {
   "cell_type": "code",
   "execution_count": null,
   "metadata": {
    "deletable": false,
    "nbgrader": {
     "cell_type": "code",
     "checksum": "85d9b6fa9ab1eea746002dd1e5013d3d",
     "grade": false,
     "grade_id": "cell-8dc7cc6f35de80cb",
     "locked": false,
     "schema_version": 2,
     "solution": true
    }
   },
   "outputs": [],
   "source": [
    "# your code here\n",
    "fail() # No Answer - remove if you provide an answer\n",
    "answer0.1"
   ]
  },
  {
   "cell_type": "code",
   "execution_count": null,
   "metadata": {
    "deletable": false,
    "editable": false,
    "nbgrader": {
     "cell_type": "code",
     "checksum": "81753944e61c80249f34f759606e86a9",
     "grade": true,
     "grade_id": "cell-d90b3e7b890ce86b",
     "locked": true,
     "points": 1,
     "schema_version": 2,
     "solution": false
    }
   },
   "outputs": [],
   "source": [
    "test_that('Solution is correct', {\n",
    "    expect_true(digest(round(answer0.1, 2)) %in% c('651ba44efc6a75d694ff482aae958ccc', '2a1ea47875e195a421d56ae3f6621d32'))\n",
    "})\n",
    "print(\"Success!\")"
   ]
  },
  {
   "cell_type": "markdown",
   "metadata": {},
   "source": [
    "## Marathon training\n",
    "\n",
    "<img src='https://media.giphy.com/media/nUN6InE2CodRm/giphy.gif' width='400'>\n",
    "\n",
    "Source: https://media.giphy.com/media/nUN6InE2CodRm/giphy.gif\n",
    "\n",
    "What predicts which athletes will perform better than others? Specifically, we are interested in marathon runners, and looking at how the maximum distance ran per week during training predicts the time it takes a runner to end the race? For this, we will be looking at the `marathon.csv` file in the `data/` folder."
   ]
  },
  {
   "cell_type": "markdown",
   "metadata": {
    "deletable": false,
    "editable": false,
    "nbgrader": {
     "cell_type": "markdown",
     "checksum": "35ae5402d8995df5c5df80a4b639816b",
     "grade": false,
     "grade_id": "cell-16d7d432c49c9e53",
     "locked": true,
     "schema_version": 2,
     "solution": false
    }
   },
   "source": [
    "**Question 1.0** \n",
    "\n",
    "Load the data and assign it to an object called `marathon`. "
   ]
  },
  {
   "cell_type": "code",
   "execution_count": null,
   "metadata": {
    "deletable": false,
    "nbgrader": {
     "cell_type": "code",
     "checksum": "464f7ba8588a4184b748942b1bb73888",
     "grade": false,
     "grade_id": "cell-5376dc2c39983258",
     "locked": false,
     "schema_version": 2,
     "solution": true
    }
   },
   "outputs": [],
   "source": [
    "# your code here\n",
    "fail() # No Answer - remove if you provide an answer\n",
    "head(marathon)"
   ]
  },
  {
   "cell_type": "code",
   "execution_count": null,
   "metadata": {
    "deletable": false,
    "editable": false,
    "nbgrader": {
     "cell_type": "code",
     "checksum": "b95c13d3957eb343f28ec06edf6c7ccd",
     "grade": true,
     "grade_id": "cell-60554f6f6a56a16c",
     "locked": true,
     "points": 1,
     "schema_version": 2,
     "solution": false
    }
   },
   "outputs": [],
   "source": [
    "test_that('Solution is correct', {\n",
    "    expect_equal(nrow(marathon), 929)\n",
    "    expect_equal(ncol(marathon), 13)\n",
    "    expect_that(\"time_hrs\" %in% colnames(marathon), is_true())\n",
    "    expect_that(\"max\" %in% colnames(marathon), is_true())\n",
    "})\n",
    "print(\"Success!\")"
   ]
  },
  {
   "cell_type": "markdown",
   "metadata": {
    "deletable": false,
    "editable": false,
    "nbgrader": {
     "cell_type": "markdown",
     "checksum": "901c34fe13440dfa2edceb3450b7d617",
     "grade": false,
     "grade_id": "cell-26802c14f46a4d8e",
     "locked": true,
     "schema_version": 2,
     "solution": false
    }
   },
   "source": [
    "**Question 2.0**\n",
    "\n",
    "Given that we want to predict race time (`time_hrs`) given a particular value of maximum distance ran per week during training (`max`). Let's take a subset of size 50 of our marathon data and assign it to an object called `marathon_50`. With this subset, plot a scatterplot to assess the relationship between these two variables. Put `time_hrs` on the y-axis and `max` on the x-axis. **Assign this plot to an object called `answer2`.** Discuss with your neighbour the relationship between race time and maximum distance ran per week during training based on the scatterplot you create below. \n",
    "\n",
    "*Hint: To take a subset of your data you can use the `sample_n()` function*"
   ]
  },
  {
   "cell_type": "code",
   "execution_count": null,
   "metadata": {
    "deletable": false,
    "nbgrader": {
     "cell_type": "code",
     "checksum": "ac7710e4c40128a6222e4a0ebe61fd6c",
     "grade": false,
     "grade_id": "cell-6fcfc6ca32883f4d",
     "locked": false,
     "schema_version": 2,
     "solution": true
    }
   },
   "outputs": [],
   "source": [
    "set.seed(2000) ### DO NOT CHANGE\n",
    "\n",
    "#marathon_50 <- ... %>%\n",
    "#    sample_n(...)\n",
    "\n",
    "# your code here\n",
    "fail() # No Answer - remove if you provide an answer\n",
    "answer2"
   ]
  },
  {
   "cell_type": "code",
   "execution_count": null,
   "metadata": {
    "deletable": false,
    "editable": false,
    "nbgrader": {
     "cell_type": "code",
     "checksum": "a81d0f607c1a69997bd386b4d348f659",
     "grade": true,
     "grade_id": "cell-78ac50fb41cd9a86",
     "locked": true,
     "points": 1,
     "schema_version": 2,
     "solution": false
    }
   },
   "outputs": [],
   "source": [
    "test_that('Solution is incorrect', {\n",
    "    expect_true(exists('marathon_50'))\n",
    "    expect_equal(digest(as.character(rlang::get_expr(answer2$mapping$x))) , '60f9c54cbd347e2956e968462f44c536')\n",
    "    expect_equal(digest(as.character(rlang::get_expr(answer2$mapping$y))) , 'b55efe8bd9491c88b50fd4d402fbde92')\n",
    "    expect_equal(digest(class(rlang::get_expr(answer2$layers[[1]]$geom))[1]), '911e5b9debfb523f25ad2ccc01a4b2dd')\n",
    "    })\n",
    "print(\"Success!\")"
   ]
  },
  {
   "cell_type": "markdown",
   "metadata": {
    "deletable": false,
    "editable": false,
    "nbgrader": {
     "cell_type": "markdown",
     "checksum": "82924116a60d61ac57a4c7f8b0f87fd9",
     "grade": false,
     "grade_id": "cell-cbe9f9a5c4b7c264",
     "locked": true,
     "schema_version": 2,
     "solution": false
    }
   },
   "source": [
    "**Question 3.0**\n",
    "\n",
    "Suppose we want to predict the race time for someone who ran a maximum distance of 100 miles per week during training. In the plot below we can see that no one has ran a maximum distance of 100 miles per week. But, if we are interested in prediction, how can we predict with this data? We can use k-nn regression, to do this we get the $Y$ values (target/response variable) of the nearest $k$ values and then take their average and use that as the prediction. \n",
    "\n",
    "For this question we want to predict race time based on the 4 closest neighbors to the 100 miles per week during training.\n",
    "\n",
    "Fill in the scaffolding below and assign your answer to an object named `answer3`."
   ]
  },
  {
   "cell_type": "code",
   "execution_count": null,
   "metadata": {},
   "outputs": [],
   "source": [
    "options(repr.plot.height = 3, repr.plot.width = 3)\n",
    "\n",
    "marathon_50 %>%\n",
    "    ggplot(aes(x = max, y = time_hrs)) + \n",
    "        geom_point(color = 'dodgerblue', alpha = 0.4) +\n",
    "        geom_vline(xintercept = 100, linetype = \"dotted\") +\n",
    "        xlab(\"Maximum Distance Ran per \\n Week During Training (mi)\") +\n",
    "        ylab(\"Race Time (hours)\") + \n",
    "        geom_segment(aes(x = 100, y = 2.57, xend = 80, yend = 2.57), col = \"orange\") +\n",
    "        geom_segment(aes(x = 100, y = 2.87, xend = 75, yend = 2.87), col = \"orange\") +\n",
    "        geom_segment(aes(x = 100, y = 2.61, xend = 110, yend = 2.61), col = \"orange\") +\n",
    "        geom_segment(aes(x = 100, y = 2.93, xend = 105, yend = 2.93), col = \"orange\")"
   ]
  },
  {
   "cell_type": "code",
   "execution_count": null,
   "metadata": {
    "deletable": false,
    "nbgrader": {
     "cell_type": "code",
     "checksum": "764f8609c283d226f2387fdfde0e96da",
     "grade": false,
     "grade_id": "cell-a8d1b15c312d9c3d",
     "locked": false,
     "schema_version": 2,
     "solution": true
    }
   },
   "outputs": [],
   "source": [
    "#answer3 <- ... %>% \n",
    "#  mutate(diff = abs(100 - ...)) %>% \n",
    "#  ...(diff) %>% \n",
    "#  head(...) %>%  #Controls the K\n",
    "#  summarise(predicted = ...(...)) %>%\n",
    "#  unlist()\n",
    "\n",
    "# your code here\n",
    "fail() # No Answer - remove if you provide an answer\n",
    "answer3"
   ]
  },
  {
   "cell_type": "code",
   "execution_count": null,
   "metadata": {
    "deletable": false,
    "editable": false,
    "nbgrader": {
     "cell_type": "code",
     "checksum": "314f9050d6f866c81100c0d2a5ab1eef",
     "grade": true,
     "grade_id": "cell-af7afd4794001c7b",
     "locked": true,
     "points": 1,
     "schema_version": 2,
     "solution": false
    }
   },
   "outputs": [],
   "source": [
    "test_that('Solution is correct', {\n",
    "    expect_true(exists('answer3'))\n",
    "    expect_equal(digest(as.numeric(answer3)), '485826410541b8deebb40b4fb731ca15')\n",
    "})\n",
    "print(\"Success!\")"
   ]
  },
  {
   "cell_type": "markdown",
   "metadata": {},
   "source": [
    "**Question 4.0**\n",
    "\n",
    "For this question, let's instead predict the race time based on the 2 closest neighbors to the 100 miles per week during training.\n",
    "\n",
    "Assign your answer to an object named `answer4`."
   ]
  },
  {
   "cell_type": "code",
   "execution_count": null,
   "metadata": {
    "deletable": false,
    "nbgrader": {
     "cell_type": "code",
     "checksum": "3371f7bb2081a1f1eb48c702eebd05b6",
     "grade": false,
     "grade_id": "cell-44994bbd299ff0d0",
     "locked": false,
     "schema_version": 2,
     "solution": true
    }
   },
   "outputs": [],
   "source": [
    "# your code here\n",
    "fail() # No Answer - remove if you provide an answer\n",
    "answer4"
   ]
  },
  {
   "cell_type": "code",
   "execution_count": null,
   "metadata": {
    "deletable": false,
    "editable": false,
    "nbgrader": {
     "cell_type": "code",
     "checksum": "e458ca0e30160eede5af196e557d68bd",
     "grade": true,
     "grade_id": "cell-690e322810064165",
     "locked": true,
     "points": 1,
     "schema_version": 2,
     "solution": false
    }
   },
   "outputs": [],
   "source": [
    "test_that('Solution is correct', {\n",
    "    expect_true(exists('answer4'))\n",
    "    expect_equal(digest(as.numeric(answer4)), '0d7b5b246b9c97983f281a717db02df2')\n",
    "})\n",
    "print(\"Success!\")"
   ]
  },
  {
   "cell_type": "markdown",
   "metadata": {
    "deletable": false,
    "editable": false,
    "nbgrader": {
     "cell_type": "markdown",
     "checksum": "4ac13c9aa783c79b9c0216fff3557582",
     "grade": false,
     "grade_id": "cell-3311ba44befa3767",
     "locked": true,
     "schema_version": 2,
     "solution": false
    }
   },
   "source": [
    "**Question 5.0** Multiple Choice\n",
    "\n",
    "Now that you have done K Nearest Neighbors predictions manually, which method would you use to choose the $k$?\n",
    "\n",
    "- A) Choose the $k$ that excludes most outliers\n",
    "- B) Choose the $k$ with the lowest training error\n",
    "- C) Choose the $k$ with the lowest cross-validation error\n",
    "- D) Choose the $k$ that includes the most data points\n",
    "- D) Choose the $k$ with the lowest testing error\n",
    "\n",
    "*Assing your answer to an object called `answer5`*"
   ]
  },
  {
   "cell_type": "code",
   "execution_count": null,
   "metadata": {
    "deletable": false,
    "nbgrader": {
     "cell_type": "code",
     "checksum": "c83dc077526feec5a878b16162803074",
     "grade": false,
     "grade_id": "cell-01b498d6b1415bf5",
     "locked": false,
     "schema_version": 2,
     "solution": true
    }
   },
   "outputs": [],
   "source": [
    "# Assign your answer to an object called: answer5\n",
    "# Make sure the correct answer is an uppercase letter. \n",
    "# Surround your answer with quotation marks.\n",
    "# Replace the fail() with your answer. \n",
    "\n",
    "# your code here\n",
    "fail() # No Answer - remove if you provide an answer"
   ]
  },
  {
   "cell_type": "code",
   "execution_count": null,
   "metadata": {
    "deletable": false,
    "editable": false,
    "nbgrader": {
     "cell_type": "code",
     "checksum": "3a4d6848152cfa4459b6bb163132ce6b",
     "grade": true,
     "grade_id": "cell-7cbe965dbdb7228d",
     "locked": true,
     "points": 1,
     "schema_version": 2,
     "solution": false
    }
   },
   "outputs": [],
   "source": [
    "test_that('Solution is correct', {\n",
    "    expect_that(exists('answer5'), is_true())\n",
    "    expect_equal(digest(answer5), '475bf9280aab63a82af60791302736f6')\n",
    "})\n",
    "print(\"Success!\")"
   ]
  },
  {
   "cell_type": "markdown",
   "metadata": {
    "deletable": false,
    "editable": false,
    "nbgrader": {
     "cell_type": "markdown",
     "checksum": "5275e151e5b7c0e218f8967efc09f5a0",
     "grade": false,
     "grade_id": "cell-b3b34499fe540e49",
     "locked": true,
     "schema_version": 2,
     "solution": false
    }
   },
   "source": [
    "**Question 6.0**\n",
    "\n",
    "We have seen how to do k-nn regression manually, now we will apply it to the whole dataset using the `caret` package. For this we first need to create a training and testing sets. Remember we won't touch the test dataset until the end. \n",
    "\n",
    "For this question create an object called `training_rows` that includes the indexes of the rows we will use. \n",
    "\n",
    "*Use 75% of the data as training data*"
   ]
  },
  {
   "cell_type": "code",
   "execution_count": null,
   "metadata": {
    "deletable": false,
    "nbgrader": {
     "cell_type": "code",
     "checksum": "77b58c103709f33fc5e55085873cd296",
     "grade": false,
     "grade_id": "cell-8257a9338314019e",
     "locked": false,
     "schema_version": 2,
     "solution": true
    }
   },
   "outputs": [],
   "source": [
    "set.seed(2000) ### DO NOT CHANGE\n",
    "\n",
    "#... <- marathon %>% \n",
    "#  select(...) %>% \n",
    "#  unlist() %>%\n",
    "#  createDataPartition(p = ..., list = FALSE)\n",
    "\n",
    "# your code here\n",
    "fail() # No Answer - remove if you provide an answer\n",
    "head(training_rows)"
   ]
  },
  {
   "cell_type": "code",
   "execution_count": null,
   "metadata": {
    "deletable": false,
    "editable": false,
    "nbgrader": {
     "cell_type": "code",
     "checksum": "ba60ed88eac94ed088e3f300c44cb414",
     "grade": true,
     "grade_id": "cell-381c8aeacf15fd35",
     "locked": true,
     "points": 1,
     "schema_version": 2,
     "solution": false
    }
   },
   "outputs": [],
   "source": [
    "test_that('Solution is correct', {\n",
    "    expect_equal(nrow(training_rows), 698)\n",
    "    expect_equal(ncol(training_rows), 1)\n",
    "})\n",
    "print(\"Success!\")"
   ]
  },
  {
   "cell_type": "markdown",
   "metadata": {},
   "source": [
    "**Question 7.0**\n",
    "\n",
    "Create the training and testing dataset filling the scaffoldings below. The scaffolding for the training dataset is given below. \n",
    "\n",
    "Assing your answer to objects called `X_train`, `Y_train`, `X_test`, `Y_test` respectively.\n",
    "\n",
    "*Hint: For the test dataset you can use the `-` sign inside the `slice()` function.*"
   ]
  },
  {
   "cell_type": "code",
   "execution_count": null,
   "metadata": {
    "deletable": false,
    "nbgrader": {
     "cell_type": "code",
     "checksum": "e7fba5b85f13db83f727469a0a4d95bf",
     "grade": false,
     "grade_id": "cell-766f1e094dd32efc",
     "locked": false,
     "schema_version": 2,
     "solution": true
    }
   },
   "outputs": [],
   "source": [
    "#X_train <- marathon %>% \n",
    "#  select(...) %>% \n",
    "#  slice(training_rows) %>% \n",
    "#  data.frame()\n",
    "\n",
    "#Y_train <- marathon %>% \n",
    "#  select(...) %>% \n",
    "#  slice(training_rows) %>% \n",
    "#  unlist()\n",
    "\n",
    "# your code here\n",
    "fail() # No Answer - remove if you provide an answer"
   ]
  },
  {
   "cell_type": "code",
   "execution_count": null,
   "metadata": {
    "deletable": false,
    "editable": false,
    "nbgrader": {
     "cell_type": "code",
     "checksum": "a48eda8245083d4b13288d2778018960",
     "grade": true,
     "grade_id": "cell-289bc7a299c4f482",
     "locked": true,
     "points": 1,
     "schema_version": 2,
     "solution": false
    }
   },
   "outputs": [],
   "source": [
    "test_that('Solution is correct', {\n",
    "    expect_equal(dim(X_train), c(698, 1))\n",
    "    expect_equal(class(X_train), 'data.frame')\n",
    "    expect_equal(dim(X_test), c(231, 1))\n",
    "    expect_equal(class(X_test), 'data.frame')\n",
    "    expect_equal(length(Y_train), 698)\n",
    "    expect_equal(class(Y_train), 'numeric')\n",
    "    expect_equal(length(Y_test), 231)\n",
    "    expect_equal(class(Y_test), 'numeric')\n",
    "})\n",
    "print(\"Success!\")"
   ]
  },
  {
   "cell_type": "markdown",
   "metadata": {
    "deletable": false,
    "editable": false,
    "nbgrader": {
     "cell_type": "markdown",
     "checksum": "dd959e838aac6fa308d5a7a1156c46a6",
     "grade": false,
     "grade_id": "cell-7cd5193eecc27c30",
     "locked": true,
     "schema_version": 2,
     "solution": false
    }
   },
   "source": [
    "**Question 8.0**\n",
    "\n",
    "Now that we have separated the data into training and testing sets, let's choose the $k$ for our $k$-nearest neighbours algorithm. We can do this using cross-validation as we've seen before for k-nn classification. In this exercise we will do 3-fold cross validation searching for a K from 1 to 250. For this question name your model object (output from `train`) `knn_cv`. "
   ]
  },
  {
   "cell_type": "code",
   "execution_count": null,
   "metadata": {
    "deletable": false,
    "nbgrader": {
     "cell_type": "code",
     "checksum": "c443c4a277987edb0257043f3fa5e8e6",
     "grade": false,
     "grade_id": "cell-8c7e7ded673d28ec",
     "locked": false,
     "schema_version": 2,
     "solution": true
    }
   },
   "outputs": [],
   "source": [
    "set.seed(2019) # DO NOT CHANGE\n",
    "# your code here\n",
    "fail() # No Answer - remove if you provide an answer\n",
    "knn_cv"
   ]
  },
  {
   "cell_type": "code",
   "execution_count": null,
   "metadata": {
    "deletable": false,
    "editable": false,
    "nbgrader": {
     "cell_type": "code",
     "checksum": "34b20f1026e1b51a31013c0254e15dba",
     "grade": true,
     "grade_id": "cell-29d608ebfdd11366",
     "locked": true,
     "points": 1,
     "schema_version": 2,
     "solution": false
    }
   },
   "outputs": [],
   "source": [
    "test_that('Solution is correct', {\n",
    "    expect_equal(digest(as.numeric(train_control$number)), 'e5b57f323c7b3719bbaaf9f96b260d39')\n",
    "    expect_equal(digest(train_control$method), '54c51511b5d01c4f13f8b56316886833')\n",
    "    expect_equal(digest(as.integer(sum(knn_cv$results$k))), '2c3292a23a8e95227c4d2aaf87d7da65')\n",
    "})\n",
    "print(\"Success!\")"
   ]
  },
  {
   "cell_type": "markdown",
   "metadata": {
    "deletable": false,
    "editable": false,
    "nbgrader": {
     "cell_type": "markdown",
     "checksum": "a78f9a0f2ed282e8e1f35cac5ad033fb",
     "grade": false,
     "grade_id": "cell-35eaea9c384c5f6c",
     "locked": true,
     "schema_version": 2,
     "solution": false
    }
   },
   "source": [
    "**Question 8.1**\n",
    "\n",
    "Plot the results from cross-validation as a line and point plot with cross-validation error (as $RMSE$) on the y-axis and $k$ on the x-axis. Name your plot object `choosing_k`."
   ]
  },
  {
   "cell_type": "code",
   "execution_count": null,
   "metadata": {
    "deletable": false,
    "nbgrader": {
     "cell_type": "code",
     "checksum": "fa4a978b45d70cf06c490f5936af18d8",
     "grade": false,
     "grade_id": "cell-f9738d45da9e8a77",
     "locked": false,
     "schema_version": 2,
     "solution": true
    }
   },
   "outputs": [],
   "source": [
    "# your code here\n",
    "fail() # No Answer - remove if you provide an answer\n",
    "choosing_k"
   ]
  },
  {
   "cell_type": "code",
   "execution_count": null,
   "metadata": {
    "deletable": false,
    "editable": false,
    "nbgrader": {
     "cell_type": "code",
     "checksum": "07304d9d9c83481869ecab0f7073a9fa",
     "grade": true,
     "grade_id": "cell-a1e34e1fb62d79f5",
     "locked": true,
     "points": 0,
     "schema_version": 2,
     "solution": false
    }
   },
   "outputs": [],
   "source": [
    "test_that('Solution is incorrect', {\n",
    "    expect_equal(as.character(rlang::get_expr(choosing_k$mapping$x)), 'k')\n",
    "    expect_equal(as.character(rlang::get_expr(choosing_k$mapping$y)), 'RMSE')\n",
    "    expect_true('GeomLine' %in% c(class(rlang::get_expr(choosing_k$layers[[1]]$geom)), class(rlang::get_expr(choosing_k$layers[[2]]$geom))))\n",
    "    expect_true('GeomPoint' %in% c(class(rlang::get_expr(choosing_k$layers[[1]]$geom)), class(rlang::get_expr(choosing_k$layers[[2]]$geom))))\n",
    "    })\n",
    "print(\"Success!\")"
   ]
  },
  {
   "cell_type": "markdown",
   "metadata": {
    "deletable": false,
    "editable": false,
    "nbgrader": {
     "cell_type": "markdown",
     "checksum": "1fee0e3a121bc6b51ce543e02880c77d",
     "grade": false,
     "grade_id": "cell-28a414eb59f5ae20",
     "locked": true,
     "schema_version": 2,
     "solution": false
    }
   },
   "source": [
    "**Question 8.2**\n",
    "\n",
    "Report the best $k$ for k-nn regression for this data set. Save your answer as an object named `best_k`. We provide scaffolding to help you choose the $k$ from the long list that you came up with:"
   ]
  },
  {
   "cell_type": "code",
   "execution_count": null,
   "metadata": {
    "deletable": false,
    "nbgrader": {
     "cell_type": "code",
     "checksum": "17665d7cb6591060d4069ff86bfd46ac",
     "grade": false,
     "grade_id": "cell-a4de6046a0bd5f96",
     "locked": false,
     "schema_version": 2,
     "solution": true
    }
   },
   "outputs": [],
   "source": [
    "#best_k <- knn_cv$results %>%\n",
    "#    filter(... == min(...)) %>%\n",
    "#    select(..) %>%\n",
    "#    unlist()\n",
    "\n",
    "# your code here\n",
    "fail() # No Answer - remove if you provide an answer\n",
    "best_k"
   ]
  },
  {
   "cell_type": "code",
   "execution_count": null,
   "metadata": {
    "deletable": false,
    "editable": false,
    "nbgrader": {
     "cell_type": "code",
     "checksum": "7661217d3633b30c0193c556a2895177",
     "grade": true,
     "grade_id": "cell-94fab75dca459b65",
     "locked": true,
     "points": 1,
     "schema_version": 2,
     "solution": false
    }
   },
   "outputs": [],
   "source": [
    "test_that('Solution is incorrect', {\n",
    "    expect_equal(digest(as.numeric(best_k)), 'f67fbc496dfabdb88e8a3761809759ab')\n",
    "    })\n",
    "print(\"Success!\")"
   ]
  },
  {
   "cell_type": "markdown",
   "metadata": {
    "deletable": false,
    "editable": false,
    "nbgrader": {
     "cell_type": "markdown",
     "checksum": "2a7f4f327236de5d3cad267a02baa6e2",
     "grade": false,
     "grade_id": "cell-09be23f07c3d5337",
     "locked": true,
     "schema_version": 2,
     "solution": false
    }
   },
   "source": [
    "**Question 8.3**\n",
    "\n",
    "Our test error for $k$ = 75 is 0.5687047, true or false? Save your answer as `\"true\"` or `\"false\"` and name it `answer8.3`"
   ]
  },
  {
   "cell_type": "code",
   "execution_count": null,
   "metadata": {
    "deletable": false,
    "nbgrader": {
     "cell_type": "code",
     "checksum": "7aae8bbc8a1701047b99edf55a93058d",
     "grade": false,
     "grade_id": "cell-02bc040dcb1de7b1",
     "locked": false,
     "schema_version": 2,
     "solution": true
    }
   },
   "outputs": [],
   "source": [
    "# your code here\n",
    "fail() # No Answer - remove if you provide an answer\n",
    "answer8.3"
   ]
  },
  {
   "cell_type": "code",
   "execution_count": null,
   "metadata": {
    "deletable": false,
    "editable": false,
    "nbgrader": {
     "cell_type": "code",
     "checksum": "bd134b0aa7b5a4958a4672433ed47964",
     "grade": true,
     "grade_id": "cell-4cb5472e2903171e",
     "locked": true,
     "points": 1,
     "schema_version": 2,
     "solution": false
    }
   },
   "outputs": [],
   "source": [
    "test_that('Solution is incorrect', {\n",
    "    expect_equal(digest(answer8.3), 'd2a90307aac5ae8d0ef58e2fe730d38b')\n",
    "    })\n",
    "print(\"Success!\")"
   ]
  },
  {
   "cell_type": "markdown",
   "metadata": {
    "deletable": false,
    "editable": false,
    "nbgrader": {
     "cell_type": "markdown",
     "checksum": "8f113fd21dca83c8054c3a81cad7d2d3",
     "grade": false,
     "grade_id": "cell-f527fba0cc1ca89d",
     "locked": true,
     "schema_version": 2,
     "solution": false
    }
   },
   "source": [
    "**Question 9.0**\n",
    "\n",
    "Re-train your k-nn regression model with the best $k$ that you found in **Question 8** using the entire training data set. Assign the model to an object called `knn_model`."
   ]
  },
  {
   "cell_type": "code",
   "execution_count": null,
   "metadata": {
    "deletable": false,
    "nbgrader": {
     "cell_type": "code",
     "checksum": "b542f322d8f0c91a78c934012c4cd93e",
     "grade": false,
     "grade_id": "cell-e623a65f902a7e98",
     "locked": false,
     "schema_version": 2,
     "solution": true
    }
   },
   "outputs": [],
   "source": [
    "set.seed(2019) # DO NOT CHANGE\n",
    "\n",
    "# your code here\n",
    "fail() # No Answer - remove if you provide an answer\n",
    "knn_model"
   ]
  },
  {
   "cell_type": "code",
   "execution_count": null,
   "metadata": {
    "deletable": false,
    "editable": false,
    "nbgrader": {
     "cell_type": "code",
     "checksum": "4b53ba6b782210ab90b47eed1190c2fa",
     "grade": true,
     "grade_id": "cell-5eff9c974a058bdf",
     "locked": true,
     "points": 1,
     "schema_version": 2,
     "solution": false
    }
   },
   "outputs": [],
   "source": [
    "test_that('Solution is correct', {\n",
    "    expect_that(exists('train_control'), is_true())\n",
    "    expect_equal(as.integer(knn_model$results$k), 75)\n",
    "    expect_equal(knn_model$method, 'knn')\n",
    "    expect_equal(knn_model$method, 'knn')\n",
    "    expect_equal(colnames(knn_model$trainingData), c('max', '.outcome'))\n",
    "    expect_equal(dim(knn_model$trainingData), c(698, 2))\n",
    "})\n",
    "print(\"Success!\")"
   ]
  },
  {
   "cell_type": "markdown",
   "metadata": {
    "deletable": false,
    "editable": false,
    "nbgrader": {
     "cell_type": "markdown",
     "checksum": "4d9bb38179e07300712140ffabd507ad",
     "grade": false,
     "grade_id": "cell-73aeadee1a8dbc15",
     "locked": true,
     "schema_version": 2,
     "solution": false
    }
   },
   "source": [
    "**Question 10.0**\n",
    "\n",
    "Using the `knn_model`, predict the test data and save it to an object called `predictions`."
   ]
  },
  {
   "cell_type": "code",
   "execution_count": null,
   "metadata": {
    "deletable": false,
    "nbgrader": {
     "cell_type": "code",
     "checksum": "160adf8bc019dfc816977eb7787e443b",
     "grade": false,
     "grade_id": "cell-3669c3b0c6c51b1f",
     "locked": false,
     "schema_version": 2,
     "solution": true
    }
   },
   "outputs": [],
   "source": [
    "set.seed(2019) # DO NOT CHANGE\n",
    "# your code here\n",
    "fail() # No Answer - remove if you provide an answer\n",
    "head(predictions)"
   ]
  },
  {
   "cell_type": "code",
   "execution_count": null,
   "metadata": {
    "deletable": false,
    "editable": false,
    "nbgrader": {
     "cell_type": "code",
     "checksum": "95a7cc0f203985495b60b687cc03ff6a",
     "grade": true,
     "grade_id": "cell-3cec20c48240f513",
     "locked": true,
     "points": 1,
     "schema_version": 2,
     "solution": false
    }
   },
   "outputs": [],
   "source": [
    "test_that('Solution is correct', {\n",
    "    expect_true(class(predictions) == 'numeric')\n",
    "    expect_equal(length(predictions), 231)\n",
    "})\n",
    "print(\"Success!\")"
   ]
  },
  {
   "cell_type": "markdown",
   "metadata": {
    "deletable": false,
    "editable": false,
    "nbgrader": {
     "cell_type": "markdown",
     "checksum": "d78dea1993ce3395a9077c15067172ab",
     "grade": false,
     "grade_id": "cell-94b40e5060598d9f",
     "locked": true,
     "schema_version": 2,
     "solution": false
    }
   },
   "source": [
    "**Question 11.0**\n",
    "\n",
    "Now with this predictions calculate the test error as $RMSE$ (how well the predictions on the test data match the true values of the test data set). Use the `defaultSummary` function to obtain the test error as $RMSE$, and name the object returned from it `test_error`."
   ]
  },
  {
   "cell_type": "code",
   "execution_count": null,
   "metadata": {
    "deletable": false,
    "nbgrader": {
     "cell_type": "code",
     "checksum": "815674e884829e0310a7f11e1e9ef712",
     "grade": false,
     "grade_id": "cell-a26e6074f574a39d",
     "locked": false,
     "schema_version": 2,
     "solution": true
    }
   },
   "outputs": [],
   "source": [
    "set.seed(2019) # DO NOT CHANGE\n",
    "# your code here\n",
    "fail() # No Answer - remove if you provide an answer\n",
    "test_error"
   ]
  },
  {
   "cell_type": "code",
   "execution_count": null,
   "metadata": {
    "deletable": false,
    "editable": false,
    "nbgrader": {
     "cell_type": "code",
     "checksum": "ef05f1048c271bdd2aa64b19c1eb0b2d",
     "grade": true,
     "grade_id": "cell-357e2a495c876d95",
     "locked": true,
     "points": 1,
     "schema_version": 2,
     "solution": false
    }
   },
   "outputs": [],
   "source": [
    "test_that('Solution is correct', {\n",
    "    expect_equal(digest(as.numeric(round(test_error['RMSE'], 3))), '30dc801401d69f591184aaaae5bfb987')\n",
    "})\n",
    "print(\"Success!\")"
   ]
  },
  {
   "cell_type": "markdown",
   "metadata": {
    "deletable": false,
    "editable": false,
    "nbgrader": {
     "cell_type": "markdown",
     "checksum": "4f115611f9af736f0db7272e1338ec2d",
     "grade": false,
     "grade_id": "cell-5c7a0a2e29cca209",
     "locked": true,
     "schema_version": 2,
     "solution": false
    }
   },
   "source": [
    "**Question 11.1**\n",
    "\n",
    "The test error (as measured by $RMSE$) is larger than the cross-validation error for the best $k$, true or false? Save your answer as `\"true\"` or `\"false\"` and name it `answer11.1`"
   ]
  },
  {
   "cell_type": "code",
   "execution_count": null,
   "metadata": {
    "deletable": false,
    "nbgrader": {
     "cell_type": "code",
     "checksum": "2a65f54b7a81c657523bb2bc09ffc5a8",
     "grade": false,
     "grade_id": "cell-449bf0dd8379f200",
     "locked": false,
     "schema_version": 2,
     "solution": true
    }
   },
   "outputs": [],
   "source": [
    "# your code here\n",
    "fail() # No Answer - remove if you provide an answer\n",
    "answer11.1"
   ]
  },
  {
   "cell_type": "code",
   "execution_count": null,
   "metadata": {
    "deletable": false,
    "editable": false,
    "nbgrader": {
     "cell_type": "code",
     "checksum": "217be1ebd334878cdd7f9fc69256231d",
     "grade": true,
     "grade_id": "cell-17d15559fbd9d8d1",
     "locked": true,
     "points": 1,
     "schema_version": 2,
     "solution": false
    }
   },
   "outputs": [],
   "source": [
    "test_that('Solution is correct', {\n",
    "    expect_equal(digest(answer11.1), '05ca18b596514af73f6880309a21b5dd')\n",
    "})\n",
    "print(\"Success!\")"
   ]
  },
  {
   "cell_type": "markdown",
   "metadata": {
    "deletable": false,
    "editable": false,
    "nbgrader": {
     "cell_type": "markdown",
     "checksum": "ca2d49662eb991fdcb5b30b8d9c5c385",
     "grade": false,
     "grade_id": "cell-11409b2331fd1249",
     "locked": true,
     "schema_version": 2,
     "solution": false
    }
   },
   "source": [
    "**Question 11.2**\n",
    "\n",
    "Given that $RMSE$ is in the units of the target/response variable, the test error $RMSE$ seems **very** large (and thus indicates that our predictions are likely not very good). True or false? Save your answer as `\"true\"` or `\"false\"` and name it `answer11.2`\n"
   ]
  },
  {
   "cell_type": "code",
   "execution_count": null,
   "metadata": {
    "deletable": false,
    "nbgrader": {
     "cell_type": "code",
     "checksum": "c934ec489d8f65527baa1a5523339e23",
     "grade": false,
     "grade_id": "cell-3ec34bef482a21d5",
     "locked": false,
     "schema_version": 2,
     "solution": true
    }
   },
   "outputs": [],
   "source": [
    "# your code here\n",
    "fail() # No Answer - remove if you provide an answer\n",
    "answer11.2"
   ]
  },
  {
   "cell_type": "code",
   "execution_count": null,
   "metadata": {
    "deletable": false,
    "editable": false,
    "nbgrader": {
     "cell_type": "code",
     "checksum": "f728842f1317a1934d93a65e305b8364",
     "grade": true,
     "grade_id": "cell-d1cc0ba8c60035ed",
     "locked": true,
     "points": 1,
     "schema_version": 2,
     "solution": false
    }
   },
   "outputs": [],
   "source": [
    "test_that('Solution is correct', {\n",
    "    expect_equal(digest(answer11.2), 'd2a90307aac5ae8d0ef58e2fe730d38b')\n",
    "})\n",
    "print(\"Success!\")"
   ]
  },
  {
   "cell_type": "markdown",
   "metadata": {
    "deletable": false,
    "editable": false,
    "nbgrader": {
     "cell_type": "markdown",
     "checksum": "ead492b046ea28020e96c22ea1a841e7",
     "grade": false,
     "grade_id": "cell-51a6b3078ae504bc",
     "locked": true,
     "schema_version": 2,
     "solution": false
    }
   },
   "source": [
    "**Question 12.0**\n",
    "\n",
    "Using the `knn_model` trained on the entire training set (from Question 9.0), predict across the range of values observed in the training data set. Store the predictions as a column named `time_hrs` in a data frame named `full_predictions`. That data frame should also have a column named `max` that contains the values you predicted across.\n",
    "\n",
    "- Use the `min` and `max` functions to find the upper and lower limits of predictor/explanatory variable values in the training data set.\n",
    "- Use the `seq` function to create the column called `max` that contains the values you would like to predict across."
   ]
  },
  {
   "cell_type": "code",
   "execution_count": null,
   "metadata": {
    "deletable": false,
    "nbgrader": {
     "cell_type": "code",
     "checksum": "50b7cfdec904ecc138993429abb87165",
     "grade": false,
     "grade_id": "cell-21355ea6734bb1ac",
     "locked": false,
     "schema_version": 2,
     "solution": true
    }
   },
   "outputs": [],
   "source": [
    "#upper <- X_train %>% \n",
    "#    select(max) %>% \n",
    "#    max() \n",
    "#lower <- ... %>% \n",
    "#    ... %>% \n",
    "#    ...\n",
    "#... <- data.frame(max = seq(from = ..., to = ..., by = 1))\n",
    "#full_predictions <- ... %>% \n",
    "#    mutate(... = predict(..., ...))\n",
    "\n",
    "# your code here\n",
    "fail() # No Answer - remove if you provide an answer\n",
    "head(full_predictions)"
   ]
  },
  {
   "cell_type": "code",
   "execution_count": null,
   "metadata": {
    "deletable": false,
    "editable": false,
    "nbgrader": {
     "cell_type": "code",
     "checksum": "f788c824f29fdb68240738007299925d",
     "grade": true,
     "grade_id": "cell-b077f59c6228c632",
     "locked": true,
     "points": 1,
     "schema_version": 2,
     "solution": false
    }
   },
   "outputs": [],
   "source": [
    "test_that('Solution is correct', {\n",
    "    expect_true('time_hrs' %in% colnames(full_predictions))\n",
    "    expect_true('max' %in% colnames(full_predictions))\n",
    "})\n",
    "print(\"Success!\")"
   ]
  },
  {
   "cell_type": "markdown",
   "metadata": {
    "deletable": false,
    "editable": false,
    "nbgrader": {
     "cell_type": "markdown",
     "checksum": "24ffd8797aa27f46fd24a65a160046ec",
     "grade": false,
     "grade_id": "cell-13cd12a23e44d639",
     "locked": true,
     "schema_version": 2,
     "solution": false
    }
   },
   "source": [
    "**Question 13.0**\n",
    "\n",
    "Plot these predictions as a blue line over the data points from the training set. You will have to create a single data frame containing the training data set to do this. One way you can do this is by combining `X_train` and `Y_train` using the `bind_cols` function. Name your plot `predict_plot`.\n"
   ]
  },
  {
   "cell_type": "code",
   "execution_count": null,
   "metadata": {
    "deletable": false,
    "nbgrader": {
     "cell_type": "code",
     "checksum": "dbb892585ed1256451ca9ab9763a845a",
     "grade": false,
     "grade_id": "cell-86df795ac996f39f",
     "locked": false,
     "schema_version": 2,
     "solution": true
    }
   },
   "outputs": [],
   "source": [
    "# your code here\n",
    "fail() # No Answer - remove if you provide an answer\n",
    "predict_plot"
   ]
  },
  {
   "cell_type": "code",
   "execution_count": null,
   "metadata": {
    "deletable": false,
    "editable": false,
    "nbgrader": {
     "cell_type": "code",
     "checksum": "0a7d34bf2e8d6eec311644b757a599f9",
     "grade": true,
     "grade_id": "cell-cb23eb77e3b018aa",
     "locked": true,
     "points": 1,
     "schema_version": 2,
     "solution": false
    }
   },
   "outputs": [],
   "source": [
    "test_that('Solution is incorrect', {\n",
    "    expect_equal(as.character(rlang::get_expr(predict_plot$mapping$x)), 'max')\n",
    "    expect_equal(as.character(rlang::get_expr(predict_plot$mapping$y)), 'time_hrs')\n",
    "    expect_true('GeomLine' %in% c(class(rlang::get_expr(predict_plot$layers[[1]]$geom)), class(rlang::get_expr(predict_plot$layers[[2]]$geom))))\n",
    "    expect_true('GeomPoint' %in% c(class(rlang::get_expr(predict_plot$layers[[1]]$geom)), class(rlang::get_expr(predict_plot$layers[[2]]$geom))))\n",
    "    })\n",
    "print(\"Success!\")"
   ]
  }
 ],
 "metadata": {
  "kernelspec": {
   "display_name": "R",
   "language": "R",
   "name": "ir"
  },
  "language_info": {
   "codemirror_mode": "r",
   "file_extension": ".r",
   "mimetype": "text/x-r-source",
   "name": "R",
   "pygments_lexer": "r",
   "version": "3.5.1"
  }
 },
 "nbformat": 4,
 "nbformat_minor": 2
}
