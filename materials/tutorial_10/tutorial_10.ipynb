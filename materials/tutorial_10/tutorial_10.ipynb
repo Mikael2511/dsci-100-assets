{
 "cells": [
  {
   "cell_type": "markdown",
   "metadata": {},
   "source": [
    "# Tutorial 10: Regression wrap-up\n",
    "\n",
    "**Regression learning objectives**: \n",
    " Recognize situations where a simple regression analysis would be appropriate for making predictions.\n",
    "* Explain the k-nearest neighbour (k-nn) regression algorithm and describe how it differs from k-nn classification.\n",
    "* Interpret the output of a k-nn regression.\n",
    "* In a dataset with two variables, perform k-nearest neighbour regression in R using `caret::train()` to predict the values for a test dataset.\n",
    "* Using R, execute cross-validation in R to choose the number of neighbours.\n",
    "* Using R, evaluate k-nn regression prediction accuracy using  a test data set and an appropriate metric (*e.g.*, root means square prediction error).\n",
    "* Describe advantages and disadvantages of the k-nearest neighbour regression approach.\n",
    "* In the context of k-nn regression, compare and contrast goodness of fit and prediction properties (namely RMSE vs RMSPE).\n",
    "* In a dataset with 2 variables, perform simple ordinary least squares regression in R using `caret`'s `train` with `method = \"lm\"` to predict the values for a test dataset.\n",
    "* Compare and contrast predictions obtained from k-nearest neighbour regression to those obtained using simple ordinary least squares regression from the same dataset.\n",
    "* In R, overlay the ordinary least squares regression lines from `geom_smooth` on a single plot. \n",
    "* In a dataset with > 2 variables, perform k-nn regression in R using `caret`’s `train` with `method = \"k-nn\"` to predict the values for a test dataset.\n",
    "* In a dataset with > 2 variables, perform simple ordinary least squares regression in R using caret’s train with `method = \"lm\"` to predict the values for a test dataset."
   ]
  },
  {
   "cell_type": "markdown",
   "metadata": {},
   "source": [
    "## 1. Ames Housing Prices\n",
    "\n",
    "<img src=\"https://media.giphy.com/media/xUPGGuzpmG3jfeYWIg/giphy.gif\" width = \"600\"/>\n",
    "\n",
    "Source: https://media.giphy.com/media/xUPGGuzpmG3jfeYWIg/giphy.gif\n",
    "\n",
    "If we take a look at the Business Insider report [What do millenials want in a home?](https://www.businessinsider.com/what-do-millennials-want-in-a-home-2017-2), we can see that millenials like newer houses that have their own defined spaces. Today we are going to be looking at housing data to understand how the sale price of a house is determined. Finding highly detailed housing data with the final sale prices is very hard, however researchers from Truman State Univeristy have studied and made available a dataset containing multiple variables for the city of Ames, Iowa. The data set describes the sale of individual residential property in Ames, Iowa\n",
    "from 2006 to 2010. You can read more about the data set [here](http://jse.amstat.org/v19n3/decock.pdf). Today we will be looking at 5 different variables to predict the sale price of a house. These variables are: \n",
    "\n",
    "- Lot Area: `lot_area`\n",
    "- Year Built: `year_built`\n",
    "- Basement Square Footage: `bsmt_sf`\n",
    "- First Floor Square Footage: `first_sf`\n",
    "- Second Floor Square Footage: `second_sf`\n",
    "\n",
    "We are going to be looking at two approaches, linear regression and KNN regression. First, load the data with the script given below. "
   ]
  },
  {
   "cell_type": "code",
   "execution_count": null,
   "metadata": {},
   "outputs": [],
   "source": [
    "library(repr)\n",
    "library(tidyverse)\n",
    "library(testthat)\n",
    "library(digest)\n",
    "library(GGally)\n",
    "library(caret)"
   ]
  },
  {
   "cell_type": "code",
   "execution_count": null,
   "metadata": {},
   "outputs": [],
   "source": [
    "ames_data <- read_csv('data/ames.csv', col_types = cols()) %>%\n",
    "    select(lot_area = Lot.Area, \n",
    "           year_built = Year.Built, \n",
    "           bsmt_sf = Total.Bsmt.SF, \n",
    "           first_sf = `X1st.Flr.SF`, \n",
    "           second_sf = `X2nd.Flr.SF`, \n",
    "           sale_price = SalePrice) %>%\n",
    "    filter(!is.na(bsmt_sf))\n",
    "\n",
    "head(ames_data)"
   ]
  },
  {
   "cell_type": "markdown",
   "metadata": {},
   "source": [
    "**Question 1.1**\n",
    "\n",
    "Let's start by exploring the data. Use the `ggpairs()` function from the GGally package to explore the relationships between the different variables. \n",
    "\n",
    "Assign your plot object to a variable named `answer1.1`. "
   ]
  },
  {
   "cell_type": "code",
   "execution_count": null,
   "metadata": {
    "deletable": false,
    "nbgrader": {
     "cell_type": "code",
     "checksum": "9cee15efc31a50c3978cbee8c82ca852",
     "grade": false,
     "grade_id": "cell-93bef9e4a6864e86",
     "locked": false,
     "schema_version": 2,
     "solution": true
    }
   },
   "outputs": [],
   "source": [
    "# YOUR CODE HERE\n",
    "\n",
    "# your code here\n",
    "fail() # No Answer - remove if you provide an answer"
   ]
  },
  {
   "cell_type": "code",
   "execution_count": null,
   "metadata": {
    "deletable": false,
    "editable": false,
    "nbgrader": {
     "cell_type": "code",
     "checksum": "78386304f1ae382b771a8545e21bb682",
     "grade": true,
     "grade_id": "cell-ee3115b616837197",
     "locked": true,
     "points": 1,
     "schema_version": 2,
     "solution": false
    }
   },
   "outputs": [],
   "source": [
    "test_that('Solution is incorrect', {\n",
    "    expect_equal(nrow(answer1.1$data), 2929)\n",
    "    expect_equal(ncol(answer1.1$data), 6)\n",
    "    expect_true('ggmatrix' %in% c(class(answer1.1)))\n",
    "    })\n",
    "print(\"Success!\")"
   ]
  },
  {
   "cell_type": "markdown",
   "metadata": {},
   "source": [
    "**Question 1.2**\n",
    "\n",
    "Now that we have seen the multiple relationships between the variables, which one(s) do you think will be good predictors for `sale_price`? On what do you base this? If you think none would be good predictors, explain why."
   ]
  },
  {
   "cell_type": "markdown",
   "metadata": {
    "deletable": false,
    "nbgrader": {
     "cell_type": "markdown",
     "checksum": "a0621998d8d1203dcfe149398fbf5a8d",
     "grade": true,
     "grade_id": "cell-2f05dc8d62d5f989",
     "locked": false,
     "points": 3,
     "schema_version": 2,
     "solution": true
    }
   },
   "source": [
    "YOUR ANSWER HERE"
   ]
  },
  {
   "cell_type": "markdown",
   "metadata": {},
   "source": [
    "**Question 1.3**\n",
    "\n",
    "Let's split the data into a train dataset and a test dataset, based on a 70%-30% split. Remember that we want to predict the `sale_price` based on all of the other variables. \n",
    "\n",
    "Assign the objects to `X_train`, `Y_train`, `X_test`, and `Y_test` respectively. \n",
    "\n",
    "*Use 2019 as your seed for the split.*"
   ]
  },
  {
   "cell_type": "code",
   "execution_count": null,
   "metadata": {
    "deletable": false,
    "nbgrader": {
     "cell_type": "code",
     "checksum": "7c3672b6073d6448c1332877d7a721fb",
     "grade": false,
     "grade_id": "cell-4677940cbd08ded9",
     "locked": false,
     "schema_version": 2,
     "solution": true
    }
   },
   "outputs": [],
   "source": [
    "# your code here\n",
    "fail() # No Answer - remove if you provide an answer\n",
    "!('data.frame' %in% class(Y_train))"
   ]
  },
  {
   "cell_type": "code",
   "execution_count": null,
   "metadata": {
    "deletable": false,
    "editable": false,
    "nbgrader": {
     "cell_type": "code",
     "checksum": "39d4be1f64a78db0c495ae79c91ccf36",
     "grade": true,
     "grade_id": "cell-416374a3ce562c44",
     "locked": true,
     "points": 1,
     "schema_version": 2,
     "solution": false
    }
   },
   "outputs": [],
   "source": [
    "test_that('Solution is correct', {\n",
    "    expect_equal(dim(X_train), c(2052, 5))\n",
    "    expect_equal(class(X_train), 'data.frame')\n",
    "    expect_equal(dim(X_test), c(877, 5))\n",
    "    expect_equal(class(X_test), 'data.frame')\n",
    "    expect_equal(length(Y_train), 2052)\n",
    "    expect_true(!('data.frame' %in% class(Y_train)))\n",
    "    expect_equal(length(Y_test), 877)\n",
    "    expect_true(!('data.frame' %in% class(Y_test)))\n",
    "})\n",
    "print(\"Success!\")\n"
   ]
  },
  {
   "cell_type": "markdown",
   "metadata": {},
   "source": [
    "**Question 1.4 - Linear Regression**\n",
    "\n",
    "Fit a linear regression model with `X_train` and `y_train` and save it to an object called `lm_reg`. "
   ]
  },
  {
   "cell_type": "code",
   "execution_count": null,
   "metadata": {
    "deletable": false,
    "nbgrader": {
     "cell_type": "code",
     "checksum": "534244f79c544873f5bc26513c167107",
     "grade": false,
     "grade_id": "cell-a81625dc68efe574",
     "locked": false,
     "schema_version": 2,
     "solution": true
    }
   },
   "outputs": [],
   "source": [
    "# your code here\n",
    "fail() # No Answer - remove if you provide an answer"
   ]
  },
  {
   "cell_type": "code",
   "execution_count": null,
   "metadata": {
    "deletable": false,
    "editable": false,
    "nbgrader": {
     "cell_type": "code",
     "checksum": "63949c46b52dd42205147139981bb78f",
     "grade": true,
     "grade_id": "cell-664d89562f972a45",
     "locked": true,
     "points": 1,
     "schema_version": 2,
     "solution": false
    }
   },
   "outputs": [],
   "source": [
    "test_that('Solution is correct', {\n",
    "    expect_true(lm_reg$results$intercept)\n",
    "    expect_equal(lm_reg$method, 'lm')\n",
    "    expect_equal(dim(lm_reg$trainingData), c(2052, 6))\n",
    "})\n",
    "print(\"Success!\")"
   ]
  },
  {
   "cell_type": "markdown",
   "metadata": {},
   "source": [
    "**Question 1.5**\n",
    "\n",
    "Extract the coefficients of the model and provide a brief interpretation of what is the relationship between `sale_price` and each variable (i.e., does the slope indicate a positive or negative relationship between house sale price and each of the predictors). \n",
    "\n",
    "*You don't have to interpret the intercept.* \n",
    "\n",
    "Assign the coefficients to an object named `lm_coefs`."
   ]
  },
  {
   "cell_type": "code",
   "execution_count": null,
   "metadata": {
    "deletable": false,
    "nbgrader": {
     "cell_type": "code",
     "checksum": "76476772b4d6693e56e036e1b90ce1d1",
     "grade": false,
     "grade_id": "cell-de8b2b33c3f7d4a7",
     "locked": false,
     "schema_version": 2,
     "solution": true
    }
   },
   "outputs": [],
   "source": [
    "# your code here\n",
    "fail() # No Answer - remove if you provide an answer\n",
    "lm_coefs"
   ]
  },
  {
   "cell_type": "code",
   "execution_count": null,
   "metadata": {
    "deletable": false,
    "editable": false,
    "nbgrader": {
     "cell_type": "code",
     "checksum": "6328c2f596ce84a30fef75074c7f9450",
     "grade": true,
     "grade_id": "cell-b44f3356315ebd6c",
     "locked": true,
     "points": 1,
     "schema_version": 2,
     "solution": false
    }
   },
   "outputs": [],
   "source": [
    "test_that('Solution is correct', {\n",
    "    expect_true(round(lm_coefs[1], 3) == -1644643.107)\n",
    "    expect_equal(attributes(lm_coefs[1])$names, '(Intercept)')\n",
    "})\n",
    "\n",
    "print(\"Success!\")"
   ]
  },
  {
   "cell_type": "markdown",
   "metadata": {
    "deletable": false,
    "nbgrader": {
     "cell_type": "markdown",
     "checksum": "6fb8bf59d13e80e4c044bba011c559b3",
     "grade": true,
     "grade_id": "cell-d1da1037565f53f1",
     "locked": false,
     "points": 3,
     "schema_version": 2,
     "solution": true
    }
   },
   "source": [
    "YOUR ANSWER HERE"
   ]
  },
  {
   "cell_type": "markdown",
   "metadata": {},
   "source": [
    "**Question 1.51**\n",
    "\n",
    "Use the coefficients above to write a mathematical equation for your prediction model. You can round the coefficients to two decimal places for this. "
   ]
  },
  {
   "cell_type": "markdown",
   "metadata": {
    "deletable": false,
    "nbgrader": {
     "cell_type": "markdown",
     "checksum": "a769849f8d17e4663ccd8ebdcf66d463",
     "grade": true,
     "grade_id": "cell-605b5516e9f41417",
     "locked": false,
     "points": 3,
     "schema_version": 2,
     "solution": true
    }
   },
   "source": [
    "YOUR ANSWER HERE"
   ]
  },
  {
   "cell_type": "markdown",
   "metadata": {},
   "source": [
    "**Question 1.52** (Optional - not graded)\n",
    "\n",
    "Could we easily visualize the predictions of the model above as a line or a plane in a single plot? If so, explain how. If not, explain why not."
   ]
  },
  {
   "cell_type": "markdown",
   "metadata": {
    "deletable": false,
    "nbgrader": {
     "cell_type": "markdown",
     "checksum": "32d447cf6f2f061aac4f3cb00e268dbb",
     "grade": true,
     "grade_id": "cell-ce59b464aa4b7515",
     "locked": false,
     "points": 0,
     "schema_version": 2,
     "solution": true
    }
   },
   "source": [
    "YOUR ANSWER HERE"
   ]
  },
  {
   "cell_type": "markdown",
   "metadata": {},
   "source": [
    "**Question 1.6**\n",
    "\n",
    "We need to evaluate how well our model is doing. For this calculate the RMSPE of the linear regression model and assign it to an object named `lm_rmspe`."
   ]
  },
  {
   "cell_type": "code",
   "execution_count": null,
   "metadata": {
    "deletable": false,
    "nbgrader": {
     "cell_type": "code",
     "checksum": "ea0a21cccfc07bf322fa9c864db6290d",
     "grade": false,
     "grade_id": "cell-d3d15c7887e2325a",
     "locked": false,
     "schema_version": 2,
     "solution": true
    }
   },
   "outputs": [],
   "source": [
    "# your code here\n",
    "fail() # No Answer - remove if you provide an answer\n",
    "lm_rmspe"
   ]
  },
  {
   "cell_type": "code",
   "execution_count": null,
   "metadata": {
    "deletable": false,
    "editable": false,
    "nbgrader": {
     "cell_type": "code",
     "checksum": "871fe4637d9ad675dd06c773c3d2df38",
     "grade": true,
     "grade_id": "cell-83731b933e194459",
     "locked": true,
     "points": 1,
     "schema_version": 2,
     "solution": false
    }
   },
   "outputs": [],
   "source": [
    "test_that('Solution is correct', {\n",
    "    expect_equal(digest(round(lm_rmspe, 1)), '298eb726436a758681e43150399b6fb8')\n",
    "})\n",
    "print(\"Success!\")"
   ]
  },
  {
   "cell_type": "markdown",
   "metadata": {},
   "source": [
    "**Question 1.7 - KNN Regression**\n",
    "\n",
    "We are now going to do KNN Regression to see how both models compare on this dataset. We first need to scale our variables. Assign an object with the scaled predictors to an object named `scaled_ames_data`."
   ]
  },
  {
   "cell_type": "code",
   "execution_count": null,
   "metadata": {
    "deletable": false,
    "nbgrader": {
     "cell_type": "code",
     "checksum": "b89f75becc28a5c66d583b6bcbfbb77c",
     "grade": true,
     "grade_id": "cell-7409b0e5a88c5d34",
     "locked": false,
     "points": 3,
     "schema_version": 2,
     "solution": true
    }
   },
   "outputs": [],
   "source": [
    "# your code here\n",
    "fail() # No Answer - remove if you provide an answer\n",
    "\n",
    "head(scaled_ames_data)"
   ]
  },
  {
   "cell_type": "markdown",
   "metadata": {},
   "source": [
    "**Optional Question - Won't be graded**\n",
    "\n",
    "Try doing the scaling using the `mutate_at()` function or one of the functions in the `map_*` family. "
   ]
  },
  {
   "cell_type": "code",
   "execution_count": null,
   "metadata": {
    "deletable": false,
    "nbgrader": {
     "cell_type": "code",
     "checksum": "5b6bce0871ba7a6f95da0cdd4c473516",
     "grade": true,
     "grade_id": "cell-85afdeb54d05c868",
     "locked": false,
     "points": 0,
     "schema_version": 2,
     "solution": true
    }
   },
   "outputs": [],
   "source": [
    "# your code here\n",
    "fail() # No Answer - remove if you provide an answer"
   ]
  },
  {
   "cell_type": "markdown",
   "metadata": {},
   "source": [
    "**Question 1.8** \n",
    "\n",
    "Let's split the data into a train dataset and a test dataset, based on a 70%-30% split.\n",
    "\n",
    "Assign the objects to `X_train`, `Y_train`, `X_test`, and `Y_test` respectively. \n",
    "\n",
    "*Use 2019 as your seed for the split.*"
   ]
  },
  {
   "cell_type": "code",
   "execution_count": null,
   "metadata": {
    "deletable": false,
    "nbgrader": {
     "cell_type": "code",
     "checksum": "2e5d6325f4f6358d49673739048db66d",
     "grade": true,
     "grade_id": "cell-0bc4a0d479b9a3b9",
     "locked": false,
     "points": 3,
     "schema_version": 2,
     "solution": true
    }
   },
   "outputs": [],
   "source": [
    "# your code here\n",
    "fail() # No Answer - remove if you provide an answer"
   ]
  },
  {
   "cell_type": "markdown",
   "metadata": {},
   "source": [
    "**Question 1.9**\n",
    "\n",
    "Remember that one of the steps of K-NN regression is choosing which K we are going to use. Use 10-fold cross validation to determine which K you will use. Assign the best K to an object called `best_k`."
   ]
  },
  {
   "cell_type": "code",
   "execution_count": null,
   "metadata": {
    "deletable": false,
    "nbgrader": {
     "cell_type": "code",
     "checksum": "e21e88e63da1d84bf2f08b7943870134",
     "grade": true,
     "grade_id": "cell-3e81dfefe9947c5d",
     "locked": false,
     "points": 3,
     "schema_version": 2,
     "solution": true
    }
   },
   "outputs": [],
   "source": [
    "# your code here\n",
    "fail() # No Answer - remove if you provide an answer\n",
    "best_k"
   ]
  },
  {
   "cell_type": "markdown",
   "metadata": {},
   "source": [
    "**Question 1.10**\n",
    "\n",
    "Now that we know the best K, we can go ahead and train our K-NN regression model. Assign the model to an object called `knn_reg`. "
   ]
  },
  {
   "cell_type": "code",
   "execution_count": null,
   "metadata": {
    "deletable": false,
    "nbgrader": {
     "cell_type": "code",
     "checksum": "f52bde96c2cba1113ab4e4f8e2ec3f02",
     "grade": true,
     "grade_id": "cell-ce81f3870f1ce4d3",
     "locked": false,
     "points": 3,
     "schema_version": 2,
     "solution": true
    }
   },
   "outputs": [],
   "source": [
    "# your code here\n",
    "fail() # No Answer - remove if you provide an answer"
   ]
  },
  {
   "cell_type": "markdown",
   "metadata": {},
   "source": [
    "**Question 1.11**\n",
    "\n",
    "Let's evaluate how well our model is doing. For this calculate the RMSPE of the KNN regression model and assign it to an object named `knn_rmspe`."
   ]
  },
  {
   "cell_type": "code",
   "execution_count": null,
   "metadata": {
    "deletable": false,
    "nbgrader": {
     "cell_type": "code",
     "checksum": "f3dfb1b4d4833395e43264dc33bd015c",
     "grade": true,
     "grade_id": "cell-0630dab8f63c2e2a",
     "locked": false,
     "points": 3,
     "schema_version": 2,
     "solution": true
    }
   },
   "outputs": [],
   "source": [
    "# your code here\n",
    "fail() # No Answer - remove if you provide an answer\n",
    "knn_rmspe"
   ]
  },
  {
   "cell_type": "markdown",
   "metadata": {},
   "source": [
    "**Question 1.12**\n",
    "\n",
    "Compare the RMSPE of both KNN and Linear regression. Explain why you think one method might be better than the other."
   ]
  },
  {
   "cell_type": "markdown",
   "metadata": {
    "deletable": false,
    "nbgrader": {
     "cell_type": "markdown",
     "checksum": "48f692a8cf727b90a6fb59ce0b527064",
     "grade": true,
     "grade_id": "cell-f118a9158391949d",
     "locked": false,
     "points": 3,
     "schema_version": 2,
     "solution": true
    }
   },
   "source": [
    "YOUR ANSWER HERE"
   ]
  },
  {
   "cell_type": "markdown",
   "metadata": {},
   "source": [
    "**Question 1.13**\n",
    "\n",
    "Describe and explain one advantage of using Linear Regression over K-NN regression. "
   ]
  },
  {
   "cell_type": "markdown",
   "metadata": {
    "deletable": false,
    "nbgrader": {
     "cell_type": "markdown",
     "checksum": "d3e93b1f59996a5ec16b35f8299316fe",
     "grade": true,
     "grade_id": "cell-bd636a0b4dfa608d",
     "locked": false,
     "points": 3,
     "schema_version": 2,
     "solution": true
    }
   },
   "source": [
    "YOUR ANSWER HERE"
   ]
  },
  {
   "cell_type": "markdown",
   "metadata": {},
   "source": [
    "**Question 1.14**\n",
    "\n",
    "Above we calculated $RMSPE$ to assess how well our model predicts on new data. Why did we not calculate $RMSE$ to answer that question? (*hint - think of the definitions of $RMSE$ and $RMSPE$*)"
   ]
  },
  {
   "cell_type": "markdown",
   "metadata": {
    "deletable": false,
    "nbgrader": {
     "cell_type": "markdown",
     "checksum": "6fbf1a0b57272185083c0211c5f3e768",
     "grade": true,
     "grade_id": "cell-1fa4c778cdffba47",
     "locked": false,
     "points": 3,
     "schema_version": 2,
     "solution": true
    }
   },
   "source": [
    "YOUR ANSWER HERE"
   ]
  },
  {
   "cell_type": "markdown",
   "metadata": {},
   "source": [
    "**Question 1.15(OPTIONAL)**\n",
    "\n",
    "\"Logarithmically transforming variables in a regression model is a very common way to handle situations where a non-linear relationship exists between the independent and dependent variables. Using the logarithm of one or more variables instead of the un-logged form makes the effective relationship non-linear, while still preserving the linear model.\" - [Linear Regression Models with Logarithmic Transformations](https://kenbenoit.net/assets/courses/ME104/logmodels2.pdf)\n",
    "\n",
    "Take the logarithm of the `sale_price` variable and fit your linear model again. Do you have a lower RMSPE? Do you have the same model as in question 1.4?"
   ]
  },
  {
   "cell_type": "markdown",
   "metadata": {},
   "source": [
    "## 2. World Cup 2022\n",
    "\n",
    "<img src=\"https://media.giphy.com/media/75NksGAgEUicg/giphy.gif\" width = \"600\"/>\n",
    "\n",
    "Source: https://media.giphy.com/media/75NksGAgEUicg/giphy.gif\n",
    "\n",
    "Football, the most loved sport around the world. Canada's football federation is interested in getting qualified for the 2022 World Cup in Qatar. The director of Sports Analytics of the federation has told you that we have data of how good the players are at penalties for players around the world , except for players from Mexico, which is the best team in the region. To predict how good the Mexican players are at penalties, we are going to use regression based on the following variables:\n",
    "\n",
    "- `Finishing`: How good the player is at scoring goals\n",
    "- `ShotPower`: How strong the player kicks the ball\n",
    "- `Agility`: How agile the player is\n",
    "- `HeadingAccuracy`: How good is the player with headers\n",
    "\n",
    "*What is a penalty?*\n",
    "\n",
    "> \"A penalty kick (commonly known as a penalty or a PK) is a method of restarting play in association football, in which a player is allowed to take a single shot on the goal while it is defended only by the opposing team's goalkeeper. It is awarded when a foul punishable by a direct free kick is committed by a player in his or her own penalty area. The shot is taken from the penalty mark, which is 12 yards (11 m) from the goal line and centred between the touch lines. **In practice, penalty kicks result in goals more often than not, even against the best and most experienced goalkeepers. This means that penalty awards are often decisive, especially in low-scoring games.**\" - [Wikipedia](https://en.wikipedia.org/wiki/Penalty_kick_(association_football))"
   ]
  },
  {
   "cell_type": "code",
   "execution_count": null,
   "metadata": {},
   "outputs": [],
   "source": [
    "# run this cell to load the data\n",
    "set.seed(2019)\n",
    "fifa_data <- read_csv('data/fifa_players.csv', col_types = cols()) %>%\n",
    "                select(Name, Finishing, ShotPower, Agility, HeadingAccuracy, Penalties) %>%\n",
    "                filter(!is.na(Finishing)) %>%\n",
    "                sample_n(8000)\n",
    "\n",
    "head(fifa_data)\n",
    "\n",
    "fifa_data <- fifa_data %>%\n",
    "    select(-Name)"
   ]
  },
  {
   "cell_type": "markdown",
   "metadata": {},
   "source": [
    "**Question 2.1**\n",
    "\n",
    "Visualize the relationship between all the variables and the distribution of each variable. "
   ]
  },
  {
   "cell_type": "code",
   "execution_count": null,
   "metadata": {
    "deletable": false,
    "nbgrader": {
     "cell_type": "code",
     "checksum": "108a5f43cae760fbb0db6fe2fbda5245",
     "grade": true,
     "grade_id": "cell-3aee600aa6c2dd9e",
     "locked": false,
     "points": 3,
     "schema_version": 2,
     "solution": true
    }
   },
   "outputs": [],
   "source": [
    "# your code here\n",
    "fail() # No Answer - remove if you provide an answer"
   ]
  },
  {
   "cell_type": "markdown",
   "metadata": {},
   "source": [
    "**Question 2.2**\n",
    "\n",
    "Do the following:\n",
    "\n",
    "- Split the data into a train dataset and a test dataset, based on a 60%-40% split. \n",
    "- Fit a linear regression model on the training data set\n",
    "- Print out the coefficients of the model.\n",
    "\n",
    "Remember that we want to predict the `Penalties` based on all of the other variables."
   ]
  },
  {
   "cell_type": "code",
   "execution_count": null,
   "metadata": {
    "deletable": false,
    "nbgrader": {
     "cell_type": "code",
     "checksum": "c27161bc7beb924e694fd693e8940bc5",
     "grade": true,
     "grade_id": "cell-46a8507eecab888a",
     "locked": false,
     "points": 3,
     "schema_version": 2,
     "solution": true
    }
   },
   "outputs": [],
   "source": [
    "# your code here\n",
    "fail() # No Answer - remove if you provide an answer"
   ]
  },
  {
   "cell_type": "markdown",
   "metadata": {},
   "source": [
    "**Question 2.3**\n",
    "\n",
    "Describe the relationship between the `Finishing` score of a player and their `Penalties` score?  (i.e., does the slope indicate a positive or negative relationship between penalties and each of the predictors)."
   ]
  },
  {
   "cell_type": "markdown",
   "metadata": {
    "deletable": false,
    "nbgrader": {
     "cell_type": "markdown",
     "checksum": "c75869cc1b2b8e78f4b54cf3d4301c4f",
     "grade": true,
     "grade_id": "cell-5ae6efbbde44a4b1",
     "locked": false,
     "points": 3,
     "schema_version": 2,
     "solution": true
    }
   },
   "source": [
    "YOUR ANSWER HERE"
   ]
  },
  {
   "cell_type": "markdown",
   "metadata": {},
   "source": [
    "**Question 2.4**\n",
    "\n",
    "Use the coefficients above to write a mathematical equation for your prediction model. You can round the coefficients to two decimal places for this."
   ]
  },
  {
   "cell_type": "markdown",
   "metadata": {
    "deletable": false,
    "nbgrader": {
     "cell_type": "markdown",
     "checksum": "0ee56a84fa2e00a3c79e762914a7b43e",
     "grade": true,
     "grade_id": "cell-209837dfb0c58c5d",
     "locked": false,
     "points": 3,
     "schema_version": 2,
     "solution": true
    }
   },
   "source": [
    "YOUR ANSWER HERE"
   ]
  },
  {
   "cell_type": "markdown",
   "metadata": {},
   "source": [
    "**Question 2.5**\n",
    "\n",
    "If we used k-nn regression on this problem, in place of linear regression, could we come up with an equivalent mathematical description of the model as we have for linear regression? "
   ]
  },
  {
   "cell_type": "markdown",
   "metadata": {
    "deletable": false,
    "nbgrader": {
     "cell_type": "markdown",
     "checksum": "38a1713bb3fedcaf895785530bb56e3a",
     "grade": true,
     "grade_id": "cell-262e8a08c4a6ee83",
     "locked": false,
     "points": 3,
     "schema_version": 2,
     "solution": true
    }
   },
   "source": [
    "YOUR ANSWER HERE"
   ]
  },
  {
   "cell_type": "markdown",
   "metadata": {},
   "source": [
    "**Question 2.6**\n",
    "\n",
    "Calculate the $RMSPE$ using the test data. "
   ]
  },
  {
   "cell_type": "code",
   "execution_count": null,
   "metadata": {
    "deletable": false,
    "nbgrader": {
     "cell_type": "code",
     "checksum": "0cbb4e02ce4722497e73644ea9466554",
     "grade": true,
     "grade_id": "cell-9e89285ff08e4950",
     "locked": false,
     "points": 3,
     "schema_version": 2,
     "solution": true
    }
   },
   "outputs": [],
   "source": [
    "# your code here\n",
    "fail() # No Answer - remove if you provide an answer\n"
   ]
  },
  {
   "cell_type": "markdown",
   "metadata": {},
   "source": [
    "**Question 2.7**\n",
    "\n",
    "Predict the `Penalties` score for each of the players from Mexico. This is the information the Director of Sports Analytics of the federation wants so that the athletic team can make the corresponding technical decisions. "
   ]
  },
  {
   "cell_type": "code",
   "execution_count": null,
   "metadata": {},
   "outputs": [],
   "source": [
    "mexico_players <- read_csv('data/mexico_players.csv', col_types = cols()) %>%\n",
    "                select(Name, Finishing, ShotPower, Agility, HeadingAccuracy)\n",
    "\n",
    "head(mexico_players)"
   ]
  },
  {
   "cell_type": "code",
   "execution_count": null,
   "metadata": {
    "deletable": false,
    "nbgrader": {
     "cell_type": "code",
     "checksum": "cb36f9272595b2ac8a6fd47ffef44dd2",
     "grade": true,
     "grade_id": "cell-4168ae3a07bf7469",
     "locked": false,
     "points": 2,
     "schema_version": 2,
     "solution": true
    }
   },
   "outputs": [],
   "source": [
    "# your code here\n",
    "fail() # No Answer - remove if you provide an answer"
   ]
  },
  {
   "cell_type": "markdown",
   "metadata": {},
   "source": [
    "**Question 2.7 - Optional**\n",
    "\n",
    "Repeat this process with KNN regression and compare the predictions. Scaling isn't necessary here as all the variables have a possible range of 0-100. "
   ]
  },
  {
   "cell_type": "code",
   "execution_count": null,
   "metadata": {
    "deletable": false,
    "nbgrader": {
     "cell_type": "code",
     "checksum": "fc6e288faa532139e6c83cfb836a3702",
     "grade": true,
     "grade_id": "cell-bbcebe2decec4da9",
     "locked": false,
     "points": 0,
     "schema_version": 2,
     "solution": true
    }
   },
   "outputs": [],
   "source": [
    "# your code here\n",
    "fail() # No Answer - remove if you provide an answer"
   ]
  }
 ],
 "metadata": {
  "kernelspec": {
   "display_name": "R",
   "language": "R",
   "name": "ir"
  },
  "language_info": {
   "codemirror_mode": "r",
   "file_extension": ".r",
   "mimetype": "text/x-r-source",
   "name": "R",
   "pygments_lexer": "r",
   "version": "3.5.1"
  }
 },
 "nbformat": 4,
 "nbformat_minor": 2
}
